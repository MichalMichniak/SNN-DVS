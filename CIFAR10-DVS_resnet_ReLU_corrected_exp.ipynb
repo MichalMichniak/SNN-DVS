{
 "cells": [
  {
   "cell_type": "code",
   "execution_count": 1,
   "metadata": {},
   "outputs": [
    {
     "name": "stderr",
     "output_type": "stream",
     "text": [
      "c:\\Users\\nikos\\AppData\\Local\\Programs\\Python\\Python39\\lib\\site-packages\\torchvision\\datapoints\\__init__.py:12: UserWarning: The torchvision.datapoints and torchvision.transforms.v2 namespaces are still Beta. While we do not expect major breaking changes, some APIs may still change according to user feedback. Please submit any feedback you may have in this issue: https://github.com/pytorch/vision/issues/6753, and you can also check out https://github.com/pytorch/vision/issues/7319 to learn more about the APIs that we suspect might involve future changes. You can silence this warning by calling torchvision.disable_beta_transforms_warning().\n",
      "  warnings.warn(_BETA_TRANSFORMS_WARNING)\n",
      "c:\\Users\\nikos\\AppData\\Local\\Programs\\Python\\Python39\\lib\\site-packages\\torchvision\\transforms\\v2\\__init__.py:54: UserWarning: The torchvision.datapoints and torchvision.transforms.v2 namespaces are still Beta. While we do not expect major breaking changes, some APIs may still change according to user feedback. Please submit any feedback you may have in this issue: https://github.com/pytorch/vision/issues/6753, and you can also check out https://github.com/pytorch/vision/issues/7319 to learn more about the APIs that we suspect might involve future changes. You can silence this warning by calling torchvision.disable_beta_transforms_warning().\n",
      "  warnings.warn(_BETA_TRANSFORMS_WARNING)\n"
     ]
    },
    {
     "data": {
      "text/plain": [
       "<torch._C.Generator at 0x1f06cb4df70>"
      ]
     },
     "execution_count": 1,
     "metadata": {},
     "output_type": "execute_result"
    }
   ],
   "source": [
    "import numpy as np\n",
    "import cv2\n",
    "import matplotlib.pyplot as plt\n",
    "import os\n",
    "import argparse\n",
    "import pickle as pkl\n",
    "import time\n",
    "from copy import deepcopy\n",
    "\n",
    "from tqdm import tqdm\n",
    "import torch.optim.lr_scheduler as lr_scheduler\n",
    "import os\n",
    "import pandas as pd\n",
    "from torchvision.io import read_image\n",
    "import torch\n",
    "from torch.utils.data import Dataset\n",
    "from torchvision import datasets\n",
    "from torchvision.transforms import ToTensor\n",
    "import matplotlib.pyplot as plt\n",
    "from random import shuffle\n",
    "from torch import nn\n",
    "from torchvision.models import resnet50, ResNet50_Weights\n",
    "import torch.nn.functional as F\n",
    "from torchvision.transforms import v2\n",
    "torch.manual_seed(19)"
   ]
  },
  {
   "cell_type": "code",
   "execution_count": 2,
   "metadata": {},
   "outputs": [],
   "source": [
    "transforms = v2.Compose([\n",
    "    # v2.RandomResizedCrop(size=(224, 224), antialias=True),\n",
    "    v2.RandomHorizontalFlip(p=0.5),\n",
    "    v2.RandomPerspective(0.4),\n",
    "    v2.ToDtype(torch.float32)\n",
    "])\n",
    "\n",
    "class NCarsImageDataset(Dataset):\n",
    "    def __init__(self, img_dir_file, transform=None, target_transform=None):\n",
    "        self.images = np.load(img_dir_file + '_x.npy')\n",
    "        self.labels = np.load(img_dir_file + '_y.npy')\n",
    "        self.transform = transform\n",
    "        self.target_transform = target_transform\n",
    "\n",
    "    def __len__(self):\n",
    "        return len(self.labels)\n",
    "\n",
    "    def __getitem__(self, idx):\n",
    "        image = self.images[idx]\n",
    "        label = self.labels[idx]\n",
    "        # if self.transform:\n",
    "        #     image = self.transform(image)\n",
    "        # if self.target_transform:\n",
    "        #     label = self.target_transform(label)\n",
    "        label_temp = np.zeros((10,))\n",
    "        label_temp[label] = 1\n",
    "        if self.stage == 0:\n",
    "            return self.transform(torch.tensor(image)), torch.tensor(label_temp)\n",
    "        else:\n",
    "            return torch.tensor(image), torch.tensor(label_temp)\n",
    "    \n",
    "    def set_stage(self, stage):\n",
    "        self.stage = stage"
   ]
  },
  {
   "cell_type": "code",
   "execution_count": 3,
   "metadata": {},
   "outputs": [],
   "source": [
    "from torch.utils.data import DataLoader\n",
    "data = NCarsImageDataset(\"./Datasety/CIFAR10-DVS_128_exp\", transform=transforms)\n",
    "\n",
    "generator1 = torch.Generator().manual_seed(42)\n",
    "test_data, training_data = torch.utils.data.random_split(data, [0.3, 0.7], generator=generator1)\n",
    "\n",
    "del data"
   ]
  },
  {
   "cell_type": "code",
   "execution_count": 4,
   "metadata": {},
   "outputs": [],
   "source": [
    "train_dataloader = DataLoader(training_data, batch_size=32, shuffle=True)\n",
    "test_dataloader = DataLoader(test_data, batch_size=32, shuffle=True)"
   ]
  },
  {
   "cell_type": "code",
   "execution_count": 5,
   "metadata": {},
   "outputs": [],
   "source": [
    "class ResidualBlock(nn.Module):\n",
    "    def __init__(self, in_channels, out_channels, stride=1, downsample=None, end_maxpool = False):\n",
    "        super(ResidualBlock, self).__init__()\n",
    "        if(downsample is not None):\n",
    "            self.conv1 = nn.Sequential(\n",
    "                            nn.Conv2d(in_channels, out_channels, kernel_size=3, padding='same'),\n",
    "                            nn.BatchNorm2d(out_channels),\n",
    "                            nn.ReLU(inplace=False),\n",
    "                            nn.MaxPool2d(kernel_size=2, stride=2)\n",
    "                            )  # Changed inplace to False\n",
    "        else:\n",
    "            self.conv1 = nn.Sequential(\n",
    "                            nn.Conv2d(in_channels, out_channels, kernel_size=3, padding='same'),\n",
    "                            nn.BatchNorm2d(out_channels),\n",
    "                            nn.ReLU(inplace=False)\n",
    "                            )\n",
    "        self.conv2 = nn.Sequential(\n",
    "                        nn.Conv2d(out_channels, out_channels, kernel_size=3, stride=1, padding=1),\n",
    "                        nn.BatchNorm2d(out_channels),\n",
    "                        nn.ReLU(inplace=False))  # Changed inplace to False\n",
    "        self.downsample = downsample\n",
    "        self.relu = nn.ReLU(inplace=False)  # Changed inplace to False\n",
    "        self.out_channels = out_channels\n",
    "        self.end_maxpool = end_maxpool\n",
    "\n",
    "    def forward(self, x):\n",
    "        residual = x\n",
    "        out = self.conv1(x)\n",
    "        out = self.conv2(out)\n",
    "        if self.downsample:\n",
    "            residual = self.downsample(x)\n",
    "        out = out + residual\n",
    "        if self.end_maxpool:\n",
    "            out = F.relu(out, inplace=False)\n",
    "        else:\n",
    "            out = F.relu(out, inplace=False)  # Use non-in-place ReLU\n",
    "        return out\n",
    "\n",
    "class ResNet(nn.Module):\n",
    "    def __init__(self, block, layers, num_classes = 2, in_channels = 5):\n",
    "        super(ResNet, self).__init__()\n",
    "        self.inplanes = 64\n",
    "        self.conv1 = nn.Sequential(\n",
    "                        nn.Conv2d(in_channels, 64, kernel_size = 7, stride = 1, padding = 3),\n",
    "                        nn.BatchNorm2d(64),\n",
    "                        nn.ReLU(inplace=False))\n",
    "        self.maxpool = nn.MaxPool2d(kernel_size = 3, stride = 2, padding = 1)\n",
    "        self.layer0 = self._make_layer(block, 64, layers[0], stride = 1)\n",
    "        self.layer1 = self._make_layer(block, 128, layers[1], stride = 2)\n",
    "        self.layer2 = self._make_layer(block, 256, layers[2], stride = 2)\n",
    "        self.layer3 = self._make_layer(block, 512, layers[3], stride = 2, end_maxpool = True)\n",
    "        self.avgpool = nn.MaxPool2d(7, stride=1)\n",
    "        self.fc = nn.Linear(2048, 512)\n",
    "        self.dropout = nn.Dropout(0.4)\n",
    "        self.fc2 = nn.Linear(512, num_classes)\n",
    "\n",
    "    def _make_layer(self, block, planes, blocks, stride=1, end_maxpool = False):\n",
    "        downsample = None\n",
    "        if stride != 1 or self.inplanes != planes:\n",
    "\n",
    "            downsample = nn.Sequential(\n",
    "                nn.Conv2d(self.inplanes, planes, kernel_size=1, stride=1, padding='same'),\n",
    "                nn.BatchNorm2d(planes),\n",
    "                nn.ReLU(inplace=False),\n",
    "                nn.MaxPool2d(kernel_size=2, stride=2)\n",
    "            )\n",
    "        layers = []\n",
    "        layers.append(block(self.inplanes, planes, stride, downsample))\n",
    "        self.inplanes = planes\n",
    "        for i in range(1, blocks):\n",
    "            if i == blocks-1 and end_maxpool:\n",
    "                layers.append(block(self.inplanes, planes, end_maxpool = True))\n",
    "            else:\n",
    "                layers.append(block(self.inplanes, planes))\n",
    "\n",
    "        return nn.Sequential(*layers)\n",
    "    \n",
    "    def forward(self, x):\n",
    "        x = self.conv1(x)\n",
    "        x = self.maxpool(x)\n",
    "        x = self.layer0(x)\n",
    "        x = self.layer1(x)\n",
    "        x = self.layer2(x)\n",
    "        x = self.layer3(x)\n",
    "        x = self.avgpool(x)\n",
    "        x = x.view(x.size(0), -1)\n",
    "        x = self.fc(x)\n",
    "        x = F.relu(x, inplace=False)\n",
    "        x = self.dropout(x)\n",
    "        x = self.fc2(x)\n",
    "        return x\n",
    "    \n",
    "    def train_model(self, train_loader, valid_loader, num_epochs = 5, learning_rate=0.001, save_best = False, save_thr = 0.94):\n",
    "        best_accuracy = 0.0\n",
    "        total_step = len(train_loader)\n",
    "        train_accuracy_h = []\n",
    "        test_accuracy_h = []\n",
    "        train_loss_h = []\n",
    "        test_loss_h = []\n",
    "        # Loss and optimizer\n",
    "        criterion = nn.CrossEntropyLoss()\n",
    "        optimizer = torch.optim.RMSprop(self.parameters(), lr=learning_rate, weight_decay = 0.005, momentum = 0.9)  \n",
    "        scheduler = lr_scheduler.ExponentialLR(optimizer, gamma=0.95)#LinearLR(optimizer,  start_factor=start_factor, end_factor=end_factor, total_iters=total_iters)\n",
    "        for epoch in range(num_epochs):\n",
    "            # self.train()\n",
    "            correct = 0\n",
    "            total = 0\n",
    "            running_loss = 0.0\n",
    "            train_loader.dataset.dataset.set_stage(0)\n",
    "            for i, (images, labels) in enumerate(tqdm(train_loader)):\n",
    "                # Move tensors to the configured device\n",
    "                images = images.float().to(\"cuda\")\n",
    "                labels = labels.type(torch.FloatTensor)\n",
    "                labels = labels.to(\"cuda\")\n",
    "\n",
    "\n",
    "                optimizer.zero_grad()\n",
    "\n",
    "                # Forward pass\n",
    "                outputs = self.forward(images)\n",
    "                loss = criterion(outputs, labels)\n",
    "                # Backward and optimize\n",
    "                loss.backward()\n",
    "                \n",
    "                optimizer.step()\n",
    "\n",
    "                # accuracy\n",
    "                _, predicted = torch.max(outputs.data, 1)\n",
    "                correct += (torch.eq(predicted, torch.max(labels,1)[1])).sum().item()\n",
    "                total += labels.size(0)\n",
    "                running_loss += loss.item()\n",
    "                del images, labels, outputs\n",
    "            train_accuracy_h.append((float(correct))/total)\n",
    "            train_loss_h.append(running_loss/len(train_loader))\n",
    "            print ('Epoch [{}/{}], Step [{}/{}], Loss: {:.4f}, Accuracy: {:.4f}'\n",
    "                            .format(epoch+1, num_epochs, i+1, total_step, running_loss/len(train_loader), (float(correct))/total))\n",
    "\n",
    "            scheduler.step()\n",
    "            if torch.cuda.is_available():\n",
    "                torch.cuda.empty_cache()\n",
    "\n",
    "            # Validation\n",
    "            with torch.no_grad():\n",
    "                correct = 0\n",
    "                total = 0\n",
    "                val_loss = 0.0\n",
    "                valid_loader.dataset.dataset.set_stage(1)\n",
    "                for images, labels in valid_loader:\n",
    "                    images = images.float().to(\"cuda\")\n",
    "                    labels = labels.type(torch.FloatTensor)\n",
    "                    labels = labels.to(\"cuda\")\n",
    "                    outputs = self.forward(images)\n",
    "                    _, predicted = torch.max(outputs.data, 1)\n",
    "                    total += labels.size(0)\n",
    "                    correct += (torch.eq(predicted, torch.max(labels,1)[1])).sum().item()\n",
    "                    loss = criterion(outputs, labels)\n",
    "                    val_loss += loss.item()\n",
    "                    del images, labels, outputs\n",
    "                if(((100 * correct / total) > best_accuracy) and save_best and ((100 * correct / total) > save_thr)):\n",
    "                    torch.save(self.state_dict(), \"best_resnet50_CIFAR10-DVS_ReLU_ReLUmaxpool__128x128_FC2_128x128_pretrained_aug_corrected_exp.pt\")\n",
    "                test_accuracy_h.append((float(correct))/total)\n",
    "                test_loss_h.append(val_loss/len(valid_loader))\n",
    "                print('Accuracy of the network: {} Loss: {}'.format( correct / total, val_loss/len(valid_loader)))\n",
    "        return train_accuracy_h, test_accuracy_h, train_loss_h, test_loss_h"
   ]
  },
  {
   "cell_type": "code",
   "execution_count": 6,
   "metadata": {},
   "outputs": [
    {
     "name": "stdout",
     "output_type": "stream",
     "text": [
      "ResNet(\n",
      "  (conv1): Sequential(\n",
      "    (0): Conv2d(6, 64, kernel_size=(7, 7), stride=(1, 1), padding=(3, 3))\n",
      "    (1): BatchNorm2d(64, eps=1e-05, momentum=0.1, affine=True, track_running_stats=True)\n",
      "    (2): ReLU()\n",
      "  )\n",
      "  (maxpool): MaxPool2d(kernel_size=3, stride=2, padding=1, dilation=1, ceil_mode=False)\n",
      "  (layer0): Sequential(\n",
      "    (0): ResidualBlock(\n",
      "      (conv1): Sequential(\n",
      "        (0): Conv2d(64, 64, kernel_size=(3, 3), stride=(1, 1), padding=same)\n",
      "        (1): BatchNorm2d(64, eps=1e-05, momentum=0.1, affine=True, track_running_stats=True)\n",
      "        (2): ReLU()\n",
      "      )\n",
      "      (conv2): Sequential(\n",
      "        (0): Conv2d(64, 64, kernel_size=(3, 3), stride=(1, 1), padding=(1, 1))\n",
      "        (1): BatchNorm2d(64, eps=1e-05, momentum=0.1, affine=True, track_running_stats=True)\n",
      "        (2): ReLU()\n",
      "      )\n",
      "      (relu): ReLU()\n",
      "    )\n",
      "    (1): ResidualBlock(\n",
      "      (conv1): Sequential(\n",
      "        (0): Conv2d(64, 64, kernel_size=(3, 3), stride=(1, 1), padding=same)\n",
      "        (1): BatchNorm2d(64, eps=1e-05, momentum=0.1, affine=True, track_running_stats=True)\n",
      "        (2): ReLU()\n",
      "      )\n",
      "      (conv2): Sequential(\n",
      "        (0): Conv2d(64, 64, kernel_size=(3, 3), stride=(1, 1), padding=(1, 1))\n",
      "        (1): BatchNorm2d(64, eps=1e-05, momentum=0.1, affine=True, track_running_stats=True)\n",
      "        (2): ReLU()\n",
      "      )\n",
      "      (relu): ReLU()\n",
      "    )\n",
      "    (2): ResidualBlock(\n",
      "      (conv1): Sequential(\n",
      "        (0): Conv2d(64, 64, kernel_size=(3, 3), stride=(1, 1), padding=same)\n",
      "        (1): BatchNorm2d(64, eps=1e-05, momentum=0.1, affine=True, track_running_stats=True)\n",
      "        (2): ReLU()\n",
      "      )\n",
      "      (conv2): Sequential(\n",
      "        (0): Conv2d(64, 64, kernel_size=(3, 3), stride=(1, 1), padding=(1, 1))\n",
      "        (1): BatchNorm2d(64, eps=1e-05, momentum=0.1, affine=True, track_running_stats=True)\n",
      "        (2): ReLU()\n",
      "      )\n",
      "      (relu): ReLU()\n",
      "    )\n",
      "  )\n",
      "  (layer1): Sequential(\n",
      "    (0): ResidualBlock(\n",
      "      (conv1): Sequential(\n",
      "        (0): Conv2d(64, 128, kernel_size=(3, 3), stride=(1, 1), padding=same)\n",
      "        (1): BatchNorm2d(128, eps=1e-05, momentum=0.1, affine=True, track_running_stats=True)\n",
      "        (2): ReLU()\n",
      "        (3): MaxPool2d(kernel_size=2, stride=2, padding=0, dilation=1, ceil_mode=False)\n",
      "      )\n",
      "      (conv2): Sequential(\n",
      "        (0): Conv2d(128, 128, kernel_size=(3, 3), stride=(1, 1), padding=(1, 1))\n",
      "        (1): BatchNorm2d(128, eps=1e-05, momentum=0.1, affine=True, track_running_stats=True)\n",
      "        (2): ReLU()\n",
      "      )\n",
      "      (downsample): Sequential(\n",
      "        (0): Conv2d(64, 128, kernel_size=(1, 1), stride=(1, 1), padding=same)\n",
      "        (1): BatchNorm2d(128, eps=1e-05, momentum=0.1, affine=True, track_running_stats=True)\n",
      "        (2): ReLU()\n",
      "        (3): MaxPool2d(kernel_size=2, stride=2, padding=0, dilation=1, ceil_mode=False)\n",
      "      )\n",
      "      (relu): ReLU()\n",
      "    )\n",
      "    (1): ResidualBlock(\n",
      "      (conv1): Sequential(\n",
      "        (0): Conv2d(128, 128, kernel_size=(3, 3), stride=(1, 1), padding=same)\n",
      "        (1): BatchNorm2d(128, eps=1e-05, momentum=0.1, affine=True, track_running_stats=True)\n",
      "        (2): ReLU()\n",
      "      )\n",
      "      (conv2): Sequential(\n",
      "        (0): Conv2d(128, 128, kernel_size=(3, 3), stride=(1, 1), padding=(1, 1))\n",
      "        (1): BatchNorm2d(128, eps=1e-05, momentum=0.1, affine=True, track_running_stats=True)\n",
      "        (2): ReLU()\n",
      "      )\n",
      "      (relu): ReLU()\n",
      "    )\n",
      "    (2): ResidualBlock(\n",
      "      (conv1): Sequential(\n",
      "        (0): Conv2d(128, 128, kernel_size=(3, 3), stride=(1, 1), padding=same)\n",
      "        (1): BatchNorm2d(128, eps=1e-05, momentum=0.1, affine=True, track_running_stats=True)\n",
      "        (2): ReLU()\n",
      "      )\n",
      "      (conv2): Sequential(\n",
      "        (0): Conv2d(128, 128, kernel_size=(3, 3), stride=(1, 1), padding=(1, 1))\n",
      "        (1): BatchNorm2d(128, eps=1e-05, momentum=0.1, affine=True, track_running_stats=True)\n",
      "        (2): ReLU()\n",
      "      )\n",
      "      (relu): ReLU()\n",
      "    )\n",
      "    (3): ResidualBlock(\n",
      "      (conv1): Sequential(\n",
      "        (0): Conv2d(128, 128, kernel_size=(3, 3), stride=(1, 1), padding=same)\n",
      "        (1): BatchNorm2d(128, eps=1e-05, momentum=0.1, affine=True, track_running_stats=True)\n",
      "        (2): ReLU()\n",
      "      )\n",
      "      (conv2): Sequential(\n",
      "        (0): Conv2d(128, 128, kernel_size=(3, 3), stride=(1, 1), padding=(1, 1))\n",
      "        (1): BatchNorm2d(128, eps=1e-05, momentum=0.1, affine=True, track_running_stats=True)\n",
      "        (2): ReLU()\n",
      "      )\n",
      "      (relu): ReLU()\n",
      "    )\n",
      "  )\n",
      "  (layer2): Sequential(\n",
      "    (0): ResidualBlock(\n",
      "      (conv1): Sequential(\n",
      "        (0): Conv2d(128, 256, kernel_size=(3, 3), stride=(1, 1), padding=same)\n",
      "        (1): BatchNorm2d(256, eps=1e-05, momentum=0.1, affine=True, track_running_stats=True)\n",
      "        (2): ReLU()\n",
      "        (3): MaxPool2d(kernel_size=2, stride=2, padding=0, dilation=1, ceil_mode=False)\n",
      "      )\n",
      "      (conv2): Sequential(\n",
      "        (0): Conv2d(256, 256, kernel_size=(3, 3), stride=(1, 1), padding=(1, 1))\n",
      "        (1): BatchNorm2d(256, eps=1e-05, momentum=0.1, affine=True, track_running_stats=True)\n",
      "        (2): ReLU()\n",
      "      )\n",
      "      (downsample): Sequential(\n",
      "        (0): Conv2d(128, 256, kernel_size=(1, 1), stride=(1, 1), padding=same)\n",
      "        (1): BatchNorm2d(256, eps=1e-05, momentum=0.1, affine=True, track_running_stats=True)\n",
      "        (2): ReLU()\n",
      "        (3): MaxPool2d(kernel_size=2, stride=2, padding=0, dilation=1, ceil_mode=False)\n",
      "      )\n",
      "      (relu): ReLU()\n",
      "    )\n",
      "    (1): ResidualBlock(\n",
      "      (conv1): Sequential(\n",
      "        (0): Conv2d(256, 256, kernel_size=(3, 3), stride=(1, 1), padding=same)\n",
      "        (1): BatchNorm2d(256, eps=1e-05, momentum=0.1, affine=True, track_running_stats=True)\n",
      "        (2): ReLU()\n",
      "      )\n",
      "      (conv2): Sequential(\n",
      "        (0): Conv2d(256, 256, kernel_size=(3, 3), stride=(1, 1), padding=(1, 1))\n",
      "        (1): BatchNorm2d(256, eps=1e-05, momentum=0.1, affine=True, track_running_stats=True)\n",
      "        (2): ReLU()\n",
      "      )\n",
      "      (relu): ReLU()\n",
      "    )\n",
      "    (2): ResidualBlock(\n",
      "      (conv1): Sequential(\n",
      "        (0): Conv2d(256, 256, kernel_size=(3, 3), stride=(1, 1), padding=same)\n",
      "        (1): BatchNorm2d(256, eps=1e-05, momentum=0.1, affine=True, track_running_stats=True)\n",
      "        (2): ReLU()\n",
      "      )\n",
      "      (conv2): Sequential(\n",
      "        (0): Conv2d(256, 256, kernel_size=(3, 3), stride=(1, 1), padding=(1, 1))\n",
      "        (1): BatchNorm2d(256, eps=1e-05, momentum=0.1, affine=True, track_running_stats=True)\n",
      "        (2): ReLU()\n",
      "      )\n",
      "      (relu): ReLU()\n",
      "    )\n",
      "    (3): ResidualBlock(\n",
      "      (conv1): Sequential(\n",
      "        (0): Conv2d(256, 256, kernel_size=(3, 3), stride=(1, 1), padding=same)\n",
      "        (1): BatchNorm2d(256, eps=1e-05, momentum=0.1, affine=True, track_running_stats=True)\n",
      "        (2): ReLU()\n",
      "      )\n",
      "      (conv2): Sequential(\n",
      "        (0): Conv2d(256, 256, kernel_size=(3, 3), stride=(1, 1), padding=(1, 1))\n",
      "        (1): BatchNorm2d(256, eps=1e-05, momentum=0.1, affine=True, track_running_stats=True)\n",
      "        (2): ReLU()\n",
      "      )\n",
      "      (relu): ReLU()\n",
      "    )\n",
      "    (4): ResidualBlock(\n",
      "      (conv1): Sequential(\n",
      "        (0): Conv2d(256, 256, kernel_size=(3, 3), stride=(1, 1), padding=same)\n",
      "        (1): BatchNorm2d(256, eps=1e-05, momentum=0.1, affine=True, track_running_stats=True)\n",
      "        (2): ReLU()\n",
      "      )\n",
      "      (conv2): Sequential(\n",
      "        (0): Conv2d(256, 256, kernel_size=(3, 3), stride=(1, 1), padding=(1, 1))\n",
      "        (1): BatchNorm2d(256, eps=1e-05, momentum=0.1, affine=True, track_running_stats=True)\n",
      "        (2): ReLU()\n",
      "      )\n",
      "      (relu): ReLU()\n",
      "    )\n",
      "    (5): ResidualBlock(\n",
      "      (conv1): Sequential(\n",
      "        (0): Conv2d(256, 256, kernel_size=(3, 3), stride=(1, 1), padding=same)\n",
      "        (1): BatchNorm2d(256, eps=1e-05, momentum=0.1, affine=True, track_running_stats=True)\n",
      "        (2): ReLU()\n",
      "      )\n",
      "      (conv2): Sequential(\n",
      "        (0): Conv2d(256, 256, kernel_size=(3, 3), stride=(1, 1), padding=(1, 1))\n",
      "        (1): BatchNorm2d(256, eps=1e-05, momentum=0.1, affine=True, track_running_stats=True)\n",
      "        (2): ReLU()\n",
      "      )\n",
      "      (relu): ReLU()\n",
      "    )\n",
      "  )\n",
      "  (layer3): Sequential(\n",
      "    (0): ResidualBlock(\n",
      "      (conv1): Sequential(\n",
      "        (0): Conv2d(256, 512, kernel_size=(3, 3), stride=(1, 1), padding=same)\n",
      "        (1): BatchNorm2d(512, eps=1e-05, momentum=0.1, affine=True, track_running_stats=True)\n",
      "        (2): ReLU()\n",
      "        (3): MaxPool2d(kernel_size=2, stride=2, padding=0, dilation=1, ceil_mode=False)\n",
      "      )\n",
      "      (conv2): Sequential(\n",
      "        (0): Conv2d(512, 512, kernel_size=(3, 3), stride=(1, 1), padding=(1, 1))\n",
      "        (1): BatchNorm2d(512, eps=1e-05, momentum=0.1, affine=True, track_running_stats=True)\n",
      "        (2): ReLU()\n",
      "      )\n",
      "      (downsample): Sequential(\n",
      "        (0): Conv2d(256, 512, kernel_size=(1, 1), stride=(1, 1), padding=same)\n",
      "        (1): BatchNorm2d(512, eps=1e-05, momentum=0.1, affine=True, track_running_stats=True)\n",
      "        (2): ReLU()\n",
      "        (3): MaxPool2d(kernel_size=2, stride=2, padding=0, dilation=1, ceil_mode=False)\n",
      "      )\n",
      "      (relu): ReLU()\n",
      "    )\n",
      "    (1): ResidualBlock(\n",
      "      (conv1): Sequential(\n",
      "        (0): Conv2d(512, 512, kernel_size=(3, 3), stride=(1, 1), padding=same)\n",
      "        (1): BatchNorm2d(512, eps=1e-05, momentum=0.1, affine=True, track_running_stats=True)\n",
      "        (2): ReLU()\n",
      "      )\n",
      "      (conv2): Sequential(\n",
      "        (0): Conv2d(512, 512, kernel_size=(3, 3), stride=(1, 1), padding=(1, 1))\n",
      "        (1): BatchNorm2d(512, eps=1e-05, momentum=0.1, affine=True, track_running_stats=True)\n",
      "        (2): ReLU()\n",
      "      )\n",
      "      (relu): ReLU()\n",
      "    )\n",
      "    (2): ResidualBlock(\n",
      "      (conv1): Sequential(\n",
      "        (0): Conv2d(512, 512, kernel_size=(3, 3), stride=(1, 1), padding=same)\n",
      "        (1): BatchNorm2d(512, eps=1e-05, momentum=0.1, affine=True, track_running_stats=True)\n",
      "        (2): ReLU()\n",
      "      )\n",
      "      (conv2): Sequential(\n",
      "        (0): Conv2d(512, 512, kernel_size=(3, 3), stride=(1, 1), padding=(1, 1))\n",
      "        (1): BatchNorm2d(512, eps=1e-05, momentum=0.1, affine=True, track_running_stats=True)\n",
      "        (2): ReLU()\n",
      "      )\n",
      "      (relu): ReLU()\n",
      "    )\n",
      "  )\n",
      "  (avgpool): MaxPool2d(kernel_size=7, stride=1, padding=0, dilation=1, ceil_mode=False)\n",
      "  (fc): Linear(in_features=2048, out_features=512, bias=True)\n",
      "  (dropout): Dropout(p=0.4, inplace=False)\n",
      "  (fc2): Linear(in_features=512, out_features=10, bias=True)\n",
      ")\n"
     ]
    }
   ],
   "source": [
    "if torch.cuda.is_available():\n",
    "    torch.cuda.empty_cache()\n",
    "model_resnet = ResNet(ResidualBlock, [3, 4, 6, 3], num_classes = 10, in_channels=6).to(\"cuda\")\n",
    "print(model_resnet)"
   ]
  },
  {
   "cell_type": "code",
   "execution_count": 7,
   "metadata": {},
   "outputs": [
    {
     "name": "stderr",
     "output_type": "stream",
     "text": [
      "Using cache found in C:\\Users\\nikos/.cache\\torch\\hub\\pytorch_vision_v0.10.0\n",
      "c:\\Users\\nikos\\AppData\\Local\\Programs\\Python\\Python39\\lib\\site-packages\\torchvision\\models\\_utils.py:208: UserWarning: The parameter 'pretrained' is deprecated since 0.13 and may be removed in the future, please use 'weights' instead.\n",
      "  warnings.warn(\n",
      "c:\\Users\\nikos\\AppData\\Local\\Programs\\Python\\Python39\\lib\\site-packages\\torchvision\\models\\_utils.py:223: UserWarning: Arguments other than a weight enum or `None` for 'weights' are deprecated since 0.13 and may be removed in the future. The current behavior is equivalent to passing `weights=ResNet34_Weights.IMAGENET1K_V1`. You can also use `weights=ResNet34_Weights.DEFAULT` to get the most up-to-date weights.\n",
      "  warnings.warn(msg)\n"
     ]
    }
   ],
   "source": [
    "model = torch.hub.load('pytorch/vision:v0.10.0', 'resnet34', pretrained=True)"
   ]
  },
  {
   "cell_type": "code",
   "execution_count": 8,
   "metadata": {},
   "outputs": [
    {
     "data": {
      "text/plain": [
       "ResNet(\n",
       "  (conv1): Sequential(\n",
       "    (0): Conv2d(6, 64, kernel_size=(7, 7), stride=(1, 1), padding=(3, 3))\n",
       "    (1): BatchNorm2d(64, eps=1e-05, momentum=0.1, affine=True, track_running_stats=True)\n",
       "    (2): ReLU()\n",
       "  )\n",
       "  (maxpool): MaxPool2d(kernel_size=3, stride=2, padding=1, dilation=1, ceil_mode=False)\n",
       "  (layer0): Sequential(\n",
       "    (0): ResidualBlock(\n",
       "      (conv1): Sequential(\n",
       "        (0): Conv2d(64, 64, kernel_size=(3, 3), stride=1, padding=(1, 1), bias=False)\n",
       "        (1): BatchNorm2d(64, eps=1e-05, momentum=0.1, affine=True, track_running_stats=True)\n",
       "        (2): ReLU()\n",
       "      )\n",
       "      (conv2): Sequential(\n",
       "        (0): Conv2d(64, 64, kernel_size=(3, 3), stride=1, padding=(1, 1), bias=False)\n",
       "        (1): BatchNorm2d(64, eps=1e-05, momentum=0.1, affine=True, track_running_stats=True)\n",
       "        (2): ReLU()\n",
       "      )\n",
       "      (relu): ReLU()\n",
       "    )\n",
       "    (1): ResidualBlock(\n",
       "      (conv1): Sequential(\n",
       "        (0): Conv2d(64, 64, kernel_size=(3, 3), stride=1, padding=(1, 1), bias=False)\n",
       "        (1): BatchNorm2d(64, eps=1e-05, momentum=0.1, affine=True, track_running_stats=True)\n",
       "        (2): ReLU()\n",
       "      )\n",
       "      (conv2): Sequential(\n",
       "        (0): Conv2d(64, 64, kernel_size=(3, 3), stride=1, padding=(1, 1), bias=False)\n",
       "        (1): BatchNorm2d(64, eps=1e-05, momentum=0.1, affine=True, track_running_stats=True)\n",
       "        (2): ReLU()\n",
       "      )\n",
       "      (relu): ReLU()\n",
       "    )\n",
       "    (2): ResidualBlock(\n",
       "      (conv1): Sequential(\n",
       "        (0): Conv2d(64, 64, kernel_size=(3, 3), stride=1, padding=(1, 1), bias=False)\n",
       "        (1): BatchNorm2d(64, eps=1e-05, momentum=0.1, affine=True, track_running_stats=True)\n",
       "        (2): ReLU()\n",
       "      )\n",
       "      (conv2): Sequential(\n",
       "        (0): Conv2d(64, 64, kernel_size=(3, 3), stride=1, padding=(1, 1), bias=False)\n",
       "        (1): BatchNorm2d(64, eps=1e-05, momentum=0.1, affine=True, track_running_stats=True)\n",
       "        (2): ReLU()\n",
       "      )\n",
       "      (relu): ReLU()\n",
       "    )\n",
       "  )\n",
       "  (layer1): Sequential(\n",
       "    (0): ResidualBlock(\n",
       "      (conv1): Sequential(\n",
       "        (0): Conv2d(64, 128, kernel_size=(3, 3), stride=1, padding=(1, 1), bias=False)\n",
       "        (1): BatchNorm2d(128, eps=1e-05, momentum=0.1, affine=True, track_running_stats=True)\n",
       "        (2): ReLU()\n",
       "        (3): MaxPool2d(kernel_size=2, stride=2, padding=0, dilation=1, ceil_mode=False)\n",
       "      )\n",
       "      (conv2): Sequential(\n",
       "        (0): Conv2d(128, 128, kernel_size=(3, 3), stride=1, padding=(1, 1), bias=False)\n",
       "        (1): BatchNorm2d(128, eps=1e-05, momentum=0.1, affine=True, track_running_stats=True)\n",
       "        (2): ReLU()\n",
       "      )\n",
       "      (downsample): Sequential(\n",
       "        (0): Conv2d(64, 128, kernel_size=(1, 1), stride=1, bias=False)\n",
       "        (1): BatchNorm2d(128, eps=1e-05, momentum=0.1, affine=True, track_running_stats=True)\n",
       "        (2): ReLU()\n",
       "        (3): MaxPool2d(kernel_size=2, stride=2, padding=0, dilation=1, ceil_mode=False)\n",
       "      )\n",
       "      (relu): ReLU()\n",
       "    )\n",
       "    (1): ResidualBlock(\n",
       "      (conv1): Sequential(\n",
       "        (0): Conv2d(128, 128, kernel_size=(3, 3), stride=1, padding=(1, 1), bias=False)\n",
       "        (1): BatchNorm2d(128, eps=1e-05, momentum=0.1, affine=True, track_running_stats=True)\n",
       "        (2): ReLU()\n",
       "      )\n",
       "      (conv2): Sequential(\n",
       "        (0): Conv2d(128, 128, kernel_size=(3, 3), stride=1, padding=(1, 1), bias=False)\n",
       "        (1): BatchNorm2d(128, eps=1e-05, momentum=0.1, affine=True, track_running_stats=True)\n",
       "        (2): ReLU()\n",
       "      )\n",
       "      (relu): ReLU()\n",
       "    )\n",
       "    (2): ResidualBlock(\n",
       "      (conv1): Sequential(\n",
       "        (0): Conv2d(128, 128, kernel_size=(3, 3), stride=1, padding=(1, 1), bias=False)\n",
       "        (1): BatchNorm2d(128, eps=1e-05, momentum=0.1, affine=True, track_running_stats=True)\n",
       "        (2): ReLU()\n",
       "      )\n",
       "      (conv2): Sequential(\n",
       "        (0): Conv2d(128, 128, kernel_size=(3, 3), stride=1, padding=(1, 1), bias=False)\n",
       "        (1): BatchNorm2d(128, eps=1e-05, momentum=0.1, affine=True, track_running_stats=True)\n",
       "        (2): ReLU()\n",
       "      )\n",
       "      (relu): ReLU()\n",
       "    )\n",
       "    (3): ResidualBlock(\n",
       "      (conv1): Sequential(\n",
       "        (0): Conv2d(128, 128, kernel_size=(3, 3), stride=1, padding=(1, 1), bias=False)\n",
       "        (1): BatchNorm2d(128, eps=1e-05, momentum=0.1, affine=True, track_running_stats=True)\n",
       "        (2): ReLU()\n",
       "      )\n",
       "      (conv2): Sequential(\n",
       "        (0): Conv2d(128, 128, kernel_size=(3, 3), stride=1, padding=(1, 1), bias=False)\n",
       "        (1): BatchNorm2d(128, eps=1e-05, momentum=0.1, affine=True, track_running_stats=True)\n",
       "        (2): ReLU()\n",
       "      )\n",
       "      (relu): ReLU()\n",
       "    )\n",
       "  )\n",
       "  (layer2): Sequential(\n",
       "    (0): ResidualBlock(\n",
       "      (conv1): Sequential(\n",
       "        (0): Conv2d(128, 256, kernel_size=(3, 3), stride=1, padding=(1, 1), bias=False)\n",
       "        (1): BatchNorm2d(256, eps=1e-05, momentum=0.1, affine=True, track_running_stats=True)\n",
       "        (2): ReLU()\n",
       "        (3): MaxPool2d(kernel_size=2, stride=2, padding=0, dilation=1, ceil_mode=False)\n",
       "      )\n",
       "      (conv2): Sequential(\n",
       "        (0): Conv2d(256, 256, kernel_size=(3, 3), stride=1, padding=(1, 1), bias=False)\n",
       "        (1): BatchNorm2d(256, eps=1e-05, momentum=0.1, affine=True, track_running_stats=True)\n",
       "        (2): ReLU()\n",
       "      )\n",
       "      (downsample): Sequential(\n",
       "        (0): Conv2d(128, 256, kernel_size=(1, 1), stride=1, bias=False)\n",
       "        (1): BatchNorm2d(256, eps=1e-05, momentum=0.1, affine=True, track_running_stats=True)\n",
       "        (2): ReLU()\n",
       "        (3): MaxPool2d(kernel_size=2, stride=2, padding=0, dilation=1, ceil_mode=False)\n",
       "      )\n",
       "      (relu): ReLU()\n",
       "    )\n",
       "    (1): ResidualBlock(\n",
       "      (conv1): Sequential(\n",
       "        (0): Conv2d(256, 256, kernel_size=(3, 3), stride=1, padding=(1, 1), bias=False)\n",
       "        (1): BatchNorm2d(256, eps=1e-05, momentum=0.1, affine=True, track_running_stats=True)\n",
       "        (2): ReLU()\n",
       "      )\n",
       "      (conv2): Sequential(\n",
       "        (0): Conv2d(256, 256, kernel_size=(3, 3), stride=1, padding=(1, 1), bias=False)\n",
       "        (1): BatchNorm2d(256, eps=1e-05, momentum=0.1, affine=True, track_running_stats=True)\n",
       "        (2): ReLU()\n",
       "      )\n",
       "      (relu): ReLU()\n",
       "    )\n",
       "    (2): ResidualBlock(\n",
       "      (conv1): Sequential(\n",
       "        (0): Conv2d(256, 256, kernel_size=(3, 3), stride=1, padding=(1, 1), bias=False)\n",
       "        (1): BatchNorm2d(256, eps=1e-05, momentum=0.1, affine=True, track_running_stats=True)\n",
       "        (2): ReLU()\n",
       "      )\n",
       "      (conv2): Sequential(\n",
       "        (0): Conv2d(256, 256, kernel_size=(3, 3), stride=1, padding=(1, 1), bias=False)\n",
       "        (1): BatchNorm2d(256, eps=1e-05, momentum=0.1, affine=True, track_running_stats=True)\n",
       "        (2): ReLU()\n",
       "      )\n",
       "      (relu): ReLU()\n",
       "    )\n",
       "    (3): ResidualBlock(\n",
       "      (conv1): Sequential(\n",
       "        (0): Conv2d(256, 256, kernel_size=(3, 3), stride=1, padding=(1, 1), bias=False)\n",
       "        (1): BatchNorm2d(256, eps=1e-05, momentum=0.1, affine=True, track_running_stats=True)\n",
       "        (2): ReLU()\n",
       "      )\n",
       "      (conv2): Sequential(\n",
       "        (0): Conv2d(256, 256, kernel_size=(3, 3), stride=1, padding=(1, 1), bias=False)\n",
       "        (1): BatchNorm2d(256, eps=1e-05, momentum=0.1, affine=True, track_running_stats=True)\n",
       "        (2): ReLU()\n",
       "      )\n",
       "      (relu): ReLU()\n",
       "    )\n",
       "    (4): ResidualBlock(\n",
       "      (conv1): Sequential(\n",
       "        (0): Conv2d(256, 256, kernel_size=(3, 3), stride=1, padding=(1, 1), bias=False)\n",
       "        (1): BatchNorm2d(256, eps=1e-05, momentum=0.1, affine=True, track_running_stats=True)\n",
       "        (2): ReLU()\n",
       "      )\n",
       "      (conv2): Sequential(\n",
       "        (0): Conv2d(256, 256, kernel_size=(3, 3), stride=1, padding=(1, 1), bias=False)\n",
       "        (1): BatchNorm2d(256, eps=1e-05, momentum=0.1, affine=True, track_running_stats=True)\n",
       "        (2): ReLU()\n",
       "      )\n",
       "      (relu): ReLU()\n",
       "    )\n",
       "    (5): ResidualBlock(\n",
       "      (conv1): Sequential(\n",
       "        (0): Conv2d(256, 256, kernel_size=(3, 3), stride=1, padding=(1, 1), bias=False)\n",
       "        (1): BatchNorm2d(256, eps=1e-05, momentum=0.1, affine=True, track_running_stats=True)\n",
       "        (2): ReLU()\n",
       "      )\n",
       "      (conv2): Sequential(\n",
       "        (0): Conv2d(256, 256, kernel_size=(3, 3), stride=1, padding=(1, 1), bias=False)\n",
       "        (1): BatchNorm2d(256, eps=1e-05, momentum=0.1, affine=True, track_running_stats=True)\n",
       "        (2): ReLU()\n",
       "      )\n",
       "      (relu): ReLU()\n",
       "    )\n",
       "  )\n",
       "  (layer3): Sequential(\n",
       "    (0): ResidualBlock(\n",
       "      (conv1): Sequential(\n",
       "        (0): Conv2d(256, 512, kernel_size=(3, 3), stride=1, padding=(1, 1), bias=False)\n",
       "        (1): BatchNorm2d(512, eps=1e-05, momentum=0.1, affine=True, track_running_stats=True)\n",
       "        (2): ReLU()\n",
       "        (3): MaxPool2d(kernel_size=2, stride=2, padding=0, dilation=1, ceil_mode=False)\n",
       "      )\n",
       "      (conv2): Sequential(\n",
       "        (0): Conv2d(512, 512, kernel_size=(3, 3), stride=1, padding=(1, 1), bias=False)\n",
       "        (1): BatchNorm2d(512, eps=1e-05, momentum=0.1, affine=True, track_running_stats=True)\n",
       "        (2): ReLU()\n",
       "      )\n",
       "      (downsample): Sequential(\n",
       "        (0): Conv2d(256, 512, kernel_size=(1, 1), stride=1, bias=False)\n",
       "        (1): BatchNorm2d(512, eps=1e-05, momentum=0.1, affine=True, track_running_stats=True)\n",
       "        (2): ReLU()\n",
       "        (3): MaxPool2d(kernel_size=2, stride=2, padding=0, dilation=1, ceil_mode=False)\n",
       "      )\n",
       "      (relu): ReLU()\n",
       "    )\n",
       "    (1): ResidualBlock(\n",
       "      (conv1): Sequential(\n",
       "        (0): Conv2d(512, 512, kernel_size=(3, 3), stride=1, padding=(1, 1), bias=False)\n",
       "        (1): BatchNorm2d(512, eps=1e-05, momentum=0.1, affine=True, track_running_stats=True)\n",
       "        (2): ReLU()\n",
       "      )\n",
       "      (conv2): Sequential(\n",
       "        (0): Conv2d(512, 512, kernel_size=(3, 3), stride=1, padding=(1, 1), bias=False)\n",
       "        (1): BatchNorm2d(512, eps=1e-05, momentum=0.1, affine=True, track_running_stats=True)\n",
       "        (2): ReLU()\n",
       "      )\n",
       "      (relu): ReLU()\n",
       "    )\n",
       "    (2): ResidualBlock(\n",
       "      (conv1): Sequential(\n",
       "        (0): Conv2d(512, 512, kernel_size=(3, 3), stride=1, padding=(1, 1), bias=False)\n",
       "        (1): BatchNorm2d(512, eps=1e-05, momentum=0.1, affine=True, track_running_stats=True)\n",
       "        (2): ReLU()\n",
       "      )\n",
       "      (conv2): Sequential(\n",
       "        (0): Conv2d(512, 512, kernel_size=(3, 3), stride=1, padding=(1, 1), bias=False)\n",
       "        (1): BatchNorm2d(512, eps=1e-05, momentum=0.1, affine=True, track_running_stats=True)\n",
       "        (2): ReLU()\n",
       "      )\n",
       "      (relu): ReLU()\n",
       "    )\n",
       "  )\n",
       "  (avgpool): MaxPool2d(kernel_size=7, stride=1, padding=0, dilation=1, ceil_mode=False)\n",
       "  (fc): Linear(in_features=2048, out_features=512, bias=True)\n",
       "  (dropout): Dropout(p=0.4, inplace=False)\n",
       "  (fc2): Linear(in_features=512, out_features=10, bias=True)\n",
       ")"
      ]
     },
     "execution_count": 8,
     "metadata": {},
     "output_type": "execute_result"
    }
   ],
   "source": [
    "size_layer = [3, 4, 6, 3]\n",
    "layers = [(model_resnet.layer0, model.layer1), (model_resnet.layer1, model.layer2), (model_resnet.layer2, model.layer3), (model_resnet.layer3, model.layer4)]\n",
    "for n in range(len(layers)):\n",
    "    for i in range(size_layer[n]):\n",
    "        layers[n][0][i].conv1[0] = layers[n][1][i].conv1\n",
    "        layers[n][0][i].conv1[0].stride = 1\n",
    "        layers[n][0][i].conv2[0] = layers[n][1][i].conv2\n",
    "        layers[n][0][i].conv2[0].stride = 1\n",
    "        \n",
    "        layers[n][0][i].conv1[1] = layers[n][1][i].bn1\n",
    "        layers[n][0][i].conv2[1] = layers[n][1][i].bn2\n",
    "\n",
    "model_resnet.layer1[0].downsample[0] = model.layer2[0].downsample[0]\n",
    "model_resnet.layer1[0].downsample[0].stride = 1\n",
    "model_resnet.layer1[0].downsample[1] = model.layer2[0].downsample[1]\n",
    "\n",
    "model_resnet.layer2[0].downsample[0] = model.layer3[0].downsample[0]\n",
    "model_resnet.layer2[0].downsample[0].stride = 1\n",
    "model_resnet.layer2[0].downsample[1] = model.layer3[0].downsample[1]\n",
    "\n",
    "model_resnet.layer3[0].downsample[0] = model.layer4[0].downsample[0]\n",
    "model_resnet.layer3[0].downsample[0].stride = 1\n",
    "model_resnet.layer3[0].downsample[1] = model.layer4[0].downsample[1]\n",
    "\n",
    "model_resnet.to(\"cuda\")"
   ]
  },
  {
   "cell_type": "code",
   "execution_count": 9,
   "metadata": {},
   "outputs": [
    {
     "name": "stderr",
     "output_type": "stream",
     "text": [
      "100%|██████████| 219/219 [00:52<00:00,  4.13it/s]\n"
     ]
    },
    {
     "name": "stdout",
     "output_type": "stream",
     "text": [
      "Epoch [1/300], Step [219/219], Loss: 12.9212, Accuracy: 0.1134\n",
      "Accuracy of the network: 0.13666666666666666 Loss: 2.4421238011502204\n"
     ]
    },
    {
     "name": "stderr",
     "output_type": "stream",
     "text": [
      "100%|██████████| 219/219 [00:52<00:00,  4.15it/s]\n"
     ]
    },
    {
     "name": "stdout",
     "output_type": "stream",
     "text": [
      "Epoch [2/300], Step [219/219], Loss: 2.3129, Accuracy: 0.1236\n",
      "Accuracy of the network: 0.143 Loss: 2.2620539360858025\n"
     ]
    },
    {
     "name": "stderr",
     "output_type": "stream",
     "text": [
      "100%|██████████| 219/219 [00:52<00:00,  4.17it/s]\n"
     ]
    },
    {
     "name": "stdout",
     "output_type": "stream",
     "text": [
      "Epoch [3/300], Step [219/219], Loss: 2.2169, Accuracy: 0.1560\n",
      "Accuracy of the network: 0.164 Loss: 2.181614032451143\n"
     ]
    },
    {
     "name": "stderr",
     "output_type": "stream",
     "text": [
      "100%|██████████| 219/219 [00:52<00:00,  4.17it/s]\n"
     ]
    },
    {
     "name": "stdout",
     "output_type": "stream",
     "text": [
      "Epoch [4/300], Step [219/219], Loss: 2.1856, Accuracy: 0.1664\n",
      "Accuracy of the network: 0.189 Loss: 2.140444796136085\n"
     ]
    },
    {
     "name": "stderr",
     "output_type": "stream",
     "text": [
      "100%|██████████| 219/219 [00:52<00:00,  4.16it/s]\n"
     ]
    },
    {
     "name": "stdout",
     "output_type": "stream",
     "text": [
      "Epoch [5/300], Step [219/219], Loss: 2.1921, Accuracy: 0.1619\n",
      "Accuracy of the network: 0.17633333333333334 Loss: 2.1408586628893587\n"
     ]
    },
    {
     "name": "stderr",
     "output_type": "stream",
     "text": [
      "100%|██████████| 219/219 [00:52<00:00,  4.16it/s]\n"
     ]
    },
    {
     "name": "stdout",
     "output_type": "stream",
     "text": [
      "Epoch [6/300], Step [219/219], Loss: 2.1694, Accuracy: 0.1710\n",
      "Accuracy of the network: 0.13966666666666666 Loss: 2.189858460679967\n"
     ]
    },
    {
     "name": "stderr",
     "output_type": "stream",
     "text": [
      "100%|██████████| 219/219 [00:52<00:00,  4.18it/s]\n"
     ]
    },
    {
     "name": "stdout",
     "output_type": "stream",
     "text": [
      "Epoch [7/300], Step [219/219], Loss: 2.1652, Accuracy: 0.1671\n",
      "Accuracy of the network: 0.17933333333333334 Loss: 2.12633542177525\n"
     ]
    },
    {
     "name": "stderr",
     "output_type": "stream",
     "text": [
      "100%|██████████| 219/219 [00:52<00:00,  4.17it/s]\n"
     ]
    },
    {
     "name": "stdout",
     "output_type": "stream",
     "text": [
      "Epoch [8/300], Step [219/219], Loss: 2.1503, Accuracy: 0.1731\n",
      "Accuracy of the network: 0.16966666666666666 Loss: 2.135830785365815\n"
     ]
    },
    {
     "name": "stderr",
     "output_type": "stream",
     "text": [
      "100%|██████████| 219/219 [00:52<00:00,  4.17it/s]\n"
     ]
    },
    {
     "name": "stdout",
     "output_type": "stream",
     "text": [
      "Epoch [9/300], Step [219/219], Loss: 2.1447, Accuracy: 0.1744\n",
      "Accuracy of the network: 0.176 Loss: 2.152939777424995\n"
     ]
    },
    {
     "name": "stderr",
     "output_type": "stream",
     "text": [
      "100%|██████████| 219/219 [00:52<00:00,  4.16it/s]\n"
     ]
    },
    {
     "name": "stdout",
     "output_type": "stream",
     "text": [
      "Epoch [10/300], Step [219/219], Loss: 2.1369, Accuracy: 0.1756\n",
      "Accuracy of the network: 0.19733333333333333 Loss: 2.1085695205850805\n"
     ]
    },
    {
     "name": "stderr",
     "output_type": "stream",
     "text": [
      "100%|██████████| 219/219 [00:52<00:00,  4.16it/s]\n"
     ]
    },
    {
     "name": "stdout",
     "output_type": "stream",
     "text": [
      "Epoch [11/300], Step [219/219], Loss: 2.1252, Accuracy: 0.1726\n",
      "Accuracy of the network: 0.182 Loss: 2.1700137105393917\n"
     ]
    },
    {
     "name": "stderr",
     "output_type": "stream",
     "text": [
      "100%|██████████| 219/219 [00:52<00:00,  4.17it/s]\n"
     ]
    },
    {
     "name": "stdout",
     "output_type": "stream",
     "text": [
      "Epoch [12/300], Step [219/219], Loss: 2.1311, Accuracy: 0.1789\n",
      "Accuracy of the network: 0.19 Loss: 2.1018686281873826\n"
     ]
    },
    {
     "name": "stderr",
     "output_type": "stream",
     "text": [
      "100%|██████████| 219/219 [00:52<00:00,  4.16it/s]\n"
     ]
    },
    {
     "name": "stdout",
     "output_type": "stream",
     "text": [
      "Epoch [13/300], Step [219/219], Loss: 2.1251, Accuracy: 0.1817\n",
      "Accuracy of the network: 0.17766666666666667 Loss: 2.1158383729610035\n"
     ]
    },
    {
     "name": "stderr",
     "output_type": "stream",
     "text": [
      "100%|██████████| 219/219 [00:52<00:00,  4.15it/s]\n"
     ]
    },
    {
     "name": "stdout",
     "output_type": "stream",
     "text": [
      "Epoch [14/300], Step [219/219], Loss: 2.1184, Accuracy: 0.1886\n",
      "Accuracy of the network: 0.195 Loss: 2.083693799820352\n"
     ]
    },
    {
     "name": "stderr",
     "output_type": "stream",
     "text": [
      "100%|██████████| 219/219 [00:52<00:00,  4.15it/s]\n"
     ]
    },
    {
     "name": "stdout",
     "output_type": "stream",
     "text": [
      "Epoch [15/300], Step [219/219], Loss: 2.1093, Accuracy: 0.1836\n",
      "Accuracy of the network: 0.188 Loss: 2.111900933245395\n"
     ]
    },
    {
     "name": "stderr",
     "output_type": "stream",
     "text": [
      "100%|██████████| 219/219 [00:52<00:00,  4.14it/s]\n"
     ]
    },
    {
     "name": "stdout",
     "output_type": "stream",
     "text": [
      "Epoch [16/300], Step [219/219], Loss: 2.1128, Accuracy: 0.1770\n",
      "Accuracy of the network: 0.19633333333333333 Loss: 2.1061774111808615\n"
     ]
    },
    {
     "name": "stderr",
     "output_type": "stream",
     "text": [
      "100%|██████████| 219/219 [00:52<00:00,  4.17it/s]\n"
     ]
    },
    {
     "name": "stdout",
     "output_type": "stream",
     "text": [
      "Epoch [17/300], Step [219/219], Loss: 2.0988, Accuracy: 0.1803\n",
      "Accuracy of the network: 0.18666666666666668 Loss: 2.0797861180406936\n"
     ]
    },
    {
     "name": "stderr",
     "output_type": "stream",
     "text": [
      "100%|██████████| 219/219 [00:52<00:00,  4.17it/s]\n"
     ]
    },
    {
     "name": "stdout",
     "output_type": "stream",
     "text": [
      "Epoch [18/300], Step [219/219], Loss: 2.0964, Accuracy: 0.1823\n",
      "Accuracy of the network: 0.17566666666666667 Loss: 2.1107280406546085\n"
     ]
    },
    {
     "name": "stderr",
     "output_type": "stream",
     "text": [
      "100%|██████████| 219/219 [00:52<00:00,  4.17it/s]\n"
     ]
    },
    {
     "name": "stdout",
     "output_type": "stream",
     "text": [
      "Epoch [19/300], Step [219/219], Loss: 2.0991, Accuracy: 0.1954\n",
      "Accuracy of the network: 0.191 Loss: 2.0850870799511037\n"
     ]
    },
    {
     "name": "stderr",
     "output_type": "stream",
     "text": [
      "100%|██████████| 219/219 [00:52<00:00,  4.16it/s]\n"
     ]
    },
    {
     "name": "stdout",
     "output_type": "stream",
     "text": [
      "Epoch [20/300], Step [219/219], Loss: 2.0923, Accuracy: 0.1899\n",
      "Accuracy of the network: 0.17833333333333334 Loss: 2.1414722927073213\n"
     ]
    },
    {
     "name": "stderr",
     "output_type": "stream",
     "text": [
      "100%|██████████| 219/219 [00:52<00:00,  4.17it/s]\n"
     ]
    },
    {
     "name": "stdout",
     "output_type": "stream",
     "text": [
      "Epoch [21/300], Step [219/219], Loss: 2.0853, Accuracy: 0.1923\n",
      "Accuracy of the network: 0.21766666666666667 Loss: 2.065388860854697\n"
     ]
    },
    {
     "name": "stderr",
     "output_type": "stream",
     "text": [
      "100%|██████████| 219/219 [00:52<00:00,  4.17it/s]\n"
     ]
    },
    {
     "name": "stdout",
     "output_type": "stream",
     "text": [
      "Epoch [22/300], Step [219/219], Loss: 2.0865, Accuracy: 0.1899\n",
      "Accuracy of the network: 0.199 Loss: 2.1168533741159643\n"
     ]
    },
    {
     "name": "stderr",
     "output_type": "stream",
     "text": [
      "100%|██████████| 219/219 [00:52<00:00,  4.16it/s]\n"
     ]
    },
    {
     "name": "stdout",
     "output_type": "stream",
     "text": [
      "Epoch [23/300], Step [219/219], Loss: 2.0755, Accuracy: 0.1963\n",
      "Accuracy of the network: 0.205 Loss: 2.0527867687509413\n"
     ]
    },
    {
     "name": "stderr",
     "output_type": "stream",
     "text": [
      "100%|██████████| 219/219 [00:52<00:00,  4.16it/s]\n"
     ]
    },
    {
     "name": "stdout",
     "output_type": "stream",
     "text": [
      "Epoch [24/300], Step [219/219], Loss: 2.0735, Accuracy: 0.1934\n",
      "Accuracy of the network: 0.18 Loss: 2.0947637050709824\n"
     ]
    },
    {
     "name": "stderr",
     "output_type": "stream",
     "text": [
      "100%|██████████| 219/219 [00:53<00:00,  4.11it/s]\n"
     ]
    },
    {
     "name": "stdout",
     "output_type": "stream",
     "text": [
      "Epoch [25/300], Step [219/219], Loss: 2.0786, Accuracy: 0.1944\n",
      "Accuracy of the network: 0.20533333333333334 Loss: 2.0660744486971105\n"
     ]
    },
    {
     "name": "stderr",
     "output_type": "stream",
     "text": [
      "100%|██████████| 219/219 [00:53<00:00,  4.11it/s]\n"
     ]
    },
    {
     "name": "stdout",
     "output_type": "stream",
     "text": [
      "Epoch [26/300], Step [219/219], Loss: 2.0798, Accuracy: 0.1994\n",
      "Accuracy of the network: 0.19733333333333333 Loss: 2.0638211394878145\n"
     ]
    },
    {
     "name": "stderr",
     "output_type": "stream",
     "text": [
      "100%|██████████| 219/219 [00:53<00:00,  4.12it/s]\n"
     ]
    },
    {
     "name": "stdout",
     "output_type": "stream",
     "text": [
      "Epoch [27/300], Step [219/219], Loss: 2.0750, Accuracy: 0.1964\n",
      "Accuracy of the network: 0.195 Loss: 2.126503423173377\n"
     ]
    },
    {
     "name": "stderr",
     "output_type": "stream",
     "text": [
      "100%|██████████| 219/219 [00:52<00:00,  4.16it/s]\n"
     ]
    },
    {
     "name": "stdout",
     "output_type": "stream",
     "text": [
      "Epoch [28/300], Step [219/219], Loss: 2.0676, Accuracy: 0.2057\n",
      "Accuracy of the network: 0.201 Loss: 2.0561064532462585\n"
     ]
    },
    {
     "name": "stderr",
     "output_type": "stream",
     "text": [
      "100%|██████████| 219/219 [00:52<00:00,  4.14it/s]\n"
     ]
    },
    {
     "name": "stdout",
     "output_type": "stream",
     "text": [
      "Epoch [29/300], Step [219/219], Loss: 2.0547, Accuracy: 0.2097\n",
      "Accuracy of the network: 0.21366666666666667 Loss: 2.0651134468139487\n"
     ]
    },
    {
     "name": "stderr",
     "output_type": "stream",
     "text": [
      "100%|██████████| 219/219 [00:52<00:00,  4.16it/s]\n"
     ]
    },
    {
     "name": "stdout",
     "output_type": "stream",
     "text": [
      "Epoch [30/300], Step [219/219], Loss: 2.0258, Accuracy: 0.2211\n",
      "Accuracy of the network: 0.24066666666666667 Loss: 1.9933226476324366\n"
     ]
    },
    {
     "name": "stderr",
     "output_type": "stream",
     "text": [
      "100%|██████████| 219/219 [00:52<00:00,  4.14it/s]\n"
     ]
    },
    {
     "name": "stdout",
     "output_type": "stream",
     "text": [
      "Epoch [31/300], Step [219/219], Loss: 1.9800, Accuracy: 0.2481\n",
      "Accuracy of the network: 0.256 Loss: 1.9605137046347274\n"
     ]
    },
    {
     "name": "stderr",
     "output_type": "stream",
     "text": [
      "100%|██████████| 219/219 [00:52<00:00,  4.16it/s]\n"
     ]
    },
    {
     "name": "stdout",
     "output_type": "stream",
     "text": [
      "Epoch [32/300], Step [219/219], Loss: 1.9484, Accuracy: 0.2546\n",
      "Accuracy of the network: 0.25966666666666666 Loss: 1.9717032795256757\n"
     ]
    },
    {
     "name": "stderr",
     "output_type": "stream",
     "text": [
      "100%|██████████| 219/219 [00:53<00:00,  4.13it/s]\n"
     ]
    },
    {
     "name": "stdout",
     "output_type": "stream",
     "text": [
      "Epoch [33/300], Step [219/219], Loss: 1.9450, Accuracy: 0.2554\n",
      "Accuracy of the network: 0.247 Loss: 1.9731482495652868\n"
     ]
    },
    {
     "name": "stderr",
     "output_type": "stream",
     "text": [
      "100%|██████████| 219/219 [00:52<00:00,  4.15it/s]\n"
     ]
    },
    {
     "name": "stdout",
     "output_type": "stream",
     "text": [
      "Epoch [34/300], Step [219/219], Loss: 1.9248, Accuracy: 0.2676\n",
      "Accuracy of the network: 0.28 Loss: 1.9131706052638116\n"
     ]
    },
    {
     "name": "stderr",
     "output_type": "stream",
     "text": [
      "100%|██████████| 219/219 [00:52<00:00,  4.16it/s]\n"
     ]
    },
    {
     "name": "stdout",
     "output_type": "stream",
     "text": [
      "Epoch [35/300], Step [219/219], Loss: 1.9122, Accuracy: 0.2704\n",
      "Accuracy of the network: 0.273 Loss: 1.9070046252392707\n"
     ]
    },
    {
     "name": "stderr",
     "output_type": "stream",
     "text": [
      "100%|██████████| 219/219 [00:52<00:00,  4.14it/s]\n"
     ]
    },
    {
     "name": "stdout",
     "output_type": "stream",
     "text": [
      "Epoch [36/300], Step [219/219], Loss: 1.9010, Accuracy: 0.2897\n",
      "Accuracy of the network: 0.29333333333333333 Loss: 1.8853396354837622\n"
     ]
    },
    {
     "name": "stderr",
     "output_type": "stream",
     "text": [
      "100%|██████████| 219/219 [00:52<00:00,  4.15it/s]\n"
     ]
    },
    {
     "name": "stdout",
     "output_type": "stream",
     "text": [
      "Epoch [37/300], Step [219/219], Loss: 1.8614, Accuracy: 0.2946\n",
      "Accuracy of the network: 0.306 Loss: 1.8778622315285054\n"
     ]
    },
    {
     "name": "stderr",
     "output_type": "stream",
     "text": [
      "100%|██████████| 219/219 [00:52<00:00,  4.15it/s]\n"
     ]
    },
    {
     "name": "stdout",
     "output_type": "stream",
     "text": [
      "Epoch [38/300], Step [219/219], Loss: 1.8618, Accuracy: 0.2989\n",
      "Accuracy of the network: 0.306 Loss: 1.836759384642256\n"
     ]
    },
    {
     "name": "stderr",
     "output_type": "stream",
     "text": [
      "100%|██████████| 219/219 [00:52<00:00,  4.17it/s]\n"
     ]
    },
    {
     "name": "stdout",
     "output_type": "stream",
     "text": [
      "Epoch [39/300], Step [219/219], Loss: 1.8384, Accuracy: 0.3093\n",
      "Accuracy of the network: 0.33066666666666666 Loss: 1.833534006108629\n"
     ]
    },
    {
     "name": "stderr",
     "output_type": "stream",
     "text": [
      "100%|██████████| 219/219 [00:52<00:00,  4.16it/s]\n"
     ]
    },
    {
     "name": "stdout",
     "output_type": "stream",
     "text": [
      "Epoch [40/300], Step [219/219], Loss: 1.8068, Accuracy: 0.3217\n",
      "Accuracy of the network: 0.344 Loss: 1.8110639757298408\n"
     ]
    },
    {
     "name": "stderr",
     "output_type": "stream",
     "text": [
      "100%|██████████| 219/219 [00:52<00:00,  4.14it/s]\n"
     ]
    },
    {
     "name": "stdout",
     "output_type": "stream",
     "text": [
      "Epoch [41/300], Step [219/219], Loss: 1.7982, Accuracy: 0.3206\n",
      "Accuracy of the network: 0.3526666666666667 Loss: 1.760678380093676\n"
     ]
    },
    {
     "name": "stderr",
     "output_type": "stream",
     "text": [
      "100%|██████████| 219/219 [00:52<00:00,  4.17it/s]\n"
     ]
    },
    {
     "name": "stdout",
     "output_type": "stream",
     "text": [
      "Epoch [42/300], Step [219/219], Loss: 1.7757, Accuracy: 0.3336\n",
      "Accuracy of the network: 0.3446666666666667 Loss: 1.7828751092261457\n"
     ]
    },
    {
     "name": "stderr",
     "output_type": "stream",
     "text": [
      "100%|██████████| 219/219 [00:52<00:00,  4.16it/s]\n"
     ]
    },
    {
     "name": "stdout",
     "output_type": "stream",
     "text": [
      "Epoch [43/300], Step [219/219], Loss: 1.7715, Accuracy: 0.3479\n",
      "Accuracy of the network: 0.3363333333333333 Loss: 1.7813001363835437\n"
     ]
    },
    {
     "name": "stderr",
     "output_type": "stream",
     "text": [
      "100%|██████████| 219/219 [00:52<00:00,  4.17it/s]\n"
     ]
    },
    {
     "name": "stdout",
     "output_type": "stream",
     "text": [
      "Epoch [44/300], Step [219/219], Loss: 1.7668, Accuracy: 0.3469\n",
      "Accuracy of the network: 0.3473333333333333 Loss: 1.7598206806690135\n"
     ]
    },
    {
     "name": "stderr",
     "output_type": "stream",
     "text": [
      "100%|██████████| 219/219 [00:52<00:00,  4.16it/s]\n"
     ]
    },
    {
     "name": "stdout",
     "output_type": "stream",
     "text": [
      "Epoch [45/300], Step [219/219], Loss: 1.7317, Accuracy: 0.3601\n",
      "Accuracy of the network: 0.33866666666666667 Loss: 1.779164934411962\n"
     ]
    },
    {
     "name": "stderr",
     "output_type": "stream",
     "text": [
      "100%|██████████| 219/219 [00:52<00:00,  4.17it/s]\n"
     ]
    },
    {
     "name": "stdout",
     "output_type": "stream",
     "text": [
      "Epoch [46/300], Step [219/219], Loss: 1.7324, Accuracy: 0.3600\n",
      "Accuracy of the network: 0.3436666666666667 Loss: 1.7949730348079762\n"
     ]
    },
    {
     "name": "stderr",
     "output_type": "stream",
     "text": [
      "100%|██████████| 219/219 [00:52<00:00,  4.15it/s]\n"
     ]
    },
    {
     "name": "stdout",
     "output_type": "stream",
     "text": [
      "Epoch [47/300], Step [219/219], Loss: 1.7192, Accuracy: 0.3640\n",
      "Accuracy of the network: 0.36433333333333334 Loss: 1.730698529710161\n"
     ]
    },
    {
     "name": "stderr",
     "output_type": "stream",
     "text": [
      "100%|██████████| 219/219 [00:52<00:00,  4.16it/s]\n"
     ]
    },
    {
     "name": "stdout",
     "output_type": "stream",
     "text": [
      "Epoch [48/300], Step [219/219], Loss: 1.7003, Accuracy: 0.3684\n",
      "Accuracy of the network: 0.356 Loss: 1.7347005542288436\n"
     ]
    },
    {
     "name": "stderr",
     "output_type": "stream",
     "text": [
      "100%|██████████| 219/219 [00:52<00:00,  4.16it/s]\n"
     ]
    },
    {
     "name": "stdout",
     "output_type": "stream",
     "text": [
      "Epoch [49/300], Step [219/219], Loss: 1.6757, Accuracy: 0.3787\n",
      "Accuracy of the network: 0.37933333333333336 Loss: 1.6860231287935947\n"
     ]
    },
    {
     "name": "stderr",
     "output_type": "stream",
     "text": [
      "100%|██████████| 219/219 [00:52<00:00,  4.15it/s]\n"
     ]
    },
    {
     "name": "stdout",
     "output_type": "stream",
     "text": [
      "Epoch [50/300], Step [219/219], Loss: 1.6622, Accuracy: 0.3869\n",
      "Accuracy of the network: 0.37933333333333336 Loss: 1.6929993604091889\n"
     ]
    },
    {
     "name": "stderr",
     "output_type": "stream",
     "text": [
      "100%|██████████| 219/219 [00:52<00:00,  4.15it/s]\n"
     ]
    },
    {
     "name": "stdout",
     "output_type": "stream",
     "text": [
      "Epoch [51/300], Step [219/219], Loss: 1.6608, Accuracy: 0.3894\n",
      "Accuracy of the network: 0.39666666666666667 Loss: 1.6743039006882525\n"
     ]
    },
    {
     "name": "stderr",
     "output_type": "stream",
     "text": [
      "100%|██████████| 219/219 [00:52<00:00,  4.15it/s]\n"
     ]
    },
    {
     "name": "stdout",
     "output_type": "stream",
     "text": [
      "Epoch [52/300], Step [219/219], Loss: 1.6439, Accuracy: 0.3924\n",
      "Accuracy of the network: 0.384 Loss: 1.6874303614839594\n"
     ]
    },
    {
     "name": "stderr",
     "output_type": "stream",
     "text": [
      "100%|██████████| 219/219 [00:52<00:00,  4.15it/s]\n"
     ]
    },
    {
     "name": "stdout",
     "output_type": "stream",
     "text": [
      "Epoch [53/300], Step [219/219], Loss: 1.6358, Accuracy: 0.3976\n",
      "Accuracy of the network: 0.3963333333333333 Loss: 1.662398506986334\n"
     ]
    },
    {
     "name": "stderr",
     "output_type": "stream",
     "text": [
      "100%|██████████| 219/219 [00:52<00:00,  4.15it/s]\n"
     ]
    },
    {
     "name": "stdout",
     "output_type": "stream",
     "text": [
      "Epoch [54/300], Step [219/219], Loss: 1.6329, Accuracy: 0.4023\n",
      "Accuracy of the network: 0.4013333333333333 Loss: 1.6359520123360005\n"
     ]
    },
    {
     "name": "stderr",
     "output_type": "stream",
     "text": [
      "100%|██████████| 219/219 [00:52<00:00,  4.15it/s]\n"
     ]
    },
    {
     "name": "stdout",
     "output_type": "stream",
     "text": [
      "Epoch [55/300], Step [219/219], Loss: 1.6059, Accuracy: 0.4097\n",
      "Accuracy of the network: 0.413 Loss: 1.6277350783348083\n"
     ]
    },
    {
     "name": "stderr",
     "output_type": "stream",
     "text": [
      "100%|██████████| 219/219 [00:53<00:00,  4.13it/s]\n"
     ]
    },
    {
     "name": "stdout",
     "output_type": "stream",
     "text": [
      "Epoch [56/300], Step [219/219], Loss: 1.5902, Accuracy: 0.4191\n",
      "Accuracy of the network: 0.39966666666666667 Loss: 1.646961066317051\n"
     ]
    },
    {
     "name": "stderr",
     "output_type": "stream",
     "text": [
      "100%|██████████| 219/219 [00:52<00:00,  4.15it/s]\n"
     ]
    },
    {
     "name": "stdout",
     "output_type": "stream",
     "text": [
      "Epoch [57/300], Step [219/219], Loss: 1.5722, Accuracy: 0.4211\n",
      "Accuracy of the network: 0.4176666666666667 Loss: 1.612145704157809\n"
     ]
    },
    {
     "name": "stderr",
     "output_type": "stream",
     "text": [
      "100%|██████████| 219/219 [00:52<00:00,  4.17it/s]\n"
     ]
    },
    {
     "name": "stdout",
     "output_type": "stream",
     "text": [
      "Epoch [58/300], Step [219/219], Loss: 1.5579, Accuracy: 0.4259\n",
      "Accuracy of the network: 0.42033333333333334 Loss: 1.6110159272843219\n"
     ]
    },
    {
     "name": "stderr",
     "output_type": "stream",
     "text": [
      "100%|██████████| 219/219 [00:52<00:00,  4.16it/s]\n"
     ]
    },
    {
     "name": "stdout",
     "output_type": "stream",
     "text": [
      "Epoch [59/300], Step [219/219], Loss: 1.5548, Accuracy: 0.4357\n",
      "Accuracy of the network: 0.41833333333333333 Loss: 1.6027555554471118\n"
     ]
    },
    {
     "name": "stderr",
     "output_type": "stream",
     "text": [
      "100%|██████████| 219/219 [00:52<00:00,  4.15it/s]\n"
     ]
    },
    {
     "name": "stdout",
     "output_type": "stream",
     "text": [
      "Epoch [60/300], Step [219/219], Loss: 1.5270, Accuracy: 0.4431\n",
      "Accuracy of the network: 0.42 Loss: 1.6125444630359083\n"
     ]
    },
    {
     "name": "stderr",
     "output_type": "stream",
     "text": [
      "100%|██████████| 219/219 [00:52<00:00,  4.14it/s]\n"
     ]
    },
    {
     "name": "stdout",
     "output_type": "stream",
     "text": [
      "Epoch [61/300], Step [219/219], Loss: 1.5179, Accuracy: 0.4551\n",
      "Accuracy of the network: 0.44 Loss: 1.5711477715918358\n"
     ]
    },
    {
     "name": "stderr",
     "output_type": "stream",
     "text": [
      "100%|██████████| 219/219 [00:52<00:00,  4.16it/s]\n"
     ]
    },
    {
     "name": "stdout",
     "output_type": "stream",
     "text": [
      "Epoch [62/300], Step [219/219], Loss: 1.5002, Accuracy: 0.4589\n",
      "Accuracy of the network: 0.436 Loss: 1.567513512804153\n"
     ]
    },
    {
     "name": "stderr",
     "output_type": "stream",
     "text": [
      "100%|██████████| 219/219 [00:52<00:00,  4.14it/s]\n"
     ]
    },
    {
     "name": "stdout",
     "output_type": "stream",
     "text": [
      "Epoch [63/300], Step [219/219], Loss: 1.5008, Accuracy: 0.4579\n",
      "Accuracy of the network: 0.44233333333333336 Loss: 1.5827727330491899\n"
     ]
    },
    {
     "name": "stderr",
     "output_type": "stream",
     "text": [
      "100%|██████████| 219/219 [00:52<00:00,  4.16it/s]\n"
     ]
    },
    {
     "name": "stdout",
     "output_type": "stream",
     "text": [
      "Epoch [64/300], Step [219/219], Loss: 1.4919, Accuracy: 0.4663\n",
      "Accuracy of the network: 0.44566666666666666 Loss: 1.5703272464427542\n"
     ]
    },
    {
     "name": "stderr",
     "output_type": "stream",
     "text": [
      "100%|██████████| 219/219 [00:52<00:00,  4.14it/s]\n"
     ]
    },
    {
     "name": "stdout",
     "output_type": "stream",
     "text": [
      "Epoch [65/300], Step [219/219], Loss: 1.4829, Accuracy: 0.4671\n",
      "Accuracy of the network: 0.43866666666666665 Loss: 1.570340779233486\n"
     ]
    },
    {
     "name": "stderr",
     "output_type": "stream",
     "text": [
      "100%|██████████| 219/219 [00:52<00:00,  4.16it/s]\n"
     ]
    },
    {
     "name": "stdout",
     "output_type": "stream",
     "text": [
      "Epoch [66/300], Step [219/219], Loss: 1.4703, Accuracy: 0.4769\n",
      "Accuracy of the network: 0.45 Loss: 1.565423844976628\n"
     ]
    },
    {
     "name": "stderr",
     "output_type": "stream",
     "text": [
      "100%|██████████| 219/219 [00:52<00:00,  4.15it/s]\n"
     ]
    },
    {
     "name": "stdout",
     "output_type": "stream",
     "text": [
      "Epoch [67/300], Step [219/219], Loss: 1.4661, Accuracy: 0.4767\n",
      "Accuracy of the network: 0.445 Loss: 1.5610031269966287\n"
     ]
    },
    {
     "name": "stderr",
     "output_type": "stream",
     "text": [
      "100%|██████████| 219/219 [00:52<00:00,  4.17it/s]\n"
     ]
    },
    {
     "name": "stdout",
     "output_type": "stream",
     "text": [
      "Epoch [68/300], Step [219/219], Loss: 1.4514, Accuracy: 0.4779\n",
      "Accuracy of the network: 0.45366666666666666 Loss: 1.5467408451628177\n"
     ]
    },
    {
     "name": "stderr",
     "output_type": "stream",
     "text": [
      "100%|██████████| 219/219 [00:52<00:00,  4.16it/s]\n"
     ]
    },
    {
     "name": "stdout",
     "output_type": "stream",
     "text": [
      "Epoch [69/300], Step [219/219], Loss: 1.4403, Accuracy: 0.4819\n",
      "Accuracy of the network: 0.4623333333333333 Loss: 1.5188584321356835\n"
     ]
    },
    {
     "name": "stderr",
     "output_type": "stream",
     "text": [
      "100%|██████████| 219/219 [00:52<00:00,  4.14it/s]\n"
     ]
    },
    {
     "name": "stdout",
     "output_type": "stream",
     "text": [
      "Epoch [70/300], Step [219/219], Loss: 1.4209, Accuracy: 0.4943\n",
      "Accuracy of the network: 0.461 Loss: 1.5243024711913251\n"
     ]
    },
    {
     "name": "stderr",
     "output_type": "stream",
     "text": [
      "100%|██████████| 219/219 [00:52<00:00,  4.18it/s]\n"
     ]
    },
    {
     "name": "stdout",
     "output_type": "stream",
     "text": [
      "Epoch [71/300], Step [219/219], Loss: 1.4122, Accuracy: 0.4987\n",
      "Accuracy of the network: 0.45466666666666666 Loss: 1.5400514387069864\n"
     ]
    },
    {
     "name": "stderr",
     "output_type": "stream",
     "text": [
      "100%|██████████| 219/219 [00:50<00:00,  4.32it/s]\n"
     ]
    },
    {
     "name": "stdout",
     "output_type": "stream",
     "text": [
      "Epoch [72/300], Step [219/219], Loss: 1.3958, Accuracy: 0.5020\n",
      "Accuracy of the network: 0.45966666666666667 Loss: 1.5082538546399866\n"
     ]
    },
    {
     "name": "stderr",
     "output_type": "stream",
     "text": [
      "100%|██████████| 219/219 [00:53<00:00,  4.12it/s]\n"
     ]
    },
    {
     "name": "stdout",
     "output_type": "stream",
     "text": [
      "Epoch [73/300], Step [219/219], Loss: 1.3967, Accuracy: 0.5041\n",
      "Accuracy of the network: 0.4503333333333333 Loss: 1.5279035454100751\n"
     ]
    },
    {
     "name": "stderr",
     "output_type": "stream",
     "text": [
      "100%|██████████| 219/219 [00:51<00:00,  4.25it/s]\n"
     ]
    },
    {
     "name": "stdout",
     "output_type": "stream",
     "text": [
      "Epoch [74/300], Step [219/219], Loss: 1.3932, Accuracy: 0.5061\n",
      "Accuracy of the network: 0.456 Loss: 1.499556136892197\n"
     ]
    },
    {
     "name": "stderr",
     "output_type": "stream",
     "text": [
      "100%|██████████| 219/219 [00:50<00:00,  4.30it/s]\n"
     ]
    },
    {
     "name": "stdout",
     "output_type": "stream",
     "text": [
      "Epoch [75/300], Step [219/219], Loss: 1.3940, Accuracy: 0.5011\n",
      "Accuracy of the network: 0.4746666666666667 Loss: 1.5009470594690202\n"
     ]
    },
    {
     "name": "stderr",
     "output_type": "stream",
     "text": [
      "100%|██████████| 219/219 [00:51<00:00,  4.24it/s]\n"
     ]
    },
    {
     "name": "stdout",
     "output_type": "stream",
     "text": [
      "Epoch [76/300], Step [219/219], Loss: 1.3777, Accuracy: 0.5070\n",
      "Accuracy of the network: 0.4656666666666667 Loss: 1.5008350915097175\n"
     ]
    },
    {
     "name": "stderr",
     "output_type": "stream",
     "text": [
      "100%|██████████| 219/219 [00:51<00:00,  4.28it/s]\n"
     ]
    },
    {
     "name": "stdout",
     "output_type": "stream",
     "text": [
      "Epoch [77/300], Step [219/219], Loss: 1.3654, Accuracy: 0.5147\n",
      "Accuracy of the network: 0.4686666666666667 Loss: 1.4832984779743439\n"
     ]
    },
    {
     "name": "stderr",
     "output_type": "stream",
     "text": [
      "100%|██████████| 219/219 [00:51<00:00,  4.28it/s]\n"
     ]
    },
    {
     "name": "stdout",
     "output_type": "stream",
     "text": [
      "Epoch [78/300], Step [219/219], Loss: 1.3598, Accuracy: 0.5131\n",
      "Accuracy of the network: 0.475 Loss: 1.4837063081721042\n"
     ]
    },
    {
     "name": "stderr",
     "output_type": "stream",
     "text": [
      "100%|██████████| 219/219 [00:51<00:00,  4.29it/s]\n"
     ]
    },
    {
     "name": "stdout",
     "output_type": "stream",
     "text": [
      "Epoch [79/300], Step [219/219], Loss: 1.3600, Accuracy: 0.5206\n",
      "Accuracy of the network: 0.4696666666666667 Loss: 1.4975651952814548\n"
     ]
    },
    {
     "name": "stderr",
     "output_type": "stream",
     "text": [
      "100%|██████████| 219/219 [00:50<00:00,  4.31it/s]\n"
     ]
    },
    {
     "name": "stdout",
     "output_type": "stream",
     "text": [
      "Epoch [80/300], Step [219/219], Loss: 1.3607, Accuracy: 0.5150\n",
      "Accuracy of the network: 0.48 Loss: 1.468955008273429\n"
     ]
    },
    {
     "name": "stderr",
     "output_type": "stream",
     "text": [
      "100%|██████████| 219/219 [00:51<00:00,  4.27it/s]\n"
     ]
    },
    {
     "name": "stdout",
     "output_type": "stream",
     "text": [
      "Epoch [81/300], Step [219/219], Loss: 1.3510, Accuracy: 0.5189\n",
      "Accuracy of the network: 0.4656666666666667 Loss: 1.494974415353004\n"
     ]
    },
    {
     "name": "stderr",
     "output_type": "stream",
     "text": [
      "100%|██████████| 219/219 [00:51<00:00,  4.29it/s]\n"
     ]
    },
    {
     "name": "stdout",
     "output_type": "stream",
     "text": [
      "Epoch [82/300], Step [219/219], Loss: 1.3303, Accuracy: 0.5300\n",
      "Accuracy of the network: 0.48133333333333334 Loss: 1.458817239771498\n"
     ]
    },
    {
     "name": "stderr",
     "output_type": "stream",
     "text": [
      "100%|██████████| 219/219 [00:50<00:00,  4.30it/s]\n"
     ]
    },
    {
     "name": "stdout",
     "output_type": "stream",
     "text": [
      "Epoch [83/300], Step [219/219], Loss: 1.3271, Accuracy: 0.5280\n",
      "Accuracy of the network: 0.473 Loss: 1.4753276477468775\n"
     ]
    },
    {
     "name": "stderr",
     "output_type": "stream",
     "text": [
      "100%|██████████| 219/219 [00:52<00:00,  4.20it/s]\n"
     ]
    },
    {
     "name": "stdout",
     "output_type": "stream",
     "text": [
      "Epoch [84/300], Step [219/219], Loss: 1.3175, Accuracy: 0.5263\n",
      "Accuracy of the network: 0.468 Loss: 1.4728151908580294\n"
     ]
    },
    {
     "name": "stderr",
     "output_type": "stream",
     "text": [
      "100%|██████████| 219/219 [00:54<00:00,  4.04it/s]\n"
     ]
    },
    {
     "name": "stdout",
     "output_type": "stream",
     "text": [
      "Epoch [85/300], Step [219/219], Loss: 1.3167, Accuracy: 0.5331\n",
      "Accuracy of the network: 0.485 Loss: 1.4629817097745044\n"
     ]
    },
    {
     "name": "stderr",
     "output_type": "stream",
     "text": [
      "100%|██████████| 219/219 [00:49<00:00,  4.40it/s]\n"
     ]
    },
    {
     "name": "stdout",
     "output_type": "stream",
     "text": [
      "Epoch [86/300], Step [219/219], Loss: 1.3125, Accuracy: 0.5391\n",
      "Accuracy of the network: 0.472 Loss: 1.46760948034043\n"
     ]
    },
    {
     "name": "stderr",
     "output_type": "stream",
     "text": [
      "100%|██████████| 219/219 [00:49<00:00,  4.41it/s]\n"
     ]
    },
    {
     "name": "stdout",
     "output_type": "stream",
     "text": [
      "Epoch [87/300], Step [219/219], Loss: 1.3136, Accuracy: 0.5347\n",
      "Accuracy of the network: 0.477 Loss: 1.4745585664789727\n"
     ]
    },
    {
     "name": "stderr",
     "output_type": "stream",
     "text": [
      "100%|██████████| 219/219 [00:49<00:00,  4.39it/s]\n"
     ]
    },
    {
     "name": "stdout",
     "output_type": "stream",
     "text": [
      "Epoch [88/300], Step [219/219], Loss: 1.3059, Accuracy: 0.5426\n",
      "Accuracy of the network: 0.482 Loss: 1.4594552656437487\n"
     ]
    },
    {
     "name": "stderr",
     "output_type": "stream",
     "text": [
      "100%|██████████| 219/219 [00:50<00:00,  4.30it/s]\n"
     ]
    },
    {
     "name": "stdout",
     "output_type": "stream",
     "text": [
      "Epoch [89/300], Step [219/219], Loss: 1.2953, Accuracy: 0.5390\n",
      "Accuracy of the network: 0.49433333333333335 Loss: 1.4416922692288743\n"
     ]
    },
    {
     "name": "stderr",
     "output_type": "stream",
     "text": [
      "100%|██████████| 219/219 [00:50<00:00,  4.37it/s]\n"
     ]
    },
    {
     "name": "stdout",
     "output_type": "stream",
     "text": [
      "Epoch [90/300], Step [219/219], Loss: 1.2924, Accuracy: 0.5429\n",
      "Accuracy of the network: 0.48733333333333334 Loss: 1.4276696468921417\n"
     ]
    },
    {
     "name": "stderr",
     "output_type": "stream",
     "text": [
      "100%|██████████| 219/219 [00:50<00:00,  4.32it/s]\n"
     ]
    },
    {
     "name": "stdout",
     "output_type": "stream",
     "text": [
      "Epoch [91/300], Step [219/219], Loss: 1.2860, Accuracy: 0.5493\n",
      "Accuracy of the network: 0.49533333333333335 Loss: 1.4326530542779476\n"
     ]
    },
    {
     "name": "stderr",
     "output_type": "stream",
     "text": [
      "100%|██████████| 219/219 [00:56<00:00,  3.90it/s]\n"
     ]
    },
    {
     "name": "stdout",
     "output_type": "stream",
     "text": [
      "Epoch [92/300], Step [219/219], Loss: 1.2943, Accuracy: 0.5441\n",
      "Accuracy of the network: 0.49566666666666664 Loss: 1.4411765191149204\n"
     ]
    },
    {
     "name": "stderr",
     "output_type": "stream",
     "text": [
      "100%|██████████| 219/219 [00:54<00:00,  4.00it/s]\n"
     ]
    },
    {
     "name": "stdout",
     "output_type": "stream",
     "text": [
      "Epoch [93/300], Step [219/219], Loss: 1.2816, Accuracy: 0.5456\n",
      "Accuracy of the network: 0.49733333333333335 Loss: 1.4271472109125016\n"
     ]
    },
    {
     "name": "stderr",
     "output_type": "stream",
     "text": [
      "100%|██████████| 219/219 [00:51<00:00,  4.26it/s]\n"
     ]
    },
    {
     "name": "stdout",
     "output_type": "stream",
     "text": [
      "Epoch [94/300], Step [219/219], Loss: 1.2614, Accuracy: 0.5581\n",
      "Accuracy of the network: 0.49 Loss: 1.4490528309598882\n"
     ]
    },
    {
     "name": "stderr",
     "output_type": "stream",
     "text": [
      "100%|██████████| 219/219 [00:49<00:00,  4.39it/s]\n"
     ]
    },
    {
     "name": "stdout",
     "output_type": "stream",
     "text": [
      "Epoch [95/300], Step [219/219], Loss: 1.2788, Accuracy: 0.5521\n",
      "Accuracy of the network: 0.49766666666666665 Loss: 1.4331369349297056\n"
     ]
    },
    {
     "name": "stderr",
     "output_type": "stream",
     "text": [
      "100%|██████████| 219/219 [00:51<00:00,  4.27it/s]\n"
     ]
    },
    {
     "name": "stdout",
     "output_type": "stream",
     "text": [
      "Epoch [96/300], Step [219/219], Loss: 1.2598, Accuracy: 0.5574\n",
      "Accuracy of the network: 0.49366666666666664 Loss: 1.4414362488908972\n"
     ]
    },
    {
     "name": "stderr",
     "output_type": "stream",
     "text": [
      "100%|██████████| 219/219 [00:51<00:00,  4.27it/s]\n"
     ]
    },
    {
     "name": "stdout",
     "output_type": "stream",
     "text": [
      "Epoch [97/300], Step [219/219], Loss: 1.2447, Accuracy: 0.5576\n",
      "Accuracy of the network: 0.48933333333333334 Loss: 1.439702053019341\n"
     ]
    },
    {
     "name": "stderr",
     "output_type": "stream",
     "text": [
      "100%|██████████| 219/219 [00:51<00:00,  4.25it/s]\n"
     ]
    },
    {
     "name": "stdout",
     "output_type": "stream",
     "text": [
      "Epoch [98/300], Step [219/219], Loss: 1.2587, Accuracy: 0.5574\n",
      "Accuracy of the network: 0.48933333333333334 Loss: 1.4352880830460406\n"
     ]
    },
    {
     "name": "stderr",
     "output_type": "stream",
     "text": [
      "100%|██████████| 219/219 [00:54<00:00,  4.04it/s]\n"
     ]
    },
    {
     "name": "stdout",
     "output_type": "stream",
     "text": [
      "Epoch [99/300], Step [219/219], Loss: 1.2449, Accuracy: 0.5640\n",
      "Accuracy of the network: 0.5 Loss: 1.429468221486883\n"
     ]
    },
    {
     "name": "stderr",
     "output_type": "stream",
     "text": [
      "100%|██████████| 219/219 [00:52<00:00,  4.18it/s]\n"
     ]
    },
    {
     "name": "stdout",
     "output_type": "stream",
     "text": [
      "Epoch [100/300], Step [219/219], Loss: 1.2496, Accuracy: 0.5597\n",
      "Accuracy of the network: 0.492 Loss: 1.4525180763386665\n"
     ]
    },
    {
     "name": "stderr",
     "output_type": "stream",
     "text": [
      "100%|██████████| 219/219 [00:52<00:00,  4.14it/s]\n"
     ]
    },
    {
     "name": "stdout",
     "output_type": "stream",
     "text": [
      "Epoch [101/300], Step [219/219], Loss: 1.2509, Accuracy: 0.5553\n",
      "Accuracy of the network: 0.487 Loss: 1.4363599229366222\n"
     ]
    },
    {
     "name": "stderr",
     "output_type": "stream",
     "text": [
      "100%|██████████| 219/219 [00:53<00:00,  4.08it/s]\n"
     ]
    },
    {
     "name": "stdout",
     "output_type": "stream",
     "text": [
      "Epoch [102/300], Step [219/219], Loss: 1.2300, Accuracy: 0.5659\n",
      "Accuracy of the network: 0.489 Loss: 1.4533291281537806\n"
     ]
    },
    {
     "name": "stderr",
     "output_type": "stream",
     "text": [
      "100%|██████████| 219/219 [00:52<00:00,  4.15it/s]\n"
     ]
    },
    {
     "name": "stdout",
     "output_type": "stream",
     "text": [
      "Epoch [103/300], Step [219/219], Loss: 1.2447, Accuracy: 0.5637\n",
      "Accuracy of the network: 0.503 Loss: 1.4161328242180196\n"
     ]
    },
    {
     "name": "stderr",
     "output_type": "stream",
     "text": [
      "100%|██████████| 219/219 [00:52<00:00,  4.16it/s]\n"
     ]
    },
    {
     "name": "stdout",
     "output_type": "stream",
     "text": [
      "Epoch [104/300], Step [219/219], Loss: 1.2362, Accuracy: 0.5660\n",
      "Accuracy of the network: 0.5103333333333333 Loss: 1.4095839889759714\n"
     ]
    },
    {
     "name": "stderr",
     "output_type": "stream",
     "text": [
      "100%|██████████| 219/219 [00:52<00:00,  4.20it/s]\n"
     ]
    },
    {
     "name": "stdout",
     "output_type": "stream",
     "text": [
      "Epoch [105/300], Step [219/219], Loss: 1.2313, Accuracy: 0.5663\n",
      "Accuracy of the network: 0.5056666666666667 Loss: 1.4195603690248855\n"
     ]
    },
    {
     "name": "stderr",
     "output_type": "stream",
     "text": [
      "100%|██████████| 219/219 [00:51<00:00,  4.22it/s]\n"
     ]
    },
    {
     "name": "stdout",
     "output_type": "stream",
     "text": [
      "Epoch [106/300], Step [219/219], Loss: 1.2339, Accuracy: 0.5590\n",
      "Accuracy of the network: 0.509 Loss: 1.4154189977240055\n"
     ]
    },
    {
     "name": "stderr",
     "output_type": "stream",
     "text": [
      "100%|██████████| 219/219 [00:54<00:00,  4.03it/s]\n"
     ]
    },
    {
     "name": "stdout",
     "output_type": "stream",
     "text": [
      "Epoch [107/300], Step [219/219], Loss: 1.2247, Accuracy: 0.5680\n",
      "Accuracy of the network: 0.49766666666666665 Loss: 1.4159692246863183\n"
     ]
    },
    {
     "name": "stderr",
     "output_type": "stream",
     "text": [
      "100%|██████████| 219/219 [00:53<00:00,  4.12it/s]\n"
     ]
    },
    {
     "name": "stdout",
     "output_type": "stream",
     "text": [
      "Epoch [108/300], Step [219/219], Loss: 1.2197, Accuracy: 0.5706\n",
      "Accuracy of the network: 0.5056666666666667 Loss: 1.4133278917759022\n"
     ]
    },
    {
     "name": "stderr",
     "output_type": "stream",
     "text": [
      "100%|██████████| 219/219 [00:53<00:00,  4.08it/s]\n"
     ]
    },
    {
     "name": "stdout",
     "output_type": "stream",
     "text": [
      "Epoch [109/300], Step [219/219], Loss: 1.2121, Accuracy: 0.5737\n",
      "Accuracy of the network: 0.49966666666666665 Loss: 1.423821156329297\n"
     ]
    },
    {
     "name": "stderr",
     "output_type": "stream",
     "text": [
      "100%|██████████| 219/219 [00:52<00:00,  4.17it/s]\n"
     ]
    },
    {
     "name": "stdout",
     "output_type": "stream",
     "text": [
      "Epoch [110/300], Step [219/219], Loss: 1.2185, Accuracy: 0.5683\n",
      "Accuracy of the network: 0.506 Loss: 1.422244834773084\n"
     ]
    },
    {
     "name": "stderr",
     "output_type": "stream",
     "text": [
      "100%|██████████| 219/219 [00:53<00:00,  4.11it/s]\n"
     ]
    },
    {
     "name": "stdout",
     "output_type": "stream",
     "text": [
      "Epoch [111/300], Step [219/219], Loss: 1.2115, Accuracy: 0.5750\n",
      "Accuracy of the network: 0.503 Loss: 1.4073330392228796\n"
     ]
    },
    {
     "name": "stderr",
     "output_type": "stream",
     "text": [
      "100%|██████████| 219/219 [00:52<00:00,  4.21it/s]\n"
     ]
    },
    {
     "name": "stdout",
     "output_type": "stream",
     "text": [
      "Epoch [112/300], Step [219/219], Loss: 1.2150, Accuracy: 0.5696\n",
      "Accuracy of the network: 0.512 Loss: 1.4192633742981768\n"
     ]
    },
    {
     "name": "stderr",
     "output_type": "stream",
     "text": [
      "100%|██████████| 219/219 [00:51<00:00,  4.21it/s]\n"
     ]
    },
    {
     "name": "stdout",
     "output_type": "stream",
     "text": [
      "Epoch [113/300], Step [219/219], Loss: 1.2074, Accuracy: 0.5743\n",
      "Accuracy of the network: 0.512 Loss: 1.4043834786465828\n"
     ]
    },
    {
     "name": "stderr",
     "output_type": "stream",
     "text": [
      "100%|██████████| 219/219 [00:51<00:00,  4.23it/s]\n"
     ]
    },
    {
     "name": "stdout",
     "output_type": "stream",
     "text": [
      "Epoch [114/300], Step [219/219], Loss: 1.1974, Accuracy: 0.5800\n",
      "Accuracy of the network: 0.5053333333333333 Loss: 1.4210228102004274\n"
     ]
    },
    {
     "name": "stderr",
     "output_type": "stream",
     "text": [
      "100%|██████████| 219/219 [00:52<00:00,  4.18it/s]\n"
     ]
    },
    {
     "name": "stdout",
     "output_type": "stream",
     "text": [
      "Epoch [115/300], Step [219/219], Loss: 1.2099, Accuracy: 0.5749\n",
      "Accuracy of the network: 0.5066666666666667 Loss: 1.4076731236691171\n"
     ]
    },
    {
     "name": "stderr",
     "output_type": "stream",
     "text": [
      "100%|██████████| 219/219 [00:52<00:00,  4.19it/s]\n"
     ]
    },
    {
     "name": "stdout",
     "output_type": "stream",
     "text": [
      "Epoch [116/300], Step [219/219], Loss: 1.2037, Accuracy: 0.5779\n",
      "Accuracy of the network: 0.5036666666666667 Loss: 1.4118574458233855\n"
     ]
    },
    {
     "name": "stderr",
     "output_type": "stream",
     "text": [
      "100%|██████████| 219/219 [00:54<00:00,  4.03it/s]\n"
     ]
    },
    {
     "name": "stdout",
     "output_type": "stream",
     "text": [
      "Epoch [117/300], Step [219/219], Loss: 1.2051, Accuracy: 0.5749\n",
      "Accuracy of the network: 0.504 Loss: 1.4104297757148743\n"
     ]
    },
    {
     "name": "stderr",
     "output_type": "stream",
     "text": [
      "100%|██████████| 219/219 [00:53<00:00,  4.09it/s]\n"
     ]
    },
    {
     "name": "stdout",
     "output_type": "stream",
     "text": [
      "Epoch [118/300], Step [219/219], Loss: 1.1968, Accuracy: 0.5734\n",
      "Accuracy of the network: 0.512 Loss: 1.3996101237357932\n"
     ]
    },
    {
     "name": "stderr",
     "output_type": "stream",
     "text": [
      "100%|██████████| 219/219 [00:53<00:00,  4.06it/s]\n"
     ]
    },
    {
     "name": "stdout",
     "output_type": "stream",
     "text": [
      "Epoch [119/300], Step [219/219], Loss: 1.2134, Accuracy: 0.5761\n",
      "Accuracy of the network: 0.5076666666666667 Loss: 1.4015746300524854\n"
     ]
    },
    {
     "name": "stderr",
     "output_type": "stream",
     "text": [
      "100%|██████████| 219/219 [00:52<00:00,  4.16it/s]\n"
     ]
    },
    {
     "name": "stdout",
     "output_type": "stream",
     "text": [
      "Epoch [120/300], Step [219/219], Loss: 1.1990, Accuracy: 0.5800\n",
      "Accuracy of the network: 0.5156666666666667 Loss: 1.4066342064674864\n"
     ]
    },
    {
     "name": "stderr",
     "output_type": "stream",
     "text": [
      "100%|██████████| 219/219 [00:53<00:00,  4.11it/s]\n"
     ]
    },
    {
     "name": "stdout",
     "output_type": "stream",
     "text": [
      "Epoch [121/300], Step [219/219], Loss: 1.1983, Accuracy: 0.5779\n",
      "Accuracy of the network: 0.504 Loss: 1.3922570639468255\n"
     ]
    },
    {
     "name": "stderr",
     "output_type": "stream",
     "text": [
      "100%|██████████| 219/219 [00:53<00:00,  4.07it/s]\n"
     ]
    },
    {
     "name": "stdout",
     "output_type": "stream",
     "text": [
      "Epoch [122/300], Step [219/219], Loss: 1.1951, Accuracy: 0.5771\n",
      "Accuracy of the network: 0.5073333333333333 Loss: 1.4047454582883956\n"
     ]
    },
    {
     "name": "stderr",
     "output_type": "stream",
     "text": [
      "100%|██████████| 219/219 [00:53<00:00,  4.11it/s]\n"
     ]
    },
    {
     "name": "stdout",
     "output_type": "stream",
     "text": [
      "Epoch [123/300], Step [219/219], Loss: 1.1788, Accuracy: 0.5860\n",
      "Accuracy of the network: 0.5093333333333333 Loss: 1.4096721956070433\n"
     ]
    },
    {
     "name": "stderr",
     "output_type": "stream",
     "text": [
      "100%|██████████| 219/219 [00:52<00:00,  4.16it/s]\n"
     ]
    },
    {
     "name": "stdout",
     "output_type": "stream",
     "text": [
      "Epoch [124/300], Step [219/219], Loss: 1.1882, Accuracy: 0.5783\n",
      "Accuracy of the network: 0.5026666666666667 Loss: 1.3930634913292337\n"
     ]
    },
    {
     "name": "stderr",
     "output_type": "stream",
     "text": [
      "100%|██████████| 219/219 [00:51<00:00,  4.21it/s]\n"
     ]
    },
    {
     "name": "stdout",
     "output_type": "stream",
     "text": [
      "Epoch [125/300], Step [219/219], Loss: 1.1778, Accuracy: 0.5847\n",
      "Accuracy of the network: 0.5083333333333333 Loss: 1.4155271300610075\n"
     ]
    },
    {
     "name": "stderr",
     "output_type": "stream",
     "text": [
      "100%|██████████| 219/219 [00:52<00:00,  4.21it/s]\n"
     ]
    },
    {
     "name": "stdout",
     "output_type": "stream",
     "text": [
      "Epoch [126/300], Step [219/219], Loss: 1.1896, Accuracy: 0.5767\n",
      "Accuracy of the network: 0.5116666666666667 Loss: 1.389078712209742\n"
     ]
    },
    {
     "name": "stderr",
     "output_type": "stream",
     "text": [
      "100%|██████████| 219/219 [00:52<00:00,  4.19it/s]\n"
     ]
    },
    {
     "name": "stdout",
     "output_type": "stream",
     "text": [
      "Epoch [127/300], Step [219/219], Loss: 1.1765, Accuracy: 0.5886\n",
      "Accuracy of the network: 0.5166666666666667 Loss: 1.4018308938817774\n"
     ]
    },
    {
     "name": "stderr",
     "output_type": "stream",
     "text": [
      "100%|██████████| 219/219 [00:51<00:00,  4.21it/s]\n"
     ]
    },
    {
     "name": "stdout",
     "output_type": "stream",
     "text": [
      "Epoch [128/300], Step [219/219], Loss: 1.1798, Accuracy: 0.5846\n",
      "Accuracy of the network: 0.514 Loss: 1.387072964551601\n"
     ]
    },
    {
     "name": "stderr",
     "output_type": "stream",
     "text": [
      "100%|██████████| 219/219 [00:51<00:00,  4.21it/s]\n"
     ]
    },
    {
     "name": "stdout",
     "output_type": "stream",
     "text": [
      "Epoch [129/300], Step [219/219], Loss: 1.1749, Accuracy: 0.5889\n",
      "Accuracy of the network: 0.5083333333333333 Loss: 1.38438728515138\n"
     ]
    },
    {
     "name": "stderr",
     "output_type": "stream",
     "text": [
      "100%|██████████| 219/219 [00:52<00:00,  4.19it/s]\n"
     ]
    },
    {
     "name": "stdout",
     "output_type": "stream",
     "text": [
      "Epoch [130/300], Step [219/219], Loss: 1.1687, Accuracy: 0.5873\n",
      "Accuracy of the network: 0.5186666666666667 Loss: 1.3949761904300528\n"
     ]
    },
    {
     "name": "stderr",
     "output_type": "stream",
     "text": [
      "100%|██████████| 219/219 [00:52<00:00,  4.20it/s]\n"
     ]
    },
    {
     "name": "stdout",
     "output_type": "stream",
     "text": [
      "Epoch [131/300], Step [219/219], Loss: 1.1828, Accuracy: 0.5826\n",
      "Accuracy of the network: 0.5066666666666667 Loss: 1.402102640334596\n"
     ]
    },
    {
     "name": "stderr",
     "output_type": "stream",
     "text": [
      "100%|██████████| 219/219 [00:52<00:00,  4.19it/s]\n"
     ]
    },
    {
     "name": "stdout",
     "output_type": "stream",
     "text": [
      "Epoch [132/300], Step [219/219], Loss: 1.1695, Accuracy: 0.5907\n",
      "Accuracy of the network: 0.5166666666666667 Loss: 1.3972598054307572\n"
     ]
    },
    {
     "name": "stderr",
     "output_type": "stream",
     "text": [
      "100%|██████████| 219/219 [00:51<00:00,  4.21it/s]\n"
     ]
    },
    {
     "name": "stdout",
     "output_type": "stream",
     "text": [
      "Epoch [133/300], Step [219/219], Loss: 1.1732, Accuracy: 0.5929\n",
      "Accuracy of the network: 0.5183333333333333 Loss: 1.3917046062489773\n"
     ]
    },
    {
     "name": "stderr",
     "output_type": "stream",
     "text": [
      "100%|██████████| 219/219 [00:51<00:00,  4.24it/s]\n"
     ]
    },
    {
     "name": "stdout",
     "output_type": "stream",
     "text": [
      "Epoch [134/300], Step [219/219], Loss: 1.1698, Accuracy: 0.5839\n",
      "Accuracy of the network: 0.5073333333333333 Loss: 1.3963246009451278\n"
     ]
    },
    {
     "name": "stderr",
     "output_type": "stream",
     "text": [
      "100%|██████████| 219/219 [00:51<00:00,  4.27it/s]\n"
     ]
    },
    {
     "name": "stdout",
     "output_type": "stream",
     "text": [
      "Epoch [135/300], Step [219/219], Loss: 1.1702, Accuracy: 0.5864\n",
      "Accuracy of the network: 0.5086666666666667 Loss: 1.3941096092792267\n"
     ]
    },
    {
     "name": "stderr",
     "output_type": "stream",
     "text": [
      "100%|██████████| 219/219 [00:51<00:00,  4.29it/s]\n"
     ]
    },
    {
     "name": "stdout",
     "output_type": "stream",
     "text": [
      "Epoch [136/300], Step [219/219], Loss: 1.1666, Accuracy: 0.5903\n",
      "Accuracy of the network: 0.521 Loss: 1.400245301266934\n"
     ]
    },
    {
     "name": "stderr",
     "output_type": "stream",
     "text": [
      "100%|██████████| 219/219 [00:51<00:00,  4.29it/s]\n"
     ]
    },
    {
     "name": "stdout",
     "output_type": "stream",
     "text": [
      "Epoch [137/300], Step [219/219], Loss: 1.1654, Accuracy: 0.5924\n",
      "Accuracy of the network: 0.52 Loss: 1.397652473221434\n"
     ]
    },
    {
     "name": "stderr",
     "output_type": "stream",
     "text": [
      "100%|██████████| 219/219 [00:51<00:00,  4.28it/s]\n"
     ]
    },
    {
     "name": "stdout",
     "output_type": "stream",
     "text": [
      "Epoch [138/300], Step [219/219], Loss: 1.1518, Accuracy: 0.5916\n",
      "Accuracy of the network: 0.508 Loss: 1.384448378009999\n"
     ]
    },
    {
     "name": "stderr",
     "output_type": "stream",
     "text": [
      "100%|██████████| 219/219 [00:51<00:00,  4.25it/s]\n"
     ]
    },
    {
     "name": "stdout",
     "output_type": "stream",
     "text": [
      "Epoch [139/300], Step [219/219], Loss: 1.1609, Accuracy: 0.5946\n",
      "Accuracy of the network: 0.5136666666666667 Loss: 1.3807781662078613\n"
     ]
    },
    {
     "name": "stderr",
     "output_type": "stream",
     "text": [
      "100%|██████████| 219/219 [00:52<00:00,  4.19it/s]\n"
     ]
    },
    {
     "name": "stdout",
     "output_type": "stream",
     "text": [
      "Epoch [140/300], Step [219/219], Loss: 1.1579, Accuracy: 0.5933\n",
      "Accuracy of the network: 0.511 Loss: 1.3984077369913142\n"
     ]
    },
    {
     "name": "stderr",
     "output_type": "stream",
     "text": [
      "100%|██████████| 219/219 [00:52<00:00,  4.16it/s]\n"
     ]
    },
    {
     "name": "stdout",
     "output_type": "stream",
     "text": [
      "Epoch [141/300], Step [219/219], Loss: 1.1673, Accuracy: 0.5876\n",
      "Accuracy of the network: 0.5056666666666667 Loss: 1.4040979349866827\n"
     ]
    },
    {
     "name": "stderr",
     "output_type": "stream",
     "text": [
      "100%|██████████| 219/219 [00:51<00:00,  4.22it/s]\n"
     ]
    },
    {
     "name": "stdout",
     "output_type": "stream",
     "text": [
      "Epoch [142/300], Step [219/219], Loss: 1.1633, Accuracy: 0.5904\n",
      "Accuracy of the network: 0.509 Loss: 1.387160060887641\n"
     ]
    },
    {
     "name": "stderr",
     "output_type": "stream",
     "text": [
      "100%|██████████| 219/219 [00:52<00:00,  4.20it/s]\n"
     ]
    },
    {
     "name": "stdout",
     "output_type": "stream",
     "text": [
      "Epoch [143/300], Step [219/219], Loss: 1.1630, Accuracy: 0.5897\n",
      "Accuracy of the network: 0.5163333333333333 Loss: 1.377385696198078\n"
     ]
    },
    {
     "name": "stderr",
     "output_type": "stream",
     "text": [
      "100%|██████████| 219/219 [00:52<00:00,  4.17it/s]\n"
     ]
    },
    {
     "name": "stdout",
     "output_type": "stream",
     "text": [
      "Epoch [144/300], Step [219/219], Loss: 1.1636, Accuracy: 0.5943\n",
      "Accuracy of the network: 0.506 Loss: 1.3983506300347917\n"
     ]
    },
    {
     "name": "stderr",
     "output_type": "stream",
     "text": [
      "100%|██████████| 219/219 [00:52<00:00,  4.17it/s]\n"
     ]
    },
    {
     "name": "stdout",
     "output_type": "stream",
     "text": [
      "Epoch [145/300], Step [219/219], Loss: 1.1630, Accuracy: 0.5849\n",
      "Accuracy of the network: 0.5146666666666667 Loss: 1.3928799033164978\n"
     ]
    },
    {
     "name": "stderr",
     "output_type": "stream",
     "text": [
      "100%|██████████| 219/219 [00:52<00:00,  4.21it/s]\n"
     ]
    },
    {
     "name": "stdout",
     "output_type": "stream",
     "text": [
      "Epoch [146/300], Step [219/219], Loss: 1.1641, Accuracy: 0.5904\n",
      "Accuracy of the network: 0.5016666666666667 Loss: 1.4043594319769677\n"
     ]
    },
    {
     "name": "stderr",
     "output_type": "stream",
     "text": [
      "100%|██████████| 219/219 [00:52<00:00,  4.20it/s]\n"
     ]
    },
    {
     "name": "stdout",
     "output_type": "stream",
     "text": [
      "Epoch [147/300], Step [219/219], Loss: 1.1500, Accuracy: 0.5960\n",
      "Accuracy of the network: 0.5216666666666666 Loss: 1.3905071920536933\n"
     ]
    },
    {
     "name": "stderr",
     "output_type": "stream",
     "text": [
      "100%|██████████| 219/219 [00:51<00:00,  4.25it/s]\n"
     ]
    },
    {
     "name": "stdout",
     "output_type": "stream",
     "text": [
      "Epoch [148/300], Step [219/219], Loss: 1.1477, Accuracy: 0.5963\n",
      "Accuracy of the network: 0.513 Loss: 1.4164713386525498\n"
     ]
    },
    {
     "name": "stderr",
     "output_type": "stream",
     "text": [
      "100%|██████████| 219/219 [00:51<00:00,  4.24it/s]\n"
     ]
    },
    {
     "name": "stdout",
     "output_type": "stream",
     "text": [
      "Epoch [149/300], Step [219/219], Loss: 1.1563, Accuracy: 0.5954\n",
      "Accuracy of the network: 0.5173333333333333 Loss: 1.3929380229178896\n"
     ]
    },
    {
     "name": "stderr",
     "output_type": "stream",
     "text": [
      "100%|██████████| 219/219 [00:51<00:00,  4.22it/s]\n"
     ]
    },
    {
     "name": "stdout",
     "output_type": "stream",
     "text": [
      "Epoch [150/300], Step [219/219], Loss: 1.1591, Accuracy: 0.5904\n",
      "Accuracy of the network: 0.5183333333333333 Loss: 1.3922537165753386\n"
     ]
    },
    {
     "name": "stderr",
     "output_type": "stream",
     "text": [
      "100%|██████████| 219/219 [00:51<00:00,  4.21it/s]\n"
     ]
    },
    {
     "name": "stdout",
     "output_type": "stream",
     "text": [
      "Epoch [151/300], Step [219/219], Loss: 1.1600, Accuracy: 0.5899\n",
      "Accuracy of the network: 0.513 Loss: 1.3964210970604674\n"
     ]
    },
    {
     "name": "stderr",
     "output_type": "stream",
     "text": [
      "100%|██████████| 219/219 [00:51<00:00,  4.25it/s]\n"
     ]
    },
    {
     "name": "stdout",
     "output_type": "stream",
     "text": [
      "Epoch [152/300], Step [219/219], Loss: 1.1493, Accuracy: 0.5924\n",
      "Accuracy of the network: 0.5123333333333333 Loss: 1.4010379891446296\n"
     ]
    },
    {
     "name": "stderr",
     "output_type": "stream",
     "text": [
      "100%|██████████| 219/219 [00:50<00:00,  4.31it/s]\n"
     ]
    },
    {
     "name": "stdout",
     "output_type": "stream",
     "text": [
      "Epoch [153/300], Step [219/219], Loss: 1.1532, Accuracy: 0.5856\n",
      "Accuracy of the network: 0.5186666666666667 Loss: 1.4013396140108718\n"
     ]
    },
    {
     "name": "stderr",
     "output_type": "stream",
     "text": [
      "100%|██████████| 219/219 [00:51<00:00,  4.21it/s]\n"
     ]
    },
    {
     "name": "stdout",
     "output_type": "stream",
     "text": [
      "Epoch [154/300], Step [219/219], Loss: 1.1508, Accuracy: 0.5941\n",
      "Accuracy of the network: 0.521 Loss: 1.3801069018688608\n"
     ]
    },
    {
     "name": "stderr",
     "output_type": "stream",
     "text": [
      "100%|██████████| 219/219 [00:52<00:00,  4.17it/s]\n"
     ]
    },
    {
     "name": "stdout",
     "output_type": "stream",
     "text": [
      "Epoch [155/300], Step [219/219], Loss: 1.1510, Accuracy: 0.5969\n",
      "Accuracy of the network: 0.5236666666666666 Loss: 1.397178684777402\n"
     ]
    },
    {
     "name": "stderr",
     "output_type": "stream",
     "text": [
      "100%|██████████| 219/219 [00:51<00:00,  4.27it/s]\n"
     ]
    },
    {
     "name": "stdout",
     "output_type": "stream",
     "text": [
      "Epoch [156/300], Step [219/219], Loss: 1.1539, Accuracy: 0.5984\n",
      "Accuracy of the network: 0.5203333333333333 Loss: 1.3937262074744448\n"
     ]
    },
    {
     "name": "stderr",
     "output_type": "stream",
     "text": [
      "100%|██████████| 219/219 [00:52<00:00,  4.18it/s]\n"
     ]
    },
    {
     "name": "stdout",
     "output_type": "stream",
     "text": [
      "Epoch [157/300], Step [219/219], Loss: 1.1490, Accuracy: 0.5969\n",
      "Accuracy of the network: 0.5066666666666667 Loss: 1.39329505664237\n"
     ]
    },
    {
     "name": "stderr",
     "output_type": "stream",
     "text": [
      "100%|██████████| 219/219 [00:50<00:00,  4.31it/s]\n"
     ]
    },
    {
     "name": "stdout",
     "output_type": "stream",
     "text": [
      "Epoch [158/300], Step [219/219], Loss: 1.1573, Accuracy: 0.5916\n",
      "Accuracy of the network: 0.506 Loss: 1.3960988927394786\n"
     ]
    },
    {
     "name": "stderr",
     "output_type": "stream",
     "text": [
      "100%|██████████| 219/219 [00:50<00:00,  4.33it/s]\n"
     ]
    },
    {
     "name": "stdout",
     "output_type": "stream",
     "text": [
      "Epoch [159/300], Step [219/219], Loss: 1.1482, Accuracy: 0.5997\n",
      "Accuracy of the network: 0.5146666666666667 Loss: 1.389489771203792\n"
     ]
    },
    {
     "name": "stderr",
     "output_type": "stream",
     "text": [
      "100%|██████████| 219/219 [00:50<00:00,  4.33it/s]\n"
     ]
    },
    {
     "name": "stdout",
     "output_type": "stream",
     "text": [
      "Epoch [160/300], Step [219/219], Loss: 1.1557, Accuracy: 0.5974\n",
      "Accuracy of the network: 0.5113333333333333 Loss: 1.3949095346826188\n"
     ]
    },
    {
     "name": "stderr",
     "output_type": "stream",
     "text": [
      "100%|██████████| 219/219 [00:50<00:00,  4.32it/s]\n"
     ]
    },
    {
     "name": "stdout",
     "output_type": "stream",
     "text": [
      "Epoch [161/300], Step [219/219], Loss: 1.1435, Accuracy: 0.6006\n",
      "Accuracy of the network: 0.5113333333333333 Loss: 1.3752742384342438\n"
     ]
    },
    {
     "name": "stderr",
     "output_type": "stream",
     "text": [
      "100%|██████████| 219/219 [00:51<00:00,  4.27it/s]\n"
     ]
    },
    {
     "name": "stdout",
     "output_type": "stream",
     "text": [
      "Epoch [162/300], Step [219/219], Loss: 1.1608, Accuracy: 0.5941\n",
      "Accuracy of the network: 0.5083333333333333 Loss: 1.4012396500465718\n"
     ]
    },
    {
     "name": "stderr",
     "output_type": "stream",
     "text": [
      "100%|██████████| 219/219 [00:51<00:00,  4.27it/s]\n"
     ]
    },
    {
     "name": "stdout",
     "output_type": "stream",
     "text": [
      "Epoch [163/300], Step [219/219], Loss: 1.1527, Accuracy: 0.5924\n",
      "Accuracy of the network: 0.5136666666666667 Loss: 1.3889375240244763\n"
     ]
    },
    {
     "name": "stderr",
     "output_type": "stream",
     "text": [
      "100%|██████████| 219/219 [00:50<00:00,  4.32it/s]\n"
     ]
    },
    {
     "name": "stdout",
     "output_type": "stream",
     "text": [
      "Epoch [164/300], Step [219/219], Loss: 1.1411, Accuracy: 0.6077\n",
      "Accuracy of the network: 0.5153333333333333 Loss: 1.3919752132385335\n"
     ]
    },
    {
     "name": "stderr",
     "output_type": "stream",
     "text": [
      "100%|██████████| 219/219 [00:50<00:00,  4.33it/s]\n"
     ]
    },
    {
     "name": "stdout",
     "output_type": "stream",
     "text": [
      "Epoch [165/300], Step [219/219], Loss: 1.1554, Accuracy: 0.5926\n",
      "Accuracy of the network: 0.51 Loss: 1.3981709721240592\n"
     ]
    },
    {
     "name": "stderr",
     "output_type": "stream",
     "text": [
      "100%|██████████| 219/219 [00:50<00:00,  4.33it/s]\n"
     ]
    },
    {
     "name": "stdout",
     "output_type": "stream",
     "text": [
      "Epoch [166/300], Step [219/219], Loss: 1.1446, Accuracy: 0.6000\n",
      "Accuracy of the network: 0.5163333333333333 Loss: 1.3961944751282955\n"
     ]
    },
    {
     "name": "stderr",
     "output_type": "stream",
     "text": [
      "100%|██████████| 219/219 [00:50<00:00,  4.32it/s]\n"
     ]
    },
    {
     "name": "stdout",
     "output_type": "stream",
     "text": [
      "Epoch [167/300], Step [219/219], Loss: 1.1427, Accuracy: 0.5977\n",
      "Accuracy of the network: 0.5153333333333333 Loss: 1.392522873396569\n"
     ]
    },
    {
     "name": "stderr",
     "output_type": "stream",
     "text": [
      "100%|██████████| 219/219 [00:50<00:00,  4.31it/s]\n"
     ]
    },
    {
     "name": "stdout",
     "output_type": "stream",
     "text": [
      "Epoch [168/300], Step [219/219], Loss: 1.1571, Accuracy: 0.5901\n",
      "Accuracy of the network: 0.518 Loss: 1.3962679892144305\n"
     ]
    },
    {
     "name": "stderr",
     "output_type": "stream",
     "text": [
      "100%|██████████| 219/219 [00:50<00:00,  4.32it/s]\n"
     ]
    },
    {
     "name": "stdout",
     "output_type": "stream",
     "text": [
      "Epoch [169/300], Step [219/219], Loss: 1.1517, Accuracy: 0.5956\n",
      "Accuracy of the network: 0.5096666666666667 Loss: 1.396909328217202\n"
     ]
    },
    {
     "name": "stderr",
     "output_type": "stream",
     "text": [
      "100%|██████████| 219/219 [00:50<00:00,  4.33it/s]\n"
     ]
    },
    {
     "name": "stdout",
     "output_type": "stream",
     "text": [
      "Epoch [170/300], Step [219/219], Loss: 1.1488, Accuracy: 0.6036\n",
      "Accuracy of the network: 0.51 Loss: 1.3898011484044663\n"
     ]
    },
    {
     "name": "stderr",
     "output_type": "stream",
     "text": [
      "100%|██████████| 219/219 [00:50<00:00,  4.34it/s]\n"
     ]
    },
    {
     "name": "stdout",
     "output_type": "stream",
     "text": [
      "Epoch [171/300], Step [219/219], Loss: 1.1579, Accuracy: 0.5949\n",
      "Accuracy of the network: 0.5196666666666667 Loss: 1.392199178325369\n"
     ]
    },
    {
     "name": "stderr",
     "output_type": "stream",
     "text": [
      "100%|██████████| 219/219 [00:50<00:00,  4.32it/s]\n"
     ]
    },
    {
     "name": "stdout",
     "output_type": "stream",
     "text": [
      "Epoch [172/300], Step [219/219], Loss: 1.1493, Accuracy: 0.5984\n",
      "Accuracy of the network: 0.506 Loss: 1.4043904638036768\n"
     ]
    },
    {
     "name": "stderr",
     "output_type": "stream",
     "text": [
      "100%|██████████| 219/219 [00:50<00:00,  4.33it/s]\n"
     ]
    },
    {
     "name": "stdout",
     "output_type": "stream",
     "text": [
      "Epoch [173/300], Step [219/219], Loss: 1.1435, Accuracy: 0.6021\n",
      "Accuracy of the network: 0.51 Loss: 1.3955528691728065\n"
     ]
    },
    {
     "name": "stderr",
     "output_type": "stream",
     "text": [
      "100%|██████████| 219/219 [00:51<00:00,  4.22it/s]\n"
     ]
    },
    {
     "name": "stdout",
     "output_type": "stream",
     "text": [
      "Epoch [174/300], Step [219/219], Loss: 1.1402, Accuracy: 0.5997\n",
      "Accuracy of the network: 0.5086666666666667 Loss: 1.3958717077336413\n"
     ]
    },
    {
     "name": "stderr",
     "output_type": "stream",
     "text": [
      "100%|██████████| 219/219 [00:50<00:00,  4.33it/s]\n"
     ]
    },
    {
     "name": "stdout",
     "output_type": "stream",
     "text": [
      "Epoch [175/300], Step [219/219], Loss: 1.1398, Accuracy: 0.6049\n",
      "Accuracy of the network: 0.5153333333333333 Loss: 1.3797672048528145\n"
     ]
    },
    {
     "name": "stderr",
     "output_type": "stream",
     "text": [
      "100%|██████████| 219/219 [00:50<00:00,  4.32it/s]\n"
     ]
    },
    {
     "name": "stdout",
     "output_type": "stream",
     "text": [
      "Epoch [176/300], Step [219/219], Loss: 1.1450, Accuracy: 0.6044\n",
      "Accuracy of the network: 0.509 Loss: 1.396269587760276\n"
     ]
    },
    {
     "name": "stderr",
     "output_type": "stream",
     "text": [
      "100%|██████████| 219/219 [00:50<00:00,  4.33it/s]\n"
     ]
    },
    {
     "name": "stdout",
     "output_type": "stream",
     "text": [
      "Epoch [177/300], Step [219/219], Loss: 1.1575, Accuracy: 0.5937\n",
      "Accuracy of the network: 0.5126666666666667 Loss: 1.3998994408769811\n"
     ]
    },
    {
     "name": "stderr",
     "output_type": "stream",
     "text": [
      "100%|██████████| 219/219 [00:50<00:00,  4.34it/s]\n"
     ]
    },
    {
     "name": "stdout",
     "output_type": "stream",
     "text": [
      "Epoch [178/300], Step [219/219], Loss: 1.1482, Accuracy: 0.5947\n",
      "Accuracy of the network: 0.5013333333333333 Loss: 1.3998340862862608\n"
     ]
    },
    {
     "name": "stderr",
     "output_type": "stream",
     "text": [
      "100%|██████████| 219/219 [00:50<00:00,  4.32it/s]\n"
     ]
    },
    {
     "name": "stdout",
     "output_type": "stream",
     "text": [
      "Epoch [179/300], Step [219/219], Loss: 1.1432, Accuracy: 0.6001\n",
      "Accuracy of the network: 0.5183333333333333 Loss: 1.3881511421913797\n"
     ]
    },
    {
     "name": "stderr",
     "output_type": "stream",
     "text": [
      "100%|██████████| 219/219 [00:50<00:00,  4.32it/s]\n"
     ]
    },
    {
     "name": "stdout",
     "output_type": "stream",
     "text": [
      "Epoch [180/300], Step [219/219], Loss: 1.1441, Accuracy: 0.5999\n",
      "Accuracy of the network: 0.5133333333333333 Loss: 1.3919874867226214\n"
     ]
    },
    {
     "name": "stderr",
     "output_type": "stream",
     "text": [
      "100%|██████████| 219/219 [00:50<00:00,  4.33it/s]\n"
     ]
    },
    {
     "name": "stdout",
     "output_type": "stream",
     "text": [
      "Epoch [181/300], Step [219/219], Loss: 1.1430, Accuracy: 0.5963\n",
      "Accuracy of the network: 0.5166666666666667 Loss: 1.391470732206994\n"
     ]
    },
    {
     "name": "stderr",
     "output_type": "stream",
     "text": [
      "100%|██████████| 219/219 [00:50<00:00,  4.33it/s]\n"
     ]
    },
    {
     "name": "stdout",
     "output_type": "stream",
     "text": [
      "Epoch [182/300], Step [219/219], Loss: 1.1499, Accuracy: 0.6010\n",
      "Accuracy of the network: 0.517 Loss: 1.3854199571812407\n"
     ]
    },
    {
     "name": "stderr",
     "output_type": "stream",
     "text": [
      "100%|██████████| 219/219 [00:50<00:00,  4.33it/s]\n"
     ]
    },
    {
     "name": "stdout",
     "output_type": "stream",
     "text": [
      "Epoch [183/300], Step [219/219], Loss: 1.1363, Accuracy: 0.5996\n",
      "Accuracy of the network: 0.5096666666666667 Loss: 1.3990932741063706\n"
     ]
    },
    {
     "name": "stderr",
     "output_type": "stream",
     "text": [
      "100%|██████████| 219/219 [00:50<00:00,  4.33it/s]\n"
     ]
    },
    {
     "name": "stdout",
     "output_type": "stream",
     "text": [
      "Epoch [184/300], Step [219/219], Loss: 1.1290, Accuracy: 0.6011\n",
      "Accuracy of the network: 0.5256666666666666 Loss: 1.3751501903889027\n"
     ]
    },
    {
     "name": "stderr",
     "output_type": "stream",
     "text": [
      "100%|██████████| 219/219 [00:51<00:00,  4.28it/s]\n"
     ]
    },
    {
     "name": "stdout",
     "output_type": "stream",
     "text": [
      "Epoch [185/300], Step [219/219], Loss: 1.1460, Accuracy: 0.5996\n",
      "Accuracy of the network: 0.516 Loss: 1.387073592936739\n"
     ]
    },
    {
     "name": "stderr",
     "output_type": "stream",
     "text": [
      "100%|██████████| 219/219 [00:50<00:00,  4.33it/s]\n"
     ]
    },
    {
     "name": "stdout",
     "output_type": "stream",
     "text": [
      "Epoch [186/300], Step [219/219], Loss: 1.1410, Accuracy: 0.6024\n",
      "Accuracy of the network: 0.509 Loss: 1.3896738214695707\n"
     ]
    },
    {
     "name": "stderr",
     "output_type": "stream",
     "text": [
      "100%|██████████| 219/219 [00:50<00:00,  4.33it/s]\n"
     ]
    },
    {
     "name": "stdout",
     "output_type": "stream",
     "text": [
      "Epoch [187/300], Step [219/219], Loss: 1.1401, Accuracy: 0.6040\n",
      "Accuracy of the network: 0.5093333333333333 Loss: 1.3884313867447224\n"
     ]
    },
    {
     "name": "stderr",
     "output_type": "stream",
     "text": [
      "100%|██████████| 219/219 [00:50<00:00,  4.31it/s]\n"
     ]
    },
    {
     "name": "stdout",
     "output_type": "stream",
     "text": [
      "Epoch [188/300], Step [219/219], Loss: 1.1528, Accuracy: 0.5920\n",
      "Accuracy of the network: 0.506 Loss: 1.4112393475593406\n"
     ]
    },
    {
     "name": "stderr",
     "output_type": "stream",
     "text": [
      "100%|██████████| 219/219 [00:50<00:00,  4.31it/s]\n"
     ]
    },
    {
     "name": "stdout",
     "output_type": "stream",
     "text": [
      "Epoch [189/300], Step [219/219], Loss: 1.1459, Accuracy: 0.5976\n",
      "Accuracy of the network: 0.5173333333333333 Loss: 1.388383911011067\n"
     ]
    },
    {
     "name": "stderr",
     "output_type": "stream",
     "text": [
      "100%|██████████| 219/219 [00:50<00:00,  4.32it/s]\n"
     ]
    },
    {
     "name": "stdout",
     "output_type": "stream",
     "text": [
      "Epoch [190/300], Step [219/219], Loss: 1.1377, Accuracy: 0.6004\n",
      "Accuracy of the network: 0.509 Loss: 1.4000473675575662\n"
     ]
    },
    {
     "name": "stderr",
     "output_type": "stream",
     "text": [
      "100%|██████████| 219/219 [00:50<00:00,  4.31it/s]\n"
     ]
    },
    {
     "name": "stdout",
     "output_type": "stream",
     "text": [
      "Epoch [191/300], Step [219/219], Loss: 1.1324, Accuracy: 0.6041\n",
      "Accuracy of the network: 0.5076666666666667 Loss: 1.3828068337541946\n"
     ]
    },
    {
     "name": "stderr",
     "output_type": "stream",
     "text": [
      "100%|██████████| 219/219 [00:50<00:00,  4.33it/s]\n"
     ]
    },
    {
     "name": "stdout",
     "output_type": "stream",
     "text": [
      "Epoch [192/300], Step [219/219], Loss: 1.1361, Accuracy: 0.5979\n",
      "Accuracy of the network: 0.5116666666666667 Loss: 1.3901200947609353\n"
     ]
    },
    {
     "name": "stderr",
     "output_type": "stream",
     "text": [
      "100%|██████████| 219/219 [00:50<00:00,  4.31it/s]\n"
     ]
    },
    {
     "name": "stdout",
     "output_type": "stream",
     "text": [
      "Epoch [193/300], Step [219/219], Loss: 1.1558, Accuracy: 0.5930\n",
      "Accuracy of the network: 0.5086666666666667 Loss: 1.4063095139696242\n"
     ]
    },
    {
     "name": "stderr",
     "output_type": "stream",
     "text": [
      "100%|██████████| 219/219 [00:50<00:00,  4.32it/s]\n"
     ]
    },
    {
     "name": "stdout",
     "output_type": "stream",
     "text": [
      "Epoch [194/300], Step [219/219], Loss: 1.1502, Accuracy: 0.5897\n",
      "Accuracy of the network: 0.5193333333333333 Loss: 1.391675647268904\n"
     ]
    },
    {
     "name": "stderr",
     "output_type": "stream",
     "text": [
      "100%|██████████| 219/219 [00:50<00:00,  4.32it/s]\n"
     ]
    },
    {
     "name": "stdout",
     "output_type": "stream",
     "text": [
      "Epoch [195/300], Step [219/219], Loss: 1.1453, Accuracy: 0.5974\n",
      "Accuracy of the network: 0.5116666666666667 Loss: 1.4013474938717294\n"
     ]
    },
    {
     "name": "stderr",
     "output_type": "stream",
     "text": [
      "100%|██████████| 219/219 [00:50<00:00,  4.31it/s]\n"
     ]
    },
    {
     "name": "stdout",
     "output_type": "stream",
     "text": [
      "Epoch [196/300], Step [219/219], Loss: 1.1455, Accuracy: 0.5944\n",
      "Accuracy of the network: 0.5096666666666667 Loss: 1.3923168778419495\n"
     ]
    },
    {
     "name": "stderr",
     "output_type": "stream",
     "text": [
      "100%|██████████| 219/219 [00:50<00:00,  4.32it/s]\n"
     ]
    },
    {
     "name": "stdout",
     "output_type": "stream",
     "text": [
      "Epoch [197/300], Step [219/219], Loss: 1.1558, Accuracy: 0.5947\n",
      "Accuracy of the network: 0.503 Loss: 1.4001870865517474\n"
     ]
    },
    {
     "name": "stderr",
     "output_type": "stream",
     "text": [
      "100%|██████████| 219/219 [00:50<00:00,  4.32it/s]\n"
     ]
    },
    {
     "name": "stdout",
     "output_type": "stream",
     "text": [
      "Epoch [198/300], Step [219/219], Loss: 1.1369, Accuracy: 0.5987\n",
      "Accuracy of the network: 0.516 Loss: 1.3940076618752582\n"
     ]
    },
    {
     "name": "stderr",
     "output_type": "stream",
     "text": [
      "100%|██████████| 219/219 [00:50<00:00,  4.33it/s]\n"
     ]
    },
    {
     "name": "stdout",
     "output_type": "stream",
     "text": [
      "Epoch [199/300], Step [219/219], Loss: 1.1392, Accuracy: 0.5986\n",
      "Accuracy of the network: 0.5143333333333333 Loss: 1.3830001474695002\n"
     ]
    },
    {
     "name": "stderr",
     "output_type": "stream",
     "text": [
      "100%|██████████| 219/219 [00:50<00:00,  4.33it/s]\n"
     ]
    },
    {
     "name": "stdout",
     "output_type": "stream",
     "text": [
      "Epoch [200/300], Step [219/219], Loss: 1.1448, Accuracy: 0.5999\n",
      "Accuracy of the network: 0.5153333333333333 Loss: 1.3864467289853604\n"
     ]
    },
    {
     "name": "stderr",
     "output_type": "stream",
     "text": [
      "100%|██████████| 219/219 [00:50<00:00,  4.33it/s]\n"
     ]
    },
    {
     "name": "stdout",
     "output_type": "stream",
     "text": [
      "Epoch [201/300], Step [219/219], Loss: 1.1359, Accuracy: 0.5996\n",
      "Accuracy of the network: 0.5143333333333333 Loss: 1.400526280098773\n"
     ]
    },
    {
     "name": "stderr",
     "output_type": "stream",
     "text": [
      "100%|██████████| 219/219 [00:50<00:00,  4.32it/s]\n"
     ]
    },
    {
     "name": "stdout",
     "output_type": "stream",
     "text": [
      "Epoch [202/300], Step [219/219], Loss: 1.1526, Accuracy: 0.5963\n",
      "Accuracy of the network: 0.5123333333333333 Loss: 1.3962388038635254\n"
     ]
    },
    {
     "name": "stderr",
     "output_type": "stream",
     "text": [
      "100%|██████████| 219/219 [00:50<00:00,  4.33it/s]\n"
     ]
    },
    {
     "name": "stdout",
     "output_type": "stream",
     "text": [
      "Epoch [203/300], Step [219/219], Loss: 1.1312, Accuracy: 0.6016\n",
      "Accuracy of the network: 0.519 Loss: 1.3907526179831078\n"
     ]
    },
    {
     "name": "stderr",
     "output_type": "stream",
     "text": [
      "100%|██████████| 219/219 [00:50<00:00,  4.32it/s]\n"
     ]
    },
    {
     "name": "stdout",
     "output_type": "stream",
     "text": [
      "Epoch [204/300], Step [219/219], Loss: 1.1457, Accuracy: 0.5997\n",
      "Accuracy of the network: 0.5083333333333333 Loss: 1.3926182122940713\n"
     ]
    },
    {
     "name": "stderr",
     "output_type": "stream",
     "text": [
      "100%|██████████| 219/219 [00:50<00:00,  4.30it/s]\n"
     ]
    },
    {
     "name": "stdout",
     "output_type": "stream",
     "text": [
      "Epoch [205/300], Step [219/219], Loss: 1.1452, Accuracy: 0.5949\n",
      "Accuracy of the network: 0.5123333333333333 Loss: 1.402411755095137\n"
     ]
    },
    {
     "name": "stderr",
     "output_type": "stream",
     "text": [
      "100%|██████████| 219/219 [00:50<00:00,  4.31it/s]\n"
     ]
    },
    {
     "name": "stdout",
     "output_type": "stream",
     "text": [
      "Epoch [206/300], Step [219/219], Loss: 1.1574, Accuracy: 0.5900\n",
      "Accuracy of the network: 0.517 Loss: 1.4028186449345121\n"
     ]
    },
    {
     "name": "stderr",
     "output_type": "stream",
     "text": [
      "100%|██████████| 219/219 [00:50<00:00,  4.33it/s]\n"
     ]
    },
    {
     "name": "stdout",
     "output_type": "stream",
     "text": [
      "Epoch [207/300], Step [219/219], Loss: 1.1395, Accuracy: 0.6001\n",
      "Accuracy of the network: 0.5126666666666667 Loss: 1.3983322274177632\n"
     ]
    },
    {
     "name": "stderr",
     "output_type": "stream",
     "text": [
      "100%|██████████| 219/219 [00:51<00:00,  4.29it/s]\n"
     ]
    },
    {
     "name": "stdout",
     "output_type": "stream",
     "text": [
      "Epoch [208/300], Step [219/219], Loss: 1.1552, Accuracy: 0.5949\n",
      "Accuracy of the network: 0.5236666666666666 Loss: 1.3885246591365084\n"
     ]
    },
    {
     "name": "stderr",
     "output_type": "stream",
     "text": [
      "100%|██████████| 219/219 [00:51<00:00,  4.29it/s]\n"
     ]
    },
    {
     "name": "stdout",
     "output_type": "stream",
     "text": [
      "Epoch [209/300], Step [219/219], Loss: 1.1411, Accuracy: 0.6014\n",
      "Accuracy of the network: 0.506 Loss: 1.3893966890395957\n"
     ]
    },
    {
     "name": "stderr",
     "output_type": "stream",
     "text": [
      "100%|██████████| 219/219 [00:50<00:00,  4.31it/s]\n"
     ]
    },
    {
     "name": "stdout",
     "output_type": "stream",
     "text": [
      "Epoch [210/300], Step [219/219], Loss: 1.1408, Accuracy: 0.6050\n",
      "Accuracy of the network: 0.5143333333333333 Loss: 1.393814930256377\n"
     ]
    },
    {
     "name": "stderr",
     "output_type": "stream",
     "text": [
      "100%|██████████| 219/219 [00:50<00:00,  4.32it/s]\n"
     ]
    },
    {
     "name": "stdout",
     "output_type": "stream",
     "text": [
      "Epoch [211/300], Step [219/219], Loss: 1.1369, Accuracy: 0.5973\n",
      "Accuracy of the network: 0.5093333333333333 Loss: 1.391673317615022\n"
     ]
    },
    {
     "name": "stderr",
     "output_type": "stream",
     "text": [
      "100%|██████████| 219/219 [00:50<00:00,  4.34it/s]\n"
     ]
    },
    {
     "name": "stdout",
     "output_type": "stream",
     "text": [
      "Epoch [212/300], Step [219/219], Loss: 1.1272, Accuracy: 0.6034\n",
      "Accuracy of the network: 0.5096666666666667 Loss: 1.3930455649152715\n"
     ]
    },
    {
     "name": "stderr",
     "output_type": "stream",
     "text": [
      "100%|██████████| 219/219 [00:50<00:00,  4.31it/s]\n"
     ]
    },
    {
     "name": "stdout",
     "output_type": "stream",
     "text": [
      "Epoch [213/300], Step [219/219], Loss: 1.1380, Accuracy: 0.6027\n",
      "Accuracy of the network: 0.5163333333333333 Loss: 1.3975554926598326\n"
     ]
    },
    {
     "name": "stderr",
     "output_type": "stream",
     "text": [
      "100%|██████████| 219/219 [00:50<00:00,  4.32it/s]\n"
     ]
    },
    {
     "name": "stdout",
     "output_type": "stream",
     "text": [
      "Epoch [214/300], Step [219/219], Loss: 1.1465, Accuracy: 0.6013\n",
      "Accuracy of the network: 0.517 Loss: 1.3947260316382064\n"
     ]
    },
    {
     "name": "stderr",
     "output_type": "stream",
     "text": [
      "100%|██████████| 219/219 [00:50<00:00,  4.32it/s]\n"
     ]
    },
    {
     "name": "stdout",
     "output_type": "stream",
     "text": [
      "Epoch [215/300], Step [219/219], Loss: 1.1425, Accuracy: 0.6017\n",
      "Accuracy of the network: 0.5133333333333333 Loss: 1.3909138574245128\n"
     ]
    },
    {
     "name": "stderr",
     "output_type": "stream",
     "text": [
      "100%|██████████| 219/219 [00:50<00:00,  4.32it/s]\n"
     ]
    },
    {
     "name": "stdout",
     "output_type": "stream",
     "text": [
      "Epoch [216/300], Step [219/219], Loss: 1.1493, Accuracy: 0.5967\n",
      "Accuracy of the network: 0.5103333333333333 Loss: 1.4037358095037176\n"
     ]
    },
    {
     "name": "stderr",
     "output_type": "stream",
     "text": [
      "100%|██████████| 219/219 [00:50<00:00,  4.33it/s]\n"
     ]
    },
    {
     "name": "stdout",
     "output_type": "stream",
     "text": [
      "Epoch [217/300], Step [219/219], Loss: 1.1391, Accuracy: 0.6056\n",
      "Accuracy of the network: 0.5133333333333333 Loss: 1.4024164302552\n"
     ]
    },
    {
     "name": "stderr",
     "output_type": "stream",
     "text": [
      "100%|██████████| 219/219 [00:50<00:00,  4.32it/s]\n"
     ]
    },
    {
     "name": "stdout",
     "output_type": "stream",
     "text": [
      "Epoch [218/300], Step [219/219], Loss: 1.1373, Accuracy: 0.6003\n",
      "Accuracy of the network: 0.5176666666666667 Loss: 1.3995068872228582\n"
     ]
    },
    {
     "name": "stderr",
     "output_type": "stream",
     "text": [
      "100%|██████████| 219/219 [00:50<00:00,  4.33it/s]\n"
     ]
    },
    {
     "name": "stdout",
     "output_type": "stream",
     "text": [
      "Epoch [219/300], Step [219/219], Loss: 1.1338, Accuracy: 0.6049\n",
      "Accuracy of the network: 0.5193333333333333 Loss: 1.3872770908031058\n"
     ]
    },
    {
     "name": "stderr",
     "output_type": "stream",
     "text": [
      "100%|██████████| 219/219 [00:50<00:00,  4.33it/s]\n"
     ]
    },
    {
     "name": "stdout",
     "output_type": "stream",
     "text": [
      "Epoch [220/300], Step [219/219], Loss: 1.1487, Accuracy: 0.5966\n",
      "Accuracy of the network: 0.515 Loss: 1.380301904805163\n"
     ]
    },
    {
     "name": "stderr",
     "output_type": "stream",
     "text": [
      "100%|██████████| 219/219 [00:50<00:00,  4.32it/s]\n"
     ]
    },
    {
     "name": "stdout",
     "output_type": "stream",
     "text": [
      "Epoch [221/300], Step [219/219], Loss: 1.1515, Accuracy: 0.6013\n",
      "Accuracy of the network: 0.5073333333333333 Loss: 1.3834086650229516\n"
     ]
    },
    {
     "name": "stderr",
     "output_type": "stream",
     "text": [
      "100%|██████████| 219/219 [00:50<00:00,  4.32it/s]\n"
     ]
    },
    {
     "name": "stdout",
     "output_type": "stream",
     "text": [
      "Epoch [222/300], Step [219/219], Loss: 1.1488, Accuracy: 0.6020\n",
      "Accuracy of the network: 0.5093333333333333 Loss: 1.4088448691875377\n"
     ]
    },
    {
     "name": "stderr",
     "output_type": "stream",
     "text": [
      "100%|██████████| 219/219 [00:50<00:00,  4.33it/s]\n"
     ]
    },
    {
     "name": "stdout",
     "output_type": "stream",
     "text": [
      "Epoch [223/300], Step [219/219], Loss: 1.1435, Accuracy: 0.5971\n",
      "Accuracy of the network: 0.5106666666666667 Loss: 1.3776851848084877\n"
     ]
    },
    {
     "name": "stderr",
     "output_type": "stream",
     "text": [
      "100%|██████████| 219/219 [00:50<00:00,  4.32it/s]\n"
     ]
    },
    {
     "name": "stdout",
     "output_type": "stream",
     "text": [
      "Epoch [224/300], Step [219/219], Loss: 1.1260, Accuracy: 0.6050\n",
      "Accuracy of the network: 0.518 Loss: 1.3850511464666813\n"
     ]
    },
    {
     "name": "stderr",
     "output_type": "stream",
     "text": [
      "100%|██████████| 219/219 [00:50<00:00,  4.33it/s]\n"
     ]
    },
    {
     "name": "stdout",
     "output_type": "stream",
     "text": [
      "Epoch [225/300], Step [219/219], Loss: 1.1505, Accuracy: 0.6013\n",
      "Accuracy of the network: 0.5093333333333333 Loss: 1.393782081756186\n"
     ]
    },
    {
     "name": "stderr",
     "output_type": "stream",
     "text": [
      "100%|██████████| 219/219 [00:50<00:00,  4.32it/s]\n"
     ]
    },
    {
     "name": "stdout",
     "output_type": "stream",
     "text": [
      "Epoch [226/300], Step [219/219], Loss: 1.1410, Accuracy: 0.5911\n",
      "Accuracy of the network: 0.5116666666666667 Loss: 1.4047664010778387\n"
     ]
    },
    {
     "name": "stderr",
     "output_type": "stream",
     "text": [
      "100%|██████████| 219/219 [00:50<00:00,  4.32it/s]\n"
     ]
    },
    {
     "name": "stdout",
     "output_type": "stream",
     "text": [
      "Epoch [227/300], Step [219/219], Loss: 1.1461, Accuracy: 0.5964\n",
      "Accuracy of the network: 0.5113333333333333 Loss: 1.392645609505633\n"
     ]
    },
    {
     "name": "stderr",
     "output_type": "stream",
     "text": [
      "100%|██████████| 219/219 [00:50<00:00,  4.31it/s]\n"
     ]
    },
    {
     "name": "stdout",
     "output_type": "stream",
     "text": [
      "Epoch [228/300], Step [219/219], Loss: 1.1430, Accuracy: 0.5974\n",
      "Accuracy of the network: 0.5106666666666667 Loss: 1.39879709482193\n"
     ]
    },
    {
     "name": "stderr",
     "output_type": "stream",
     "text": [
      "100%|██████████| 219/219 [00:50<00:00,  4.31it/s]\n"
     ]
    },
    {
     "name": "stdout",
     "output_type": "stream",
     "text": [
      "Epoch [229/300], Step [219/219], Loss: 1.1426, Accuracy: 0.5969\n",
      "Accuracy of the network: 0.508 Loss: 1.4028995791648298\n"
     ]
    },
    {
     "name": "stderr",
     "output_type": "stream",
     "text": [
      "100%|██████████| 219/219 [00:50<00:00,  4.31it/s]\n"
     ]
    },
    {
     "name": "stdout",
     "output_type": "stream",
     "text": [
      "Epoch [230/300], Step [219/219], Loss: 1.1415, Accuracy: 0.5950\n",
      "Accuracy of the network: 0.5163333333333333 Loss: 1.3994207781680086\n"
     ]
    },
    {
     "name": "stderr",
     "output_type": "stream",
     "text": [
      "100%|██████████| 219/219 [00:50<00:00,  4.32it/s]\n"
     ]
    },
    {
     "name": "stdout",
     "output_type": "stream",
     "text": [
      "Epoch [231/300], Step [219/219], Loss: 1.1495, Accuracy: 0.5994\n",
      "Accuracy of the network: 0.5206666666666667 Loss: 1.391402373922632\n"
     ]
    },
    {
     "name": "stderr",
     "output_type": "stream",
     "text": [
      "100%|██████████| 219/219 [00:50<00:00,  4.32it/s]\n"
     ]
    },
    {
     "name": "stdout",
     "output_type": "stream",
     "text": [
      "Epoch [232/300], Step [219/219], Loss: 1.1450, Accuracy: 0.6023\n",
      "Accuracy of the network: 0.5086666666666667 Loss: 1.3960376014100744\n"
     ]
    },
    {
     "name": "stderr",
     "output_type": "stream",
     "text": [
      "100%|██████████| 219/219 [00:50<00:00,  4.30it/s]\n"
     ]
    },
    {
     "name": "stdout",
     "output_type": "stream",
     "text": [
      "Epoch [233/300], Step [219/219], Loss: 1.1441, Accuracy: 0.6023\n",
      "Accuracy of the network: 0.5113333333333333 Loss: 1.3857196588465508\n"
     ]
    },
    {
     "name": "stderr",
     "output_type": "stream",
     "text": [
      "100%|██████████| 219/219 [00:50<00:00,  4.32it/s]\n"
     ]
    },
    {
     "name": "stdout",
     "output_type": "stream",
     "text": [
      "Epoch [234/300], Step [219/219], Loss: 1.1444, Accuracy: 0.5956\n",
      "Accuracy of the network: 0.511 Loss: 1.3989299751342612\n"
     ]
    },
    {
     "name": "stderr",
     "output_type": "stream",
     "text": [
      "100%|██████████| 219/219 [00:50<00:00,  4.31it/s]\n"
     ]
    },
    {
     "name": "stdout",
     "output_type": "stream",
     "text": [
      "Epoch [235/300], Step [219/219], Loss: 1.1493, Accuracy: 0.5920\n",
      "Accuracy of the network: 0.517 Loss: 1.390560620642723\n"
     ]
    },
    {
     "name": "stderr",
     "output_type": "stream",
     "text": [
      "100%|██████████| 219/219 [00:50<00:00,  4.32it/s]\n"
     ]
    },
    {
     "name": "stdout",
     "output_type": "stream",
     "text": [
      "Epoch [236/300], Step [219/219], Loss: 1.1493, Accuracy: 0.5983\n",
      "Accuracy of the network: 0.513 Loss: 1.3920784782856068\n"
     ]
    },
    {
     "name": "stderr",
     "output_type": "stream",
     "text": [
      "100%|██████████| 219/219 [00:50<00:00,  4.31it/s]\n"
     ]
    },
    {
     "name": "stdout",
     "output_type": "stream",
     "text": [
      "Epoch [237/300], Step [219/219], Loss: 1.1426, Accuracy: 0.5984\n",
      "Accuracy of the network: 0.5153333333333333 Loss: 1.3881176386741882\n"
     ]
    },
    {
     "name": "stderr",
     "output_type": "stream",
     "text": [
      "100%|██████████| 219/219 [00:50<00:00,  4.32it/s]\n"
     ]
    },
    {
     "name": "stdout",
     "output_type": "stream",
     "text": [
      "Epoch [238/300], Step [219/219], Loss: 1.1528, Accuracy: 0.5941\n",
      "Accuracy of the network: 0.518 Loss: 1.3901332160259814\n"
     ]
    },
    {
     "name": "stderr",
     "output_type": "stream",
     "text": [
      "100%|██████████| 219/219 [00:50<00:00,  4.34it/s]\n"
     ]
    },
    {
     "name": "stdout",
     "output_type": "stream",
     "text": [
      "Epoch [239/300], Step [219/219], Loss: 1.1401, Accuracy: 0.5974\n",
      "Accuracy of the network: 0.5106666666666667 Loss: 1.4030193407484826\n"
     ]
    },
    {
     "name": "stderr",
     "output_type": "stream",
     "text": [
      "100%|██████████| 219/219 [00:50<00:00,  4.32it/s]\n"
     ]
    },
    {
     "name": "stdout",
     "output_type": "stream",
     "text": [
      "Epoch [240/300], Step [219/219], Loss: 1.1522, Accuracy: 0.6007\n",
      "Accuracy of the network: 0.5016666666666667 Loss: 1.3912125375676663\n"
     ]
    },
    {
     "name": "stderr",
     "output_type": "stream",
     "text": [
      "100%|██████████| 219/219 [00:50<00:00,  4.31it/s]\n"
     ]
    },
    {
     "name": "stdout",
     "output_type": "stream",
     "text": [
      "Epoch [241/300], Step [219/219], Loss: 1.1387, Accuracy: 0.6041\n",
      "Accuracy of the network: 0.506 Loss: 1.415150746386102\n"
     ]
    },
    {
     "name": "stderr",
     "output_type": "stream",
     "text": [
      "100%|██████████| 219/219 [00:50<00:00,  4.34it/s]\n"
     ]
    },
    {
     "name": "stdout",
     "output_type": "stream",
     "text": [
      "Epoch [242/300], Step [219/219], Loss: 1.1417, Accuracy: 0.5960\n",
      "Accuracy of the network: 0.5196666666666667 Loss: 1.3893391730937552\n"
     ]
    },
    {
     "name": "stderr",
     "output_type": "stream",
     "text": [
      "100%|██████████| 219/219 [00:50<00:00,  4.31it/s]\n"
     ]
    },
    {
     "name": "stdout",
     "output_type": "stream",
     "text": [
      "Epoch [243/300], Step [219/219], Loss: 1.1434, Accuracy: 0.6039\n",
      "Accuracy of the network: 0.514 Loss: 1.3972739551929718\n"
     ]
    },
    {
     "name": "stderr",
     "output_type": "stream",
     "text": [
      "100%|██████████| 219/219 [00:50<00:00,  4.34it/s]\n"
     ]
    },
    {
     "name": "stdout",
     "output_type": "stream",
     "text": [
      "Epoch [244/300], Step [219/219], Loss: 1.1465, Accuracy: 0.5943\n",
      "Accuracy of the network: 0.5116666666666667 Loss: 1.39980463778719\n"
     ]
    },
    {
     "name": "stderr",
     "output_type": "stream",
     "text": [
      "100%|██████████| 219/219 [00:50<00:00,  4.32it/s]\n"
     ]
    },
    {
     "name": "stdout",
     "output_type": "stream",
     "text": [
      "Epoch [245/300], Step [219/219], Loss: 1.1483, Accuracy: 0.5987\n",
      "Accuracy of the network: 0.5163333333333333 Loss: 1.3834557622037036\n"
     ]
    },
    {
     "name": "stderr",
     "output_type": "stream",
     "text": [
      "100%|██████████| 219/219 [00:50<00:00,  4.32it/s]\n"
     ]
    },
    {
     "name": "stdout",
     "output_type": "stream",
     "text": [
      "Epoch [246/300], Step [219/219], Loss: 1.1377, Accuracy: 0.5957\n",
      "Accuracy of the network: 0.5096666666666667 Loss: 1.388025367513616\n"
     ]
    },
    {
     "name": "stderr",
     "output_type": "stream",
     "text": [
      "100%|██████████| 219/219 [00:50<00:00,  4.33it/s]\n"
     ]
    },
    {
     "name": "stdout",
     "output_type": "stream",
     "text": [
      "Epoch [247/300], Step [219/219], Loss: 1.1500, Accuracy: 0.5957\n",
      "Accuracy of the network: 0.512 Loss: 1.3854927908866963\n"
     ]
    },
    {
     "name": "stderr",
     "output_type": "stream",
     "text": [
      "100%|██████████| 219/219 [00:50<00:00,  4.34it/s]\n"
     ]
    },
    {
     "name": "stdout",
     "output_type": "stream",
     "text": [
      "Epoch [248/300], Step [219/219], Loss: 1.1464, Accuracy: 0.5964\n",
      "Accuracy of the network: 0.5096666666666667 Loss: 1.4062305327425613\n"
     ]
    },
    {
     "name": "stderr",
     "output_type": "stream",
     "text": [
      "100%|██████████| 219/219 [00:50<00:00,  4.32it/s]\n"
     ]
    },
    {
     "name": "stdout",
     "output_type": "stream",
     "text": [
      "Epoch [249/300], Step [219/219], Loss: 1.1454, Accuracy: 0.5979\n",
      "Accuracy of the network: 0.522 Loss: 1.3903996766881739\n"
     ]
    },
    {
     "name": "stderr",
     "output_type": "stream",
     "text": [
      "100%|██████████| 219/219 [00:50<00:00,  4.33it/s]\n"
     ]
    },
    {
     "name": "stdout",
     "output_type": "stream",
     "text": [
      "Epoch [250/300], Step [219/219], Loss: 1.1329, Accuracy: 0.6019\n",
      "Accuracy of the network: 0.5173333333333333 Loss: 1.398167849221128\n"
     ]
    },
    {
     "name": "stderr",
     "output_type": "stream",
     "text": [
      "100%|██████████| 219/219 [00:50<00:00,  4.34it/s]\n"
     ]
    },
    {
     "name": "stdout",
     "output_type": "stream",
     "text": [
      "Epoch [251/300], Step [219/219], Loss: 1.1529, Accuracy: 0.5916\n",
      "Accuracy of the network: 0.5176666666666667 Loss: 1.3867557695571413\n"
     ]
    },
    {
     "name": "stderr",
     "output_type": "stream",
     "text": [
      "100%|██████████| 219/219 [00:50<00:00,  4.35it/s]\n"
     ]
    },
    {
     "name": "stdout",
     "output_type": "stream",
     "text": [
      "Epoch [252/300], Step [219/219], Loss: 1.1487, Accuracy: 0.5967\n",
      "Accuracy of the network: 0.515 Loss: 1.3970782129054373\n"
     ]
    },
    {
     "name": "stderr",
     "output_type": "stream",
     "text": [
      "100%|██████████| 219/219 [00:50<00:00,  4.33it/s]\n"
     ]
    },
    {
     "name": "stdout",
     "output_type": "stream",
     "text": [
      "Epoch [253/300], Step [219/219], Loss: 1.1385, Accuracy: 0.6024\n",
      "Accuracy of the network: 0.519 Loss: 1.407133105587452\n"
     ]
    },
    {
     "name": "stderr",
     "output_type": "stream",
     "text": [
      "100%|██████████| 219/219 [00:50<00:00,  4.34it/s]\n"
     ]
    },
    {
     "name": "stdout",
     "output_type": "stream",
     "text": [
      "Epoch [254/300], Step [219/219], Loss: 1.1313, Accuracy: 0.6046\n",
      "Accuracy of the network: 0.5253333333333333 Loss: 1.386156069471481\n"
     ]
    },
    {
     "name": "stderr",
     "output_type": "stream",
     "text": [
      "100%|██████████| 219/219 [00:50<00:00,  4.32it/s]\n"
     ]
    },
    {
     "name": "stdout",
     "output_type": "stream",
     "text": [
      "Epoch [255/300], Step [219/219], Loss: 1.1320, Accuracy: 0.6037\n",
      "Accuracy of the network: 0.5136666666666667 Loss: 1.391086795862685\n"
     ]
    },
    {
     "name": "stderr",
     "output_type": "stream",
     "text": [
      "100%|██████████| 219/219 [00:50<00:00,  4.33it/s]\n"
     ]
    },
    {
     "name": "stdout",
     "output_type": "stream",
     "text": [
      "Epoch [256/300], Step [219/219], Loss: 1.1388, Accuracy: 0.5977\n",
      "Accuracy of the network: 0.514 Loss: 1.3932583522289357\n"
     ]
    },
    {
     "name": "stderr",
     "output_type": "stream",
     "text": [
      "100%|██████████| 219/219 [00:50<00:00,  4.32it/s]\n"
     ]
    },
    {
     "name": "stdout",
     "output_type": "stream",
     "text": [
      "Epoch [257/300], Step [219/219], Loss: 1.1528, Accuracy: 0.5956\n",
      "Accuracy of the network: 0.5063333333333333 Loss: 1.3991446184351088\n"
     ]
    },
    {
     "name": "stderr",
     "output_type": "stream",
     "text": [
      "100%|██████████| 219/219 [00:50<00:00,  4.34it/s]\n"
     ]
    },
    {
     "name": "stdout",
     "output_type": "stream",
     "text": [
      "Epoch [258/300], Step [219/219], Loss: 1.1368, Accuracy: 0.5976\n",
      "Accuracy of the network: 0.515 Loss: 1.3821309418120282\n"
     ]
    },
    {
     "name": "stderr",
     "output_type": "stream",
     "text": [
      "100%|██████████| 219/219 [00:50<00:00,  4.33it/s]\n"
     ]
    },
    {
     "name": "stdout",
     "output_type": "stream",
     "text": [
      "Epoch [259/300], Step [219/219], Loss: 1.1429, Accuracy: 0.5959\n",
      "Accuracy of the network: 0.508 Loss: 1.4022978835917534\n"
     ]
    },
    {
     "name": "stderr",
     "output_type": "stream",
     "text": [
      "100%|██████████| 219/219 [00:50<00:00,  4.33it/s]\n"
     ]
    },
    {
     "name": "stdout",
     "output_type": "stream",
     "text": [
      "Epoch [260/300], Step [219/219], Loss: 1.1393, Accuracy: 0.6010\n",
      "Accuracy of the network: 0.5156666666666667 Loss: 1.3882310403154252\n"
     ]
    },
    {
     "name": "stderr",
     "output_type": "stream",
     "text": [
      "100%|██████████| 219/219 [00:50<00:00,  4.34it/s]\n"
     ]
    },
    {
     "name": "stdout",
     "output_type": "stream",
     "text": [
      "Epoch [261/300], Step [219/219], Loss: 1.1416, Accuracy: 0.5967\n",
      "Accuracy of the network: 0.5126666666666667 Loss: 1.3969504256197747\n"
     ]
    },
    {
     "name": "stderr",
     "output_type": "stream",
     "text": [
      "100%|██████████| 219/219 [00:50<00:00,  4.33it/s]\n"
     ]
    },
    {
     "name": "stdout",
     "output_type": "stream",
     "text": [
      "Epoch [262/300], Step [219/219], Loss: 1.1450, Accuracy: 0.5941\n",
      "Accuracy of the network: 0.5066666666666667 Loss: 1.397889829696493\n"
     ]
    },
    {
     "name": "stderr",
     "output_type": "stream",
     "text": [
      "100%|██████████| 219/219 [00:50<00:00,  4.32it/s]\n"
     ]
    },
    {
     "name": "stdout",
     "output_type": "stream",
     "text": [
      "Epoch [263/300], Step [219/219], Loss: 1.1548, Accuracy: 0.6027\n",
      "Accuracy of the network: 0.51 Loss: 1.3883206077078556\n"
     ]
    },
    {
     "name": "stderr",
     "output_type": "stream",
     "text": [
      "100%|██████████| 219/219 [00:50<00:00,  4.35it/s]\n"
     ]
    },
    {
     "name": "stdout",
     "output_type": "stream",
     "text": [
      "Epoch [264/300], Step [219/219], Loss: 1.1386, Accuracy: 0.5986\n",
      "Accuracy of the network: 0.5133333333333333 Loss: 1.3966944604477984\n"
     ]
    },
    {
     "name": "stderr",
     "output_type": "stream",
     "text": [
      "100%|██████████| 219/219 [00:50<00:00,  4.32it/s]\n"
     ]
    },
    {
     "name": "stdout",
     "output_type": "stream",
     "text": [
      "Epoch [265/300], Step [219/219], Loss: 1.1346, Accuracy: 0.6057\n",
      "Accuracy of the network: 0.5093333333333333 Loss: 1.396289605409541\n"
     ]
    },
    {
     "name": "stderr",
     "output_type": "stream",
     "text": [
      "100%|██████████| 219/219 [00:50<00:00,  4.31it/s]\n"
     ]
    },
    {
     "name": "stdout",
     "output_type": "stream",
     "text": [
      "Epoch [266/300], Step [219/219], Loss: 1.1360, Accuracy: 0.6030\n",
      "Accuracy of the network: 0.5183333333333333 Loss: 1.3773754416628088\n"
     ]
    },
    {
     "name": "stderr",
     "output_type": "stream",
     "text": [
      "100%|██████████| 219/219 [00:50<00:00,  4.33it/s]\n"
     ]
    },
    {
     "name": "stdout",
     "output_type": "stream",
     "text": [
      "Epoch [267/300], Step [219/219], Loss: 1.1518, Accuracy: 0.5946\n",
      "Accuracy of the network: 0.5066666666666667 Loss: 1.400459699174191\n"
     ]
    },
    {
     "name": "stderr",
     "output_type": "stream",
     "text": [
      "100%|██████████| 219/219 [00:50<00:00,  4.34it/s]\n"
     ]
    },
    {
     "name": "stdout",
     "output_type": "stream",
     "text": [
      "Epoch [268/300], Step [219/219], Loss: 1.1392, Accuracy: 0.6036\n",
      "Accuracy of the network: 0.5156666666666667 Loss: 1.3826049991110538\n"
     ]
    },
    {
     "name": "stderr",
     "output_type": "stream",
     "text": [
      "100%|██████████| 219/219 [00:50<00:00,  4.33it/s]\n"
     ]
    },
    {
     "name": "stdout",
     "output_type": "stream",
     "text": [
      "Epoch [269/300], Step [219/219], Loss: 1.1489, Accuracy: 0.6009\n",
      "Accuracy of the network: 0.521 Loss: 1.3902856904141447\n"
     ]
    },
    {
     "name": "stderr",
     "output_type": "stream",
     "text": [
      "100%|██████████| 219/219 [00:50<00:00,  4.33it/s]\n"
     ]
    },
    {
     "name": "stdout",
     "output_type": "stream",
     "text": [
      "Epoch [270/300], Step [219/219], Loss: 1.1525, Accuracy: 0.5951\n",
      "Accuracy of the network: 0.5046666666666667 Loss: 1.39150817597166\n"
     ]
    },
    {
     "name": "stderr",
     "output_type": "stream",
     "text": [
      "100%|██████████| 219/219 [00:51<00:00,  4.21it/s]\n"
     ]
    },
    {
     "name": "stdout",
     "output_type": "stream",
     "text": [
      "Epoch [271/300], Step [219/219], Loss: 1.1331, Accuracy: 0.5971\n",
      "Accuracy of the network: 0.51 Loss: 1.4059900945805488\n"
     ]
    },
    {
     "name": "stderr",
     "output_type": "stream",
     "text": [
      "100%|██████████| 219/219 [00:51<00:00,  4.28it/s]\n"
     ]
    },
    {
     "name": "stdout",
     "output_type": "stream",
     "text": [
      "Epoch [272/300], Step [219/219], Loss: 1.1457, Accuracy: 0.6014\n",
      "Accuracy of the network: 0.5143333333333333 Loss: 1.3870735846935434\n"
     ]
    },
    {
     "name": "stderr",
     "output_type": "stream",
     "text": [
      "100%|██████████| 219/219 [00:50<00:00,  4.32it/s]\n"
     ]
    },
    {
     "name": "stdout",
     "output_type": "stream",
     "text": [
      "Epoch [273/300], Step [219/219], Loss: 1.1443, Accuracy: 0.6021\n",
      "Accuracy of the network: 0.5116666666666667 Loss: 1.4029669875794268\n"
     ]
    },
    {
     "name": "stderr",
     "output_type": "stream",
     "text": [
      "100%|██████████| 219/219 [00:50<00:00,  4.33it/s]\n"
     ]
    },
    {
     "name": "stdout",
     "output_type": "stream",
     "text": [
      "Epoch [274/300], Step [219/219], Loss: 1.1449, Accuracy: 0.5981\n",
      "Accuracy of the network: 0.5176666666666667 Loss: 1.3948896857018167\n"
     ]
    },
    {
     "name": "stderr",
     "output_type": "stream",
     "text": [
      "100%|██████████| 219/219 [00:50<00:00,  4.36it/s]\n"
     ]
    },
    {
     "name": "stdout",
     "output_type": "stream",
     "text": [
      "Epoch [275/300], Step [219/219], Loss: 1.1377, Accuracy: 0.5949\n",
      "Accuracy of the network: 0.5183333333333333 Loss: 1.3880591474949044\n"
     ]
    },
    {
     "name": "stderr",
     "output_type": "stream",
     "text": [
      "100%|██████████| 219/219 [00:50<00:00,  4.33it/s]\n"
     ]
    },
    {
     "name": "stdout",
     "output_type": "stream",
     "text": [
      "Epoch [276/300], Step [219/219], Loss: 1.1521, Accuracy: 0.5947\n",
      "Accuracy of the network: 0.5146666666666667 Loss: 1.3942362571016271\n"
     ]
    },
    {
     "name": "stderr",
     "output_type": "stream",
     "text": [
      "100%|██████████| 219/219 [00:50<00:00,  4.30it/s]\n"
     ]
    },
    {
     "name": "stdout",
     "output_type": "stream",
     "text": [
      "Epoch [277/300], Step [219/219], Loss: 1.1358, Accuracy: 0.6017\n",
      "Accuracy of the network: 0.5176666666666667 Loss: 1.3804056612735098\n"
     ]
    },
    {
     "name": "stderr",
     "output_type": "stream",
     "text": [
      "100%|██████████| 219/219 [00:51<00:00,  4.27it/s]\n"
     ]
    },
    {
     "name": "stdout",
     "output_type": "stream",
     "text": [
      "Epoch [278/300], Step [219/219], Loss: 1.1479, Accuracy: 0.5941\n",
      "Accuracy of the network: 0.5196666666666667 Loss: 1.391303354755361\n"
     ]
    },
    {
     "name": "stderr",
     "output_type": "stream",
     "text": [
      "100%|██████████| 219/219 [00:50<00:00,  4.30it/s]\n"
     ]
    },
    {
     "name": "stdout",
     "output_type": "stream",
     "text": [
      "Epoch [279/300], Step [219/219], Loss: 1.1436, Accuracy: 0.6023\n",
      "Accuracy of the network: 0.5166666666666667 Loss: 1.3980316145622984\n"
     ]
    },
    {
     "name": "stderr",
     "output_type": "stream",
     "text": [
      "100%|██████████| 219/219 [00:50<00:00,  4.33it/s]\n"
     ]
    },
    {
     "name": "stdout",
     "output_type": "stream",
     "text": [
      "Epoch [280/300], Step [219/219], Loss: 1.1375, Accuracy: 0.6007\n",
      "Accuracy of the network: 0.5083333333333333 Loss: 1.4077541561836893\n"
     ]
    },
    {
     "name": "stderr",
     "output_type": "stream",
     "text": [
      "100%|██████████| 219/219 [00:50<00:00,  4.33it/s]\n"
     ]
    },
    {
     "name": "stdout",
     "output_type": "stream",
     "text": [
      "Epoch [281/300], Step [219/219], Loss: 1.1467, Accuracy: 0.6026\n",
      "Accuracy of the network: 0.519 Loss: 1.386329451139937\n"
     ]
    },
    {
     "name": "stderr",
     "output_type": "stream",
     "text": [
      "100%|██████████| 219/219 [00:50<00:00,  4.33it/s]\n"
     ]
    },
    {
     "name": "stdout",
     "output_type": "stream",
     "text": [
      "Epoch [282/300], Step [219/219], Loss: 1.1373, Accuracy: 0.6003\n",
      "Accuracy of the network: 0.5113333333333333 Loss: 1.3857584221565977\n"
     ]
    },
    {
     "name": "stderr",
     "output_type": "stream",
     "text": [
      "100%|██████████| 219/219 [00:50<00:00,  4.33it/s]\n"
     ]
    },
    {
     "name": "stdout",
     "output_type": "stream",
     "text": [
      "Epoch [283/300], Step [219/219], Loss: 1.1363, Accuracy: 0.6076\n",
      "Accuracy of the network: 0.5113333333333333 Loss: 1.4006435604805643\n"
     ]
    },
    {
     "name": "stderr",
     "output_type": "stream",
     "text": [
      "100%|██████████| 219/219 [00:50<00:00,  4.31it/s]\n"
     ]
    },
    {
     "name": "stdout",
     "output_type": "stream",
     "text": [
      "Epoch [284/300], Step [219/219], Loss: 1.1376, Accuracy: 0.5980\n",
      "Accuracy of the network: 0.512 Loss: 1.39780042272933\n"
     ]
    },
    {
     "name": "stderr",
     "output_type": "stream",
     "text": [
      "100%|██████████| 219/219 [00:50<00:00,  4.34it/s]\n"
     ]
    },
    {
     "name": "stdout",
     "output_type": "stream",
     "text": [
      "Epoch [285/300], Step [219/219], Loss: 1.1398, Accuracy: 0.5957\n",
      "Accuracy of the network: 0.504 Loss: 1.4025229285372065\n"
     ]
    },
    {
     "name": "stderr",
     "output_type": "stream",
     "text": [
      "100%|██████████| 219/219 [00:50<00:00,  4.33it/s]\n"
     ]
    },
    {
     "name": "stdout",
     "output_type": "stream",
     "text": [
      "Epoch [286/300], Step [219/219], Loss: 1.1537, Accuracy: 0.5951\n",
      "Accuracy of the network: 0.518 Loss: 1.3813934028148651\n"
     ]
    },
    {
     "name": "stderr",
     "output_type": "stream",
     "text": [
      "100%|██████████| 219/219 [00:50<00:00,  4.35it/s]\n"
     ]
    },
    {
     "name": "stdout",
     "output_type": "stream",
     "text": [
      "Epoch [287/300], Step [219/219], Loss: 1.1403, Accuracy: 0.5964\n",
      "Accuracy of the network: 0.5223333333333333 Loss: 1.3879078417382342\n"
     ]
    },
    {
     "name": "stderr",
     "output_type": "stream",
     "text": [
      "100%|██████████| 219/219 [00:51<00:00,  4.24it/s]\n"
     ]
    },
    {
     "name": "stdout",
     "output_type": "stream",
     "text": [
      "Epoch [288/300], Step [219/219], Loss: 1.1467, Accuracy: 0.5997\n",
      "Accuracy of the network: 0.5153333333333333 Loss: 1.3938093001538134\n"
     ]
    },
    {
     "name": "stderr",
     "output_type": "stream",
     "text": [
      "100%|██████████| 219/219 [00:50<00:00,  4.34it/s]\n"
     ]
    },
    {
     "name": "stdout",
     "output_type": "stream",
     "text": [
      "Epoch [289/300], Step [219/219], Loss: 1.1427, Accuracy: 0.5950\n",
      "Accuracy of the network: 0.51 Loss: 1.397664026377049\n"
     ]
    },
    {
     "name": "stderr",
     "output_type": "stream",
     "text": [
      "100%|██████████| 219/219 [00:51<00:00,  4.29it/s]\n"
     ]
    },
    {
     "name": "stdout",
     "output_type": "stream",
     "text": [
      "Epoch [290/300], Step [219/219], Loss: 1.1316, Accuracy: 0.5971\n",
      "Accuracy of the network: 0.5163333333333333 Loss: 1.3914020143924875\n"
     ]
    },
    {
     "name": "stderr",
     "output_type": "stream",
     "text": [
      "100%|██████████| 219/219 [00:50<00:00,  4.32it/s]\n"
     ]
    },
    {
     "name": "stdout",
     "output_type": "stream",
     "text": [
      "Epoch [291/300], Step [219/219], Loss: 1.1506, Accuracy: 0.5927\n",
      "Accuracy of the network: 0.5146666666666667 Loss: 1.3996229501480753\n"
     ]
    },
    {
     "name": "stderr",
     "output_type": "stream",
     "text": [
      "100%|██████████| 219/219 [00:50<00:00,  4.34it/s]\n"
     ]
    },
    {
     "name": "stdout",
     "output_type": "stream",
     "text": [
      "Epoch [292/300], Step [219/219], Loss: 1.1526, Accuracy: 0.5894\n",
      "Accuracy of the network: 0.513 Loss: 1.3892739167872896\n"
     ]
    },
    {
     "name": "stderr",
     "output_type": "stream",
     "text": [
      "100%|██████████| 219/219 [00:50<00:00,  4.35it/s]\n"
     ]
    },
    {
     "name": "stdout",
     "output_type": "stream",
     "text": [
      "Epoch [293/300], Step [219/219], Loss: 1.1426, Accuracy: 0.6051\n",
      "Accuracy of the network: 0.52 Loss: 1.3936467684329825\n"
     ]
    },
    {
     "name": "stderr",
     "output_type": "stream",
     "text": [
      "100%|██████████| 219/219 [00:50<00:00,  4.34it/s]\n"
     ]
    },
    {
     "name": "stdout",
     "output_type": "stream",
     "text": [
      "Epoch [294/300], Step [219/219], Loss: 1.1392, Accuracy: 0.5976\n",
      "Accuracy of the network: 0.519 Loss: 1.395417592626937\n"
     ]
    },
    {
     "name": "stderr",
     "output_type": "stream",
     "text": [
      "100%|██████████| 219/219 [00:50<00:00,  4.33it/s]\n"
     ]
    },
    {
     "name": "stdout",
     "output_type": "stream",
     "text": [
      "Epoch [295/300], Step [219/219], Loss: 1.1355, Accuracy: 0.6046\n",
      "Accuracy of the network: 0.506 Loss: 1.4015680507142494\n"
     ]
    },
    {
     "name": "stderr",
     "output_type": "stream",
     "text": [
      "100%|██████████| 219/219 [00:50<00:00,  4.33it/s]\n"
     ]
    },
    {
     "name": "stdout",
     "output_type": "stream",
     "text": [
      "Epoch [296/300], Step [219/219], Loss: 1.1370, Accuracy: 0.5964\n",
      "Accuracy of the network: 0.517 Loss: 1.3970303858848327\n"
     ]
    },
    {
     "name": "stderr",
     "output_type": "stream",
     "text": [
      "100%|██████████| 219/219 [00:50<00:00,  4.32it/s]\n"
     ]
    },
    {
     "name": "stdout",
     "output_type": "stream",
     "text": [
      "Epoch [297/300], Step [219/219], Loss: 1.1490, Accuracy: 0.5993\n",
      "Accuracy of the network: 0.512 Loss: 1.3851202878546207\n"
     ]
    },
    {
     "name": "stderr",
     "output_type": "stream",
     "text": [
      "100%|██████████| 219/219 [00:50<00:00,  4.33it/s]\n"
     ]
    },
    {
     "name": "stdout",
     "output_type": "stream",
     "text": [
      "Epoch [298/300], Step [219/219], Loss: 1.1362, Accuracy: 0.6007\n",
      "Accuracy of the network: 0.5166666666666667 Loss: 1.3808289645834173\n"
     ]
    },
    {
     "name": "stderr",
     "output_type": "stream",
     "text": [
      "100%|██████████| 219/219 [00:50<00:00,  4.33it/s]\n"
     ]
    },
    {
     "name": "stdout",
     "output_type": "stream",
     "text": [
      "Epoch [299/300], Step [219/219], Loss: 1.1445, Accuracy: 0.6020\n",
      "Accuracy of the network: 0.5133333333333333 Loss: 1.3969985817341095\n"
     ]
    },
    {
     "name": "stderr",
     "output_type": "stream",
     "text": [
      "100%|██████████| 219/219 [00:50<00:00,  4.34it/s]\n"
     ]
    },
    {
     "name": "stdout",
     "output_type": "stream",
     "text": [
      "Epoch [300/300], Step [219/219], Loss: 1.1355, Accuracy: 0.6000\n",
      "Accuracy of the network: 0.5133333333333333 Loss: 1.3987577817541488\n"
     ]
    }
   ],
   "source": [
    "torch.autograd.set_detect_anomaly(True)\n",
    "train_accuracy_h, test_accuracy_h, train_loss_h, test_loss_h = model_resnet.train_model(train_dataloader, test_dataloader,num_epochs=300,save_best=True, save_thr=48)"
   ]
  },
  {
   "cell_type": "code",
   "execution_count": 10,
   "metadata": {},
   "outputs": [],
   "source": [
    "torch.save(model, \"best_resnet50_CIFAR10-DVS_ReLU_ReLUmaxpool_128x128_FC2_128x128_pretrained_aug_corrected_exp.pt\")"
   ]
  },
  {
   "cell_type": "code",
   "execution_count": 11,
   "metadata": {},
   "outputs": [
    {
     "data": {
      "image/png": "[encoded data removed]",
      "text/plain": [
       "<Figure size 640x480 with 1 Axes>"
      ]
     },
     "metadata": {},
     "output_type": "display_data"
    },
    {
     "data": {
      "image/png": "[encoded data removed]",
      "text/plain": [
       "<Figure size 640x480 with 1 Axes>"
      ]
     },
     "metadata": {},
     "output_type": "display_data"
    }
   ],
   "source": [
    "plt.plot(train_accuracy_h, label='train')\n",
    "plt.plot(test_accuracy_h, label='test')\n",
    "plt.ylabel(\"accuracy\")\n",
    "plt.xlabel(\"epoch\")\n",
    "plt.legend()\n",
    "plt.show()\n",
    "\n",
    "plt.plot(train_loss_h, label='train')\n",
    "plt.plot(test_loss_h, label='test')\n",
    "plt.ylabel(\"loss\")\n",
    "plt.xlabel(\"epoch\")\n",
    "plt.legend()\n",
    "plt.show()"
   ]
  },
  {
   "cell_type": "code",
   "execution_count": 12,
   "metadata": {},
   "outputs": [],
   "source": [
    "import pandas as pd\n",
    "dict = {'train_acc': train_accuracy_h, 'test_acc': test_accuracy_h, 'train_loss': train_loss_h, 'test_loss' : test_loss_h}\n",
    "df = pd.DataFrame(dict)\n",
    "df.to_csv('logs/best_resnet_CIFAR10-DVS_ReLU_ReLUmaxpool_128x128_FC2_128x128_pretrained_aug_corrected_exp.csv')"
   ]
  },
  {
   "cell_type": "code",
   "execution_count": 13,
   "metadata": {},
   "outputs": [
    {
     "data": {
      "text/html": [
       "<div>\n",
       "<style scoped>\n",
       "    .dataframe tbody tr th:only-of-type {\n",
       "        vertical-align: middle;\n",
       "    }\n",
       "\n",
       "    .dataframe tbody tr th {\n",
       "        vertical-align: top;\n",
       "    }\n",
       "\n",
       "    .dataframe thead th {\n",
       "        text-align: right;\n",
       "    }\n",
       "</style>\n",
       "<table border=\"1\" class=\"dataframe\">\n",
       "  <thead>\n",
       "    <tr style=\"text-align: right;\">\n",
       "      <th></th>\n",
       "      <th>train_acc</th>\n",
       "      <th>test_acc</th>\n",
       "      <th>train_loss</th>\n",
       "      <th>test_loss</th>\n",
       "    </tr>\n",
       "  </thead>\n",
       "  <tbody>\n",
       "    <tr>\n",
       "      <th>0</th>\n",
       "      <td>0.113429</td>\n",
       "      <td>0.136667</td>\n",
       "      <td>12.921236</td>\n",
       "      <td>2.442124</td>\n",
       "    </tr>\n",
       "    <tr>\n",
       "      <th>1</th>\n",
       "      <td>0.123571</td>\n",
       "      <td>0.143000</td>\n",
       "      <td>2.312923</td>\n",
       "      <td>2.262054</td>\n",
       "    </tr>\n",
       "    <tr>\n",
       "      <th>2</th>\n",
       "      <td>0.156000</td>\n",
       "      <td>0.164000</td>\n",
       "      <td>2.216932</td>\n",
       "      <td>2.181614</td>\n",
       "    </tr>\n",
       "    <tr>\n",
       "      <th>3</th>\n",
       "      <td>0.166429</td>\n",
       "      <td>0.189000</td>\n",
       "      <td>2.185550</td>\n",
       "      <td>2.140445</td>\n",
       "    </tr>\n",
       "    <tr>\n",
       "      <th>4</th>\n",
       "      <td>0.161857</td>\n",
       "      <td>0.176333</td>\n",
       "      <td>2.192077</td>\n",
       "      <td>2.140859</td>\n",
       "    </tr>\n",
       "  </tbody>\n",
       "</table>\n",
       "</div>"
      ],
      "text/plain": [
       "   train_acc  test_acc  train_loss  test_loss\n",
       "0   0.113429  0.136667   12.921236   2.442124\n",
       "1   0.123571  0.143000    2.312923   2.262054\n",
       "2   0.156000  0.164000    2.216932   2.181614\n",
       "3   0.166429  0.189000    2.185550   2.140445\n",
       "4   0.161857  0.176333    2.192077   2.140859"
      ]
     },
     "execution_count": 13,
     "metadata": {},
     "output_type": "execute_result"
    }
   ],
   "source": [
    "df.head()"
   ]
  },
  {
   "cell_type": "code",
   "execution_count": 14,
   "metadata": {},
   "outputs": [
    {
     "name": "stdout",
     "output_type": "stream",
     "text": [
      "0.5256666666666666\n"
     ]
    }
   ],
   "source": [
    "print(df[\"test_acc\"].max())"
   ]
  },
  {
   "cell_type": "code",
   "execution_count": 15,
   "metadata": {},
   "outputs": [
    {
     "name": "stdout",
     "output_type": "stream",
     "text": [
      "     train_acc  test_acc  train_loss  test_loss\n",
      "0     0.113429  0.136667   12.921236   2.442124\n",
      "1     0.123571  0.143000    2.312923   2.262054\n",
      "2     0.156000  0.164000    2.216932   2.181614\n",
      "3     0.166429  0.189000    2.185550   2.140445\n",
      "4     0.161857  0.176333    2.192077   2.140859\n",
      "5     0.171000  0.139667    2.169422   2.189858\n",
      "6     0.167143  0.179333    2.165221   2.126335\n",
      "7     0.173143  0.169667    2.150317   2.135831\n",
      "8     0.174429  0.176000    2.144677   2.152940\n",
      "9     0.175571  0.197333    2.136932   2.108570\n",
      "10    0.172571  0.182000    2.125250   2.170014\n",
      "11    0.178857  0.190000    2.131106   2.101869\n",
      "12    0.181714  0.177667    2.125112   2.115838\n",
      "13    0.188571  0.195000    2.118382   2.083694\n",
      "14    0.183571  0.188000    2.109292   2.111901\n",
      "15    0.177000  0.196333    2.112808   2.106177\n",
      "16    0.180286  0.186667    2.098805   2.079786\n",
      "17    0.182286  0.175667    2.096363   2.110728\n",
      "18    0.195429  0.191000    2.099069   2.085087\n",
      "19    0.189857  0.178333    2.092283   2.141472\n",
      "20    0.192286  0.217667    2.085252   2.065389\n",
      "21    0.189857  0.199000    2.086514   2.116853\n",
      "22    0.196286  0.205000    2.075457   2.052787\n",
      "23    0.193429  0.180000    2.073499   2.094764\n",
      "24    0.194429  0.205333    2.078562   2.066074\n",
      "25    0.199429  0.197333    2.079758   2.063821\n",
      "26    0.196429  0.195000    2.075002   2.126503\n",
      "27    0.205714  0.201000    2.067648   2.056106\n",
      "28    0.209714  0.213667    2.054687   2.065113\n",
      "29    0.221143  0.240667    2.025783   1.993323\n",
      "30    0.248143  0.256000    1.980020   1.960514\n",
      "31    0.254571  0.259667    1.948362   1.971703\n",
      "32    0.255429  0.247000    1.945008   1.973148\n",
      "33    0.267571  0.280000    1.924776   1.913171\n",
      "34    0.270429  0.273000    1.912171   1.907005\n",
      "35    0.289714  0.293333    1.901004   1.885340\n",
      "36    0.294571  0.306000    1.861385   1.877862\n",
      "37    0.298857  0.306000    1.861771   1.836759\n",
      "38    0.309286  0.330667    1.838417   1.833534\n",
      "39    0.321714  0.344000    1.806795   1.811064\n",
      "40    0.320571  0.352667    1.798242   1.760678\n",
      "41    0.333571  0.344667    1.775698   1.782875\n",
      "42    0.347857  0.336333    1.771457   1.781300\n",
      "43    0.346857  0.347333    1.766782   1.759821\n",
      "44    0.360143  0.338667    1.731699   1.779165\n",
      "45    0.360000  0.343667    1.732378   1.794973\n",
      "46    0.364000  0.364333    1.719209   1.730699\n",
      "47    0.368429  0.356000    1.700275   1.734701\n",
      "48    0.378714  0.379333    1.675730   1.686023\n",
      "49    0.386857  0.379333    1.662182   1.692999\n",
      "50    0.389429  0.396667    1.660837   1.674304\n",
      "51    0.392429  0.384000    1.643895   1.687430\n",
      "52    0.397571  0.396333    1.635828   1.662399\n",
      "53    0.402286  0.401333    1.632942   1.635952\n",
      "54    0.409714  0.413000    1.605940   1.627735\n",
      "55    0.419143  0.399667    1.590202   1.646961\n",
      "56    0.421143  0.417667    1.572166   1.612146\n",
      "57    0.425857  0.420333    1.557920   1.611016\n",
      "58    0.435714  0.418333    1.554763   1.602756\n",
      "59    0.443143  0.420000    1.526988   1.612544\n",
      "60    0.455143  0.440000    1.517931   1.571148\n",
      "61    0.458857  0.436000    1.500219   1.567514\n",
      "62    0.457857  0.442333    1.500777   1.582773\n",
      "63    0.466286  0.445667    1.491942   1.570327\n",
      "64    0.467143  0.438667    1.482915   1.570341\n",
      "65    0.476857  0.450000    1.470278   1.565424\n",
      "66    0.476714  0.445000    1.466132   1.561003\n",
      "67    0.477857  0.453667    1.451392   1.546741\n",
      "68    0.481857  0.462333    1.440256   1.518858\n",
      "69    0.494286  0.461000    1.420918   1.524302\n",
      "70    0.498714  0.454667    1.412158   1.540051\n",
      "71    0.502000  0.459667    1.395768   1.508254\n",
      "72    0.504143  0.450333    1.396725   1.527904\n",
      "73    0.506143  0.456000    1.393152   1.499556\n",
      "74    0.501143  0.474667    1.394008   1.500947\n",
      "75    0.507000  0.465667    1.377744   1.500835\n",
      "76    0.514714  0.468667    1.365422   1.483298\n",
      "77    0.513143  0.475000    1.359783   1.483706\n",
      "78    0.520571  0.469667    1.360000   1.497565\n",
      "79    0.515000  0.480000    1.360729   1.468955\n",
      "80    0.518857  0.465667    1.350978   1.494974\n",
      "81    0.530000  0.481333    1.330266   1.458817\n",
      "82    0.528000  0.473000    1.327071   1.475328\n",
      "83    0.526286  0.468000    1.317543   1.472815\n",
      "84    0.533143  0.485000    1.316740   1.462982\n",
      "85    0.539143  0.472000    1.312542   1.467609\n",
      "86    0.534714  0.477000    1.313558   1.474559\n",
      "87    0.542571  0.482000    1.305943   1.459455\n",
      "88    0.539000  0.494333    1.295251   1.441692\n",
      "89    0.542857  0.487333    1.292423   1.427670\n",
      "90    0.549286  0.495333    1.285994   1.432653\n",
      "91    0.544143  0.495667    1.294329   1.441177\n",
      "92    0.545571  0.497333    1.281590   1.427147\n",
      "93    0.558143  0.490000    1.261393   1.449053\n",
      "94    0.552143  0.497667    1.278779   1.433137\n",
      "95    0.557429  0.493667    1.259813   1.441436\n",
      "96    0.557571  0.489333    1.244746   1.439702\n",
      "97    0.557429  0.489333    1.258693   1.435288\n",
      "98    0.564000  0.500000    1.244884   1.429468\n",
      "99    0.559714  0.492000    1.249620   1.452518\n",
      "100   0.555286  0.487000    1.250862   1.436360\n",
      "101   0.565857  0.489000    1.230019   1.453329\n",
      "102   0.563714  0.503000    1.244706   1.416133\n",
      "103   0.566000  0.510333    1.236207   1.409584\n",
      "104   0.566286  0.505667    1.231252   1.419560\n",
      "105   0.559000  0.509000    1.233919   1.415419\n",
      "106   0.568000  0.497667    1.224695   1.415969\n",
      "107   0.570571  0.505667    1.219738   1.413328\n",
      "108   0.573714  0.499667    1.212128   1.423821\n",
      "109   0.568286  0.506000    1.218518   1.422245\n",
      "110   0.575000  0.503000    1.211521   1.407333\n",
      "111   0.569571  0.512000    1.215001   1.419263\n",
      "112   0.574286  0.512000    1.207442   1.404383\n",
      "113   0.580000  0.505333    1.197367   1.421023\n",
      "114   0.574857  0.506667    1.209862   1.407673\n",
      "115   0.577857  0.503667    1.203707   1.411857\n",
      "116   0.574857  0.504000    1.205056   1.410430\n",
      "117   0.573429  0.512000    1.196771   1.399610\n",
      "118   0.576143  0.507667    1.213368   1.401575\n",
      "119   0.580000  0.515667    1.198992   1.406634\n",
      "120   0.577857  0.504000    1.198330   1.392257\n",
      "121   0.577143  0.507333    1.195087   1.404745\n",
      "122   0.586000  0.509333    1.178797   1.409672\n",
      "123   0.578286  0.502667    1.188210   1.393063\n",
      "124   0.584714  0.508333    1.177834   1.415527\n",
      "125   0.576714  0.511667    1.189613   1.389079\n",
      "126   0.588571  0.516667    1.176479   1.401831\n",
      "127   0.584571  0.514000    1.179833   1.387073\n",
      "128   0.588857  0.508333    1.174861   1.384387\n",
      "129   0.587286  0.518667    1.168683   1.394976\n",
      "130   0.582571  0.506667    1.182776   1.402103\n",
      "131   0.590714  0.516667    1.169502   1.397260\n",
      "132   0.592857  0.518333    1.173225   1.391705\n",
      "133   0.583857  0.507333    1.169803   1.396325\n",
      "134   0.586429  0.508667    1.170178   1.394110\n",
      "135   0.590286  0.521000    1.166649   1.400245\n",
      "136   0.592429  0.520000    1.165377   1.397652\n",
      "137   0.591571  0.508000    1.151825   1.384448\n",
      "138   0.594571  0.513667    1.160896   1.380778\n",
      "139   0.593286  0.511000    1.157894   1.398408\n",
      "140   0.587571  0.505667    1.167339   1.404098\n",
      "141   0.590429  0.509000    1.163282   1.387160\n",
      "142   0.589714  0.516333    1.162995   1.377386\n",
      "143   0.594286  0.506000    1.163628   1.398351\n",
      "144   0.584857  0.514667    1.163044   1.392880\n",
      "145   0.590429  0.501667    1.164133   1.404359\n",
      "146   0.596000  0.521667    1.150043   1.390507\n",
      "147   0.596286  0.513000    1.147744   1.416471\n",
      "148   0.595429  0.517333    1.156261   1.392938\n",
      "149   0.590429  0.518333    1.159111   1.392254\n",
      "150   0.589857  0.513000    1.159953   1.396421\n",
      "151   0.592429  0.512333    1.149269   1.401038\n",
      "152   0.585571  0.518667    1.153244   1.401340\n",
      "153   0.594143  0.521000    1.150764   1.380107\n",
      "154   0.596857  0.523667    1.151017   1.397179\n",
      "155   0.598429  0.520333    1.153853   1.393726\n",
      "156   0.596857  0.506667    1.149032   1.393295\n",
      "157   0.591571  0.506000    1.157345   1.396099\n",
      "158   0.599714  0.514667    1.148159   1.389490\n",
      "159   0.597429  0.511333    1.155692   1.394910\n",
      "160   0.600571  0.511333    1.143524   1.375274\n",
      "161   0.594143  0.508333    1.160804   1.401240\n",
      "162   0.592429  0.513667    1.152726   1.388938\n",
      "163   0.607714  0.515333    1.141075   1.391975\n",
      "164   0.592571  0.510000    1.155427   1.398171\n",
      "165   0.600000  0.516333    1.144611   1.396194\n",
      "166   0.597714  0.515333    1.142703   1.392523\n",
      "167   0.590143  0.518000    1.157098   1.396268\n",
      "168   0.595571  0.509667    1.151735   1.396909\n",
      "169   0.603571  0.510000    1.148825   1.389801\n",
      "170   0.594857  0.519667    1.157864   1.392199\n",
      "171   0.598429  0.506000    1.149345   1.404390\n",
      "172   0.602143  0.510000    1.143484   1.395553\n",
      "173   0.599714  0.508667    1.140158   1.395872\n",
      "174   0.604857  0.515333    1.139794   1.379767\n",
      "175   0.604429  0.509000    1.145026   1.396270\n",
      "176   0.593714  0.512667    1.157493   1.399899\n",
      "177   0.594714  0.501333    1.148198   1.399834\n",
      "178   0.600143  0.518333    1.143151   1.388151\n",
      "179   0.599857  0.513333    1.144126   1.391987\n",
      "180   0.596286  0.516667    1.142984   1.391471\n",
      "181   0.601000  0.517000    1.149932   1.385420\n",
      "182   0.599571  0.509667    1.136321   1.399093\n",
      "183   0.601143  0.525667    1.129027   1.375150\n",
      "184   0.599571  0.516000    1.145993   1.387074\n",
      "185   0.602429  0.509000    1.141035   1.389674\n",
      "186   0.604000  0.509333    1.140089   1.388431\n",
      "187   0.592000  0.506000    1.152780   1.411239\n",
      "188   0.597571  0.517333    1.145906   1.388384\n",
      "189   0.600429  0.509000    1.137703   1.400047\n",
      "190   0.604143  0.507667    1.132426   1.382807\n",
      "191   0.597857  0.511667    1.136060   1.390120\n",
      "192   0.593000  0.508667    1.155793   1.406310\n",
      "193   0.589714  0.519333    1.150195   1.391676\n",
      "194   0.597429  0.511667    1.145313   1.401347\n",
      "195   0.594429  0.509667    1.145524   1.392317\n",
      "196   0.594714  0.503000    1.155774   1.400187\n",
      "197   0.598714  0.516000    1.136929   1.394008\n",
      "198   0.598571  0.514333    1.139229   1.383000\n",
      "199   0.599857  0.515333    1.144757   1.386447\n",
      "200   0.599571  0.514333    1.135900   1.400526\n",
      "201   0.596286  0.512333    1.152577   1.396239\n",
      "202   0.601571  0.519000    1.131226   1.390753\n",
      "203   0.599714  0.508333    1.145710   1.392618\n",
      "204   0.594857  0.512333    1.145212   1.402412\n",
      "205   0.590000  0.517000    1.157353   1.402819\n",
      "206   0.600143  0.512667    1.139541   1.398332\n",
      "207   0.594857  0.523667    1.155188   1.388525\n",
      "208   0.601429  0.506000    1.141095   1.389397\n",
      "209   0.605000  0.514333    1.140841   1.393815\n",
      "210   0.597286  0.509333    1.136943   1.391673\n",
      "211   0.603429  0.509667    1.127176   1.393046\n",
      "212   0.602714  0.516333    1.137996   1.397555\n",
      "213   0.601286  0.517000    1.146548   1.394726\n",
      "214   0.601714  0.513333    1.142498   1.390914\n",
      "215   0.596714  0.510333    1.149272   1.403736\n",
      "216   0.605571  0.513333    1.139068   1.402416\n",
      "217   0.600286  0.517667    1.137268   1.399507\n",
      "218   0.604857  0.519333    1.133839   1.387277\n",
      "219   0.596571  0.515000    1.148750   1.380302\n",
      "220   0.601286  0.507333    1.151522   1.383409\n",
      "221   0.602000  0.509333    1.148776   1.408845\n",
      "222   0.597143  0.510667    1.143451   1.377685\n",
      "223   0.605000  0.518000    1.126039   1.385051\n",
      "224   0.601286  0.509333    1.150451   1.393782\n",
      "225   0.591143  0.511667    1.140953   1.404766\n",
      "226   0.596429  0.511333    1.146095   1.392646\n",
      "227   0.597429  0.510667    1.143010   1.398797\n",
      "228   0.596857  0.508000    1.142610   1.402900\n",
      "229   0.595000  0.516333    1.141454   1.399421\n",
      "230   0.599429  0.520667    1.149467   1.391402\n",
      "231   0.602286  0.508667    1.145023   1.396038\n",
      "232   0.602286  0.511333    1.144064   1.385720\n",
      "233   0.595571  0.511000    1.144408   1.398930\n",
      "234   0.592000  0.517000    1.149320   1.390561\n",
      "235   0.598286  0.513000    1.149331   1.392078\n",
      "236   0.598429  0.515333    1.142589   1.388118\n",
      "237   0.594143  0.518000    1.152849   1.390133\n",
      "238   0.597429  0.510667    1.140080   1.403019\n",
      "239   0.600714  0.501667    1.152193   1.391213\n",
      "240   0.604143  0.506000    1.138745   1.415151\n",
      "241   0.596000  0.519667    1.141656   1.389339\n",
      "242   0.603857  0.514000    1.143431   1.397274\n",
      "243   0.594286  0.511667    1.146530   1.399805\n",
      "244   0.598714  0.516333    1.148341   1.383456\n",
      "245   0.595714  0.509667    1.137714   1.388025\n",
      "246   0.595714  0.512000    1.149951   1.385493\n",
      "247   0.596429  0.509667    1.146394   1.406231\n",
      "248   0.597857  0.522000    1.145384   1.390400\n",
      "249   0.601857  0.517333    1.132857   1.398168\n",
      "250   0.591571  0.517667    1.152904   1.386756\n",
      "251   0.596714  0.515000    1.148705   1.397078\n",
      "252   0.602429  0.519000    1.138512   1.407133\n",
      "253   0.604571  0.525333    1.131269   1.386156\n",
      "254   0.603714  0.513667    1.131965   1.391087\n",
      "255   0.597714  0.514000    1.138843   1.393258\n",
      "256   0.595571  0.506333    1.152830   1.399145\n",
      "257   0.597571  0.515000    1.136781   1.382131\n",
      "258   0.595857  0.508000    1.142931   1.402298\n",
      "259   0.601000  0.515667    1.139267   1.388231\n",
      "260   0.596714  0.512667    1.141580   1.396950\n",
      "261   0.594143  0.506667    1.144968   1.397890\n",
      "262   0.602714  0.510000    1.154798   1.388321\n",
      "263   0.598571  0.513333    1.138559   1.396694\n",
      "264   0.605714  0.509333    1.134648   1.396290\n",
      "265   0.603000  0.518333    1.135964   1.377375\n",
      "266   0.594571  0.506667    1.151813   1.400460\n",
      "267   0.603571  0.515667    1.139240   1.382605\n",
      "268   0.600857  0.521000    1.148878   1.390286\n",
      "269   0.595143  0.504667    1.152541   1.391508\n",
      "270   0.597143  0.510000    1.133141   1.405990\n",
      "271   0.601429  0.514333    1.145716   1.387074\n",
      "272   0.602143  0.511667    1.144307   1.402967\n",
      "273   0.598143  0.517667    1.144896   1.394890\n",
      "274   0.594857  0.518333    1.137694   1.388059\n",
      "275   0.594714  0.514667    1.152102   1.394236\n",
      "276   0.601714  0.517667    1.135808   1.380406\n",
      "277   0.594143  0.519667    1.147893   1.391303\n",
      "278   0.602286  0.516667    1.143648   1.398032\n",
      "279   0.600714  0.508333    1.137459   1.407754\n",
      "280   0.602571  0.519000    1.146714   1.386329\n",
      "281   0.600286  0.511333    1.137312   1.385758\n",
      "282   0.607571  0.511333    1.136286   1.400644\n",
      "283   0.598000  0.512000    1.137601   1.397800\n",
      "284   0.595714  0.504000    1.139844   1.402523\n",
      "285   0.595143  0.518000    1.153679   1.381393\n",
      "286   0.596429  0.522333    1.140255   1.387908\n",
      "287   0.599714  0.515333    1.146685   1.393809\n",
      "288   0.595000  0.510000    1.142704   1.397664\n",
      "289   0.597143  0.516333    1.131585   1.391402\n",
      "290   0.592714  0.514667    1.150641   1.399623\n",
      "291   0.589429  0.513000    1.152554   1.389274\n",
      "292   0.605143  0.520000    1.142561   1.393647\n",
      "293   0.597571  0.519000    1.139159   1.395418\n",
      "294   0.604571  0.506000    1.135491   1.401568\n",
      "295   0.596429  0.517000    1.136986   1.397030\n",
      "296   0.599286  0.512000    1.148954   1.385120\n",
      "297   0.600714  0.516667    1.136244   1.380829\n",
      "298   0.602000  0.513333    1.144529   1.396999\n",
      "299   0.600000  0.513333    1.135506   1.398758\n"
     ]
    }
   ],
   "source": [
    "print(df.to_string())"
   ]
  }
 ],
 "metadata": {
  "kernelspec": {
   "display_name": "Python 3",
   "language": "python",
   "name": "python3"
  },
  "language_info": {
   "codemirror_mode": {
    "name": "ipython",
    "version": 3
   },
   "file_extension": ".py",
   "mimetype": "text/x-python",
   "name": "python",
   "nbconvert_exporter": "python",
   "pygments_lexer": "ipython3",
   "version": "3.9.13"
  }
 },
 "nbformat": 4,
 "nbformat_minor": 2
}
