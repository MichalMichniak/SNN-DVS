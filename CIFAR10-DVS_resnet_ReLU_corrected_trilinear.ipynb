{
 "cells": [
  {
   "cell_type": "code",
   "execution_count": 1,
   "metadata": {},
   "outputs": [
    {
     "name": "stderr",
     "output_type": "stream",
     "text": [
      "c:\\Users\\nikos\\AppData\\Local\\Programs\\Python\\Python39\\lib\\site-packages\\torchvision\\datapoints\\__init__.py:12: UserWarning: The torchvision.datapoints and torchvision.transforms.v2 namespaces are still Beta. While we do not expect major breaking changes, some APIs may still change according to user feedback. Please submit any feedback you may have in this issue: https://github.com/pytorch/vision/issues/6753, and you can also check out https://github.com/pytorch/vision/issues/7319 to learn more about the APIs that we suspect might involve future changes. You can silence this warning by calling torchvision.disable_beta_transforms_warning().\n",
      "  warnings.warn(_BETA_TRANSFORMS_WARNING)\n",
      "c:\\Users\\nikos\\AppData\\Local\\Programs\\Python\\Python39\\lib\\site-packages\\torchvision\\transforms\\v2\\__init__.py:54: UserWarning: The torchvision.datapoints and torchvision.transforms.v2 namespaces are still Beta. While we do not expect major breaking changes, some APIs may still change according to user feedback. Please submit any feedback you may have in this issue: https://github.com/pytorch/vision/issues/6753, and you can also check out https://github.com/pytorch/vision/issues/7319 to learn more about the APIs that we suspect might involve future changes. You can silence this warning by calling torchvision.disable_beta_transforms_warning().\n",
      "  warnings.warn(_BETA_TRANSFORMS_WARNING)\n"
     ]
    },
    {
     "data": {
      "text/plain": [
       "<torch._C.Generator at 0x2a799e1e050>"
      ]
     },
     "execution_count": 1,
     "metadata": {},
     "output_type": "execute_result"
    }
   ],
   "source": [
    "import numpy as np\n",
    "import cv2\n",
    "import matplotlib.pyplot as plt\n",
    "import os\n",
    "import argparse\n",
    "import pickle as pkl\n",
    "import time\n",
    "from copy import deepcopy\n",
    "\n",
    "from tqdm import tqdm\n",
    "import torch.optim.lr_scheduler as lr_scheduler\n",
    "import os\n",
    "import pandas as pd\n",
    "from torchvision.io import read_image\n",
    "import torch\n",
    "from torch.utils.data import Dataset\n",
    "from torchvision import datasets\n",
    "from torchvision.transforms import ToTensor\n",
    "import matplotlib.pyplot as plt\n",
    "from random import shuffle\n",
    "from torch import nn\n",
    "from torchvision.models import resnet50, ResNet50_Weights\n",
    "import torch.nn.functional as F\n",
    "from torchvision.transforms import v2\n",
    "torch.manual_seed(19)"
   ]
  },
  {
   "cell_type": "code",
   "execution_count": 2,
   "metadata": {},
   "outputs": [],
   "source": [
    "transforms = v2.Compose([\n",
    "    # v2.RandomResizedCrop(size=(224, 224), antialias=True),\n",
    "    v2.RandomHorizontalFlip(p=0.5),\n",
    "    v2.RandomPerspective(0.4),\n",
    "    v2.ToDtype(torch.float32)\n",
    "])\n",
    "\n",
    "class NCarsImageDataset(Dataset):\n",
    "    def __init__(self, img_dir_file, transform=None, target_transform=None):\n",
    "        self.images = np.load(img_dir_file + '_x.npy')\n",
    "        self.labels = np.load(img_dir_file + '_y.npy')\n",
    "        self.transform = transform\n",
    "        self.target_transform = target_transform\n",
    "\n",
    "    def __len__(self):\n",
    "        return len(self.labels)\n",
    "\n",
    "    def __getitem__(self, idx):\n",
    "        image = self.images[idx]\n",
    "        label = self.labels[idx]\n",
    "        # if self.transform:\n",
    "        #     image = self.transform(image)\n",
    "        # if self.target_transform:\n",
    "        #     label = self.target_transform(label)\n",
    "        label_temp = np.zeros((10,))\n",
    "        label_temp[label] = 1\n",
    "        if self.stage == 0:\n",
    "            return self.transform(torch.tensor(image)), torch.tensor(label_temp)\n",
    "        else:\n",
    "            return torch.tensor(image), torch.tensor(label_temp)\n",
    "    \n",
    "    def set_stage(self, stage):\n",
    "        self.stage = stage"
   ]
  },
  {
   "cell_type": "code",
   "execution_count": 3,
   "metadata": {},
   "outputs": [],
   "source": [
    "from torch.utils.data import DataLoader\n",
    "data = NCarsImageDataset(\"./Datasety/CIFAR10-DVS_128\", transform=transforms)\n",
    "\n",
    "generator1 = torch.Generator().manual_seed(42)\n",
    "test_data, training_data = torch.utils.data.random_split(data, [0.3, 0.7], generator=generator1)\n",
    "\n",
    "del data"
   ]
  },
  {
   "cell_type": "code",
   "execution_count": 4,
   "metadata": {},
   "outputs": [],
   "source": [
    "train_dataloader = DataLoader(training_data, batch_size=32, shuffle=True)\n",
    "test_dataloader = DataLoader(test_data, batch_size=32, shuffle=True)"
   ]
  },
  {
   "cell_type": "code",
   "execution_count": 5,
   "metadata": {},
   "outputs": [],
   "source": [
    "class ResidualBlock(nn.Module):\n",
    "    def __init__(self, in_channels, out_channels, stride=1, downsample=None, end_maxpool = False):\n",
    "        super(ResidualBlock, self).__init__()\n",
    "        if(downsample is not None):\n",
    "            self.conv1 = nn.Sequential(\n",
    "                            nn.Conv2d(in_channels, out_channels, kernel_size=3, padding='same'),\n",
    "                            nn.BatchNorm2d(out_channels),\n",
    "                            nn.ReLU(inplace=False),\n",
    "                            nn.MaxPool2d(kernel_size=2, stride=2)\n",
    "                            )  # Changed inplace to False\n",
    "        else:\n",
    "            self.conv1 = nn.Sequential(\n",
    "                            nn.Conv2d(in_channels, out_channels, kernel_size=3, padding='same'),\n",
    "                            nn.BatchNorm2d(out_channels),\n",
    "                            nn.ReLU(inplace=False)\n",
    "                            )\n",
    "        self.conv2 = nn.Sequential(\n",
    "                        nn.Conv2d(out_channels, out_channels, kernel_size=3, stride=1, padding=1),\n",
    "                        nn.BatchNorm2d(out_channels),\n",
    "                        nn.ReLU(inplace=False))  # Changed inplace to False\n",
    "        self.downsample = downsample\n",
    "        self.relu = nn.ReLU(inplace=False)  # Changed inplace to False\n",
    "        self.out_channels = out_channels\n",
    "        self.end_maxpool = end_maxpool\n",
    "\n",
    "    def forward(self, x):\n",
    "        residual = x\n",
    "        out = self.conv1(x)\n",
    "        out = self.conv2(out)\n",
    "        if self.downsample:\n",
    "            residual = self.downsample(x)\n",
    "        out = out + residual\n",
    "        if self.end_maxpool:\n",
    "            out = F.relu(out, inplace=False)\n",
    "        else:\n",
    "            out = F.relu(out, inplace=False)   # Use non-in-place ReLU\n",
    "        return out\n",
    "\n",
    "class ResNet(nn.Module):\n",
    "    def __init__(self, block, layers, num_classes = 2, in_channels = 5):\n",
    "        super(ResNet, self).__init__()\n",
    "        self.inplanes = 64\n",
    "        self.conv1 = nn.Sequential(\n",
    "                        nn.Conv2d(in_channels, 64, kernel_size = 7, stride = 1, padding = 3),\n",
    "                        nn.BatchNorm2d(64),\n",
    "                        nn.ReLU(inplace=False))\n",
    "        self.maxpool = nn.MaxPool2d(kernel_size = 3, stride = 2, padding = 1)\n",
    "        self.layer0 = self._make_layer(block, 64, layers[0], stride = 1)\n",
    "        self.layer1 = self._make_layer(block, 128, layers[1], stride = 2)\n",
    "        self.layer2 = self._make_layer(block, 256, layers[2], stride = 2)\n",
    "        self.layer3 = self._make_layer(block, 512, layers[3], stride = 2, end_maxpool = True)\n",
    "        self.avgpool = nn.MaxPool2d(7, stride=1)\n",
    "        self.fc = nn.Linear(2048, 512)\n",
    "        self.fc2 = nn.Linear(512, num_classes)\n",
    "\n",
    "    def _make_layer(self, block, planes, blocks, stride=1, end_maxpool = False):\n",
    "        downsample = None\n",
    "        if stride != 1 or self.inplanes != planes:\n",
    "\n",
    "            downsample = nn.Sequential(\n",
    "                nn.Conv2d(self.inplanes, planes, kernel_size=1, stride=1, padding='same'),\n",
    "                nn.BatchNorm2d(planes),\n",
    "                nn.ReLU(inplace=False),\n",
    "                nn.MaxPool2d(kernel_size=2, stride=2)\n",
    "            )\n",
    "        layers = []\n",
    "        layers.append(block(self.inplanes, planes, stride, downsample))\n",
    "        self.inplanes = planes\n",
    "        for i in range(1, blocks):\n",
    "            if i == blocks-1 and end_maxpool:\n",
    "                layers.append(block(self.inplanes, planes, end_maxpool = True))\n",
    "            else:\n",
    "                layers.append(block(self.inplanes, planes))\n",
    "\n",
    "        return nn.Sequential(*layers)\n",
    "    \n",
    "    def forward(self, x):\n",
    "        x = self.conv1(x)\n",
    "        x = self.maxpool(x)\n",
    "        x = self.layer0(x)\n",
    "        x = self.layer1(x)\n",
    "        x = self.layer2(x)\n",
    "        x = self.layer3(x)\n",
    "        x = self.avgpool(x)\n",
    "        x = x.view(x.size(0), -1)\n",
    "        x = self.fc(x)\n",
    "        x = F.relu(x, inplace=False)\n",
    "        x = self.fc2(x)\n",
    "        return x\n",
    "    \n",
    "    def train_model(self, train_loader, valid_loader, num_epochs = 5, learning_rate=0.001, save_best = False, save_thr = 0.94):\n",
    "        best_accuracy = 0.0\n",
    "        total_step = len(train_loader)\n",
    "        train_accuracy_h = []\n",
    "        test_accuracy_h = []\n",
    "        train_loss_h = []\n",
    "        test_loss_h = []\n",
    "        # Loss and optimizer\n",
    "        criterion = nn.CrossEntropyLoss()\n",
    "        optimizer = torch.optim.RMSprop(self.parameters(), lr=learning_rate, weight_decay = 0.005, momentum = 0.9)  \n",
    "        scheduler = lr_scheduler.ExponentialLR(optimizer, gamma=0.96)#LinearLR(optimizer,  start_factor=start_factor, end_factor=end_factor, total_iters=total_iters)\n",
    "        for epoch in range(num_epochs):\n",
    "            # self.train()\n",
    "            correct = 0\n",
    "            total = 0\n",
    "            running_loss = 0.0\n",
    "            train_loader.dataset.dataset.set_stage(0)\n",
    "            for i, (images, labels) in enumerate(tqdm(train_loader)):\n",
    "                # Move tensors to the configured device\n",
    "                images = images.float().to(\"cuda\")\n",
    "                labels = labels.type(torch.FloatTensor)\n",
    "                labels = labels.to(\"cuda\")\n",
    "\n",
    "\n",
    "                optimizer.zero_grad()\n",
    "\n",
    "                # Forward pass\n",
    "                outputs = self.forward(images)\n",
    "                loss = criterion(outputs, labels)\n",
    "                # Backward and optimize\n",
    "                loss.backward()\n",
    "                \n",
    "                optimizer.step()\n",
    "\n",
    "                # accuracy\n",
    "                _, predicted = torch.max(outputs.data, 1)\n",
    "                correct += (torch.eq(predicted, torch.max(labels,1)[1])).sum().item()\n",
    "                total += labels.size(0)\n",
    "                running_loss += loss.item()\n",
    "                del images, labels, outputs\n",
    "            train_accuracy_h.append((float(correct))/total)\n",
    "            train_loss_h.append(running_loss/len(train_loader))\n",
    "            print ('Epoch [{}/{}], Step [{}/{}], Loss: {:.4f}, Accuracy: {:.4f}'\n",
    "                            .format(epoch+1, num_epochs, i+1, total_step, running_loss/len(train_loader), (float(correct))/total))\n",
    "\n",
    "            scheduler.step()\n",
    "            if torch.cuda.is_available():\n",
    "                torch.cuda.empty_cache()\n",
    "\n",
    "            # Validation\n",
    "            with torch.no_grad():\n",
    "                correct = 0\n",
    "                total = 0\n",
    "                val_loss = 0.0\n",
    "                valid_loader.dataset.dataset.set_stage(1)\n",
    "                for images, labels in valid_loader:\n",
    "                    images = images.float().to(\"cuda\")\n",
    "                    labels = labels.type(torch.FloatTensor)\n",
    "                    labels = labels.to(\"cuda\")\n",
    "                    outputs = self.forward(images)\n",
    "                    _, predicted = torch.max(outputs.data, 1)\n",
    "                    total += labels.size(0)\n",
    "                    correct += (torch.eq(predicted, torch.max(labels,1)[1])).sum().item()\n",
    "                    loss = criterion(outputs, labels)\n",
    "                    val_loss += loss.item()\n",
    "                    del images, labels, outputs\n",
    "                if(((100 * correct / total) > best_accuracy) and save_best and ((100 * correct / total) > save_thr)):\n",
    "                    torch.save(self.state_dict(), \"best_resnet50_CIFAR10-DVS_ReLU_ReLUmaxpool__128x128_FC2_128x128_pretrained_aug_corrected_trilinear.pt\")\n",
    "                test_accuracy_h.append((float(correct))/total)\n",
    "                test_loss_h.append(val_loss/len(valid_loader))\n",
    "                print('Accuracy of the network: {} Loss: {}'.format( correct / total, val_loss/len(valid_loader)))\n",
    "        return train_accuracy_h, test_accuracy_h, train_loss_h, test_loss_h"
   ]
  },
  {
   "cell_type": "code",
   "execution_count": 6,
   "metadata": {},
   "outputs": [
    {
     "name": "stdout",
     "output_type": "stream",
     "text": [
      "ResNet(\n",
      "  (conv1): Sequential(\n",
      "    (0): Conv2d(6, 64, kernel_size=(7, 7), stride=(1, 1), padding=(3, 3))\n",
      "    (1): BatchNorm2d(64, eps=1e-05, momentum=0.1, affine=True, track_running_stats=True)\n",
      "    (2): ReLU()\n",
      "  )\n",
      "  (maxpool): MaxPool2d(kernel_size=3, stride=2, padding=1, dilation=1, ceil_mode=False)\n",
      "  (layer0): Sequential(\n",
      "    (0): ResidualBlock(\n",
      "      (conv1): Sequential(\n",
      "        (0): Conv2d(64, 64, kernel_size=(3, 3), stride=(1, 1), padding=same)\n",
      "        (1): BatchNorm2d(64, eps=1e-05, momentum=0.1, affine=True, track_running_stats=True)\n",
      "        (2): ReLU()\n",
      "      )\n",
      "      (conv2): Sequential(\n",
      "        (0): Conv2d(64, 64, kernel_size=(3, 3), stride=(1, 1), padding=(1, 1))\n",
      "        (1): BatchNorm2d(64, eps=1e-05, momentum=0.1, affine=True, track_running_stats=True)\n",
      "        (2): ReLU()\n",
      "      )\n",
      "      (relu): ReLU()\n",
      "    )\n",
      "    (1): ResidualBlock(\n",
      "      (conv1): Sequential(\n",
      "        (0): Conv2d(64, 64, kernel_size=(3, 3), stride=(1, 1), padding=same)\n",
      "        (1): BatchNorm2d(64, eps=1e-05, momentum=0.1, affine=True, track_running_stats=True)\n",
      "        (2): ReLU()\n",
      "      )\n",
      "      (conv2): Sequential(\n",
      "        (0): Conv2d(64, 64, kernel_size=(3, 3), stride=(1, 1), padding=(1, 1))\n",
      "        (1): BatchNorm2d(64, eps=1e-05, momentum=0.1, affine=True, track_running_stats=True)\n",
      "        (2): ReLU()\n",
      "      )\n",
      "      (relu): ReLU()\n",
      "    )\n",
      "    (2): ResidualBlock(\n",
      "      (conv1): Sequential(\n",
      "        (0): Conv2d(64, 64, kernel_size=(3, 3), stride=(1, 1), padding=same)\n",
      "        (1): BatchNorm2d(64, eps=1e-05, momentum=0.1, affine=True, track_running_stats=True)\n",
      "        (2): ReLU()\n",
      "      )\n",
      "      (conv2): Sequential(\n",
      "        (0): Conv2d(64, 64, kernel_size=(3, 3), stride=(1, 1), padding=(1, 1))\n",
      "        (1): BatchNorm2d(64, eps=1e-05, momentum=0.1, affine=True, track_running_stats=True)\n",
      "        (2): ReLU()\n",
      "      )\n",
      "      (relu): ReLU()\n",
      "    )\n",
      "  )\n",
      "  (layer1): Sequential(\n",
      "    (0): ResidualBlock(\n",
      "      (conv1): Sequential(\n",
      "        (0): Conv2d(64, 128, kernel_size=(3, 3), stride=(1, 1), padding=same)\n",
      "        (1): BatchNorm2d(128, eps=1e-05, momentum=0.1, affine=True, track_running_stats=True)\n",
      "        (2): ReLU()\n",
      "        (3): MaxPool2d(kernel_size=2, stride=2, padding=0, dilation=1, ceil_mode=False)\n",
      "      )\n",
      "      (conv2): Sequential(\n",
      "        (0): Conv2d(128, 128, kernel_size=(3, 3), stride=(1, 1), padding=(1, 1))\n",
      "        (1): BatchNorm2d(128, eps=1e-05, momentum=0.1, affine=True, track_running_stats=True)\n",
      "        (2): ReLU()\n",
      "      )\n",
      "      (downsample): Sequential(\n",
      "        (0): Conv2d(64, 128, kernel_size=(1, 1), stride=(1, 1), padding=same)\n",
      "        (1): BatchNorm2d(128, eps=1e-05, momentum=0.1, affine=True, track_running_stats=True)\n",
      "        (2): ReLU()\n",
      "        (3): MaxPool2d(kernel_size=2, stride=2, padding=0, dilation=1, ceil_mode=False)\n",
      "      )\n",
      "      (relu): ReLU()\n",
      "    )\n",
      "    (1): ResidualBlock(\n",
      "      (conv1): Sequential(\n",
      "        (0): Conv2d(128, 128, kernel_size=(3, 3), stride=(1, 1), padding=same)\n",
      "        (1): BatchNorm2d(128, eps=1e-05, momentum=0.1, affine=True, track_running_stats=True)\n",
      "        (2): ReLU()\n",
      "      )\n",
      "      (conv2): Sequential(\n",
      "        (0): Conv2d(128, 128, kernel_size=(3, 3), stride=(1, 1), padding=(1, 1))\n",
      "        (1): BatchNorm2d(128, eps=1e-05, momentum=0.1, affine=True, track_running_stats=True)\n",
      "        (2): ReLU()\n",
      "      )\n",
      "      (relu): ReLU()\n",
      "    )\n",
      "    (2): ResidualBlock(\n",
      "      (conv1): Sequential(\n",
      "        (0): Conv2d(128, 128, kernel_size=(3, 3), stride=(1, 1), padding=same)\n",
      "        (1): BatchNorm2d(128, eps=1e-05, momentum=0.1, affine=True, track_running_stats=True)\n",
      "        (2): ReLU()\n",
      "      )\n",
      "      (conv2): Sequential(\n",
      "        (0): Conv2d(128, 128, kernel_size=(3, 3), stride=(1, 1), padding=(1, 1))\n",
      "        (1): BatchNorm2d(128, eps=1e-05, momentum=0.1, affine=True, track_running_stats=True)\n",
      "        (2): ReLU()\n",
      "      )\n",
      "      (relu): ReLU()\n",
      "    )\n",
      "    (3): ResidualBlock(\n",
      "      (conv1): Sequential(\n",
      "        (0): Conv2d(128, 128, kernel_size=(3, 3), stride=(1, 1), padding=same)\n",
      "        (1): BatchNorm2d(128, eps=1e-05, momentum=0.1, affine=True, track_running_stats=True)\n",
      "        (2): ReLU()\n",
      "      )\n",
      "      (conv2): Sequential(\n",
      "        (0): Conv2d(128, 128, kernel_size=(3, 3), stride=(1, 1), padding=(1, 1))\n",
      "        (1): BatchNorm2d(128, eps=1e-05, momentum=0.1, affine=True, track_running_stats=True)\n",
      "        (2): ReLU()\n",
      "      )\n",
      "      (relu): ReLU()\n",
      "    )\n",
      "  )\n",
      "  (layer2): Sequential(\n",
      "    (0): ResidualBlock(\n",
      "      (conv1): Sequential(\n",
      "        (0): Conv2d(128, 256, kernel_size=(3, 3), stride=(1, 1), padding=same)\n",
      "        (1): BatchNorm2d(256, eps=1e-05, momentum=0.1, affine=True, track_running_stats=True)\n",
      "        (2): ReLU()\n",
      "        (3): MaxPool2d(kernel_size=2, stride=2, padding=0, dilation=1, ceil_mode=False)\n",
      "      )\n",
      "      (conv2): Sequential(\n",
      "        (0): Conv2d(256, 256, kernel_size=(3, 3), stride=(1, 1), padding=(1, 1))\n",
      "        (1): BatchNorm2d(256, eps=1e-05, momentum=0.1, affine=True, track_running_stats=True)\n",
      "        (2): ReLU()\n",
      "      )\n",
      "      (downsample): Sequential(\n",
      "        (0): Conv2d(128, 256, kernel_size=(1, 1), stride=(1, 1), padding=same)\n",
      "        (1): BatchNorm2d(256, eps=1e-05, momentum=0.1, affine=True, track_running_stats=True)\n",
      "        (2): ReLU()\n",
      "        (3): MaxPool2d(kernel_size=2, stride=2, padding=0, dilation=1, ceil_mode=False)\n",
      "      )\n",
      "      (relu): ReLU()\n",
      "    )\n",
      "    (1): ResidualBlock(\n",
      "      (conv1): Sequential(\n",
      "        (0): Conv2d(256, 256, kernel_size=(3, 3), stride=(1, 1), padding=same)\n",
      "        (1): BatchNorm2d(256, eps=1e-05, momentum=0.1, affine=True, track_running_stats=True)\n",
      "        (2): ReLU()\n",
      "      )\n",
      "      (conv2): Sequential(\n",
      "        (0): Conv2d(256, 256, kernel_size=(3, 3), stride=(1, 1), padding=(1, 1))\n",
      "        (1): BatchNorm2d(256, eps=1e-05, momentum=0.1, affine=True, track_running_stats=True)\n",
      "        (2): ReLU()\n",
      "      )\n",
      "      (relu): ReLU()\n",
      "    )\n",
      "    (2): ResidualBlock(\n",
      "      (conv1): Sequential(\n",
      "        (0): Conv2d(256, 256, kernel_size=(3, 3), stride=(1, 1), padding=same)\n",
      "        (1): BatchNorm2d(256, eps=1e-05, momentum=0.1, affine=True, track_running_stats=True)\n",
      "        (2): ReLU()\n",
      "      )\n",
      "      (conv2): Sequential(\n",
      "        (0): Conv2d(256, 256, kernel_size=(3, 3), stride=(1, 1), padding=(1, 1))\n",
      "        (1): BatchNorm2d(256, eps=1e-05, momentum=0.1, affine=True, track_running_stats=True)\n",
      "        (2): ReLU()\n",
      "      )\n",
      "      (relu): ReLU()\n",
      "    )\n",
      "    (3): ResidualBlock(\n",
      "      (conv1): Sequential(\n",
      "        (0): Conv2d(256, 256, kernel_size=(3, 3), stride=(1, 1), padding=same)\n",
      "        (1): BatchNorm2d(256, eps=1e-05, momentum=0.1, affine=True, track_running_stats=True)\n",
      "        (2): ReLU()\n",
      "      )\n",
      "      (conv2): Sequential(\n",
      "        (0): Conv2d(256, 256, kernel_size=(3, 3), stride=(1, 1), padding=(1, 1))\n",
      "        (1): BatchNorm2d(256, eps=1e-05, momentum=0.1, affine=True, track_running_stats=True)\n",
      "        (2): ReLU()\n",
      "      )\n",
      "      (relu): ReLU()\n",
      "    )\n",
      "    (4): ResidualBlock(\n",
      "      (conv1): Sequential(\n",
      "        (0): Conv2d(256, 256, kernel_size=(3, 3), stride=(1, 1), padding=same)\n",
      "        (1): BatchNorm2d(256, eps=1e-05, momentum=0.1, affine=True, track_running_stats=True)\n",
      "        (2): ReLU()\n",
      "      )\n",
      "      (conv2): Sequential(\n",
      "        (0): Conv2d(256, 256, kernel_size=(3, 3), stride=(1, 1), padding=(1, 1))\n",
      "        (1): BatchNorm2d(256, eps=1e-05, momentum=0.1, affine=True, track_running_stats=True)\n",
      "        (2): ReLU()\n",
      "      )\n",
      "      (relu): ReLU()\n",
      "    )\n",
      "    (5): ResidualBlock(\n",
      "      (conv1): Sequential(\n",
      "        (0): Conv2d(256, 256, kernel_size=(3, 3), stride=(1, 1), padding=same)\n",
      "        (1): BatchNorm2d(256, eps=1e-05, momentum=0.1, affine=True, track_running_stats=True)\n",
      "        (2): ReLU()\n",
      "      )\n",
      "      (conv2): Sequential(\n",
      "        (0): Conv2d(256, 256, kernel_size=(3, 3), stride=(1, 1), padding=(1, 1))\n",
      "        (1): BatchNorm2d(256, eps=1e-05, momentum=0.1, affine=True, track_running_stats=True)\n",
      "        (2): ReLU()\n",
      "      )\n",
      "      (relu): ReLU()\n",
      "    )\n",
      "  )\n",
      "  (layer3): Sequential(\n",
      "    (0): ResidualBlock(\n",
      "      (conv1): Sequential(\n",
      "        (0): Conv2d(256, 512, kernel_size=(3, 3), stride=(1, 1), padding=same)\n",
      "        (1): BatchNorm2d(512, eps=1e-05, momentum=0.1, affine=True, track_running_stats=True)\n",
      "        (2): ReLU()\n",
      "        (3): MaxPool2d(kernel_size=2, stride=2, padding=0, dilation=1, ceil_mode=False)\n",
      "      )\n",
      "      (conv2): Sequential(\n",
      "        (0): Conv2d(512, 512, kernel_size=(3, 3), stride=(1, 1), padding=(1, 1))\n",
      "        (1): BatchNorm2d(512, eps=1e-05, momentum=0.1, affine=True, track_running_stats=True)\n",
      "        (2): ReLU()\n",
      "      )\n",
      "      (downsample): Sequential(\n",
      "        (0): Conv2d(256, 512, kernel_size=(1, 1), stride=(1, 1), padding=same)\n",
      "        (1): BatchNorm2d(512, eps=1e-05, momentum=0.1, affine=True, track_running_stats=True)\n",
      "        (2): ReLU()\n",
      "        (3): MaxPool2d(kernel_size=2, stride=2, padding=0, dilation=1, ceil_mode=False)\n",
      "      )\n",
      "      (relu): ReLU()\n",
      "    )\n",
      "    (1): ResidualBlock(\n",
      "      (conv1): Sequential(\n",
      "        (0): Conv2d(512, 512, kernel_size=(3, 3), stride=(1, 1), padding=same)\n",
      "        (1): BatchNorm2d(512, eps=1e-05, momentum=0.1, affine=True, track_running_stats=True)\n",
      "        (2): ReLU()\n",
      "      )\n",
      "      (conv2): Sequential(\n",
      "        (0): Conv2d(512, 512, kernel_size=(3, 3), stride=(1, 1), padding=(1, 1))\n",
      "        (1): BatchNorm2d(512, eps=1e-05, momentum=0.1, affine=True, track_running_stats=True)\n",
      "        (2): ReLU()\n",
      "      )\n",
      "      (relu): ReLU()\n",
      "    )\n",
      "    (2): ResidualBlock(\n",
      "      (conv1): Sequential(\n",
      "        (0): Conv2d(512, 512, kernel_size=(3, 3), stride=(1, 1), padding=same)\n",
      "        (1): BatchNorm2d(512, eps=1e-05, momentum=0.1, affine=True, track_running_stats=True)\n",
      "        (2): ReLU()\n",
      "      )\n",
      "      (conv2): Sequential(\n",
      "        (0): Conv2d(512, 512, kernel_size=(3, 3), stride=(1, 1), padding=(1, 1))\n",
      "        (1): BatchNorm2d(512, eps=1e-05, momentum=0.1, affine=True, track_running_stats=True)\n",
      "        (2): ReLU()\n",
      "      )\n",
      "      (relu): ReLU()\n",
      "    )\n",
      "  )\n",
      "  (avgpool): MaxPool2d(kernel_size=7, stride=1, padding=0, dilation=1, ceil_mode=False)\n",
      "  (fc): Linear(in_features=2048, out_features=512, bias=True)\n",
      "  (fc2): Linear(in_features=512, out_features=10, bias=True)\n",
      ")\n"
     ]
    }
   ],
   "source": [
    "if torch.cuda.is_available():\n",
    "    torch.cuda.empty_cache()\n",
    "model_resnet = ResNet(ResidualBlock, [3, 4, 6, 3], num_classes = 10, in_channels=6).to(\"cuda\")\n",
    "print(model_resnet)"
   ]
  },
  {
   "cell_type": "code",
   "execution_count": 7,
   "metadata": {},
   "outputs": [
    {
     "name": "stderr",
     "output_type": "stream",
     "text": [
      "Using cache found in C:\\Users\\nikos/.cache\\torch\\hub\\pytorch_vision_v0.10.0\n",
      "c:\\Users\\nikos\\AppData\\Local\\Programs\\Python\\Python39\\lib\\site-packages\\torchvision\\models\\_utils.py:208: UserWarning: The parameter 'pretrained' is deprecated since 0.13 and may be removed in the future, please use 'weights' instead.\n",
      "  warnings.warn(\n",
      "c:\\Users\\nikos\\AppData\\Local\\Programs\\Python\\Python39\\lib\\site-packages\\torchvision\\models\\_utils.py:223: UserWarning: Arguments other than a weight enum or `None` for 'weights' are deprecated since 0.13 and may be removed in the future. The current behavior is equivalent to passing `weights=ResNet34_Weights.IMAGENET1K_V1`. You can also use `weights=ResNet34_Weights.DEFAULT` to get the most up-to-date weights.\n",
      "  warnings.warn(msg)\n"
     ]
    }
   ],
   "source": [
    "model = torch.hub.load('pytorch/vision:v0.10.0', 'resnet34', pretrained=True)"
   ]
  },
  {
   "cell_type": "code",
   "execution_count": 8,
   "metadata": {},
   "outputs": [
    {
     "data": {
      "text/plain": [
       "ResNet(\n",
       "  (conv1): Sequential(\n",
       "    (0): Conv2d(6, 64, kernel_size=(7, 7), stride=(1, 1), padding=(3, 3))\n",
       "    (1): BatchNorm2d(64, eps=1e-05, momentum=0.1, affine=True, track_running_stats=True)\n",
       "    (2): ReLU()\n",
       "  )\n",
       "  (maxpool): MaxPool2d(kernel_size=3, stride=2, padding=1, dilation=1, ceil_mode=False)\n",
       "  (layer0): Sequential(\n",
       "    (0): ResidualBlock(\n",
       "      (conv1): Sequential(\n",
       "        (0): Conv2d(64, 64, kernel_size=(3, 3), stride=1, padding=(1, 1), bias=False)\n",
       "        (1): BatchNorm2d(64, eps=1e-05, momentum=0.1, affine=True, track_running_stats=True)\n",
       "        (2): ReLU()\n",
       "      )\n",
       "      (conv2): Sequential(\n",
       "        (0): Conv2d(64, 64, kernel_size=(3, 3), stride=1, padding=(1, 1), bias=False)\n",
       "        (1): BatchNorm2d(64, eps=1e-05, momentum=0.1, affine=True, track_running_stats=True)\n",
       "        (2): ReLU()\n",
       "      )\n",
       "      (relu): ReLU()\n",
       "    )\n",
       "    (1): ResidualBlock(\n",
       "      (conv1): Sequential(\n",
       "        (0): Conv2d(64, 64, kernel_size=(3, 3), stride=1, padding=(1, 1), bias=False)\n",
       "        (1): BatchNorm2d(64, eps=1e-05, momentum=0.1, affine=True, track_running_stats=True)\n",
       "        (2): ReLU()\n",
       "      )\n",
       "      (conv2): Sequential(\n",
       "        (0): Conv2d(64, 64, kernel_size=(3, 3), stride=1, padding=(1, 1), bias=False)\n",
       "        (1): BatchNorm2d(64, eps=1e-05, momentum=0.1, affine=True, track_running_stats=True)\n",
       "        (2): ReLU()\n",
       "      )\n",
       "      (relu): ReLU()\n",
       "    )\n",
       "    (2): ResidualBlock(\n",
       "      (conv1): Sequential(\n",
       "        (0): Conv2d(64, 64, kernel_size=(3, 3), stride=1, padding=(1, 1), bias=False)\n",
       "        (1): BatchNorm2d(64, eps=1e-05, momentum=0.1, affine=True, track_running_stats=True)\n",
       "        (2): ReLU()\n",
       "      )\n",
       "      (conv2): Sequential(\n",
       "        (0): Conv2d(64, 64, kernel_size=(3, 3), stride=1, padding=(1, 1), bias=False)\n",
       "        (1): BatchNorm2d(64, eps=1e-05, momentum=0.1, affine=True, track_running_stats=True)\n",
       "        (2): ReLU()\n",
       "      )\n",
       "      (relu): ReLU()\n",
       "    )\n",
       "  )\n",
       "  (layer1): Sequential(\n",
       "    (0): ResidualBlock(\n",
       "      (conv1): Sequential(\n",
       "        (0): Conv2d(64, 128, kernel_size=(3, 3), stride=1, padding=(1, 1), bias=False)\n",
       "        (1): BatchNorm2d(128, eps=1e-05, momentum=0.1, affine=True, track_running_stats=True)\n",
       "        (2): ReLU()\n",
       "        (3): MaxPool2d(kernel_size=2, stride=2, padding=0, dilation=1, ceil_mode=False)\n",
       "      )\n",
       "      (conv2): Sequential(\n",
       "        (0): Conv2d(128, 128, kernel_size=(3, 3), stride=1, padding=(1, 1), bias=False)\n",
       "        (1): BatchNorm2d(128, eps=1e-05, momentum=0.1, affine=True, track_running_stats=True)\n",
       "        (2): ReLU()\n",
       "      )\n",
       "      (downsample): Sequential(\n",
       "        (0): Conv2d(64, 128, kernel_size=(1, 1), stride=1, bias=False)\n",
       "        (1): BatchNorm2d(128, eps=1e-05, momentum=0.1, affine=True, track_running_stats=True)\n",
       "        (2): ReLU()\n",
       "        (3): MaxPool2d(kernel_size=2, stride=2, padding=0, dilation=1, ceil_mode=False)\n",
       "      )\n",
       "      (relu): ReLU()\n",
       "    )\n",
       "    (1): ResidualBlock(\n",
       "      (conv1): Sequential(\n",
       "        (0): Conv2d(128, 128, kernel_size=(3, 3), stride=1, padding=(1, 1), bias=False)\n",
       "        (1): BatchNorm2d(128, eps=1e-05, momentum=0.1, affine=True, track_running_stats=True)\n",
       "        (2): ReLU()\n",
       "      )\n",
       "      (conv2): Sequential(\n",
       "        (0): Conv2d(128, 128, kernel_size=(3, 3), stride=1, padding=(1, 1), bias=False)\n",
       "        (1): BatchNorm2d(128, eps=1e-05, momentum=0.1, affine=True, track_running_stats=True)\n",
       "        (2): ReLU()\n",
       "      )\n",
       "      (relu): ReLU()\n",
       "    )\n",
       "    (2): ResidualBlock(\n",
       "      (conv1): Sequential(\n",
       "        (0): Conv2d(128, 128, kernel_size=(3, 3), stride=1, padding=(1, 1), bias=False)\n",
       "        (1): BatchNorm2d(128, eps=1e-05, momentum=0.1, affine=True, track_running_stats=True)\n",
       "        (2): ReLU()\n",
       "      )\n",
       "      (conv2): Sequential(\n",
       "        (0): Conv2d(128, 128, kernel_size=(3, 3), stride=1, padding=(1, 1), bias=False)\n",
       "        (1): BatchNorm2d(128, eps=1e-05, momentum=0.1, affine=True, track_running_stats=True)\n",
       "        (2): ReLU()\n",
       "      )\n",
       "      (relu): ReLU()\n",
       "    )\n",
       "    (3): ResidualBlock(\n",
       "      (conv1): Sequential(\n",
       "        (0): Conv2d(128, 128, kernel_size=(3, 3), stride=1, padding=(1, 1), bias=False)\n",
       "        (1): BatchNorm2d(128, eps=1e-05, momentum=0.1, affine=True, track_running_stats=True)\n",
       "        (2): ReLU()\n",
       "      )\n",
       "      (conv2): Sequential(\n",
       "        (0): Conv2d(128, 128, kernel_size=(3, 3), stride=1, padding=(1, 1), bias=False)\n",
       "        (1): BatchNorm2d(128, eps=1e-05, momentum=0.1, affine=True, track_running_stats=True)\n",
       "        (2): ReLU()\n",
       "      )\n",
       "      (relu): ReLU()\n",
       "    )\n",
       "  )\n",
       "  (layer2): Sequential(\n",
       "    (0): ResidualBlock(\n",
       "      (conv1): Sequential(\n",
       "        (0): Conv2d(128, 256, kernel_size=(3, 3), stride=1, padding=(1, 1), bias=False)\n",
       "        (1): BatchNorm2d(256, eps=1e-05, momentum=0.1, affine=True, track_running_stats=True)\n",
       "        (2): ReLU()\n",
       "        (3): MaxPool2d(kernel_size=2, stride=2, padding=0, dilation=1, ceil_mode=False)\n",
       "      )\n",
       "      (conv2): Sequential(\n",
       "        (0): Conv2d(256, 256, kernel_size=(3, 3), stride=1, padding=(1, 1), bias=False)\n",
       "        (1): BatchNorm2d(256, eps=1e-05, momentum=0.1, affine=True, track_running_stats=True)\n",
       "        (2): ReLU()\n",
       "      )\n",
       "      (downsample): Sequential(\n",
       "        (0): Conv2d(128, 256, kernel_size=(1, 1), stride=1, bias=False)\n",
       "        (1): BatchNorm2d(256, eps=1e-05, momentum=0.1, affine=True, track_running_stats=True)\n",
       "        (2): ReLU()\n",
       "        (3): MaxPool2d(kernel_size=2, stride=2, padding=0, dilation=1, ceil_mode=False)\n",
       "      )\n",
       "      (relu): ReLU()\n",
       "    )\n",
       "    (1): ResidualBlock(\n",
       "      (conv1): Sequential(\n",
       "        (0): Conv2d(256, 256, kernel_size=(3, 3), stride=1, padding=(1, 1), bias=False)\n",
       "        (1): BatchNorm2d(256, eps=1e-05, momentum=0.1, affine=True, track_running_stats=True)\n",
       "        (2): ReLU()\n",
       "      )\n",
       "      (conv2): Sequential(\n",
       "        (0): Conv2d(256, 256, kernel_size=(3, 3), stride=1, padding=(1, 1), bias=False)\n",
       "        (1): BatchNorm2d(256, eps=1e-05, momentum=0.1, affine=True, track_running_stats=True)\n",
       "        (2): ReLU()\n",
       "      )\n",
       "      (relu): ReLU()\n",
       "    )\n",
       "    (2): ResidualBlock(\n",
       "      (conv1): Sequential(\n",
       "        (0): Conv2d(256, 256, kernel_size=(3, 3), stride=1, padding=(1, 1), bias=False)\n",
       "        (1): BatchNorm2d(256, eps=1e-05, momentum=0.1, affine=True, track_running_stats=True)\n",
       "        (2): ReLU()\n",
       "      )\n",
       "      (conv2): Sequential(\n",
       "        (0): Conv2d(256, 256, kernel_size=(3, 3), stride=1, padding=(1, 1), bias=False)\n",
       "        (1): BatchNorm2d(256, eps=1e-05, momentum=0.1, affine=True, track_running_stats=True)\n",
       "        (2): ReLU()\n",
       "      )\n",
       "      (relu): ReLU()\n",
       "    )\n",
       "    (3): ResidualBlock(\n",
       "      (conv1): Sequential(\n",
       "        (0): Conv2d(256, 256, kernel_size=(3, 3), stride=1, padding=(1, 1), bias=False)\n",
       "        (1): BatchNorm2d(256, eps=1e-05, momentum=0.1, affine=True, track_running_stats=True)\n",
       "        (2): ReLU()\n",
       "      )\n",
       "      (conv2): Sequential(\n",
       "        (0): Conv2d(256, 256, kernel_size=(3, 3), stride=1, padding=(1, 1), bias=False)\n",
       "        (1): BatchNorm2d(256, eps=1e-05, momentum=0.1, affine=True, track_running_stats=True)\n",
       "        (2): ReLU()\n",
       "      )\n",
       "      (relu): ReLU()\n",
       "    )\n",
       "    (4): ResidualBlock(\n",
       "      (conv1): Sequential(\n",
       "        (0): Conv2d(256, 256, kernel_size=(3, 3), stride=1, padding=(1, 1), bias=False)\n",
       "        (1): BatchNorm2d(256, eps=1e-05, momentum=0.1, affine=True, track_running_stats=True)\n",
       "        (2): ReLU()\n",
       "      )\n",
       "      (conv2): Sequential(\n",
       "        (0): Conv2d(256, 256, kernel_size=(3, 3), stride=1, padding=(1, 1), bias=False)\n",
       "        (1): BatchNorm2d(256, eps=1e-05, momentum=0.1, affine=True, track_running_stats=True)\n",
       "        (2): ReLU()\n",
       "      )\n",
       "      (relu): ReLU()\n",
       "    )\n",
       "    (5): ResidualBlock(\n",
       "      (conv1): Sequential(\n",
       "        (0): Conv2d(256, 256, kernel_size=(3, 3), stride=1, padding=(1, 1), bias=False)\n",
       "        (1): BatchNorm2d(256, eps=1e-05, momentum=0.1, affine=True, track_running_stats=True)\n",
       "        (2): ReLU()\n",
       "      )\n",
       "      (conv2): Sequential(\n",
       "        (0): Conv2d(256, 256, kernel_size=(3, 3), stride=1, padding=(1, 1), bias=False)\n",
       "        (1): BatchNorm2d(256, eps=1e-05, momentum=0.1, affine=True, track_running_stats=True)\n",
       "        (2): ReLU()\n",
       "      )\n",
       "      (relu): ReLU()\n",
       "    )\n",
       "  )\n",
       "  (layer3): Sequential(\n",
       "    (0): ResidualBlock(\n",
       "      (conv1): Sequential(\n",
       "        (0): Conv2d(256, 512, kernel_size=(3, 3), stride=1, padding=(1, 1), bias=False)\n",
       "        (1): BatchNorm2d(512, eps=1e-05, momentum=0.1, affine=True, track_running_stats=True)\n",
       "        (2): ReLU()\n",
       "        (3): MaxPool2d(kernel_size=2, stride=2, padding=0, dilation=1, ceil_mode=False)\n",
       "      )\n",
       "      (conv2): Sequential(\n",
       "        (0): Conv2d(512, 512, kernel_size=(3, 3), stride=1, padding=(1, 1), bias=False)\n",
       "        (1): BatchNorm2d(512, eps=1e-05, momentum=0.1, affine=True, track_running_stats=True)\n",
       "        (2): ReLU()\n",
       "      )\n",
       "      (downsample): Sequential(\n",
       "        (0): Conv2d(256, 512, kernel_size=(1, 1), stride=1, bias=False)\n",
       "        (1): BatchNorm2d(512, eps=1e-05, momentum=0.1, affine=True, track_running_stats=True)\n",
       "        (2): ReLU()\n",
       "        (3): MaxPool2d(kernel_size=2, stride=2, padding=0, dilation=1, ceil_mode=False)\n",
       "      )\n",
       "      (relu): ReLU()\n",
       "    )\n",
       "    (1): ResidualBlock(\n",
       "      (conv1): Sequential(\n",
       "        (0): Conv2d(512, 512, kernel_size=(3, 3), stride=1, padding=(1, 1), bias=False)\n",
       "        (1): BatchNorm2d(512, eps=1e-05, momentum=0.1, affine=True, track_running_stats=True)\n",
       "        (2): ReLU()\n",
       "      )\n",
       "      (conv2): Sequential(\n",
       "        (0): Conv2d(512, 512, kernel_size=(3, 3), stride=1, padding=(1, 1), bias=False)\n",
       "        (1): BatchNorm2d(512, eps=1e-05, momentum=0.1, affine=True, track_running_stats=True)\n",
       "        (2): ReLU()\n",
       "      )\n",
       "      (relu): ReLU()\n",
       "    )\n",
       "    (2): ResidualBlock(\n",
       "      (conv1): Sequential(\n",
       "        (0): Conv2d(512, 512, kernel_size=(3, 3), stride=1, padding=(1, 1), bias=False)\n",
       "        (1): BatchNorm2d(512, eps=1e-05, momentum=0.1, affine=True, track_running_stats=True)\n",
       "        (2): ReLU()\n",
       "      )\n",
       "      (conv2): Sequential(\n",
       "        (0): Conv2d(512, 512, kernel_size=(3, 3), stride=1, padding=(1, 1), bias=False)\n",
       "        (1): BatchNorm2d(512, eps=1e-05, momentum=0.1, affine=True, track_running_stats=True)\n",
       "        (2): ReLU()\n",
       "      )\n",
       "      (relu): ReLU()\n",
       "    )\n",
       "  )\n",
       "  (avgpool): MaxPool2d(kernel_size=7, stride=1, padding=0, dilation=1, ceil_mode=False)\n",
       "  (fc): Linear(in_features=2048, out_features=512, bias=True)\n",
       "  (fc2): Linear(in_features=512, out_features=10, bias=True)\n",
       ")"
      ]
     },
     "execution_count": 8,
     "metadata": {},
     "output_type": "execute_result"
    }
   ],
   "source": [
    "size_layer = [3, 4, 6, 3]\n",
    "layers = [(model_resnet.layer0, model.layer1), (model_resnet.layer1, model.layer2), (model_resnet.layer2, model.layer3), (model_resnet.layer3, model.layer4)]\n",
    "for n in range(len(layers)):\n",
    "    for i in range(size_layer[n]):\n",
    "        layers[n][0][i].conv1[0] = layers[n][1][i].conv1\n",
    "        layers[n][0][i].conv1[0].stride = 1\n",
    "        layers[n][0][i].conv2[0] = layers[n][1][i].conv2\n",
    "        layers[n][0][i].conv2[0].stride = 1\n",
    "        \n",
    "        layers[n][0][i].conv1[1] = layers[n][1][i].bn1\n",
    "        layers[n][0][i].conv2[1] = layers[n][1][i].bn2\n",
    "\n",
    "model_resnet.layer1[0].downsample[0] = model.layer2[0].downsample[0]\n",
    "model_resnet.layer1[0].downsample[0].stride = 1\n",
    "model_resnet.layer1[0].downsample[1] = model.layer2[0].downsample[1]\n",
    "\n",
    "model_resnet.layer2[0].downsample[0] = model.layer3[0].downsample[0]\n",
    "model_resnet.layer2[0].downsample[0].stride = 1\n",
    "model_resnet.layer2[0].downsample[1] = model.layer3[0].downsample[1]\n",
    "\n",
    "model_resnet.layer3[0].downsample[0] = model.layer4[0].downsample[0]\n",
    "model_resnet.layer3[0].downsample[0].stride = 1\n",
    "model_resnet.layer3[0].downsample[1] = model.layer4[0].downsample[1]\n",
    "\n",
    "model_resnet.to(\"cuda\")"
   ]
  },
  {
   "cell_type": "code",
   "execution_count": 9,
   "metadata": {},
   "outputs": [
    {
     "name": "stderr",
     "output_type": "stream",
     "text": [
      "100%|██████████| 219/219 [00:50<00:00,  4.30it/s]\n"
     ]
    },
    {
     "name": "stdout",
     "output_type": "stream",
     "text": [
      "Epoch [1/300], Step [219/219], Loss: 13.6418, Accuracy: 0.1123\n",
      "Accuracy of the network: 0.11266666666666666 Loss: 2.7352269127013837\n"
     ]
    },
    {
     "name": "stderr",
     "output_type": "stream",
     "text": [
      "100%|██████████| 219/219 [00:50<00:00,  4.32it/s]\n"
     ]
    },
    {
     "name": "stdout",
     "output_type": "stream",
     "text": [
      "Epoch [2/300], Step [219/219], Loss: 2.4349, Accuracy: 0.1421\n",
      "Accuracy of the network: 0.18433333333333332 Loss: 2.222395847452448\n"
     ]
    },
    {
     "name": "stderr",
     "output_type": "stream",
     "text": [
      "100%|██████████| 219/219 [00:50<00:00,  4.30it/s]\n"
     ]
    },
    {
     "name": "stdout",
     "output_type": "stream",
     "text": [
      "Epoch [3/300], Step [219/219], Loss: 2.1870, Accuracy: 0.1634\n",
      "Accuracy of the network: 0.186 Loss: 2.120445445496985\n"
     ]
    },
    {
     "name": "stderr",
     "output_type": "stream",
     "text": [
      "100%|██████████| 219/219 [00:50<00:00,  4.31it/s]\n"
     ]
    },
    {
     "name": "stdout",
     "output_type": "stream",
     "text": [
      "Epoch [4/300], Step [219/219], Loss: 2.1648, Accuracy: 0.1631\n",
      "Accuracy of the network: 0.19533333333333333 Loss: 2.1136264192297105\n"
     ]
    },
    {
     "name": "stderr",
     "output_type": "stream",
     "text": [
      "100%|██████████| 219/219 [00:50<00:00,  4.30it/s]\n"
     ]
    },
    {
     "name": "stdout",
     "output_type": "stream",
     "text": [
      "Epoch [5/300], Step [219/219], Loss: 2.1588, Accuracy: 0.1601\n",
      "Accuracy of the network: 0.20633333333333334 Loss: 2.089821545367545\n"
     ]
    },
    {
     "name": "stderr",
     "output_type": "stream",
     "text": [
      "100%|██████████| 219/219 [00:50<00:00,  4.31it/s]\n"
     ]
    },
    {
     "name": "stdout",
     "output_type": "stream",
     "text": [
      "Epoch [6/300], Step [219/219], Loss: 2.1392, Accuracy: 0.1751\n",
      "Accuracy of the network: 0.161 Loss: 2.117920275698317\n"
     ]
    },
    {
     "name": "stderr",
     "output_type": "stream",
     "text": [
      "100%|██████████| 219/219 [00:50<00:00,  4.32it/s]\n"
     ]
    },
    {
     "name": "stdout",
     "output_type": "stream",
     "text": [
      "Epoch [7/300], Step [219/219], Loss: 2.1303, Accuracy: 0.1709\n",
      "Accuracy of the network: 0.19166666666666668 Loss: 2.0977884201293295\n"
     ]
    },
    {
     "name": "stderr",
     "output_type": "stream",
     "text": [
      "100%|██████████| 219/219 [00:50<00:00,  4.33it/s]\n"
     ]
    },
    {
     "name": "stdout",
     "output_type": "stream",
     "text": [
      "Epoch [8/300], Step [219/219], Loss: 2.1174, Accuracy: 0.1880\n",
      "Accuracy of the network: 0.171 Loss: 2.114306532322092\n"
     ]
    },
    {
     "name": "stderr",
     "output_type": "stream",
     "text": [
      "100%|██████████| 219/219 [00:50<00:00,  4.32it/s]\n"
     ]
    },
    {
     "name": "stdout",
     "output_type": "stream",
     "text": [
      "Epoch [9/300], Step [219/219], Loss: 2.1173, Accuracy: 0.1826\n",
      "Accuracy of the network: 0.198 Loss: 2.0883945683215526\n"
     ]
    },
    {
     "name": "stderr",
     "output_type": "stream",
     "text": [
      "100%|██████████| 219/219 [00:50<00:00,  4.32it/s]\n"
     ]
    },
    {
     "name": "stdout",
     "output_type": "stream",
     "text": [
      "Epoch [10/300], Step [219/219], Loss: 2.1071, Accuracy: 0.1899\n",
      "Accuracy of the network: 0.18733333333333332 Loss: 2.081331344361001\n"
     ]
    },
    {
     "name": "stderr",
     "output_type": "stream",
     "text": [
      "100%|██████████| 219/219 [00:50<00:00,  4.30it/s]\n"
     ]
    },
    {
     "name": "stdout",
     "output_type": "stream",
     "text": [
      "Epoch [11/300], Step [219/219], Loss: 2.1035, Accuracy: 0.1831\n",
      "Accuracy of the network: 0.18966666666666668 Loss: 2.0666118720744517\n"
     ]
    },
    {
     "name": "stderr",
     "output_type": "stream",
     "text": [
      "100%|██████████| 219/219 [00:51<00:00,  4.28it/s]\n"
     ]
    },
    {
     "name": "stdout",
     "output_type": "stream",
     "text": [
      "Epoch [12/300], Step [219/219], Loss: 2.0994, Accuracy: 0.1963\n",
      "Accuracy of the network: 0.20366666666666666 Loss: 2.084497293259235\n"
     ]
    },
    {
     "name": "stderr",
     "output_type": "stream",
     "text": [
      "100%|██████████| 219/219 [00:50<00:00,  4.31it/s]\n"
     ]
    },
    {
     "name": "stdout",
     "output_type": "stream",
     "text": [
      "Epoch [13/300], Step [219/219], Loss: 2.0977, Accuracy: 0.1839\n",
      "Accuracy of the network: 0.20233333333333334 Loss: 2.063179850578308\n"
     ]
    },
    {
     "name": "stderr",
     "output_type": "stream",
     "text": [
      "100%|██████████| 219/219 [00:50<00:00,  4.31it/s]\n"
     ]
    },
    {
     "name": "stdout",
     "output_type": "stream",
     "text": [
      "Epoch [14/300], Step [219/219], Loss: 2.0861, Accuracy: 0.1970\n",
      "Accuracy of the network: 0.19666666666666666 Loss: 2.067705897574729\n"
     ]
    },
    {
     "name": "stderr",
     "output_type": "stream",
     "text": [
      "100%|██████████| 219/219 [00:50<00:00,  4.32it/s]\n"
     ]
    },
    {
     "name": "stdout",
     "output_type": "stream",
     "text": [
      "Epoch [15/300], Step [219/219], Loss: 2.0898, Accuracy: 0.1916\n",
      "Accuracy of the network: 0.20966666666666667 Loss: 2.068418351893729\n"
     ]
    },
    {
     "name": "stderr",
     "output_type": "stream",
     "text": [
      "100%|██████████| 219/219 [00:50<00:00,  4.31it/s]\n"
     ]
    },
    {
     "name": "stdout",
     "output_type": "stream",
     "text": [
      "Epoch [16/300], Step [219/219], Loss: 2.0821, Accuracy: 0.1924\n",
      "Accuracy of the network: 0.18533333333333332 Loss: 2.064354295426227\n"
     ]
    },
    {
     "name": "stderr",
     "output_type": "stream",
     "text": [
      "100%|██████████| 219/219 [00:51<00:00,  4.27it/s]\n"
     ]
    },
    {
     "name": "stdout",
     "output_type": "stream",
     "text": [
      "Epoch [17/300], Step [219/219], Loss: 2.0835, Accuracy: 0.1950\n",
      "Accuracy of the network: 0.18266666666666667 Loss: 2.130866415957187\n"
     ]
    },
    {
     "name": "stderr",
     "output_type": "stream",
     "text": [
      "100%|██████████| 219/219 [00:50<00:00,  4.34it/s]\n"
     ]
    },
    {
     "name": "stdout",
     "output_type": "stream",
     "text": [
      "Epoch [18/300], Step [219/219], Loss: 2.0926, Accuracy: 0.1870\n",
      "Accuracy of the network: 0.18666666666666668 Loss: 2.102756102034386\n"
     ]
    },
    {
     "name": "stderr",
     "output_type": "stream",
     "text": [
      "100%|██████████| 219/219 [00:50<00:00,  4.36it/s]\n"
     ]
    },
    {
     "name": "stdout",
     "output_type": "stream",
     "text": [
      "Epoch [19/300], Step [219/219], Loss: 2.0881, Accuracy: 0.1971\n",
      "Accuracy of the network: 0.17333333333333334 Loss: 2.103372648675391\n"
     ]
    },
    {
     "name": "stderr",
     "output_type": "stream",
     "text": [
      "100%|██████████| 219/219 [00:50<00:00,  4.34it/s]\n"
     ]
    },
    {
     "name": "stdout",
     "output_type": "stream",
     "text": [
      "Epoch [20/300], Step [219/219], Loss: 2.0817, Accuracy: 0.1891\n",
      "Accuracy of the network: 0.211 Loss: 2.125140300456514\n"
     ]
    },
    {
     "name": "stderr",
     "output_type": "stream",
     "text": [
      "100%|██████████| 219/219 [00:50<00:00,  4.36it/s]\n"
     ]
    },
    {
     "name": "stdout",
     "output_type": "stream",
     "text": [
      "Epoch [21/300], Step [219/219], Loss: 2.0655, Accuracy: 0.2034\n",
      "Accuracy of the network: 0.20533333333333334 Loss: 2.03922815398967\n"
     ]
    },
    {
     "name": "stderr",
     "output_type": "stream",
     "text": [
      "100%|██████████| 219/219 [00:50<00:00,  4.35it/s]\n"
     ]
    },
    {
     "name": "stdout",
     "output_type": "stream",
     "text": [
      "Epoch [22/300], Step [219/219], Loss: 2.0610, Accuracy: 0.2064\n",
      "Accuracy of the network: 0.20833333333333334 Loss: 2.0709198117256165\n"
     ]
    },
    {
     "name": "stderr",
     "output_type": "stream",
     "text": [
      "100%|██████████| 219/219 [00:50<00:00,  4.36it/s]\n"
     ]
    },
    {
     "name": "stdout",
     "output_type": "stream",
     "text": [
      "Epoch [23/300], Step [219/219], Loss: 2.0567, Accuracy: 0.1980\n",
      "Accuracy of the network: 0.21866666666666668 Loss: 2.047465735293449\n"
     ]
    },
    {
     "name": "stderr",
     "output_type": "stream",
     "text": [
      "100%|██████████| 219/219 [00:50<00:00,  4.37it/s]\n"
     ]
    },
    {
     "name": "stdout",
     "output_type": "stream",
     "text": [
      "Epoch [24/300], Step [219/219], Loss: 2.0618, Accuracy: 0.2030\n",
      "Accuracy of the network: 0.21066666666666667 Loss: 2.0282271415629287\n"
     ]
    },
    {
     "name": "stderr",
     "output_type": "stream",
     "text": [
      "100%|██████████| 219/219 [00:50<00:00,  4.34it/s]\n"
     ]
    },
    {
     "name": "stdout",
     "output_type": "stream",
     "text": [
      "Epoch [25/300], Step [219/219], Loss: 2.0566, Accuracy: 0.2019\n",
      "Accuracy of the network: 0.20766666666666667 Loss: 2.0491984461216215\n"
     ]
    },
    {
     "name": "stderr",
     "output_type": "stream",
     "text": [
      "100%|██████████| 219/219 [00:50<00:00,  4.34it/s]\n"
     ]
    },
    {
     "name": "stdout",
     "output_type": "stream",
     "text": [
      "Epoch [26/300], Step [219/219], Loss: 2.0457, Accuracy: 0.2199\n",
      "Accuracy of the network: 0.23433333333333334 Loss: 2.043032405224252\n"
     ]
    },
    {
     "name": "stderr",
     "output_type": "stream",
     "text": [
      "100%|██████████| 219/219 [00:50<00:00,  4.36it/s]\n"
     ]
    },
    {
     "name": "stdout",
     "output_type": "stream",
     "text": [
      "Epoch [27/300], Step [219/219], Loss: 2.0245, Accuracy: 0.2211\n",
      "Accuracy of the network: 0.232 Loss: 2.0422432283137706\n"
     ]
    },
    {
     "name": "stderr",
     "output_type": "stream",
     "text": [
      "100%|██████████| 219/219 [00:50<00:00,  4.35it/s]\n"
     ]
    },
    {
     "name": "stdout",
     "output_type": "stream",
     "text": [
      "Epoch [28/300], Step [219/219], Loss: 1.9952, Accuracy: 0.2410\n",
      "Accuracy of the network: 0.2673333333333333 Loss: 1.954743651633567\n"
     ]
    },
    {
     "name": "stderr",
     "output_type": "stream",
     "text": [
      "100%|██████████| 219/219 [00:50<00:00,  4.37it/s]\n"
     ]
    },
    {
     "name": "stdout",
     "output_type": "stream",
     "text": [
      "Epoch [29/300], Step [219/219], Loss: 1.9773, Accuracy: 0.2540\n",
      "Accuracy of the network: 0.25633333333333336 Loss: 1.972983111726477\n"
     ]
    },
    {
     "name": "stderr",
     "output_type": "stream",
     "text": [
      "100%|██████████| 219/219 [00:50<00:00,  4.36it/s]\n"
     ]
    },
    {
     "name": "stdout",
     "output_type": "stream",
     "text": [
      "Epoch [30/300], Step [219/219], Loss: 1.9630, Accuracy: 0.2529\n",
      "Accuracy of the network: 0.25033333333333335 Loss: 1.941397083566544\n"
     ]
    },
    {
     "name": "stderr",
     "output_type": "stream",
     "text": [
      "100%|██████████| 219/219 [00:50<00:00,  4.36it/s]\n"
     ]
    },
    {
     "name": "stdout",
     "output_type": "stream",
     "text": [
      "Epoch [31/300], Step [219/219], Loss: 1.9434, Accuracy: 0.2629\n",
      "Accuracy of the network: 0.2633333333333333 Loss: 1.9435471093400996\n"
     ]
    },
    {
     "name": "stderr",
     "output_type": "stream",
     "text": [
      "100%|██████████| 219/219 [00:50<00:00,  4.36it/s]\n"
     ]
    },
    {
     "name": "stdout",
     "output_type": "stream",
     "text": [
      "Epoch [32/300], Step [219/219], Loss: 1.9192, Accuracy: 0.2737\n",
      "Accuracy of the network: 0.26666666666666666 Loss: 1.9430078547051612\n"
     ]
    },
    {
     "name": "stderr",
     "output_type": "stream",
     "text": [
      "100%|██████████| 219/219 [00:50<00:00,  4.34it/s]\n"
     ]
    },
    {
     "name": "stdout",
     "output_type": "stream",
     "text": [
      "Epoch [33/300], Step [219/219], Loss: 1.9173, Accuracy: 0.2771\n",
      "Accuracy of the network: 0.275 Loss: 1.9204250840430563\n"
     ]
    },
    {
     "name": "stderr",
     "output_type": "stream",
     "text": [
      "100%|██████████| 219/219 [00:50<00:00,  4.35it/s]\n"
     ]
    },
    {
     "name": "stdout",
     "output_type": "stream",
     "text": [
      "Epoch [34/300], Step [219/219], Loss: 1.9013, Accuracy: 0.2874\n",
      "Accuracy of the network: 0.2996666666666667 Loss: 1.8846168467339048\n"
     ]
    },
    {
     "name": "stderr",
     "output_type": "stream",
     "text": [
      "100%|██████████| 219/219 [00:50<00:00,  4.38it/s]\n"
     ]
    },
    {
     "name": "stdout",
     "output_type": "stream",
     "text": [
      "Epoch [35/300], Step [219/219], Loss: 1.8830, Accuracy: 0.2926\n",
      "Accuracy of the network: 0.30333333333333334 Loss: 1.8707703986066453\n"
     ]
    },
    {
     "name": "stderr",
     "output_type": "stream",
     "text": [
      "100%|██████████| 219/219 [00:50<00:00,  4.35it/s]\n"
     ]
    },
    {
     "name": "stdout",
     "output_type": "stream",
     "text": [
      "Epoch [36/300], Step [219/219], Loss: 1.8788, Accuracy: 0.3019\n",
      "Accuracy of the network: 0.30433333333333334 Loss: 1.8590683062025841\n"
     ]
    },
    {
     "name": "stderr",
     "output_type": "stream",
     "text": [
      "100%|██████████| 219/219 [00:50<00:00,  4.38it/s]\n"
     ]
    },
    {
     "name": "stdout",
     "output_type": "stream",
     "text": [
      "Epoch [37/300], Step [219/219], Loss: 1.8515, Accuracy: 0.3121\n",
      "Accuracy of the network: 0.31833333333333336 Loss: 1.8448991927694767\n"
     ]
    },
    {
     "name": "stderr",
     "output_type": "stream",
     "text": [
      "100%|██████████| 219/219 [00:50<00:00,  4.37it/s]\n"
     ]
    },
    {
     "name": "stdout",
     "output_type": "stream",
     "text": [
      "Epoch [38/300], Step [219/219], Loss: 1.8426, Accuracy: 0.3131\n",
      "Accuracy of the network: 0.308 Loss: 1.854280077396555\n"
     ]
    },
    {
     "name": "stderr",
     "output_type": "stream",
     "text": [
      "100%|██████████| 219/219 [00:50<00:00,  4.36it/s]\n"
     ]
    },
    {
     "name": "stdout",
     "output_type": "stream",
     "text": [
      "Epoch [39/300], Step [219/219], Loss: 1.8250, Accuracy: 0.3274\n",
      "Accuracy of the network: 0.32266666666666666 Loss: 1.840758502483368\n"
     ]
    },
    {
     "name": "stderr",
     "output_type": "stream",
     "text": [
      "100%|██████████| 219/219 [00:50<00:00,  4.36it/s]\n"
     ]
    },
    {
     "name": "stdout",
     "output_type": "stream",
     "text": [
      "Epoch [40/300], Step [219/219], Loss: 1.8136, Accuracy: 0.3250\n",
      "Accuracy of the network: 0.291 Loss: 1.9110308695346752\n"
     ]
    },
    {
     "name": "stderr",
     "output_type": "stream",
     "text": [
      "100%|██████████| 219/219 [00:50<00:00,  4.35it/s]\n"
     ]
    },
    {
     "name": "stdout",
     "output_type": "stream",
     "text": [
      "Epoch [41/300], Step [219/219], Loss: 1.8186, Accuracy: 0.3220\n",
      "Accuracy of the network: 0.32666666666666666 Loss: 1.811069482184471\n"
     ]
    },
    {
     "name": "stderr",
     "output_type": "stream",
     "text": [
      "100%|██████████| 219/219 [00:50<00:00,  4.37it/s]\n"
     ]
    },
    {
     "name": "stdout",
     "output_type": "stream",
     "text": [
      "Epoch [42/300], Step [219/219], Loss: 1.7948, Accuracy: 0.3331\n",
      "Accuracy of the network: 0.33566666666666667 Loss: 1.8019016917715682\n"
     ]
    },
    {
     "name": "stderr",
     "output_type": "stream",
     "text": [
      "100%|██████████| 219/219 [00:50<00:00,  4.37it/s]\n"
     ]
    },
    {
     "name": "stdout",
     "output_type": "stream",
     "text": [
      "Epoch [43/300], Step [219/219], Loss: 1.7900, Accuracy: 0.3327\n",
      "Accuracy of the network: 0.329 Loss: 1.8041037803000592\n"
     ]
    },
    {
     "name": "stderr",
     "output_type": "stream",
     "text": [
      "100%|██████████| 219/219 [00:50<00:00,  4.37it/s]\n"
     ]
    },
    {
     "name": "stdout",
     "output_type": "stream",
     "text": [
      "Epoch [44/300], Step [219/219], Loss: 1.7752, Accuracy: 0.3389\n",
      "Accuracy of the network: 0.33 Loss: 1.8153129093190457\n"
     ]
    },
    {
     "name": "stderr",
     "output_type": "stream",
     "text": [
      "100%|██████████| 219/219 [00:50<00:00,  4.35it/s]\n"
     ]
    },
    {
     "name": "stdout",
     "output_type": "stream",
     "text": [
      "Epoch [45/300], Step [219/219], Loss: 1.7571, Accuracy: 0.3499\n",
      "Accuracy of the network: 0.334 Loss: 1.8236150437213006\n"
     ]
    },
    {
     "name": "stderr",
     "output_type": "stream",
     "text": [
      "100%|██████████| 219/219 [00:50<00:00,  4.35it/s]\n"
     ]
    },
    {
     "name": "stdout",
     "output_type": "stream",
     "text": [
      "Epoch [46/300], Step [219/219], Loss: 1.7678, Accuracy: 0.3457\n",
      "Accuracy of the network: 0.338 Loss: 1.8026455666156525\n"
     ]
    },
    {
     "name": "stderr",
     "output_type": "stream",
     "text": [
      "100%|██████████| 219/219 [00:50<00:00,  4.35it/s]\n"
     ]
    },
    {
     "name": "stdout",
     "output_type": "stream",
     "text": [
      "Epoch [47/300], Step [219/219], Loss: 1.7599, Accuracy: 0.3456\n",
      "Accuracy of the network: 0.33466666666666667 Loss: 1.7936974611688168\n"
     ]
    },
    {
     "name": "stderr",
     "output_type": "stream",
     "text": [
      "100%|██████████| 219/219 [00:50<00:00,  4.37it/s]\n"
     ]
    },
    {
     "name": "stdout",
     "output_type": "stream",
     "text": [
      "Epoch [48/300], Step [219/219], Loss: 1.7462, Accuracy: 0.3534\n",
      "Accuracy of the network: 0.3406666666666667 Loss: 1.760842134343817\n"
     ]
    },
    {
     "name": "stderr",
     "output_type": "stream",
     "text": [
      "100%|██████████| 219/219 [00:50<00:00,  4.37it/s]\n"
     ]
    },
    {
     "name": "stdout",
     "output_type": "stream",
     "text": [
      "Epoch [49/300], Step [219/219], Loss: 1.7429, Accuracy: 0.3487\n",
      "Accuracy of the network: 0.35433333333333333 Loss: 1.7722996194311913\n"
     ]
    },
    {
     "name": "stderr",
     "output_type": "stream",
     "text": [
      "100%|██████████| 219/219 [00:50<00:00,  4.36it/s]\n"
     ]
    },
    {
     "name": "stdout",
     "output_type": "stream",
     "text": [
      "Epoch [50/300], Step [219/219], Loss: 1.7256, Accuracy: 0.3639\n",
      "Accuracy of the network: 0.344 Loss: 1.7562133416216423\n"
     ]
    },
    {
     "name": "stderr",
     "output_type": "stream",
     "text": [
      "100%|██████████| 219/219 [00:50<00:00,  4.35it/s]\n"
     ]
    },
    {
     "name": "stdout",
     "output_type": "stream",
     "text": [
      "Epoch [51/300], Step [219/219], Loss: 1.7240, Accuracy: 0.3626\n",
      "Accuracy of the network: 0.358 Loss: 1.750401461378057\n"
     ]
    },
    {
     "name": "stderr",
     "output_type": "stream",
     "text": [
      "100%|██████████| 219/219 [00:50<00:00,  4.37it/s]\n"
     ]
    },
    {
     "name": "stdout",
     "output_type": "stream",
     "text": [
      "Epoch [52/300], Step [219/219], Loss: 1.7293, Accuracy: 0.3544\n",
      "Accuracy of the network: 0.359 Loss: 1.7538702285036127\n"
     ]
    },
    {
     "name": "stderr",
     "output_type": "stream",
     "text": [
      "100%|██████████| 219/219 [00:50<00:00,  4.37it/s]\n"
     ]
    },
    {
     "name": "stdout",
     "output_type": "stream",
     "text": [
      "Epoch [53/300], Step [219/219], Loss: 1.7034, Accuracy: 0.3677\n",
      "Accuracy of the network: 0.367 Loss: 1.7289147250195767\n"
     ]
    },
    {
     "name": "stderr",
     "output_type": "stream",
     "text": [
      "100%|██████████| 219/219 [00:50<00:00,  4.34it/s]\n"
     ]
    },
    {
     "name": "stdout",
     "output_type": "stream",
     "text": [
      "Epoch [54/300], Step [219/219], Loss: 1.6930, Accuracy: 0.3700\n",
      "Accuracy of the network: 0.3626666666666667 Loss: 1.7314255541943488\n"
     ]
    },
    {
     "name": "stderr",
     "output_type": "stream",
     "text": [
      "100%|██████████| 219/219 [00:50<00:00,  4.37it/s]\n"
     ]
    },
    {
     "name": "stdout",
     "output_type": "stream",
     "text": [
      "Epoch [55/300], Step [219/219], Loss: 1.6959, Accuracy: 0.3709\n",
      "Accuracy of the network: 0.36733333333333335 Loss: 1.7190700820151796\n"
     ]
    },
    {
     "name": "stderr",
     "output_type": "stream",
     "text": [
      "100%|██████████| 219/219 [00:50<00:00,  4.37it/s]\n"
     ]
    },
    {
     "name": "stdout",
     "output_type": "stream",
     "text": [
      "Epoch [56/300], Step [219/219], Loss: 1.6850, Accuracy: 0.3800\n",
      "Accuracy of the network: 0.36566666666666664 Loss: 1.7251592240435012\n"
     ]
    },
    {
     "name": "stderr",
     "output_type": "stream",
     "text": [
      "100%|██████████| 219/219 [00:50<00:00,  4.38it/s]\n"
     ]
    },
    {
     "name": "stdout",
     "output_type": "stream",
     "text": [
      "Epoch [57/300], Step [219/219], Loss: 1.6678, Accuracy: 0.3834\n",
      "Accuracy of the network: 0.367 Loss: 1.7137799503955435\n"
     ]
    },
    {
     "name": "stderr",
     "output_type": "stream",
     "text": [
      "100%|██████████| 219/219 [00:50<00:00,  4.36it/s]\n"
     ]
    },
    {
     "name": "stdout",
     "output_type": "stream",
     "text": [
      "Epoch [58/300], Step [219/219], Loss: 1.6741, Accuracy: 0.3831\n",
      "Accuracy of the network: 0.37633333333333335 Loss: 1.696745103978096\n"
     ]
    },
    {
     "name": "stderr",
     "output_type": "stream",
     "text": [
      "100%|██████████| 219/219 [00:50<00:00,  4.36it/s]\n"
     ]
    },
    {
     "name": "stdout",
     "output_type": "stream",
     "text": [
      "Epoch [59/300], Step [219/219], Loss: 1.6577, Accuracy: 0.3840\n",
      "Accuracy of the network: 0.362 Loss: 1.7241845980603645\n"
     ]
    },
    {
     "name": "stderr",
     "output_type": "stream",
     "text": [
      "100%|██████████| 219/219 [00:50<00:00,  4.37it/s]\n"
     ]
    },
    {
     "name": "stdout",
     "output_type": "stream",
     "text": [
      "Epoch [60/300], Step [219/219], Loss: 1.6508, Accuracy: 0.3896\n",
      "Accuracy of the network: 0.37333333333333335 Loss: 1.7048241255131173\n"
     ]
    },
    {
     "name": "stderr",
     "output_type": "stream",
     "text": [
      "100%|██████████| 219/219 [00:50<00:00,  4.37it/s]\n"
     ]
    },
    {
     "name": "stdout",
     "output_type": "stream",
     "text": [
      "Epoch [61/300], Step [219/219], Loss: 1.6366, Accuracy: 0.3949\n",
      "Accuracy of the network: 0.392 Loss: 1.6826344386060188\n"
     ]
    },
    {
     "name": "stderr",
     "output_type": "stream",
     "text": [
      "100%|██████████| 219/219 [00:50<00:00,  4.34it/s]\n"
     ]
    },
    {
     "name": "stdout",
     "output_type": "stream",
     "text": [
      "Epoch [62/300], Step [219/219], Loss: 1.6417, Accuracy: 0.3924\n",
      "Accuracy of the network: 0.379 Loss: 1.6951372953171426\n"
     ]
    },
    {
     "name": "stderr",
     "output_type": "stream",
     "text": [
      "100%|██████████| 219/219 [00:50<00:00,  4.35it/s]\n"
     ]
    },
    {
     "name": "stdout",
     "output_type": "stream",
     "text": [
      "Epoch [63/300], Step [219/219], Loss: 1.6449, Accuracy: 0.3881\n",
      "Accuracy of the network: 0.38666666666666666 Loss: 1.6736845982835649\n"
     ]
    },
    {
     "name": "stderr",
     "output_type": "stream",
     "text": [
      "100%|██████████| 219/219 [00:50<00:00,  4.33it/s]\n"
     ]
    },
    {
     "name": "stdout",
     "output_type": "stream",
     "text": [
      "Epoch [64/300], Step [219/219], Loss: 1.6312, Accuracy: 0.3964\n",
      "Accuracy of the network: 0.38466666666666666 Loss: 1.6833459392507026\n"
     ]
    },
    {
     "name": "stderr",
     "output_type": "stream",
     "text": [
      "100%|██████████| 219/219 [00:50<00:00,  4.36it/s]\n"
     ]
    },
    {
     "name": "stdout",
     "output_type": "stream",
     "text": [
      "Epoch [65/300], Step [219/219], Loss: 1.6313, Accuracy: 0.3947\n",
      "Accuracy of the network: 0.393 Loss: 1.6657979399599927\n"
     ]
    },
    {
     "name": "stderr",
     "output_type": "stream",
     "text": [
      "100%|██████████| 219/219 [00:50<00:00,  4.35it/s]\n"
     ]
    },
    {
     "name": "stdout",
     "output_type": "stream",
     "text": [
      "Epoch [66/300], Step [219/219], Loss: 1.6217, Accuracy: 0.4057\n",
      "Accuracy of the network: 0.387 Loss: 1.684715859433438\n"
     ]
    },
    {
     "name": "stderr",
     "output_type": "stream",
     "text": [
      "100%|██████████| 219/219 [00:50<00:00,  4.35it/s]\n"
     ]
    },
    {
     "name": "stdout",
     "output_type": "stream",
     "text": [
      "Epoch [67/300], Step [219/219], Loss: 1.6229, Accuracy: 0.3944\n",
      "Accuracy of the network: 0.3863333333333333 Loss: 1.673250751292452\n"
     ]
    },
    {
     "name": "stderr",
     "output_type": "stream",
     "text": [
      "100%|██████████| 219/219 [00:50<00:00,  4.34it/s]\n"
     ]
    },
    {
     "name": "stdout",
     "output_type": "stream",
     "text": [
      "Epoch [68/300], Step [219/219], Loss: 1.6091, Accuracy: 0.4017\n",
      "Accuracy of the network: 0.40166666666666667 Loss: 1.6599985272326367\n"
     ]
    },
    {
     "name": "stderr",
     "output_type": "stream",
     "text": [
      "100%|██████████| 219/219 [00:50<00:00,  4.34it/s]\n"
     ]
    },
    {
     "name": "stdout",
     "output_type": "stream",
     "text": [
      "Epoch [69/300], Step [219/219], Loss: 1.5989, Accuracy: 0.4090\n",
      "Accuracy of the network: 0.39466666666666667 Loss: 1.675273006266736\n"
     ]
    },
    {
     "name": "stderr",
     "output_type": "stream",
     "text": [
      "100%|██████████| 219/219 [00:50<00:00,  4.34it/s]\n"
     ]
    },
    {
     "name": "stdout",
     "output_type": "stream",
     "text": [
      "Epoch [70/300], Step [219/219], Loss: 1.5902, Accuracy: 0.4090\n",
      "Accuracy of the network: 0.39266666666666666 Loss: 1.643886888280828\n"
     ]
    },
    {
     "name": "stderr",
     "output_type": "stream",
     "text": [
      "100%|██████████| 219/219 [00:50<00:00,  4.36it/s]\n"
     ]
    },
    {
     "name": "stdout",
     "output_type": "stream",
     "text": [
      "Epoch [71/300], Step [219/219], Loss: 1.5904, Accuracy: 0.4069\n",
      "Accuracy of the network: 0.38866666666666666 Loss: 1.6772882811566616\n"
     ]
    },
    {
     "name": "stderr",
     "output_type": "stream",
     "text": [
      "100%|██████████| 219/219 [00:50<00:00,  4.35it/s]\n"
     ]
    },
    {
     "name": "stdout",
     "output_type": "stream",
     "text": [
      "Epoch [72/300], Step [219/219], Loss: 1.5761, Accuracy: 0.4126\n",
      "Accuracy of the network: 0.4026666666666667 Loss: 1.6369294093010274\n"
     ]
    },
    {
     "name": "stderr",
     "output_type": "stream",
     "text": [
      "100%|██████████| 219/219 [00:50<00:00,  4.36it/s]\n"
     ]
    },
    {
     "name": "stdout",
     "output_type": "stream",
     "text": [
      "Epoch [73/300], Step [219/219], Loss: 1.5700, Accuracy: 0.4181\n",
      "Accuracy of the network: 0.3913333333333333 Loss: 1.657339206401338\n"
     ]
    },
    {
     "name": "stderr",
     "output_type": "stream",
     "text": [
      "100%|██████████| 219/219 [00:50<00:00,  4.34it/s]\n"
     ]
    },
    {
     "name": "stdout",
     "output_type": "stream",
     "text": [
      "Epoch [74/300], Step [219/219], Loss: 1.5714, Accuracy: 0.4150\n",
      "Accuracy of the network: 0.4043333333333333 Loss: 1.6275258850544057\n"
     ]
    },
    {
     "name": "stderr",
     "output_type": "stream",
     "text": [
      "100%|██████████| 219/219 [00:50<00:00,  4.36it/s]\n"
     ]
    },
    {
     "name": "stdout",
     "output_type": "stream",
     "text": [
      "Epoch [75/300], Step [219/219], Loss: 1.5591, Accuracy: 0.4253\n",
      "Accuracy of the network: 0.4003333333333333 Loss: 1.6479350150899683\n"
     ]
    },
    {
     "name": "stderr",
     "output_type": "stream",
     "text": [
      "100%|██████████| 219/219 [00:50<00:00,  4.36it/s]\n"
     ]
    },
    {
     "name": "stdout",
     "output_type": "stream",
     "text": [
      "Epoch [76/300], Step [219/219], Loss: 1.5617, Accuracy: 0.4253\n",
      "Accuracy of the network: 0.41233333333333333 Loss: 1.6261922070320616\n"
     ]
    },
    {
     "name": "stderr",
     "output_type": "stream",
     "text": [
      "100%|██████████| 219/219 [00:50<00:00,  4.37it/s]\n"
     ]
    },
    {
     "name": "stdout",
     "output_type": "stream",
     "text": [
      "Epoch [77/300], Step [219/219], Loss: 1.5462, Accuracy: 0.4311\n",
      "Accuracy of the network: 0.4046666666666667 Loss: 1.6131928093889927\n"
     ]
    },
    {
     "name": "stderr",
     "output_type": "stream",
     "text": [
      "100%|██████████| 219/219 [00:50<00:00,  4.34it/s]\n"
     ]
    },
    {
     "name": "stdout",
     "output_type": "stream",
     "text": [
      "Epoch [78/300], Step [219/219], Loss: 1.5345, Accuracy: 0.4340\n",
      "Accuracy of the network: 0.4026666666666667 Loss: 1.6234522829664515\n"
     ]
    },
    {
     "name": "stderr",
     "output_type": "stream",
     "text": [
      "100%|██████████| 219/219 [00:50<00:00,  4.34it/s]\n"
     ]
    },
    {
     "name": "stdout",
     "output_type": "stream",
     "text": [
      "Epoch [79/300], Step [219/219], Loss: 1.5329, Accuracy: 0.4317\n",
      "Accuracy of the network: 0.39866666666666667 Loss: 1.6425006009162741\n"
     ]
    },
    {
     "name": "stderr",
     "output_type": "stream",
     "text": [
      "100%|██████████| 219/219 [00:50<00:00,  4.34it/s]\n"
     ]
    },
    {
     "name": "stdout",
     "output_type": "stream",
     "text": [
      "Epoch [80/300], Step [219/219], Loss: 1.5169, Accuracy: 0.4409\n",
      "Accuracy of the network: 0.4073333333333333 Loss: 1.6097338465934103\n"
     ]
    },
    {
     "name": "stderr",
     "output_type": "stream",
     "text": [
      "100%|██████████| 219/219 [00:50<00:00,  4.35it/s]\n"
     ]
    },
    {
     "name": "stdout",
     "output_type": "stream",
     "text": [
      "Epoch [81/300], Step [219/219], Loss: 1.5164, Accuracy: 0.4457\n",
      "Accuracy of the network: 0.4063333333333333 Loss: 1.6164460144144424\n"
     ]
    },
    {
     "name": "stderr",
     "output_type": "stream",
     "text": [
      "100%|██████████| 219/219 [00:50<00:00,  4.35it/s]\n"
     ]
    },
    {
     "name": "stdout",
     "output_type": "stream",
     "text": [
      "Epoch [82/300], Step [219/219], Loss: 1.5062, Accuracy: 0.4527\n",
      "Accuracy of the network: 0.4073333333333333 Loss: 1.6030342502796904\n"
     ]
    },
    {
     "name": "stderr",
     "output_type": "stream",
     "text": [
      "100%|██████████| 219/219 [00:50<00:00,  4.38it/s]\n"
     ]
    },
    {
     "name": "stdout",
     "output_type": "stream",
     "text": [
      "Epoch [83/300], Step [219/219], Loss: 1.5051, Accuracy: 0.4523\n",
      "Accuracy of the network: 0.4216666666666667 Loss: 1.6033630485230304\n"
     ]
    },
    {
     "name": "stderr",
     "output_type": "stream",
     "text": [
      "100%|██████████| 219/219 [00:50<00:00,  4.35it/s]\n"
     ]
    },
    {
     "name": "stdout",
     "output_type": "stream",
     "text": [
      "Epoch [84/300], Step [219/219], Loss: 1.4932, Accuracy: 0.4506\n",
      "Accuracy of the network: 0.4096666666666667 Loss: 1.6126301187150023\n"
     ]
    },
    {
     "name": "stderr",
     "output_type": "stream",
     "text": [
      "100%|██████████| 219/219 [00:50<00:00,  4.34it/s]\n"
     ]
    },
    {
     "name": "stdout",
     "output_type": "stream",
     "text": [
      "Epoch [85/300], Step [219/219], Loss: 1.4962, Accuracy: 0.4506\n",
      "Accuracy of the network: 0.4216666666666667 Loss: 1.5852573082802144\n"
     ]
    },
    {
     "name": "stderr",
     "output_type": "stream",
     "text": [
      "100%|██████████| 219/219 [00:50<00:00,  4.35it/s]\n"
     ]
    },
    {
     "name": "stdout",
     "output_type": "stream",
     "text": [
      "Epoch [86/300], Step [219/219], Loss: 1.4831, Accuracy: 0.4541\n",
      "Accuracy of the network: 0.4256666666666667 Loss: 1.5850308334573786\n"
     ]
    },
    {
     "name": "stderr",
     "output_type": "stream",
     "text": [
      "100%|██████████| 219/219 [00:50<00:00,  4.36it/s]\n"
     ]
    },
    {
     "name": "stdout",
     "output_type": "stream",
     "text": [
      "Epoch [87/300], Step [219/219], Loss: 1.4796, Accuracy: 0.4563\n",
      "Accuracy of the network: 0.42533333333333334 Loss: 1.5821556930846357\n"
     ]
    },
    {
     "name": "stderr",
     "output_type": "stream",
     "text": [
      "100%|██████████| 219/219 [00:50<00:00,  4.35it/s]\n"
     ]
    },
    {
     "name": "stdout",
     "output_type": "stream",
     "text": [
      "Epoch [88/300], Step [219/219], Loss: 1.4661, Accuracy: 0.4701\n",
      "Accuracy of the network: 0.4246666666666667 Loss: 1.5694681063611458\n"
     ]
    },
    {
     "name": "stderr",
     "output_type": "stream",
     "text": [
      "100%|██████████| 219/219 [00:52<00:00,  4.17it/s]\n"
     ]
    },
    {
     "name": "stdout",
     "output_type": "stream",
     "text": [
      "Epoch [89/300], Step [219/219], Loss: 1.4611, Accuracy: 0.4671\n",
      "Accuracy of the network: 0.438 Loss: 1.5723469498309683\n"
     ]
    },
    {
     "name": "stderr",
     "output_type": "stream",
     "text": [
      "100%|██████████| 219/219 [00:55<00:00,  3.91it/s]\n"
     ]
    },
    {
     "name": "stdout",
     "output_type": "stream",
     "text": [
      "Epoch [90/300], Step [219/219], Loss: 1.4377, Accuracy: 0.4746\n",
      "Accuracy of the network: 0.43633333333333335 Loss: 1.5457217338237357\n"
     ]
    },
    {
     "name": "stderr",
     "output_type": "stream",
     "text": [
      "100%|██████████| 219/219 [00:57<00:00,  3.81it/s]\n"
     ]
    },
    {
     "name": "stdout",
     "output_type": "stream",
     "text": [
      "Epoch [91/300], Step [219/219], Loss: 1.4491, Accuracy: 0.4684\n",
      "Accuracy of the network: 0.445 Loss: 1.5556719265085586\n"
     ]
    },
    {
     "name": "stderr",
     "output_type": "stream",
     "text": [
      "100%|██████████| 219/219 [00:57<00:00,  3.83it/s]\n"
     ]
    },
    {
     "name": "stdout",
     "output_type": "stream",
     "text": [
      "Epoch [92/300], Step [219/219], Loss: 1.4398, Accuracy: 0.4781\n",
      "Accuracy of the network: 0.4533333333333333 Loss: 1.5433314987953672\n"
     ]
    },
    {
     "name": "stderr",
     "output_type": "stream",
     "text": [
      "100%|██████████| 219/219 [00:55<00:00,  3.98it/s]\n"
     ]
    },
    {
     "name": "stdout",
     "output_type": "stream",
     "text": [
      "Epoch [93/300], Step [219/219], Loss: 1.4218, Accuracy: 0.4796\n",
      "Accuracy of the network: 0.44733333333333336 Loss: 1.550125464479974\n"
     ]
    },
    {
     "name": "stderr",
     "output_type": "stream",
     "text": [
      "100%|██████████| 219/219 [00:51<00:00,  4.22it/s]\n"
     ]
    },
    {
     "name": "stdout",
     "output_type": "stream",
     "text": [
      "Epoch [94/300], Step [219/219], Loss: 1.4086, Accuracy: 0.4903\n",
      "Accuracy of the network: 0.452 Loss: 1.551903894607057\n"
     ]
    },
    {
     "name": "stderr",
     "output_type": "stream",
     "text": [
      "100%|██████████| 219/219 [00:52<00:00,  4.17it/s]\n"
     ]
    },
    {
     "name": "stdout",
     "output_type": "stream",
     "text": [
      "Epoch [95/300], Step [219/219], Loss: 1.4146, Accuracy: 0.4947\n",
      "Accuracy of the network: 0.445 Loss: 1.5383502777586593\n"
     ]
    },
    {
     "name": "stderr",
     "output_type": "stream",
     "text": [
      "100%|██████████| 219/219 [00:52<00:00,  4.19it/s]\n"
     ]
    },
    {
     "name": "stdout",
     "output_type": "stream",
     "text": [
      "Epoch [96/300], Step [219/219], Loss: 1.3974, Accuracy: 0.4933\n",
      "Accuracy of the network: 0.43866666666666665 Loss: 1.5512438074071357\n"
     ]
    },
    {
     "name": "stderr",
     "output_type": "stream",
     "text": [
      "100%|██████████| 219/219 [00:52<00:00,  4.16it/s]\n"
     ]
    },
    {
     "name": "stdout",
     "output_type": "stream",
     "text": [
      "Epoch [97/300], Step [219/219], Loss: 1.3881, Accuracy: 0.4994\n",
      "Accuracy of the network: 0.43833333333333335 Loss: 1.5572007564788168\n"
     ]
    },
    {
     "name": "stderr",
     "output_type": "stream",
     "text": [
      "100%|██████████| 219/219 [00:51<00:00,  4.23it/s]\n"
     ]
    },
    {
     "name": "stdout",
     "output_type": "stream",
     "text": [
      "Epoch [98/300], Step [219/219], Loss: 1.3800, Accuracy: 0.5030\n",
      "Accuracy of the network: 0.44366666666666665 Loss: 1.5311797375374652\n"
     ]
    },
    {
     "name": "stderr",
     "output_type": "stream",
     "text": [
      "100%|██████████| 219/219 [00:52<00:00,  4.20it/s]\n"
     ]
    },
    {
     "name": "stdout",
     "output_type": "stream",
     "text": [
      "Epoch [99/300], Step [219/219], Loss: 1.3733, Accuracy: 0.5093\n",
      "Accuracy of the network: 0.449 Loss: 1.5134797945935676\n"
     ]
    },
    {
     "name": "stderr",
     "output_type": "stream",
     "text": [
      "100%|██████████| 219/219 [00:52<00:00,  4.19it/s]\n"
     ]
    },
    {
     "name": "stdout",
     "output_type": "stream",
     "text": [
      "Epoch [100/300], Step [219/219], Loss: 1.3718, Accuracy: 0.5069\n",
      "Accuracy of the network: 0.45 Loss: 1.5345697200044672\n"
     ]
    },
    {
     "name": "stderr",
     "output_type": "stream",
     "text": [
      "100%|██████████| 219/219 [00:51<00:00,  4.24it/s]\n"
     ]
    },
    {
     "name": "stdout",
     "output_type": "stream",
     "text": [
      "Epoch [101/300], Step [219/219], Loss: 1.3748, Accuracy: 0.4993\n",
      "Accuracy of the network: 0.4573333333333333 Loss: 1.5266992449760437\n"
     ]
    },
    {
     "name": "stderr",
     "output_type": "stream",
     "text": [
      "100%|██████████| 219/219 [00:51<00:00,  4.24it/s]\n"
     ]
    },
    {
     "name": "stdout",
     "output_type": "stream",
     "text": [
      "Epoch [102/300], Step [219/219], Loss: 1.3538, Accuracy: 0.5173\n",
      "Accuracy of the network: 0.44166666666666665 Loss: 1.5523143131682213\n"
     ]
    },
    {
     "name": "stderr",
     "output_type": "stream",
     "text": [
      "100%|██████████| 219/219 [00:52<00:00,  4.18it/s]\n"
     ]
    },
    {
     "name": "stdout",
     "output_type": "stream",
     "text": [
      "Epoch [103/300], Step [219/219], Loss: 1.3544, Accuracy: 0.5131\n",
      "Accuracy of the network: 0.45366666666666666 Loss: 1.514335593010517\n"
     ]
    },
    {
     "name": "stderr",
     "output_type": "stream",
     "text": [
      "100%|██████████| 219/219 [00:51<00:00,  4.22it/s]\n"
     ]
    },
    {
     "name": "stdout",
     "output_type": "stream",
     "text": [
      "Epoch [104/300], Step [219/219], Loss: 1.3539, Accuracy: 0.5153\n",
      "Accuracy of the network: 0.454 Loss: 1.509103761074391\n"
     ]
    },
    {
     "name": "stderr",
     "output_type": "stream",
     "text": [
      "100%|██████████| 219/219 [00:53<00:00,  4.12it/s]\n"
     ]
    },
    {
     "name": "stdout",
     "output_type": "stream",
     "text": [
      "Epoch [105/300], Step [219/219], Loss: 1.3416, Accuracy: 0.5281\n",
      "Accuracy of the network: 0.447 Loss: 1.5159622532256105\n"
     ]
    },
    {
     "name": "stderr",
     "output_type": "stream",
     "text": [
      "100%|██████████| 219/219 [00:53<00:00,  4.10it/s]\n"
     ]
    },
    {
     "name": "stdout",
     "output_type": "stream",
     "text": [
      "Epoch [106/300], Step [219/219], Loss: 1.3451, Accuracy: 0.5197\n",
      "Accuracy of the network: 0.45366666666666666 Loss: 1.5124142296770786\n"
     ]
    },
    {
     "name": "stderr",
     "output_type": "stream",
     "text": [
      "100%|██████████| 219/219 [00:53<00:00,  4.12it/s]\n"
     ]
    },
    {
     "name": "stdout",
     "output_type": "stream",
     "text": [
      "Epoch [107/300], Step [219/219], Loss: 1.3354, Accuracy: 0.5260\n",
      "Accuracy of the network: 0.46166666666666667 Loss: 1.5076039547615863\n"
     ]
    },
    {
     "name": "stderr",
     "output_type": "stream",
     "text": [
      "100%|██████████| 219/219 [00:52<00:00,  4.15it/s]\n"
     ]
    },
    {
     "name": "stdout",
     "output_type": "stream",
     "text": [
      "Epoch [108/300], Step [219/219], Loss: 1.3353, Accuracy: 0.5203\n",
      "Accuracy of the network: 0.45466666666666666 Loss: 1.502090961375135\n"
     ]
    },
    {
     "name": "stderr",
     "output_type": "stream",
     "text": [
      "100%|██████████| 219/219 [00:52<00:00,  4.18it/s]\n"
     ]
    },
    {
     "name": "stdout",
     "output_type": "stream",
     "text": [
      "Epoch [109/300], Step [219/219], Loss: 1.3232, Accuracy: 0.5273\n",
      "Accuracy of the network: 0.4553333333333333 Loss: 1.5083770219315873\n"
     ]
    },
    {
     "name": "stderr",
     "output_type": "stream",
     "text": [
      "100%|██████████| 219/219 [00:53<00:00,  4.08it/s]\n"
     ]
    },
    {
     "name": "stdout",
     "output_type": "stream",
     "text": [
      "Epoch [110/300], Step [219/219], Loss: 1.3116, Accuracy: 0.5284\n",
      "Accuracy of the network: 0.455 Loss: 1.5194519365087469\n"
     ]
    },
    {
     "name": "stderr",
     "output_type": "stream",
     "text": [
      "100%|██████████| 219/219 [00:54<00:00,  4.00it/s]\n"
     ]
    },
    {
     "name": "stdout",
     "output_type": "stream",
     "text": [
      "Epoch [111/300], Step [219/219], Loss: 1.3057, Accuracy: 0.5317\n",
      "Accuracy of the network: 0.4563333333333333 Loss: 1.5025973472189396\n"
     ]
    },
    {
     "name": "stderr",
     "output_type": "stream",
     "text": [
      "100%|██████████| 219/219 [00:54<00:00,  4.00it/s]\n"
     ]
    },
    {
     "name": "stdout",
     "output_type": "stream",
     "text": [
      "Epoch [112/300], Step [219/219], Loss: 1.3063, Accuracy: 0.5301\n",
      "Accuracy of the network: 0.4663333333333333 Loss: 1.5035811421719003\n"
     ]
    },
    {
     "name": "stderr",
     "output_type": "stream",
     "text": [
      "100%|██████████| 219/219 [00:54<00:00,  4.03it/s]\n"
     ]
    },
    {
     "name": "stdout",
     "output_type": "stream",
     "text": [
      "Epoch [113/300], Step [219/219], Loss: 1.2918, Accuracy: 0.5374\n",
      "Accuracy of the network: 0.4686666666666667 Loss: 1.4875881189995623\n"
     ]
    },
    {
     "name": "stderr",
     "output_type": "stream",
     "text": [
      "100%|██████████| 219/219 [00:52<00:00,  4.19it/s]\n"
     ]
    },
    {
     "name": "stdout",
     "output_type": "stream",
     "text": [
      "Epoch [114/300], Step [219/219], Loss: 1.3036, Accuracy: 0.5317\n",
      "Accuracy of the network: 0.45966666666666667 Loss: 1.4975617667461962\n"
     ]
    },
    {
     "name": "stderr",
     "output_type": "stream",
     "text": [
      "100%|██████████| 219/219 [00:53<00:00,  4.11it/s]\n"
     ]
    },
    {
     "name": "stdout",
     "output_type": "stream",
     "text": [
      "Epoch [115/300], Step [219/219], Loss: 1.2967, Accuracy: 0.5393\n",
      "Accuracy of the network: 0.466 Loss: 1.5010344411464447\n"
     ]
    },
    {
     "name": "stderr",
     "output_type": "stream",
     "text": [
      "100%|██████████| 219/219 [00:53<00:00,  4.12it/s]\n"
     ]
    },
    {
     "name": "stdout",
     "output_type": "stream",
     "text": [
      "Epoch [116/300], Step [219/219], Loss: 1.2968, Accuracy: 0.5367\n",
      "Accuracy of the network: 0.466 Loss: 1.4935640749779153\n"
     ]
    },
    {
     "name": "stderr",
     "output_type": "stream",
     "text": [
      "100%|██████████| 219/219 [00:52<00:00,  4.19it/s]\n"
     ]
    },
    {
     "name": "stdout",
     "output_type": "stream",
     "text": [
      "Epoch [117/300], Step [219/219], Loss: 1.2866, Accuracy: 0.5416\n",
      "Accuracy of the network: 0.4633333333333333 Loss: 1.487684502246532\n"
     ]
    },
    {
     "name": "stderr",
     "output_type": "stream",
     "text": [
      "100%|██████████| 219/219 [00:52<00:00,  4.17it/s]\n"
     ]
    },
    {
     "name": "stdout",
     "output_type": "stream",
     "text": [
      "Epoch [118/300], Step [219/219], Loss: 1.2748, Accuracy: 0.5464\n",
      "Accuracy of the network: 0.473 Loss: 1.4872410963190363\n"
     ]
    },
    {
     "name": "stderr",
     "output_type": "stream",
     "text": [
      "100%|██████████| 219/219 [00:52<00:00,  4.18it/s]\n"
     ]
    },
    {
     "name": "stdout",
     "output_type": "stream",
     "text": [
      "Epoch [119/300], Step [219/219], Loss: 1.2661, Accuracy: 0.5484\n",
      "Accuracy of the network: 0.46266666666666667 Loss: 1.4975286100773102\n"
     ]
    },
    {
     "name": "stderr",
     "output_type": "stream",
     "text": [
      "100%|██████████| 219/219 [00:52<00:00,  4.16it/s]\n"
     ]
    },
    {
     "name": "stdout",
     "output_type": "stream",
     "text": [
      "Epoch [120/300], Step [219/219], Loss: 1.2619, Accuracy: 0.5484\n",
      "Accuracy of the network: 0.463 Loss: 1.4827638198720647\n"
     ]
    },
    {
     "name": "stderr",
     "output_type": "stream",
     "text": [
      "100%|██████████| 219/219 [00:52<00:00,  4.19it/s]\n"
     ]
    },
    {
     "name": "stdout",
     "output_type": "stream",
     "text": [
      "Epoch [121/300], Step [219/219], Loss: 1.2641, Accuracy: 0.5496\n",
      "Accuracy of the network: 0.4663333333333333 Loss: 1.4847090929112536\n"
     ]
    },
    {
     "name": "stderr",
     "output_type": "stream",
     "text": [
      "100%|██████████| 219/219 [00:52<00:00,  4.20it/s]\n"
     ]
    },
    {
     "name": "stdout",
     "output_type": "stream",
     "text": [
      "Epoch [122/300], Step [219/219], Loss: 1.2625, Accuracy: 0.5490\n",
      "Accuracy of the network: 0.479 Loss: 1.4795323090350374\n"
     ]
    },
    {
     "name": "stderr",
     "output_type": "stream",
     "text": [
      "100%|██████████| 219/219 [00:52<00:00,  4.19it/s]\n"
     ]
    },
    {
     "name": "stdout",
     "output_type": "stream",
     "text": [
      "Epoch [123/300], Step [219/219], Loss: 1.2491, Accuracy: 0.5604\n",
      "Accuracy of the network: 0.476 Loss: 1.485786332094923\n"
     ]
    },
    {
     "name": "stderr",
     "output_type": "stream",
     "text": [
      "100%|██████████| 219/219 [00:52<00:00,  4.18it/s]\n"
     ]
    },
    {
     "name": "stdout",
     "output_type": "stream",
     "text": [
      "Epoch [124/300], Step [219/219], Loss: 1.2545, Accuracy: 0.5531\n",
      "Accuracy of the network: 0.4663333333333333 Loss: 1.474325382329048\n"
     ]
    },
    {
     "name": "stderr",
     "output_type": "stream",
     "text": [
      "100%|██████████| 219/219 [00:52<00:00,  4.19it/s]\n"
     ]
    },
    {
     "name": "stdout",
     "output_type": "stream",
     "text": [
      "Epoch [125/300], Step [219/219], Loss: 1.2453, Accuracy: 0.5620\n",
      "Accuracy of the network: 0.4696666666666667 Loss: 1.4771665550292807\n"
     ]
    },
    {
     "name": "stderr",
     "output_type": "stream",
     "text": [
      "100%|██████████| 219/219 [00:52<00:00,  4.17it/s]\n"
     ]
    },
    {
     "name": "stdout",
     "output_type": "stream",
     "text": [
      "Epoch [126/300], Step [219/219], Loss: 1.2401, Accuracy: 0.5573\n",
      "Accuracy of the network: 0.4776666666666667 Loss: 1.4777421228429104\n"
     ]
    },
    {
     "name": "stderr",
     "output_type": "stream",
     "text": [
      "100%|██████████| 219/219 [00:52<00:00,  4.18it/s]\n"
     ]
    },
    {
     "name": "stdout",
     "output_type": "stream",
     "text": [
      "Epoch [127/300], Step [219/219], Loss: 1.2434, Accuracy: 0.5529\n",
      "Accuracy of the network: 0.479 Loss: 1.4633417763608567\n"
     ]
    },
    {
     "name": "stderr",
     "output_type": "stream",
     "text": [
      "100%|██████████| 219/219 [00:52<00:00,  4.17it/s]\n"
     ]
    },
    {
     "name": "stdout",
     "output_type": "stream",
     "text": [
      "Epoch [128/300], Step [219/219], Loss: 1.2356, Accuracy: 0.5617\n",
      "Accuracy of the network: 0.481 Loss: 1.4740657996624074\n"
     ]
    },
    {
     "name": "stderr",
     "output_type": "stream",
     "text": [
      "100%|██████████| 219/219 [00:52<00:00,  4.14it/s]\n"
     ]
    },
    {
     "name": "stdout",
     "output_type": "stream",
     "text": [
      "Epoch [129/300], Step [219/219], Loss: 1.2307, Accuracy: 0.5673\n",
      "Accuracy of the network: 0.48533333333333334 Loss: 1.4671690476701615\n"
     ]
    },
    {
     "name": "stderr",
     "output_type": "stream",
     "text": [
      "100%|██████████| 219/219 [00:52<00:00,  4.20it/s]\n"
     ]
    },
    {
     "name": "stdout",
     "output_type": "stream",
     "text": [
      "Epoch [130/300], Step [219/219], Loss: 1.2182, Accuracy: 0.5609\n",
      "Accuracy of the network: 0.474 Loss: 1.4724977117903688\n"
     ]
    },
    {
     "name": "stderr",
     "output_type": "stream",
     "text": [
      "100%|██████████| 219/219 [00:51<00:00,  4.28it/s]\n"
     ]
    },
    {
     "name": "stdout",
     "output_type": "stream",
     "text": [
      "Epoch [131/300], Step [219/219], Loss: 1.2235, Accuracy: 0.5647\n",
      "Accuracy of the network: 0.468 Loss: 1.4814966130763927\n"
     ]
    },
    {
     "name": "stderr",
     "output_type": "stream",
     "text": [
      "100%|██████████| 219/219 [00:50<00:00,  4.32it/s]\n"
     ]
    },
    {
     "name": "stdout",
     "output_type": "stream",
     "text": [
      "Epoch [132/300], Step [219/219], Loss: 1.2079, Accuracy: 0.5683\n",
      "Accuracy of the network: 0.48 Loss: 1.489838312915031\n"
     ]
    },
    {
     "name": "stderr",
     "output_type": "stream",
     "text": [
      "100%|██████████| 219/219 [00:50<00:00,  4.31it/s]\n"
     ]
    },
    {
     "name": "stdout",
     "output_type": "stream",
     "text": [
      "Epoch [133/300], Step [219/219], Loss: 1.2129, Accuracy: 0.5670\n",
      "Accuracy of the network: 0.476 Loss: 1.4676521261955828\n"
     ]
    },
    {
     "name": "stderr",
     "output_type": "stream",
     "text": [
      "100%|██████████| 219/219 [00:50<00:00,  4.35it/s]\n"
     ]
    },
    {
     "name": "stdout",
     "output_type": "stream",
     "text": [
      "Epoch [134/300], Step [219/219], Loss: 1.2131, Accuracy: 0.5717\n",
      "Accuracy of the network: 0.47633333333333333 Loss: 1.4809899837412732\n"
     ]
    },
    {
     "name": "stderr",
     "output_type": "stream",
     "text": [
      "100%|██████████| 219/219 [00:55<00:00,  3.94it/s]\n"
     ]
    },
    {
     "name": "stdout",
     "output_type": "stream",
     "text": [
      "Epoch [135/300], Step [219/219], Loss: 1.2109, Accuracy: 0.5674\n",
      "Accuracy of the network: 0.48 Loss: 1.4717246370112642\n"
     ]
    },
    {
     "name": "stderr",
     "output_type": "stream",
     "text": [
      "100%|██████████| 219/219 [00:56<00:00,  3.91it/s]\n"
     ]
    },
    {
     "name": "stdout",
     "output_type": "stream",
     "text": [
      "Epoch [136/300], Step [219/219], Loss: 1.1923, Accuracy: 0.5786\n",
      "Accuracy of the network: 0.4716666666666667 Loss: 1.4669707810625117\n"
     ]
    },
    {
     "name": "stderr",
     "output_type": "stream",
     "text": [
      "100%|██████████| 219/219 [00:55<00:00,  3.95it/s]\n"
     ]
    },
    {
     "name": "stdout",
     "output_type": "stream",
     "text": [
      "Epoch [137/300], Step [219/219], Loss: 1.2046, Accuracy: 0.5703\n",
      "Accuracy of the network: 0.4693333333333333 Loss: 1.4748794081363272\n"
     ]
    },
    {
     "name": "stderr",
     "output_type": "stream",
     "text": [
      "100%|██████████| 219/219 [00:50<00:00,  4.32it/s]\n"
     ]
    },
    {
     "name": "stdout",
     "output_type": "stream",
     "text": [
      "Epoch [138/300], Step [219/219], Loss: 1.1920, Accuracy: 0.5769\n",
      "Accuracy of the network: 0.49 Loss: 1.4611266204651365\n"
     ]
    },
    {
     "name": "stderr",
     "output_type": "stream",
     "text": [
      "100%|██████████| 219/219 [00:50<00:00,  4.36it/s]\n"
     ]
    },
    {
     "name": "stdout",
     "output_type": "stream",
     "text": [
      "Epoch [139/300], Step [219/219], Loss: 1.1895, Accuracy: 0.5814\n",
      "Accuracy of the network: 0.483 Loss: 1.4519544376971874\n"
     ]
    },
    {
     "name": "stderr",
     "output_type": "stream",
     "text": [
      "100%|██████████| 219/219 [00:51<00:00,  4.26it/s]\n"
     ]
    },
    {
     "name": "stdout",
     "output_type": "stream",
     "text": [
      "Epoch [140/300], Step [219/219], Loss: 1.1865, Accuracy: 0.5814\n",
      "Accuracy of the network: 0.486 Loss: 1.4652332308444571\n"
     ]
    },
    {
     "name": "stderr",
     "output_type": "stream",
     "text": [
      "100%|██████████| 219/219 [00:56<00:00,  3.88it/s]\n"
     ]
    },
    {
     "name": "stdout",
     "output_type": "stream",
     "text": [
      "Epoch [141/300], Step [219/219], Loss: 1.1907, Accuracy: 0.5784\n",
      "Accuracy of the network: 0.48 Loss: 1.4691468749908692\n"
     ]
    },
    {
     "name": "stderr",
     "output_type": "stream",
     "text": [
      "100%|██████████| 219/219 [00:56<00:00,  3.91it/s]\n"
     ]
    },
    {
     "name": "stdout",
     "output_type": "stream",
     "text": [
      "Epoch [142/300], Step [219/219], Loss: 1.1861, Accuracy: 0.5733\n",
      "Accuracy of the network: 0.4786666666666667 Loss: 1.4664502175564462\n"
     ]
    },
    {
     "name": "stderr",
     "output_type": "stream",
     "text": [
      "100%|██████████| 219/219 [00:51<00:00,  4.23it/s]\n"
     ]
    },
    {
     "name": "stdout",
     "output_type": "stream",
     "text": [
      "Epoch [143/300], Step [219/219], Loss: 1.1847, Accuracy: 0.5804\n",
      "Accuracy of the network: 0.49066666666666664 Loss: 1.4479092220042615\n"
     ]
    },
    {
     "name": "stderr",
     "output_type": "stream",
     "text": [
      "100%|██████████| 219/219 [00:51<00:00,  4.23it/s]\n"
     ]
    },
    {
     "name": "stdout",
     "output_type": "stream",
     "text": [
      "Epoch [144/300], Step [219/219], Loss: 1.1728, Accuracy: 0.5840\n",
      "Accuracy of the network: 0.48333333333333334 Loss: 1.4727564466760514\n"
     ]
    },
    {
     "name": "stderr",
     "output_type": "stream",
     "text": [
      "100%|██████████| 219/219 [00:54<00:00,  4.04it/s]\n"
     ]
    },
    {
     "name": "stdout",
     "output_type": "stream",
     "text": [
      "Epoch [145/300], Step [219/219], Loss: 1.1619, Accuracy: 0.5884\n",
      "Accuracy of the network: 0.486 Loss: 1.4510804985431915\n"
     ]
    },
    {
     "name": "stderr",
     "output_type": "stream",
     "text": [
      "100%|██████████| 219/219 [00:55<00:00,  3.96it/s]\n"
     ]
    },
    {
     "name": "stdout",
     "output_type": "stream",
     "text": [
      "Epoch [146/300], Step [219/219], Loss: 1.1631, Accuracy: 0.5880\n",
      "Accuracy of the network: 0.48233333333333334 Loss: 1.4662592360313902\n"
     ]
    },
    {
     "name": "stderr",
     "output_type": "stream",
     "text": [
      "100%|██████████| 219/219 [00:51<00:00,  4.28it/s]\n"
     ]
    },
    {
     "name": "stdout",
     "output_type": "stream",
     "text": [
      "Epoch [147/300], Step [219/219], Loss: 1.1660, Accuracy: 0.5899\n",
      "Accuracy of the network: 0.4816666666666667 Loss: 1.4578978977304824\n"
     ]
    },
    {
     "name": "stderr",
     "output_type": "stream",
     "text": [
      "100%|██████████| 219/219 [00:51<00:00,  4.26it/s]\n"
     ]
    },
    {
     "name": "stdout",
     "output_type": "stream",
     "text": [
      "Epoch [148/300], Step [219/219], Loss: 1.1701, Accuracy: 0.5891\n",
      "Accuracy of the network: 0.4776666666666667 Loss: 1.4642370723663491\n"
     ]
    },
    {
     "name": "stderr",
     "output_type": "stream",
     "text": [
      "100%|██████████| 219/219 [00:50<00:00,  4.32it/s]\n"
     ]
    },
    {
     "name": "stdout",
     "output_type": "stream",
     "text": [
      "Epoch [149/300], Step [219/219], Loss: 1.1544, Accuracy: 0.5910\n",
      "Accuracy of the network: 0.4886666666666667 Loss: 1.459920290936815\n"
     ]
    },
    {
     "name": "stderr",
     "output_type": "stream",
     "text": [
      "100%|██████████| 219/219 [00:51<00:00,  4.28it/s]\n"
     ]
    },
    {
     "name": "stdout",
     "output_type": "stream",
     "text": [
      "Epoch [150/300], Step [219/219], Loss: 1.1605, Accuracy: 0.5821\n",
      "Accuracy of the network: 0.4816666666666667 Loss: 1.4568704442774996\n"
     ]
    },
    {
     "name": "stderr",
     "output_type": "stream",
     "text": [
      "100%|██████████| 219/219 [00:51<00:00,  4.29it/s]\n"
     ]
    },
    {
     "name": "stdout",
     "output_type": "stream",
     "text": [
      "Epoch [151/300], Step [219/219], Loss: 1.1614, Accuracy: 0.5856\n",
      "Accuracy of the network: 0.49 Loss: 1.4538360935576418\n"
     ]
    },
    {
     "name": "stderr",
     "output_type": "stream",
     "text": [
      "100%|██████████| 219/219 [00:51<00:00,  4.26it/s]\n"
     ]
    },
    {
     "name": "stdout",
     "output_type": "stream",
     "text": [
      "Epoch [152/300], Step [219/219], Loss: 1.1564, Accuracy: 0.5889\n",
      "Accuracy of the network: 0.4856666666666667 Loss: 1.4644256031259577\n"
     ]
    },
    {
     "name": "stderr",
     "output_type": "stream",
     "text": [
      "100%|██████████| 219/219 [00:51<00:00,  4.27it/s]\n"
     ]
    },
    {
     "name": "stdout",
     "output_type": "stream",
     "text": [
      "Epoch [153/300], Step [219/219], Loss: 1.1493, Accuracy: 0.5881\n",
      "Accuracy of the network: 0.49 Loss: 1.4549754496584548\n"
     ]
    },
    {
     "name": "stderr",
     "output_type": "stream",
     "text": [
      "100%|██████████| 219/219 [00:50<00:00,  4.33it/s]\n"
     ]
    },
    {
     "name": "stdout",
     "output_type": "stream",
     "text": [
      "Epoch [154/300], Step [219/219], Loss: 1.1528, Accuracy: 0.5894\n",
      "Accuracy of the network: 0.49033333333333334 Loss: 1.447919675644408\n"
     ]
    },
    {
     "name": "stderr",
     "output_type": "stream",
     "text": [
      "100%|██████████| 219/219 [00:50<00:00,  4.32it/s]\n"
     ]
    },
    {
     "name": "stdout",
     "output_type": "stream",
     "text": [
      "Epoch [155/300], Step [219/219], Loss: 1.1415, Accuracy: 0.5924\n",
      "Accuracy of the network: 0.484 Loss: 1.4633777718594734\n"
     ]
    },
    {
     "name": "stderr",
     "output_type": "stream",
     "text": [
      "100%|██████████| 219/219 [00:50<00:00,  4.31it/s]\n"
     ]
    },
    {
     "name": "stdout",
     "output_type": "stream",
     "text": [
      "Epoch [156/300], Step [219/219], Loss: 1.1494, Accuracy: 0.5960\n",
      "Accuracy of the network: 0.48966666666666664 Loss: 1.4500213493692113\n"
     ]
    },
    {
     "name": "stderr",
     "output_type": "stream",
     "text": [
      "100%|██████████| 219/219 [00:50<00:00,  4.36it/s]\n"
     ]
    },
    {
     "name": "stdout",
     "output_type": "stream",
     "text": [
      "Epoch [157/300], Step [219/219], Loss: 1.1298, Accuracy: 0.5991\n",
      "Accuracy of the network: 0.48933333333333334 Loss: 1.4462076273370297\n"
     ]
    },
    {
     "name": "stderr",
     "output_type": "stream",
     "text": [
      "100%|██████████| 219/219 [00:50<00:00,  4.30it/s]\n"
     ]
    },
    {
     "name": "stdout",
     "output_type": "stream",
     "text": [
      "Epoch [158/300], Step [219/219], Loss: 1.1422, Accuracy: 0.5974\n",
      "Accuracy of the network: 0.486 Loss: 1.4605315999781832\n"
     ]
    },
    {
     "name": "stderr",
     "output_type": "stream",
     "text": [
      "100%|██████████| 219/219 [00:50<00:00,  4.30it/s]\n"
     ]
    },
    {
     "name": "stdout",
     "output_type": "stream",
     "text": [
      "Epoch [159/300], Step [219/219], Loss: 1.1346, Accuracy: 0.5996\n",
      "Accuracy of the network: 0.49666666666666665 Loss: 1.4419616042299475\n"
     ]
    },
    {
     "name": "stderr",
     "output_type": "stream",
     "text": [
      "100%|██████████| 219/219 [00:50<00:00,  4.32it/s]\n"
     ]
    },
    {
     "name": "stdout",
     "output_type": "stream",
     "text": [
      "Epoch [160/300], Step [219/219], Loss: 1.1303, Accuracy: 0.6053\n",
      "Accuracy of the network: 0.494 Loss: 1.4422355021568054\n"
     ]
    },
    {
     "name": "stderr",
     "output_type": "stream",
     "text": [
      "100%|██████████| 219/219 [00:50<00:00,  4.32it/s]\n"
     ]
    },
    {
     "name": "stdout",
     "output_type": "stream",
     "text": [
      "Epoch [161/300], Step [219/219], Loss: 1.1296, Accuracy: 0.6017\n",
      "Accuracy of the network: 0.49 Loss: 1.4446564475272565\n"
     ]
    },
    {
     "name": "stderr",
     "output_type": "stream",
     "text": [
      "100%|██████████| 219/219 [00:50<00:00,  4.33it/s]\n"
     ]
    },
    {
     "name": "stdout",
     "output_type": "stream",
     "text": [
      "Epoch [162/300], Step [219/219], Loss: 1.1356, Accuracy: 0.5917\n",
      "Accuracy of the network: 0.485 Loss: 1.4543297645893503\n"
     ]
    },
    {
     "name": "stderr",
     "output_type": "stream",
     "text": [
      "100%|██████████| 219/219 [00:50<00:00,  4.31it/s]\n"
     ]
    },
    {
     "name": "stdout",
     "output_type": "stream",
     "text": [
      "Epoch [163/300], Step [219/219], Loss: 1.1230, Accuracy: 0.6087\n",
      "Accuracy of the network: 0.49033333333333334 Loss: 1.4527452099830547\n"
     ]
    },
    {
     "name": "stderr",
     "output_type": "stream",
     "text": [
      "100%|██████████| 219/219 [00:50<00:00,  4.33it/s]\n"
     ]
    },
    {
     "name": "stdout",
     "output_type": "stream",
     "text": [
      "Epoch [164/300], Step [219/219], Loss: 1.1202, Accuracy: 0.5991\n",
      "Accuracy of the network: 0.485 Loss: 1.4504485846833979\n"
     ]
    },
    {
     "name": "stderr",
     "output_type": "stream",
     "text": [
      "100%|██████████| 219/219 [00:50<00:00,  4.34it/s]\n"
     ]
    },
    {
     "name": "stdout",
     "output_type": "stream",
     "text": [
      "Epoch [165/300], Step [219/219], Loss: 1.1298, Accuracy: 0.6019\n",
      "Accuracy of the network: 0.48733333333333334 Loss: 1.4572037604260952\n"
     ]
    },
    {
     "name": "stderr",
     "output_type": "stream",
     "text": [
      "100%|██████████| 219/219 [00:50<00:00,  4.33it/s]\n"
     ]
    },
    {
     "name": "stdout",
     "output_type": "stream",
     "text": [
      "Epoch [166/300], Step [219/219], Loss: 1.1285, Accuracy: 0.6009\n",
      "Accuracy of the network: 0.49466666666666664 Loss: 1.4489092421024403\n"
     ]
    },
    {
     "name": "stderr",
     "output_type": "stream",
     "text": [
      "100%|██████████| 219/219 [00:50<00:00,  4.35it/s]\n"
     ]
    },
    {
     "name": "stdout",
     "output_type": "stream",
     "text": [
      "Epoch [167/300], Step [219/219], Loss: 1.1256, Accuracy: 0.6040\n",
      "Accuracy of the network: 0.49366666666666664 Loss: 1.4320954299987632\n"
     ]
    },
    {
     "name": "stderr",
     "output_type": "stream",
     "text": [
      "100%|██████████| 219/219 [00:50<00:00,  4.37it/s]\n"
     ]
    },
    {
     "name": "stdout",
     "output_type": "stream",
     "text": [
      "Epoch [168/300], Step [219/219], Loss: 1.1226, Accuracy: 0.6017\n",
      "Accuracy of the network: 0.49366666666666664 Loss: 1.4463064924199531\n"
     ]
    },
    {
     "name": "stderr",
     "output_type": "stream",
     "text": [
      "100%|██████████| 219/219 [00:50<00:00,  4.34it/s]\n"
     ]
    },
    {
     "name": "stdout",
     "output_type": "stream",
     "text": [
      "Epoch [169/300], Step [219/219], Loss: 1.1237, Accuracy: 0.5994\n",
      "Accuracy of the network: 0.49633333333333335 Loss: 1.4362025235561615\n"
     ]
    },
    {
     "name": "stderr",
     "output_type": "stream",
     "text": [
      "100%|██████████| 219/219 [00:50<00:00,  4.34it/s]\n"
     ]
    },
    {
     "name": "stdout",
     "output_type": "stream",
     "text": [
      "Epoch [170/300], Step [219/219], Loss: 1.1180, Accuracy: 0.6037\n",
      "Accuracy of the network: 0.4886666666666667 Loss: 1.4478945453116234\n"
     ]
    },
    {
     "name": "stderr",
     "output_type": "stream",
     "text": [
      "100%|██████████| 219/219 [00:50<00:00,  4.35it/s]\n"
     ]
    },
    {
     "name": "stdout",
     "output_type": "stream",
     "text": [
      "Epoch [171/300], Step [219/219], Loss: 1.1250, Accuracy: 0.6041\n",
      "Accuracy of the network: 0.491 Loss: 1.4396379285670342\n"
     ]
    },
    {
     "name": "stderr",
     "output_type": "stream",
     "text": [
      "100%|██████████| 219/219 [00:50<00:00,  4.36it/s]\n"
     ]
    },
    {
     "name": "stdout",
     "output_type": "stream",
     "text": [
      "Epoch [172/300], Step [219/219], Loss: 1.1069, Accuracy: 0.6060\n",
      "Accuracy of the network: 0.48533333333333334 Loss: 1.4496779080401077\n"
     ]
    },
    {
     "name": "stderr",
     "output_type": "stream",
     "text": [
      "100%|██████████| 219/219 [00:51<00:00,  4.28it/s]\n"
     ]
    },
    {
     "name": "stdout",
     "output_type": "stream",
     "text": [
      "Epoch [173/300], Step [219/219], Loss: 1.1004, Accuracy: 0.6117\n",
      "Accuracy of the network: 0.49433333333333335 Loss: 1.439299038115968\n"
     ]
    },
    {
     "name": "stderr",
     "output_type": "stream",
     "text": [
      "100%|██████████| 219/219 [00:50<00:00,  4.30it/s]\n"
     ]
    },
    {
     "name": "stdout",
     "output_type": "stream",
     "text": [
      "Epoch [174/300], Step [219/219], Loss: 1.0993, Accuracy: 0.6167\n",
      "Accuracy of the network: 0.48966666666666664 Loss: 1.4527935290590246\n"
     ]
    },
    {
     "name": "stderr",
     "output_type": "stream",
     "text": [
      "100%|██████████| 219/219 [00:51<00:00,  4.26it/s]\n"
     ]
    },
    {
     "name": "stdout",
     "output_type": "stream",
     "text": [
      "Epoch [175/300], Step [219/219], Loss: 1.1098, Accuracy: 0.6056\n",
      "Accuracy of the network: 0.495 Loss: 1.444524073220314\n"
     ]
    },
    {
     "name": "stderr",
     "output_type": "stream",
     "text": [
      "100%|██████████| 219/219 [00:52<00:00,  4.18it/s]\n"
     ]
    },
    {
     "name": "stdout",
     "output_type": "stream",
     "text": [
      "Epoch [176/300], Step [219/219], Loss: 1.1138, Accuracy: 0.6081\n",
      "Accuracy of the network: 0.49466666666666664 Loss: 1.4388279737310206\n"
     ]
    },
    {
     "name": "stderr",
     "output_type": "stream",
     "text": [
      "100%|██████████| 219/219 [00:52<00:00,  4.21it/s]\n"
     ]
    },
    {
     "name": "stdout",
     "output_type": "stream",
     "text": [
      "Epoch [177/300], Step [219/219], Loss: 1.1199, Accuracy: 0.6083\n",
      "Accuracy of the network: 0.49433333333333335 Loss: 1.4476993553181912\n"
     ]
    },
    {
     "name": "stderr",
     "output_type": "stream",
     "text": [
      "100%|██████████| 219/219 [00:51<00:00,  4.27it/s]\n"
     ]
    },
    {
     "name": "stdout",
     "output_type": "stream",
     "text": [
      "Epoch [178/300], Step [219/219], Loss: 1.1100, Accuracy: 0.6104\n",
      "Accuracy of the network: 0.492 Loss: 1.4591790640607794\n"
     ]
    },
    {
     "name": "stderr",
     "output_type": "stream",
     "text": [
      "100%|██████████| 219/219 [00:51<00:00,  4.22it/s]\n"
     ]
    },
    {
     "name": "stdout",
     "output_type": "stream",
     "text": [
      "Epoch [179/300], Step [219/219], Loss: 1.1042, Accuracy: 0.6079\n",
      "Accuracy of the network: 0.48966666666666664 Loss: 1.4488539366011923\n"
     ]
    },
    {
     "name": "stderr",
     "output_type": "stream",
     "text": [
      "100%|██████████| 219/219 [00:51<00:00,  4.22it/s]\n"
     ]
    },
    {
     "name": "stdout",
     "output_type": "stream",
     "text": [
      "Epoch [180/300], Step [219/219], Loss: 1.1122, Accuracy: 0.6053\n",
      "Accuracy of the network: 0.496 Loss: 1.4402039786602587\n"
     ]
    },
    {
     "name": "stderr",
     "output_type": "stream",
     "text": [
      "100%|██████████| 219/219 [00:52<00:00,  4.21it/s]\n"
     ]
    },
    {
     "name": "stdout",
     "output_type": "stream",
     "text": [
      "Epoch [181/300], Step [219/219], Loss: 1.0983, Accuracy: 0.6159\n",
      "Accuracy of the network: 0.49633333333333335 Loss: 1.4403697341046435\n"
     ]
    },
    {
     "name": "stderr",
     "output_type": "stream",
     "text": [
      "100%|██████████| 219/219 [00:51<00:00,  4.26it/s]\n"
     ]
    },
    {
     "name": "stdout",
     "output_type": "stream",
     "text": [
      "Epoch [182/300], Step [219/219], Loss: 1.1129, Accuracy: 0.6070\n",
      "Accuracy of the network: 0.49133333333333334 Loss: 1.436105230387221\n"
     ]
    },
    {
     "name": "stderr",
     "output_type": "stream",
     "text": [
      "100%|██████████| 219/219 [00:51<00:00,  4.22it/s]\n"
     ]
    },
    {
     "name": "stdout",
     "output_type": "stream",
     "text": [
      "Epoch [183/300], Step [219/219], Loss: 1.1037, Accuracy: 0.6089\n",
      "Accuracy of the network: 0.49533333333333335 Loss: 1.450935202710172\n"
     ]
    },
    {
     "name": "stderr",
     "output_type": "stream",
     "text": [
      "100%|██████████| 219/219 [00:51<00:00,  4.26it/s]\n"
     ]
    },
    {
     "name": "stdout",
     "output_type": "stream",
     "text": [
      "Epoch [184/300], Step [219/219], Loss: 1.0993, Accuracy: 0.6124\n",
      "Accuracy of the network: 0.501 Loss: 1.437448095768056\n"
     ]
    },
    {
     "name": "stderr",
     "output_type": "stream",
     "text": [
      "100%|██████████| 219/219 [00:52<00:00,  4.20it/s]\n"
     ]
    },
    {
     "name": "stdout",
     "output_type": "stream",
     "text": [
      "Epoch [185/300], Step [219/219], Loss: 1.1062, Accuracy: 0.6076\n",
      "Accuracy of the network: 0.497 Loss: 1.4412762643174921\n"
     ]
    },
    {
     "name": "stderr",
     "output_type": "stream",
     "text": [
      "100%|██████████| 219/219 [00:51<00:00,  4.21it/s]\n"
     ]
    },
    {
     "name": "stdout",
     "output_type": "stream",
     "text": [
      "Epoch [186/300], Step [219/219], Loss: 1.1089, Accuracy: 0.6113\n",
      "Accuracy of the network: 0.49333333333333335 Loss: 1.436021496640875\n"
     ]
    },
    {
     "name": "stderr",
     "output_type": "stream",
     "text": [
      "100%|██████████| 219/219 [00:51<00:00,  4.22it/s]\n"
     ]
    },
    {
     "name": "stdout",
     "output_type": "stream",
     "text": [
      "Epoch [187/300], Step [219/219], Loss: 1.0935, Accuracy: 0.6181\n",
      "Accuracy of the network: 0.501 Loss: 1.442864308331875\n"
     ]
    },
    {
     "name": "stderr",
     "output_type": "stream",
     "text": [
      "100%|██████████| 219/219 [00:51<00:00,  4.23it/s]\n"
     ]
    },
    {
     "name": "stdout",
     "output_type": "stream",
     "text": [
      "Epoch [188/300], Step [219/219], Loss: 1.0874, Accuracy: 0.6180\n",
      "Accuracy of the network: 0.49333333333333335 Loss: 1.4504051011927583\n"
     ]
    },
    {
     "name": "stderr",
     "output_type": "stream",
     "text": [
      "100%|██████████| 219/219 [00:52<00:00,  4.19it/s]\n"
     ]
    },
    {
     "name": "stdout",
     "output_type": "stream",
     "text": [
      "Epoch [189/300], Step [219/219], Loss: 1.0911, Accuracy: 0.6164\n",
      "Accuracy of the network: 0.5013333333333333 Loss: 1.4426962517677469\n"
     ]
    },
    {
     "name": "stderr",
     "output_type": "stream",
     "text": [
      "100%|██████████| 219/219 [00:51<00:00,  4.22it/s]\n"
     ]
    },
    {
     "name": "stdout",
     "output_type": "stream",
     "text": [
      "Epoch [190/300], Step [219/219], Loss: 1.0894, Accuracy: 0.6097\n",
      "Accuracy of the network: 0.5003333333333333 Loss: 1.448728619103736\n"
     ]
    },
    {
     "name": "stderr",
     "output_type": "stream",
     "text": [
      "100%|██████████| 219/219 [00:52<00:00,  4.14it/s]\n"
     ]
    },
    {
     "name": "stdout",
     "output_type": "stream",
     "text": [
      "Epoch [191/300], Step [219/219], Loss: 1.0891, Accuracy: 0.6159\n",
      "Accuracy of the network: 0.498 Loss: 1.4419592238487082\n"
     ]
    },
    {
     "name": "stderr",
     "output_type": "stream",
     "text": [
      "100%|██████████| 219/219 [00:50<00:00,  4.30it/s]\n"
     ]
    },
    {
     "name": "stdout",
     "output_type": "stream",
     "text": [
      "Epoch [192/300], Step [219/219], Loss: 1.0998, Accuracy: 0.6144\n",
      "Accuracy of the network: 0.49266666666666664 Loss: 1.447319174066503\n"
     ]
    },
    {
     "name": "stderr",
     "output_type": "stream",
     "text": [
      "100%|██████████| 219/219 [00:50<00:00,  4.35it/s]\n"
     ]
    },
    {
     "name": "stdout",
     "output_type": "stream",
     "text": [
      "Epoch [193/300], Step [219/219], Loss: 1.0942, Accuracy: 0.6151\n",
      "Accuracy of the network: 0.49166666666666664 Loss: 1.4422051209084532\n"
     ]
    },
    {
     "name": "stderr",
     "output_type": "stream",
     "text": [
      "100%|██████████| 219/219 [00:50<00:00,  4.33it/s]\n"
     ]
    },
    {
     "name": "stdout",
     "output_type": "stream",
     "text": [
      "Epoch [194/300], Step [219/219], Loss: 1.1001, Accuracy: 0.6121\n",
      "Accuracy of the network: 0.49366666666666664 Loss: 1.4427314375309235\n"
     ]
    },
    {
     "name": "stderr",
     "output_type": "stream",
     "text": [
      "100%|██████████| 219/219 [00:50<00:00,  4.37it/s]\n"
     ]
    },
    {
     "name": "stdout",
     "output_type": "stream",
     "text": [
      "Epoch [195/300], Step [219/219], Loss: 1.0955, Accuracy: 0.6059\n",
      "Accuracy of the network: 0.48533333333333334 Loss: 1.4520261833008299\n"
     ]
    },
    {
     "name": "stderr",
     "output_type": "stream",
     "text": [
      "100%|██████████| 219/219 [00:50<00:00,  4.32it/s]\n"
     ]
    },
    {
     "name": "stdout",
     "output_type": "stream",
     "text": [
      "Epoch [196/300], Step [219/219], Loss: 1.1077, Accuracy: 0.6059\n",
      "Accuracy of the network: 0.5026666666666667 Loss: 1.437870830931562\n"
     ]
    },
    {
     "name": "stderr",
     "output_type": "stream",
     "text": [
      "100%|██████████| 219/219 [00:50<00:00,  4.33it/s]\n"
     ]
    },
    {
     "name": "stdout",
     "output_type": "stream",
     "text": [
      "Epoch [197/300], Step [219/219], Loss: 1.1001, Accuracy: 0.6117\n",
      "Accuracy of the network: 0.49533333333333335 Loss: 1.440308927221501\n"
     ]
    },
    {
     "name": "stderr",
     "output_type": "stream",
     "text": [
      "100%|██████████| 219/219 [00:50<00:00,  4.34it/s]\n"
     ]
    },
    {
     "name": "stdout",
     "output_type": "stream",
     "text": [
      "Epoch [198/300], Step [219/219], Loss: 1.0924, Accuracy: 0.6140\n",
      "Accuracy of the network: 0.499 Loss: 1.4359461145198091\n"
     ]
    },
    {
     "name": "stderr",
     "output_type": "stream",
     "text": [
      "100%|██████████| 219/219 [00:50<00:00,  4.35it/s]\n"
     ]
    },
    {
     "name": "stdout",
     "output_type": "stream",
     "text": [
      "Epoch [199/300], Step [219/219], Loss: 1.0887, Accuracy: 0.6177\n",
      "Accuracy of the network: 0.489 Loss: 1.4454928940915046\n"
     ]
    },
    {
     "name": "stderr",
     "output_type": "stream",
     "text": [
      "100%|██████████| 219/219 [00:50<00:00,  4.38it/s]\n"
     ]
    },
    {
     "name": "stdout",
     "output_type": "stream",
     "text": [
      "Epoch [200/300], Step [219/219], Loss: 1.0944, Accuracy: 0.6137\n",
      "Accuracy of the network: 0.48966666666666664 Loss: 1.4375745863356488\n"
     ]
    },
    {
     "name": "stderr",
     "output_type": "stream",
     "text": [
      "100%|██████████| 219/219 [00:51<00:00,  4.28it/s]\n"
     ]
    },
    {
     "name": "stdout",
     "output_type": "stream",
     "text": [
      "Epoch [201/300], Step [219/219], Loss: 1.0876, Accuracy: 0.6163\n",
      "Accuracy of the network: 0.499 Loss: 1.4403632536847542\n"
     ]
    },
    {
     "name": "stderr",
     "output_type": "stream",
     "text": [
      "100%|██████████| 219/219 [00:51<00:00,  4.25it/s]\n"
     ]
    },
    {
     "name": "stdout",
     "output_type": "stream",
     "text": [
      "Epoch [202/300], Step [219/219], Loss: 1.0931, Accuracy: 0.6104\n",
      "Accuracy of the network: 0.49733333333333335 Loss: 1.4472794577162316\n"
     ]
    },
    {
     "name": "stderr",
     "output_type": "stream",
     "text": [
      "100%|██████████| 219/219 [00:51<00:00,  4.27it/s]\n"
     ]
    },
    {
     "name": "stdout",
     "output_type": "stream",
     "text": [
      "Epoch [203/300], Step [219/219], Loss: 1.0789, Accuracy: 0.6189\n",
      "Accuracy of the network: 0.48833333333333334 Loss: 1.439707375587301\n"
     ]
    },
    {
     "name": "stderr",
     "output_type": "stream",
     "text": [
      "100%|██████████| 219/219 [00:50<00:00,  4.32it/s]\n"
     ]
    },
    {
     "name": "stdout",
     "output_type": "stream",
     "text": [
      "Epoch [204/300], Step [219/219], Loss: 1.0859, Accuracy: 0.6187\n",
      "Accuracy of the network: 0.49466666666666664 Loss: 1.4362388234189216\n"
     ]
    },
    {
     "name": "stderr",
     "output_type": "stream",
     "text": [
      "100%|██████████| 219/219 [00:51<00:00,  4.28it/s]\n"
     ]
    },
    {
     "name": "stdout",
     "output_type": "stream",
     "text": [
      "Epoch [205/300], Step [219/219], Loss: 1.0786, Accuracy: 0.6174\n",
      "Accuracy of the network: 0.49633333333333335 Loss: 1.4346878370071978\n"
     ]
    },
    {
     "name": "stderr",
     "output_type": "stream",
     "text": [
      "100%|██████████| 219/219 [00:50<00:00,  4.37it/s]\n"
     ]
    },
    {
     "name": "stdout",
     "output_type": "stream",
     "text": [
      "Epoch [206/300], Step [219/219], Loss: 1.0966, Accuracy: 0.6123\n",
      "Accuracy of the network: 0.49466666666666664 Loss: 1.4489183876108616\n"
     ]
    },
    {
     "name": "stderr",
     "output_type": "stream",
     "text": [
      "100%|██████████| 219/219 [00:50<00:00,  4.38it/s]\n"
     ]
    },
    {
     "name": "stdout",
     "output_type": "stream",
     "text": [
      "Epoch [207/300], Step [219/219], Loss: 1.0923, Accuracy: 0.6140\n",
      "Accuracy of the network: 0.49266666666666664 Loss: 1.443302108886394\n"
     ]
    },
    {
     "name": "stderr",
     "output_type": "stream",
     "text": [
      "100%|██████████| 219/219 [00:51<00:00,  4.29it/s]\n"
     ]
    },
    {
     "name": "stdout",
     "output_type": "stream",
     "text": [
      "Epoch [208/300], Step [219/219], Loss: 1.0922, Accuracy: 0.6104\n",
      "Accuracy of the network: 0.5006666666666667 Loss: 1.4437132331919162\n"
     ]
    },
    {
     "name": "stderr",
     "output_type": "stream",
     "text": [
      "100%|██████████| 219/219 [00:50<00:00,  4.31it/s]\n"
     ]
    },
    {
     "name": "stdout",
     "output_type": "stream",
     "text": [
      "Epoch [209/300], Step [219/219], Loss: 1.0893, Accuracy: 0.6144\n",
      "Accuracy of the network: 0.49766666666666665 Loss: 1.4419750165432057\n"
     ]
    },
    {
     "name": "stderr",
     "output_type": "stream",
     "text": [
      "100%|██████████| 219/219 [00:50<00:00,  4.34it/s]\n"
     ]
    },
    {
     "name": "stdout",
     "output_type": "stream",
     "text": [
      "Epoch [210/300], Step [219/219], Loss: 1.0925, Accuracy: 0.6161\n",
      "Accuracy of the network: 0.493 Loss: 1.4472472249193395\n"
     ]
    },
    {
     "name": "stderr",
     "output_type": "stream",
     "text": [
      "100%|██████████| 219/219 [00:50<00:00,  4.34it/s]\n"
     ]
    },
    {
     "name": "stdout",
     "output_type": "stream",
     "text": [
      "Epoch [211/300], Step [219/219], Loss: 1.0750, Accuracy: 0.6266\n",
      "Accuracy of the network: 0.49466666666666664 Loss: 1.440544143002084\n"
     ]
    },
    {
     "name": "stderr",
     "output_type": "stream",
     "text": [
      "100%|██████████| 219/219 [00:50<00:00,  4.35it/s]\n"
     ]
    },
    {
     "name": "stdout",
     "output_type": "stream",
     "text": [
      "Epoch [212/300], Step [219/219], Loss: 1.0877, Accuracy: 0.6156\n",
      "Accuracy of the network: 0.49933333333333335 Loss: 1.4404870905774705\n"
     ]
    },
    {
     "name": "stderr",
     "output_type": "stream",
     "text": [
      "100%|██████████| 219/219 [00:51<00:00,  4.26it/s]\n"
     ]
    },
    {
     "name": "stdout",
     "output_type": "stream",
     "text": [
      "Epoch [213/300], Step [219/219], Loss: 1.0830, Accuracy: 0.6156\n",
      "Accuracy of the network: 0.496 Loss: 1.450846713908175\n"
     ]
    },
    {
     "name": "stderr",
     "output_type": "stream",
     "text": [
      "100%|██████████| 219/219 [00:50<00:00,  4.30it/s]\n"
     ]
    },
    {
     "name": "stdout",
     "output_type": "stream",
     "text": [
      "Epoch [214/300], Step [219/219], Loss: 1.0929, Accuracy: 0.6144\n",
      "Accuracy of the network: 0.499 Loss: 1.4356128877781806\n"
     ]
    },
    {
     "name": "stderr",
     "output_type": "stream",
     "text": [
      "100%|██████████| 219/219 [00:51<00:00,  4.28it/s]\n"
     ]
    },
    {
     "name": "stdout",
     "output_type": "stream",
     "text": [
      "Epoch [215/300], Step [219/219], Loss: 1.0796, Accuracy: 0.6184\n",
      "Accuracy of the network: 0.49166666666666664 Loss: 1.447937470801333\n"
     ]
    },
    {
     "name": "stderr",
     "output_type": "stream",
     "text": [
      "100%|██████████| 219/219 [00:53<00:00,  4.07it/s]\n"
     ]
    },
    {
     "name": "stdout",
     "output_type": "stream",
     "text": [
      "Epoch [216/300], Step [219/219], Loss: 1.0864, Accuracy: 0.6180\n",
      "Accuracy of the network: 0.49233333333333335 Loss: 1.444692557162427\n"
     ]
    },
    {
     "name": "stderr",
     "output_type": "stream",
     "text": [
      "100%|██████████| 219/219 [00:54<00:00,  4.03it/s]\n"
     ]
    },
    {
     "name": "stdout",
     "output_type": "stream",
     "text": [
      "Epoch [217/300], Step [219/219], Loss: 1.0860, Accuracy: 0.6173\n",
      "Accuracy of the network: 0.49966666666666665 Loss: 1.4444933406850125\n"
     ]
    },
    {
     "name": "stderr",
     "output_type": "stream",
     "text": [
      "100%|██████████| 219/219 [00:53<00:00,  4.08it/s]\n"
     ]
    },
    {
     "name": "stdout",
     "output_type": "stream",
     "text": [
      "Epoch [218/300], Step [219/219], Loss: 1.0743, Accuracy: 0.6157\n",
      "Accuracy of the network: 0.49033333333333334 Loss: 1.4593924956118807\n"
     ]
    },
    {
     "name": "stderr",
     "output_type": "stream",
     "text": [
      "100%|██████████| 219/219 [00:52<00:00,  4.15it/s]\n"
     ]
    },
    {
     "name": "stdout",
     "output_type": "stream",
     "text": [
      "Epoch [219/300], Step [219/219], Loss: 1.0822, Accuracy: 0.6151\n",
      "Accuracy of the network: 0.506 Loss: 1.4386416071272912\n"
     ]
    },
    {
     "name": "stderr",
     "output_type": "stream",
     "text": [
      "100%|██████████| 219/219 [00:52<00:00,  4.17it/s]\n"
     ]
    },
    {
     "name": "stdout",
     "output_type": "stream",
     "text": [
      "Epoch [220/300], Step [219/219], Loss: 1.0938, Accuracy: 0.6104\n",
      "Accuracy of the network: 0.494 Loss: 1.4408117837094245\n"
     ]
    },
    {
     "name": "stderr",
     "output_type": "stream",
     "text": [
      "100%|██████████| 219/219 [00:52<00:00,  4.17it/s]\n"
     ]
    },
    {
     "name": "stdout",
     "output_type": "stream",
     "text": [
      "Epoch [221/300], Step [219/219], Loss: 1.0810, Accuracy: 0.6146\n",
      "Accuracy of the network: 0.498 Loss: 1.4462172642667244\n"
     ]
    },
    {
     "name": "stderr",
     "output_type": "stream",
     "text": [
      "100%|██████████| 219/219 [00:52<00:00,  4.15it/s]\n"
     ]
    },
    {
     "name": "stdout",
     "output_type": "stream",
     "text": [
      "Epoch [222/300], Step [219/219], Loss: 1.0930, Accuracy: 0.6209\n",
      "Accuracy of the network: 0.49 Loss: 1.4582975456055174\n"
     ]
    },
    {
     "name": "stderr",
     "output_type": "stream",
     "text": [
      "100%|██████████| 219/219 [00:53<00:00,  4.06it/s]\n"
     ]
    },
    {
     "name": "stdout",
     "output_type": "stream",
     "text": [
      "Epoch [223/300], Step [219/219], Loss: 1.0802, Accuracy: 0.6227\n",
      "Accuracy of the network: 0.49633333333333335 Loss: 1.4272605237808633\n"
     ]
    },
    {
     "name": "stderr",
     "output_type": "stream",
     "text": [
      "100%|██████████| 219/219 [00:52<00:00,  4.17it/s]\n"
     ]
    },
    {
     "name": "stdout",
     "output_type": "stream",
     "text": [
      "Epoch [224/300], Step [219/219], Loss: 1.0701, Accuracy: 0.6244\n",
      "Accuracy of the network: 0.497 Loss: 1.4385871595524726\n"
     ]
    },
    {
     "name": "stderr",
     "output_type": "stream",
     "text": [
      "100%|██████████| 219/219 [00:53<00:00,  4.07it/s]\n"
     ]
    },
    {
     "name": "stdout",
     "output_type": "stream",
     "text": [
      "Epoch [225/300], Step [219/219], Loss: 1.0741, Accuracy: 0.6260\n",
      "Accuracy of the network: 0.49366666666666664 Loss: 1.4463428455464384\n"
     ]
    },
    {
     "name": "stderr",
     "output_type": "stream",
     "text": [
      "100%|██████████| 219/219 [00:51<00:00,  4.24it/s]\n"
     ]
    },
    {
     "name": "stdout",
     "output_type": "stream",
     "text": [
      "Epoch [226/300], Step [219/219], Loss: 1.0823, Accuracy: 0.6169\n",
      "Accuracy of the network: 0.49633333333333335 Loss: 1.4501873451344511\n"
     ]
    },
    {
     "name": "stderr",
     "output_type": "stream",
     "text": [
      "100%|██████████| 219/219 [00:52<00:00,  4.17it/s]\n"
     ]
    },
    {
     "name": "stdout",
     "output_type": "stream",
     "text": [
      "Epoch [227/300], Step [219/219], Loss: 1.0887, Accuracy: 0.6097\n",
      "Accuracy of the network: 0.5003333333333333 Loss: 1.4327964421282424\n"
     ]
    },
    {
     "name": "stderr",
     "output_type": "stream",
     "text": [
      "100%|██████████| 219/219 [00:52<00:00,  4.18it/s]\n"
     ]
    },
    {
     "name": "stdout",
     "output_type": "stream",
     "text": [
      "Epoch [228/300], Step [219/219], Loss: 1.0862, Accuracy: 0.6176\n",
      "Accuracy of the network: 0.49633333333333335 Loss: 1.438038743556814\n"
     ]
    },
    {
     "name": "stderr",
     "output_type": "stream",
     "text": [
      "100%|██████████| 219/219 [00:52<00:00,  4.14it/s]\n"
     ]
    },
    {
     "name": "stdout",
     "output_type": "stream",
     "text": [
      "Epoch [229/300], Step [219/219], Loss: 1.0815, Accuracy: 0.6207\n",
      "Accuracy of the network: 0.49266666666666664 Loss: 1.4508989206019869\n"
     ]
    },
    {
     "name": "stderr",
     "output_type": "stream",
     "text": [
      "100%|██████████| 219/219 [00:50<00:00,  4.36it/s]\n"
     ]
    },
    {
     "name": "stdout",
     "output_type": "stream",
     "text": [
      "Epoch [230/300], Step [219/219], Loss: 1.0608, Accuracy: 0.6223\n",
      "Accuracy of the network: 0.49366666666666664 Loss: 1.4483836381993396\n"
     ]
    },
    {
     "name": "stderr",
     "output_type": "stream",
     "text": [
      "100%|██████████| 219/219 [00:50<00:00,  4.33it/s]\n"
     ]
    },
    {
     "name": "stdout",
     "output_type": "stream",
     "text": [
      "Epoch [231/300], Step [219/219], Loss: 1.0871, Accuracy: 0.6139\n",
      "Accuracy of the network: 0.49366666666666664 Loss: 1.4345728488678628\n"
     ]
    },
    {
     "name": "stderr",
     "output_type": "stream",
     "text": [
      "100%|██████████| 219/219 [00:50<00:00,  4.31it/s]\n"
     ]
    },
    {
     "name": "stdout",
     "output_type": "stream",
     "text": [
      "Epoch [232/300], Step [219/219], Loss: 1.0821, Accuracy: 0.6154\n",
      "Accuracy of the network: 0.49533333333333335 Loss: 1.4457667032454877\n"
     ]
    },
    {
     "name": "stderr",
     "output_type": "stream",
     "text": [
      "100%|██████████| 219/219 [00:50<00:00,  4.32it/s]\n"
     ]
    },
    {
     "name": "stdout",
     "output_type": "stream",
     "text": [
      "Epoch [233/300], Step [219/219], Loss: 1.0816, Accuracy: 0.6196\n",
      "Accuracy of the network: 0.49433333333333335 Loss: 1.4468842307303815\n"
     ]
    },
    {
     "name": "stderr",
     "output_type": "stream",
     "text": [
      "100%|██████████| 219/219 [00:50<00:00,  4.34it/s]\n"
     ]
    },
    {
     "name": "stdout",
     "output_type": "stream",
     "text": [
      "Epoch [234/300], Step [219/219], Loss: 1.0872, Accuracy: 0.6160\n",
      "Accuracy of the network: 0.49766666666666665 Loss: 1.4505539511112457\n"
     ]
    },
    {
     "name": "stderr",
     "output_type": "stream",
     "text": [
      "100%|██████████| 219/219 [00:51<00:00,  4.28it/s]\n"
     ]
    },
    {
     "name": "stdout",
     "output_type": "stream",
     "text": [
      "Epoch [235/300], Step [219/219], Loss: 1.0868, Accuracy: 0.6151\n",
      "Accuracy of the network: 0.49666666666666665 Loss: 1.4397088301942704\n"
     ]
    },
    {
     "name": "stderr",
     "output_type": "stream",
     "text": [
      "100%|██████████| 219/219 [00:50<00:00,  4.32it/s]\n"
     ]
    },
    {
     "name": "stdout",
     "output_type": "stream",
     "text": [
      "Epoch [236/300], Step [219/219], Loss: 1.0809, Accuracy: 0.6157\n",
      "Accuracy of the network: 0.5013333333333333 Loss: 1.4324450524563486\n"
     ]
    },
    {
     "name": "stderr",
     "output_type": "stream",
     "text": [
      "100%|██████████| 219/219 [00:50<00:00,  4.29it/s]\n"
     ]
    },
    {
     "name": "stdout",
     "output_type": "stream",
     "text": [
      "Epoch [237/300], Step [219/219], Loss: 1.0757, Accuracy: 0.6217\n",
      "Accuracy of the network: 0.498 Loss: 1.4410259774390688\n"
     ]
    },
    {
     "name": "stderr",
     "output_type": "stream",
     "text": [
      "100%|██████████| 219/219 [00:52<00:00,  4.20it/s]\n"
     ]
    },
    {
     "name": "stdout",
     "output_type": "stream",
     "text": [
      "Epoch [238/300], Step [219/219], Loss: 1.0755, Accuracy: 0.6207\n",
      "Accuracy of the network: 0.491 Loss: 1.4455460195845746\n"
     ]
    },
    {
     "name": "stderr",
     "output_type": "stream",
     "text": [
      "100%|██████████| 219/219 [00:52<00:00,  4.20it/s]\n"
     ]
    },
    {
     "name": "stdout",
     "output_type": "stream",
     "text": [
      "Epoch [239/300], Step [219/219], Loss: 1.0771, Accuracy: 0.6174\n",
      "Accuracy of the network: 0.49433333333333335 Loss: 1.4458275310536648\n"
     ]
    },
    {
     "name": "stderr",
     "output_type": "stream",
     "text": [
      "100%|██████████| 219/219 [00:50<00:00,  4.32it/s]\n"
     ]
    },
    {
     "name": "stdout",
     "output_type": "stream",
     "text": [
      "Epoch [240/300], Step [219/219], Loss: 1.0728, Accuracy: 0.6243\n",
      "Accuracy of the network: 0.5016666666666667 Loss: 1.4329876208558996\n"
     ]
    },
    {
     "name": "stderr",
     "output_type": "stream",
     "text": [
      "100%|██████████| 219/219 [00:51<00:00,  4.27it/s]\n"
     ]
    },
    {
     "name": "stdout",
     "output_type": "stream",
     "text": [
      "Epoch [241/300], Step [219/219], Loss: 1.0892, Accuracy: 0.6161\n",
      "Accuracy of the network: 0.49366666666666664 Loss: 1.4519077691626041\n"
     ]
    },
    {
     "name": "stderr",
     "output_type": "stream",
     "text": [
      "100%|██████████| 219/219 [00:52<00:00,  4.19it/s]\n"
     ]
    },
    {
     "name": "stdout",
     "output_type": "stream",
     "text": [
      "Epoch [242/300], Step [219/219], Loss: 1.0864, Accuracy: 0.6167\n",
      "Accuracy of the network: 0.497 Loss: 1.4305209695024694\n"
     ]
    },
    {
     "name": "stderr",
     "output_type": "stream",
     "text": [
      "100%|██████████| 219/219 [00:52<00:00,  4.19it/s]\n"
     ]
    },
    {
     "name": "stdout",
     "output_type": "stream",
     "text": [
      "Epoch [243/300], Step [219/219], Loss: 1.0893, Accuracy: 0.6114\n",
      "Accuracy of the network: 0.496 Loss: 1.438018853360034\n"
     ]
    },
    {
     "name": "stderr",
     "output_type": "stream",
     "text": [
      "100%|██████████| 219/219 [00:50<00:00,  4.32it/s]\n"
     ]
    },
    {
     "name": "stdout",
     "output_type": "stream",
     "text": [
      "Epoch [244/300], Step [219/219], Loss: 1.0728, Accuracy: 0.6213\n",
      "Accuracy of the network: 0.49066666666666664 Loss: 1.4471366329396025\n"
     ]
    },
    {
     "name": "stderr",
     "output_type": "stream",
     "text": [
      "100%|██████████| 219/219 [00:51<00:00,  4.26it/s]\n"
     ]
    },
    {
     "name": "stdout",
     "output_type": "stream",
     "text": [
      "Epoch [245/300], Step [219/219], Loss: 1.0787, Accuracy: 0.6259\n",
      "Accuracy of the network: 0.5116666666666667 Loss: 1.4384008950375495\n"
     ]
    },
    {
     "name": "stderr",
     "output_type": "stream",
     "text": [
      "100%|██████████| 219/219 [00:51<00:00,  4.29it/s]\n"
     ]
    },
    {
     "name": "stdout",
     "output_type": "stream",
     "text": [
      "Epoch [246/300], Step [219/219], Loss: 1.0687, Accuracy: 0.6156\n",
      "Accuracy of the network: 0.5003333333333333 Loss: 1.4398464281508263\n"
     ]
    },
    {
     "name": "stderr",
     "output_type": "stream",
     "text": [
      "100%|██████████| 219/219 [00:50<00:00,  4.29it/s]\n"
     ]
    },
    {
     "name": "stdout",
     "output_type": "stream",
     "text": [
      "Epoch [247/300], Step [219/219], Loss: 1.0687, Accuracy: 0.6259\n",
      "Accuracy of the network: 0.5026666666666667 Loss: 1.435605522799999\n"
     ]
    },
    {
     "name": "stderr",
     "output_type": "stream",
     "text": [
      "100%|██████████| 219/219 [00:51<00:00,  4.25it/s]\n"
     ]
    },
    {
     "name": "stdout",
     "output_type": "stream",
     "text": [
      "Epoch [248/300], Step [219/219], Loss: 1.0756, Accuracy: 0.6187\n",
      "Accuracy of the network: 0.49766666666666665 Loss: 1.4429991587679436\n"
     ]
    },
    {
     "name": "stderr",
     "output_type": "stream",
     "text": [
      "100%|██████████| 219/219 [00:51<00:00,  4.26it/s]\n"
     ]
    },
    {
     "name": "stdout",
     "output_type": "stream",
     "text": [
      "Epoch [249/300], Step [219/219], Loss: 1.0748, Accuracy: 0.6207\n",
      "Accuracy of the network: 0.498 Loss: 1.428882531029113\n"
     ]
    },
    {
     "name": "stderr",
     "output_type": "stream",
     "text": [
      "100%|██████████| 219/219 [00:51<00:00,  4.29it/s]\n"
     ]
    },
    {
     "name": "stdout",
     "output_type": "stream",
     "text": [
      "Epoch [250/300], Step [219/219], Loss: 1.0798, Accuracy: 0.6180\n",
      "Accuracy of the network: 0.49633333333333335 Loss: 1.440759852845618\n"
     ]
    },
    {
     "name": "stderr",
     "output_type": "stream",
     "text": [
      "100%|██████████| 219/219 [00:51<00:00,  4.25it/s]\n"
     ]
    },
    {
     "name": "stdout",
     "output_type": "stream",
     "text": [
      "Epoch [251/300], Step [219/219], Loss: 1.0866, Accuracy: 0.6204\n",
      "Accuracy of the network: 0.49966666666666665 Loss: 1.4346513513554917\n"
     ]
    },
    {
     "name": "stderr",
     "output_type": "stream",
     "text": [
      "100%|██████████| 219/219 [00:51<00:00,  4.28it/s]\n"
     ]
    },
    {
     "name": "stdout",
     "output_type": "stream",
     "text": [
      "Epoch [252/300], Step [219/219], Loss: 1.0742, Accuracy: 0.6184\n",
      "Accuracy of the network: 0.493 Loss: 1.4382875853396477\n"
     ]
    },
    {
     "name": "stderr",
     "output_type": "stream",
     "text": [
      "100%|██████████| 219/219 [00:50<00:00,  4.35it/s]\n"
     ]
    },
    {
     "name": "stdout",
     "output_type": "stream",
     "text": [
      "Epoch [253/300], Step [219/219], Loss: 1.0764, Accuracy: 0.6280\n",
      "Accuracy of the network: 0.49533333333333335 Loss: 1.4494209955347346\n"
     ]
    },
    {
     "name": "stderr",
     "output_type": "stream",
     "text": [
      "100%|██████████| 219/219 [00:50<00:00,  4.36it/s]\n"
     ]
    },
    {
     "name": "stdout",
     "output_type": "stream",
     "text": [
      "Epoch [254/300], Step [219/219], Loss: 1.0688, Accuracy: 0.6216\n",
      "Accuracy of the network: 0.5023333333333333 Loss: 1.4432209520897967\n"
     ]
    },
    {
     "name": "stderr",
     "output_type": "stream",
     "text": [
      "100%|██████████| 219/219 [00:50<00:00,  4.34it/s]\n"
     ]
    },
    {
     "name": "stdout",
     "output_type": "stream",
     "text": [
      "Epoch [255/300], Step [219/219], Loss: 1.0829, Accuracy: 0.6140\n",
      "Accuracy of the network: 0.497 Loss: 1.437585952434134\n"
     ]
    },
    {
     "name": "stderr",
     "output_type": "stream",
     "text": [
      "100%|██████████| 219/219 [00:50<00:00,  4.34it/s]\n"
     ]
    },
    {
     "name": "stdout",
     "output_type": "stream",
     "text": [
      "Epoch [256/300], Step [219/219], Loss: 1.0742, Accuracy: 0.6174\n",
      "Accuracy of the network: 0.492 Loss: 1.446982168770851\n"
     ]
    },
    {
     "name": "stderr",
     "output_type": "stream",
     "text": [
      "100%|██████████| 219/219 [00:50<00:00,  4.36it/s]\n"
     ]
    },
    {
     "name": "stdout",
     "output_type": "stream",
     "text": [
      "Epoch [257/300], Step [219/219], Loss: 1.0893, Accuracy: 0.6219\n",
      "Accuracy of the network: 0.49666666666666665 Loss: 1.438932844298951\n"
     ]
    },
    {
     "name": "stderr",
     "output_type": "stream",
     "text": [
      "100%|██████████| 219/219 [00:50<00:00,  4.37it/s]\n"
     ]
    },
    {
     "name": "stdout",
     "output_type": "stream",
     "text": [
      "Epoch [258/300], Step [219/219], Loss: 1.0666, Accuracy: 0.6209\n",
      "Accuracy of the network: 0.49866666666666665 Loss: 1.4346024806195117\n"
     ]
    },
    {
     "name": "stderr",
     "output_type": "stream",
     "text": [
      "100%|██████████| 219/219 [00:51<00:00,  4.21it/s]\n"
     ]
    },
    {
     "name": "stdout",
     "output_type": "stream",
     "text": [
      "Epoch [259/300], Step [219/219], Loss: 1.0760, Accuracy: 0.6203\n",
      "Accuracy of the network: 0.49766666666666665 Loss: 1.4435090923562963\n"
     ]
    },
    {
     "name": "stderr",
     "output_type": "stream",
     "text": [
      "100%|██████████| 219/219 [00:50<00:00,  4.34it/s]\n"
     ]
    },
    {
     "name": "stdout",
     "output_type": "stream",
     "text": [
      "Epoch [260/300], Step [219/219], Loss: 1.0854, Accuracy: 0.6131\n",
      "Accuracy of the network: 0.499 Loss: 1.4392291795700154\n"
     ]
    },
    {
     "name": "stderr",
     "output_type": "stream",
     "text": [
      "100%|██████████| 219/219 [00:50<00:00,  4.35it/s]\n"
     ]
    },
    {
     "name": "stdout",
     "output_type": "stream",
     "text": [
      "Epoch [261/300], Step [219/219], Loss: 1.0710, Accuracy: 0.6226\n",
      "Accuracy of the network: 0.493 Loss: 1.4328622659470172\n"
     ]
    },
    {
     "name": "stderr",
     "output_type": "stream",
     "text": [
      "100%|██████████| 219/219 [00:50<00:00,  4.36it/s]\n"
     ]
    },
    {
     "name": "stdout",
     "output_type": "stream",
     "text": [
      "Epoch [262/300], Step [219/219], Loss: 1.0885, Accuracy: 0.6133\n",
      "Accuracy of the network: 0.49466666666666664 Loss: 1.4322312245977686\n"
     ]
    },
    {
     "name": "stderr",
     "output_type": "stream",
     "text": [
      "100%|██████████| 219/219 [00:50<00:00,  4.37it/s]\n"
     ]
    },
    {
     "name": "stdout",
     "output_type": "stream",
     "text": [
      "Epoch [263/300], Step [219/219], Loss: 1.0978, Accuracy: 0.6160\n",
      "Accuracy of the network: 0.49233333333333335 Loss: 1.433225394563472\n"
     ]
    },
    {
     "name": "stderr",
     "output_type": "stream",
     "text": [
      "100%|██████████| 219/219 [00:52<00:00,  4.18it/s]\n"
     ]
    },
    {
     "name": "stdout",
     "output_type": "stream",
     "text": [
      "Epoch [264/300], Step [219/219], Loss: 1.0769, Accuracy: 0.6220\n",
      "Accuracy of the network: 0.49733333333333335 Loss: 1.4378478064181957\n"
     ]
    },
    {
     "name": "stderr",
     "output_type": "stream",
     "text": [
      "100%|██████████| 219/219 [00:51<00:00,  4.27it/s]\n"
     ]
    },
    {
     "name": "stdout",
     "output_type": "stream",
     "text": [
      "Epoch [265/300], Step [219/219], Loss: 1.0774, Accuracy: 0.6227\n",
      "Accuracy of the network: 0.5003333333333333 Loss: 1.4410770953969751\n"
     ]
    },
    {
     "name": "stderr",
     "output_type": "stream",
     "text": [
      "100%|██████████| 219/219 [00:51<00:00,  4.27it/s]\n"
     ]
    },
    {
     "name": "stdout",
     "output_type": "stream",
     "text": [
      "Epoch [266/300], Step [219/219], Loss: 1.0792, Accuracy: 0.6219\n",
      "Accuracy of the network: 0.49233333333333335 Loss: 1.427249310498542\n"
     ]
    },
    {
     "name": "stderr",
     "output_type": "stream",
     "text": [
      "100%|██████████| 219/219 [00:51<00:00,  4.26it/s]\n"
     ]
    },
    {
     "name": "stdout",
     "output_type": "stream",
     "text": [
      "Epoch [267/300], Step [219/219], Loss: 1.0819, Accuracy: 0.6144\n",
      "Accuracy of the network: 0.499 Loss: 1.4348566798453635\n"
     ]
    },
    {
     "name": "stderr",
     "output_type": "stream",
     "text": [
      "100%|██████████| 219/219 [00:51<00:00,  4.28it/s]\n"
     ]
    },
    {
     "name": "stdout",
     "output_type": "stream",
     "text": [
      "Epoch [268/300], Step [219/219], Loss: 1.0698, Accuracy: 0.6253\n",
      "Accuracy of the network: 0.49933333333333335 Loss: 1.43298831455251\n"
     ]
    },
    {
     "name": "stderr",
     "output_type": "stream",
     "text": [
      "100%|██████████| 219/219 [00:50<00:00,  4.32it/s]\n"
     ]
    },
    {
     "name": "stdout",
     "output_type": "stream",
     "text": [
      "Epoch [269/300], Step [219/219], Loss: 1.0705, Accuracy: 0.6243\n",
      "Accuracy of the network: 0.495 Loss: 1.43682299395825\n"
     ]
    },
    {
     "name": "stderr",
     "output_type": "stream",
     "text": [
      "100%|██████████| 219/219 [00:52<00:00,  4.18it/s]\n"
     ]
    },
    {
     "name": "stdout",
     "output_type": "stream",
     "text": [
      "Epoch [270/300], Step [219/219], Loss: 1.0772, Accuracy: 0.6169\n",
      "Accuracy of the network: 0.49433333333333335 Loss: 1.4482103174037122\n"
     ]
    },
    {
     "name": "stderr",
     "output_type": "stream",
     "text": [
      "100%|██████████| 219/219 [00:50<00:00,  4.33it/s]\n"
     ]
    },
    {
     "name": "stdout",
     "output_type": "stream",
     "text": [
      "Epoch [271/300], Step [219/219], Loss: 1.0595, Accuracy: 0.6229\n",
      "Accuracy of the network: 0.49233333333333335 Loss: 1.451295995965917\n"
     ]
    },
    {
     "name": "stderr",
     "output_type": "stream",
     "text": [
      "100%|██████████| 219/219 [00:50<00:00,  4.32it/s]\n"
     ]
    },
    {
     "name": "stdout",
     "output_type": "stream",
     "text": [
      "Epoch [272/300], Step [219/219], Loss: 1.0823, Accuracy: 0.6186\n",
      "Accuracy of the network: 0.498 Loss: 1.4372800594948707\n"
     ]
    },
    {
     "name": "stderr",
     "output_type": "stream",
     "text": [
      "100%|██████████| 219/219 [00:50<00:00,  4.32it/s]\n"
     ]
    },
    {
     "name": "stdout",
     "output_type": "stream",
     "text": [
      "Epoch [273/300], Step [219/219], Loss: 1.0699, Accuracy: 0.6251\n",
      "Accuracy of the network: 0.502 Loss: 1.4369155130487807\n"
     ]
    },
    {
     "name": "stderr",
     "output_type": "stream",
     "text": [
      "100%|██████████| 219/219 [00:50<00:00,  4.34it/s]\n"
     ]
    },
    {
     "name": "stdout",
     "output_type": "stream",
     "text": [
      "Epoch [274/300], Step [219/219], Loss: 1.0839, Accuracy: 0.6153\n",
      "Accuracy of the network: 0.494 Loss: 1.4334792957661\n"
     ]
    },
    {
     "name": "stderr",
     "output_type": "stream",
     "text": [
      "100%|██████████| 219/219 [00:50<00:00,  4.34it/s]\n"
     ]
    },
    {
     "name": "stdout",
     "output_type": "stream",
     "text": [
      "Epoch [275/300], Step [219/219], Loss: 1.0670, Accuracy: 0.6276\n",
      "Accuracy of the network: 0.49566666666666664 Loss: 1.4369080783204828\n"
     ]
    },
    {
     "name": "stderr",
     "output_type": "stream",
     "text": [
      "100%|██████████| 219/219 [00:51<00:00,  4.27it/s]\n"
     ]
    },
    {
     "name": "stdout",
     "output_type": "stream",
     "text": [
      "Epoch [276/300], Step [219/219], Loss: 1.0744, Accuracy: 0.6247\n",
      "Accuracy of the network: 0.496 Loss: 1.429644911847216\n"
     ]
    },
    {
     "name": "stderr",
     "output_type": "stream",
     "text": [
      "100%|██████████| 219/219 [00:51<00:00,  4.25it/s]\n"
     ]
    },
    {
     "name": "stdout",
     "output_type": "stream",
     "text": [
      "Epoch [277/300], Step [219/219], Loss: 1.0859, Accuracy: 0.6100\n",
      "Accuracy of the network: 0.495 Loss: 1.4318361789622205\n"
     ]
    },
    {
     "name": "stderr",
     "output_type": "stream",
     "text": [
      "100%|██████████| 219/219 [00:50<00:00,  4.32it/s]\n"
     ]
    },
    {
     "name": "stdout",
     "output_type": "stream",
     "text": [
      "Epoch [278/300], Step [219/219], Loss: 1.0709, Accuracy: 0.6196\n",
      "Accuracy of the network: 0.5 Loss: 1.436495765092525\n"
     ]
    },
    {
     "name": "stderr",
     "output_type": "stream",
     "text": [
      "100%|██████████| 219/219 [00:50<00:00,  4.38it/s]\n"
     ]
    },
    {
     "name": "stdout",
     "output_type": "stream",
     "text": [
      "Epoch [279/300], Step [219/219], Loss: 1.0808, Accuracy: 0.6191\n",
      "Accuracy of the network: 0.5003333333333333 Loss: 1.4456906046005005\n"
     ]
    },
    {
     "name": "stderr",
     "output_type": "stream",
     "text": [
      "100%|██████████| 219/219 [00:52<00:00,  4.17it/s]\n"
     ]
    },
    {
     "name": "stdout",
     "output_type": "stream",
     "text": [
      "Epoch [280/300], Step [219/219], Loss: 1.0846, Accuracy: 0.6186\n",
      "Accuracy of the network: 0.497 Loss: 1.4464106014434328\n"
     ]
    },
    {
     "name": "stderr",
     "output_type": "stream",
     "text": [
      "100%|██████████| 219/219 [00:51<00:00,  4.29it/s]\n"
     ]
    },
    {
     "name": "stdout",
     "output_type": "stream",
     "text": [
      "Epoch [281/300], Step [219/219], Loss: 1.0856, Accuracy: 0.6161\n",
      "Accuracy of the network: 0.5023333333333333 Loss: 1.4264097308858912\n"
     ]
    },
    {
     "name": "stderr",
     "output_type": "stream",
     "text": [
      "100%|██████████| 219/219 [00:50<00:00,  4.34it/s]\n"
     ]
    },
    {
     "name": "stdout",
     "output_type": "stream",
     "text": [
      "Epoch [282/300], Step [219/219], Loss: 1.0699, Accuracy: 0.6239\n",
      "Accuracy of the network: 0.498 Loss: 1.4288153324989563\n"
     ]
    },
    {
     "name": "stderr",
     "output_type": "stream",
     "text": [
      "100%|██████████| 219/219 [00:51<00:00,  4.24it/s]\n"
     ]
    },
    {
     "name": "stdout",
     "output_type": "stream",
     "text": [
      "Epoch [283/300], Step [219/219], Loss: 1.0715, Accuracy: 0.6236\n",
      "Accuracy of the network: 0.497 Loss: 1.4444002800799431\n"
     ]
    },
    {
     "name": "stderr",
     "output_type": "stream",
     "text": [
      "100%|██████████| 219/219 [00:51<00:00,  4.28it/s]\n"
     ]
    },
    {
     "name": "stdout",
     "output_type": "stream",
     "text": [
      "Epoch [284/300], Step [219/219], Loss: 1.0843, Accuracy: 0.6143\n",
      "Accuracy of the network: 0.49466666666666664 Loss: 1.4489367775460507\n"
     ]
    },
    {
     "name": "stderr",
     "output_type": "stream",
     "text": [
      "100%|██████████| 219/219 [00:50<00:00,  4.30it/s]\n"
     ]
    },
    {
     "name": "stdout",
     "output_type": "stream",
     "text": [
      "Epoch [285/300], Step [219/219], Loss: 1.0747, Accuracy: 0.6233\n",
      "Accuracy of the network: 0.5006666666666667 Loss: 1.4427719560075314\n"
     ]
    },
    {
     "name": "stderr",
     "output_type": "stream",
     "text": [
      "100%|██████████| 219/219 [00:51<00:00,  4.24it/s]\n"
     ]
    },
    {
     "name": "stdout",
     "output_type": "stream",
     "text": [
      "Epoch [286/300], Step [219/219], Loss: 1.0820, Accuracy: 0.6177\n",
      "Accuracy of the network: 0.498 Loss: 1.4345384734742186\n"
     ]
    },
    {
     "name": "stderr",
     "output_type": "stream",
     "text": [
      "100%|██████████| 219/219 [00:58<00:00,  3.72it/s]\n"
     ]
    },
    {
     "name": "stdout",
     "output_type": "stream",
     "text": [
      "Epoch [287/300], Step [219/219], Loss: 1.0856, Accuracy: 0.6151\n",
      "Accuracy of the network: 0.49466666666666664 Loss: 1.4377113935795236\n"
     ]
    },
    {
     "name": "stderr",
     "output_type": "stream",
     "text": [
      "100%|██████████| 219/219 [00:58<00:00,  3.73it/s]\n"
     ]
    },
    {
     "name": "stdout",
     "output_type": "stream",
     "text": [
      "Epoch [288/300], Step [219/219], Loss: 1.0760, Accuracy: 0.6207\n",
      "Accuracy of the network: 0.49433333333333335 Loss: 1.4372926861681836\n"
     ]
    },
    {
     "name": "stderr",
     "output_type": "stream",
     "text": [
      "100%|██████████| 219/219 [00:58<00:00,  3.76it/s]\n"
     ]
    },
    {
     "name": "stdout",
     "output_type": "stream",
     "text": [
      "Epoch [289/300], Step [219/219], Loss: 1.0826, Accuracy: 0.6140\n",
      "Accuracy of the network: 0.49466666666666664 Loss: 1.437311956857113\n"
     ]
    },
    {
     "name": "stderr",
     "output_type": "stream",
     "text": [
      "100%|██████████| 219/219 [00:58<00:00,  3.75it/s]\n"
     ]
    },
    {
     "name": "stdout",
     "output_type": "stream",
     "text": [
      "Epoch [290/300], Step [219/219], Loss: 1.0686, Accuracy: 0.6224\n",
      "Accuracy of the network: 0.49666666666666665 Loss: 1.4416993019428659\n"
     ]
    },
    {
     "name": "stderr",
     "output_type": "stream",
     "text": [
      "100%|██████████| 219/219 [00:51<00:00,  4.25it/s]\n"
     ]
    },
    {
     "name": "stdout",
     "output_type": "stream",
     "text": [
      "Epoch [291/300], Step [219/219], Loss: 1.0830, Accuracy: 0.6184\n",
      "Accuracy of the network: 0.495 Loss: 1.4410241404746442\n"
     ]
    },
    {
     "name": "stderr",
     "output_type": "stream",
     "text": [
      "100%|██████████| 219/219 [00:51<00:00,  4.26it/s]\n"
     ]
    },
    {
     "name": "stdout",
     "output_type": "stream",
     "text": [
      "Epoch [292/300], Step [219/219], Loss: 1.0716, Accuracy: 0.6201\n",
      "Accuracy of the network: 0.494 Loss: 1.4410680228091302\n"
     ]
    },
    {
     "name": "stderr",
     "output_type": "stream",
     "text": [
      "100%|██████████| 219/219 [00:51<00:00,  4.27it/s]\n"
     ]
    },
    {
     "name": "stdout",
     "output_type": "stream",
     "text": [
      "Epoch [293/300], Step [219/219], Loss: 1.0662, Accuracy: 0.6290\n",
      "Accuracy of the network: 0.49366666666666664 Loss: 1.4424232339605372\n"
     ]
    },
    {
     "name": "stderr",
     "output_type": "stream",
     "text": [
      "100%|██████████| 219/219 [00:51<00:00,  4.24it/s]\n"
     ]
    },
    {
     "name": "stdout",
     "output_type": "stream",
     "text": [
      "Epoch [294/300], Step [219/219], Loss: 1.0735, Accuracy: 0.6194\n",
      "Accuracy of the network: 0.5003333333333333 Loss: 1.4384818571679137\n"
     ]
    },
    {
     "name": "stderr",
     "output_type": "stream",
     "text": [
      "100%|██████████| 219/219 [00:51<00:00,  4.28it/s]\n"
     ]
    },
    {
     "name": "stdout",
     "output_type": "stream",
     "text": [
      "Epoch [295/300], Step [219/219], Loss: 1.0738, Accuracy: 0.6243\n",
      "Accuracy of the network: 0.49666666666666665 Loss: 1.4490487252144104\n"
     ]
    },
    {
     "name": "stderr",
     "output_type": "stream",
     "text": [
      "100%|██████████| 219/219 [00:50<00:00,  4.31it/s]\n"
     ]
    },
    {
     "name": "stdout",
     "output_type": "stream",
     "text": [
      "Epoch [296/300], Step [219/219], Loss: 1.0840, Accuracy: 0.6194\n",
      "Accuracy of the network: 0.503 Loss: 1.4366699336691107\n"
     ]
    },
    {
     "name": "stderr",
     "output_type": "stream",
     "text": [
      "100%|██████████| 219/219 [00:50<00:00,  4.33it/s]\n"
     ]
    },
    {
     "name": "stdout",
     "output_type": "stream",
     "text": [
      "Epoch [297/300], Step [219/219], Loss: 1.0776, Accuracy: 0.6230\n",
      "Accuracy of the network: 0.5 Loss: 1.4294204261708767\n"
     ]
    },
    {
     "name": "stderr",
     "output_type": "stream",
     "text": [
      "100%|██████████| 219/219 [00:50<00:00,  4.32it/s]\n"
     ]
    },
    {
     "name": "stdout",
     "output_type": "stream",
     "text": [
      "Epoch [298/300], Step [219/219], Loss: 1.0791, Accuracy: 0.6219\n",
      "Accuracy of the network: 0.49733333333333335 Loss: 1.4332012838505683\n"
     ]
    },
    {
     "name": "stderr",
     "output_type": "stream",
     "text": [
      "100%|██████████| 219/219 [00:50<00:00,  4.34it/s]\n"
     ]
    },
    {
     "name": "stdout",
     "output_type": "stream",
     "text": [
      "Epoch [299/300], Step [219/219], Loss: 1.0862, Accuracy: 0.6160\n",
      "Accuracy of the network: 0.49166666666666664 Loss: 1.4360103645223252\n"
     ]
    },
    {
     "name": "stderr",
     "output_type": "stream",
     "text": [
      "100%|██████████| 219/219 [00:50<00:00,  4.32it/s]\n"
     ]
    },
    {
     "name": "stdout",
     "output_type": "stream",
     "text": [
      "Epoch [300/300], Step [219/219], Loss: 1.0806, Accuracy: 0.6114\n",
      "Accuracy of the network: 0.493 Loss: 1.4426531354163556\n"
     ]
    }
   ],
   "source": [
    "torch.autograd.set_detect_anomaly(True)\n",
    "train_accuracy_h, test_accuracy_h, train_loss_h, test_loss_h = model_resnet.train_model(train_dataloader, test_dataloader,num_epochs=300,save_best=True, save_thr=48)"
   ]
  },
  {
   "cell_type": "code",
   "execution_count": 10,
   "metadata": {},
   "outputs": [],
   "source": [
    "torch.save(model, \"best_resnet50_CIFAR10-DVS_ReLU_ReLUmaxpool_128x128_FC2_128x128_pretrained_aug_corrected_trilinear.pt\")"
   ]
  },
  {
   "cell_type": "code",
   "execution_count": 11,
   "metadata": {},
   "outputs": [
    {
     "data": {
      "image/png": "[encoded data removed]",
      "text/plain": [
       "<Figure size 640x480 with 1 Axes>"
      ]
     },
     "metadata": {},
     "output_type": "display_data"
    },
    {
     "data": {
      "image/png": "[encoded data removed]",
      "text/plain": [
       "<Figure size 640x480 with 1 Axes>"
      ]
     },
     "metadata": {},
     "output_type": "display_data"
    }
   ],
   "source": [
    "plt.plot(train_accuracy_h, label='train')\n",
    "plt.plot(test_accuracy_h, label='test')\n",
    "plt.ylabel(\"accuracy\")\n",
    "plt.xlabel(\"epoch\")\n",
    "plt.legend()\n",
    "plt.show()\n",
    "\n",
    "plt.plot(train_loss_h, label='train')\n",
    "plt.plot(test_loss_h, label='test')\n",
    "plt.ylim((0,4))\n",
    "plt.ylabel(\"loss\")\n",
    "plt.xlabel(\"epoch\")\n",
    "plt.legend()\n",
    "plt.show()"
   ]
  },
  {
   "cell_type": "code",
   "execution_count": 12,
   "metadata": {},
   "outputs": [],
   "source": [
    "import pandas as pd\n",
    "dict = {'train_acc': train_accuracy_h, 'test_acc': test_accuracy_h, 'train_loss': train_loss_h, 'test_loss' : test_loss_h}\n",
    "df = pd.DataFrame(dict)\n",
    "df.to_csv('logs/best_resnet_CIFAR10-DVS_ReLU_ReLUmaxpool_128x128_FC2_128x128_pretrained_aug_corrected_trilinear.csv')"
   ]
  },
  {
   "cell_type": "code",
   "execution_count": 13,
   "metadata": {},
   "outputs": [
    {
     "data": {
      "text/html": [
       "<div>\n",
       "<style scoped>\n",
       "    .dataframe tbody tr th:only-of-type {\n",
       "        vertical-align: middle;\n",
       "    }\n",
       "\n",
       "    .dataframe tbody tr th {\n",
       "        vertical-align: top;\n",
       "    }\n",
       "\n",
       "    .dataframe thead th {\n",
       "        text-align: right;\n",
       "    }\n",
       "</style>\n",
       "<table border=\"1\" class=\"dataframe\">\n",
       "  <thead>\n",
       "    <tr style=\"text-align: right;\">\n",
       "      <th></th>\n",
       "      <th>train_acc</th>\n",
       "      <th>test_acc</th>\n",
       "      <th>train_loss</th>\n",
       "      <th>test_loss</th>\n",
       "    </tr>\n",
       "  </thead>\n",
       "  <tbody>\n",
       "    <tr>\n",
       "      <th>0</th>\n",
       "      <td>0.112286</td>\n",
       "      <td>0.112667</td>\n",
       "      <td>13.641767</td>\n",
       "      <td>2.735227</td>\n",
       "    </tr>\n",
       "    <tr>\n",
       "      <th>1</th>\n",
       "      <td>0.142143</td>\n",
       "      <td>0.184333</td>\n",
       "      <td>2.434911</td>\n",
       "      <td>2.222396</td>\n",
       "    </tr>\n",
       "    <tr>\n",
       "      <th>2</th>\n",
       "      <td>0.163429</td>\n",
       "      <td>0.186000</td>\n",
       "      <td>2.187040</td>\n",
       "      <td>2.120445</td>\n",
       "    </tr>\n",
       "    <tr>\n",
       "      <th>3</th>\n",
       "      <td>0.163143</td>\n",
       "      <td>0.195333</td>\n",
       "      <td>2.164782</td>\n",
       "      <td>2.113626</td>\n",
       "    </tr>\n",
       "    <tr>\n",
       "      <th>4</th>\n",
       "      <td>0.160143</td>\n",
       "      <td>0.206333</td>\n",
       "      <td>2.158775</td>\n",
       "      <td>2.089822</td>\n",
       "    </tr>\n",
       "  </tbody>\n",
       "</table>\n",
       "</div>"
      ],
      "text/plain": [
       "   train_acc  test_acc  train_loss  test_loss\n",
       "0   0.112286  0.112667   13.641767   2.735227\n",
       "1   0.142143  0.184333    2.434911   2.222396\n",
       "2   0.163429  0.186000    2.187040   2.120445\n",
       "3   0.163143  0.195333    2.164782   2.113626\n",
       "4   0.160143  0.206333    2.158775   2.089822"
      ]
     },
     "execution_count": 13,
     "metadata": {},
     "output_type": "execute_result"
    }
   ],
   "source": [
    "df.head()"
   ]
  },
  {
   "cell_type": "code",
   "execution_count": 14,
   "metadata": {},
   "outputs": [
    {
     "name": "stdout",
     "output_type": "stream",
     "text": [
      "0.5116666666666667\n"
     ]
    }
   ],
   "source": [
    "print(df[\"test_acc\"].max())"
   ]
  },
  {
   "cell_type": "code",
   "execution_count": 15,
   "metadata": {},
   "outputs": [
    {
     "name": "stdout",
     "output_type": "stream",
     "text": [
      "     train_acc  test_acc  train_loss  test_loss\n",
      "0     0.112286  0.112667   13.641767   2.735227\n",
      "1     0.142143  0.184333    2.434911   2.222396\n",
      "2     0.163429  0.186000    2.187040   2.120445\n",
      "3     0.163143  0.195333    2.164782   2.113626\n",
      "4     0.160143  0.206333    2.158775   2.089822\n",
      "5     0.175143  0.161000    2.139249   2.117920\n",
      "6     0.170857  0.191667    2.130305   2.097788\n",
      "7     0.188000  0.171000    2.117433   2.114307\n",
      "8     0.182571  0.198000    2.117295   2.088395\n",
      "9     0.189857  0.187333    2.107079   2.081331\n",
      "10    0.183143  0.189667    2.103521   2.066612\n",
      "11    0.196286  0.203667    2.099372   2.084497\n",
      "12    0.183857  0.202333    2.097744   2.063180\n",
      "13    0.197000  0.196667    2.086101   2.067706\n",
      "14    0.191571  0.209667    2.089787   2.068418\n",
      "15    0.192429  0.185333    2.082071   2.064354\n",
      "16    0.195000  0.182667    2.083499   2.130866\n",
      "17    0.187000  0.186667    2.092640   2.102756\n",
      "18    0.197143  0.173333    2.088102   2.103373\n",
      "19    0.189143  0.211000    2.081710   2.125140\n",
      "20    0.203429  0.205333    2.065503   2.039228\n",
      "21    0.206429  0.208333    2.061018   2.070920\n",
      "22    0.198000  0.218667    2.056722   2.047466\n",
      "23    0.203000  0.210667    2.061833   2.028227\n",
      "24    0.201857  0.207667    2.056609   2.049198\n",
      "25    0.219857  0.234333    2.045728   2.043032\n",
      "26    0.221143  0.232000    2.024507   2.042243\n",
      "27    0.241000  0.267333    1.995153   1.954744\n",
      "28    0.254000  0.256333    1.977313   1.972983\n",
      "29    0.252857  0.250333    1.962996   1.941397\n",
      "30    0.262857  0.263333    1.943359   1.943547\n",
      "31    0.273714  0.266667    1.919160   1.943008\n",
      "32    0.277143  0.275000    1.917281   1.920425\n",
      "33    0.287429  0.299667    1.901341   1.884617\n",
      "34    0.292571  0.303333    1.883027   1.870770\n",
      "35    0.301857  0.304333    1.878762   1.859068\n",
      "36    0.312143  0.318333    1.851530   1.844899\n",
      "37    0.313143  0.308000    1.842649   1.854280\n",
      "38    0.327429  0.322667    1.825033   1.840759\n",
      "39    0.325000  0.291000    1.813632   1.911031\n",
      "40    0.322000  0.326667    1.818638   1.811069\n",
      "41    0.333143  0.335667    1.794840   1.801902\n",
      "42    0.332714  0.329000    1.790024   1.804104\n",
      "43    0.338857  0.330000    1.775213   1.815313\n",
      "44    0.349857  0.334000    1.757065   1.823615\n",
      "45    0.345714  0.338000    1.767799   1.802646\n",
      "46    0.345571  0.334667    1.759863   1.793697\n",
      "47    0.353429  0.340667    1.746158   1.760842\n",
      "48    0.348714  0.354333    1.742922   1.772300\n",
      "49    0.363857  0.344000    1.725633   1.756213\n",
      "50    0.362571  0.358000    1.724029   1.750401\n",
      "51    0.354429  0.359000    1.729284   1.753870\n",
      "52    0.367714  0.367000    1.703384   1.728915\n",
      "53    0.370000  0.362667    1.692954   1.731426\n",
      "54    0.370857  0.367333    1.695907   1.719070\n",
      "55    0.380000  0.365667    1.684970   1.725159\n",
      "56    0.383429  0.367000    1.667835   1.713780\n",
      "57    0.383143  0.376333    1.674087   1.696745\n",
      "58    0.384000  0.362000    1.657702   1.724185\n",
      "59    0.389571  0.373333    1.650781   1.704824\n",
      "60    0.394857  0.392000    1.636570   1.682634\n",
      "61    0.392429  0.379000    1.641735   1.695137\n",
      "62    0.388143  0.386667    1.644947   1.673685\n",
      "63    0.396429  0.384667    1.631226   1.683346\n",
      "64    0.394714  0.393000    1.631337   1.665798\n",
      "65    0.405714  0.387000    1.621657   1.684716\n",
      "66    0.394429  0.386333    1.622851   1.673251\n",
      "67    0.401714  0.401667    1.609051   1.659999\n",
      "68    0.409000  0.394667    1.598873   1.675273\n",
      "69    0.409000  0.392667    1.590233   1.643887\n",
      "70    0.406857  0.388667    1.590410   1.677288\n",
      "71    0.412571  0.402667    1.576071   1.636929\n",
      "72    0.418143  0.391333    1.569981   1.657339\n",
      "73    0.415000  0.404333    1.571356   1.627526\n",
      "74    0.425286  0.400333    1.559091   1.647935\n",
      "75    0.425286  0.412333    1.561686   1.626192\n",
      "76    0.431143  0.404667    1.546224   1.613193\n",
      "77    0.434000  0.402667    1.534514   1.623452\n",
      "78    0.431714  0.398667    1.532938   1.642501\n",
      "79    0.440857  0.407333    1.516861   1.609734\n",
      "80    0.445714  0.406333    1.516405   1.616446\n",
      "81    0.452714  0.407333    1.506248   1.603034\n",
      "82    0.452286  0.421667    1.505113   1.603363\n",
      "83    0.450571  0.409667    1.493243   1.612630\n",
      "84    0.450571  0.421667    1.496213   1.585257\n",
      "85    0.454143  0.425667    1.483145   1.585031\n",
      "86    0.456286  0.425333    1.479573   1.582156\n",
      "87    0.470143  0.424667    1.466114   1.569468\n",
      "88    0.467143  0.438000    1.461066   1.572347\n",
      "89    0.474571  0.436333    1.437681   1.545722\n",
      "90    0.468429  0.445000    1.449143   1.555672\n",
      "91    0.478143  0.453333    1.439804   1.543331\n",
      "92    0.479571  0.447333    1.421751   1.550125\n",
      "93    0.490286  0.452000    1.408624   1.551904\n",
      "94    0.494714  0.445000    1.414643   1.538350\n",
      "95    0.493286  0.438667    1.397357   1.551244\n",
      "96    0.499429  0.438333    1.388124   1.557201\n",
      "97    0.503000  0.443667    1.379956   1.531180\n",
      "98    0.509286  0.449000    1.373325   1.513480\n",
      "99    0.506857  0.450000    1.371807   1.534570\n",
      "100   0.499286  0.457333    1.374795   1.526699\n",
      "101   0.517286  0.441667    1.353762   1.552314\n",
      "102   0.513143  0.453667    1.354393   1.514336\n",
      "103   0.515286  0.454000    1.353851   1.509104\n",
      "104   0.528143  0.447000    1.341586   1.515962\n",
      "105   0.519714  0.453667    1.345127   1.512414\n",
      "106   0.526000  0.461667    1.335447   1.507604\n",
      "107   0.520286  0.454667    1.335305   1.502091\n",
      "108   0.527286  0.455333    1.323200   1.508377\n",
      "109   0.528429  0.455000    1.311572   1.519452\n",
      "110   0.531714  0.456333    1.305749   1.502597\n",
      "111   0.530143  0.466333    1.306262   1.503581\n",
      "112   0.537429  0.468667    1.291757   1.487588\n",
      "113   0.531714  0.459667    1.303590   1.497562\n",
      "114   0.539286  0.466000    1.296678   1.501034\n",
      "115   0.536714  0.466000    1.296805   1.493564\n",
      "116   0.541571  0.463333    1.286560   1.487685\n",
      "117   0.546429  0.473000    1.274841   1.487241\n",
      "118   0.548429  0.462667    1.266098   1.497529\n",
      "119   0.548429  0.463000    1.261932   1.482764\n",
      "120   0.549571  0.466333    1.264084   1.484709\n",
      "121   0.549000  0.479000    1.262484   1.479532\n",
      "122   0.560429  0.476000    1.249097   1.485786\n",
      "123   0.553143  0.466333    1.254547   1.474325\n",
      "124   0.562000  0.469667    1.245342   1.477167\n",
      "125   0.557286  0.477667    1.240149   1.477742\n",
      "126   0.552857  0.479000    1.243417   1.463342\n",
      "127   0.561714  0.481000    1.235565   1.474066\n",
      "128   0.567286  0.485333    1.230692   1.467169\n",
      "129   0.560857  0.474000    1.218219   1.472498\n",
      "130   0.564714  0.468000    1.223451   1.481497\n",
      "131   0.568286  0.480000    1.207931   1.489838\n",
      "132   0.567000  0.476000    1.212893   1.467652\n",
      "133   0.571714  0.476333    1.213136   1.480990\n",
      "134   0.567429  0.480000    1.210881   1.471725\n",
      "135   0.578571  0.471667    1.192269   1.466971\n",
      "136   0.570286  0.469333    1.204641   1.474879\n",
      "137   0.576857  0.490000    1.192028   1.461127\n",
      "138   0.581429  0.483000    1.189482   1.451954\n",
      "139   0.581429  0.486000    1.186525   1.465233\n",
      "140   0.578429  0.480000    1.190742   1.469147\n",
      "141   0.573286  0.478667    1.186137   1.466450\n",
      "142   0.580429  0.490667    1.184734   1.447909\n",
      "143   0.584000  0.483333    1.172835   1.472756\n",
      "144   0.588429  0.486000    1.161944   1.451080\n",
      "145   0.588000  0.482333    1.163103   1.466259\n",
      "146   0.589857  0.481667    1.166014   1.457898\n",
      "147   0.589143  0.477667    1.170111   1.464237\n",
      "148   0.591000  0.488667    1.154409   1.459920\n",
      "149   0.582143  0.481667    1.160490   1.456870\n",
      "150   0.585571  0.490000    1.161369   1.453836\n",
      "151   0.588857  0.485667    1.156403   1.464426\n",
      "152   0.588143  0.490000    1.149309   1.454975\n",
      "153   0.589429  0.490333    1.152751   1.447920\n",
      "154   0.592429  0.484000    1.141454   1.463378\n",
      "155   0.596000  0.489667    1.149445   1.450021\n",
      "156   0.599143  0.489333    1.129846   1.446208\n",
      "157   0.597429  0.486000    1.142215   1.460532\n",
      "158   0.599571  0.496667    1.134630   1.441962\n",
      "159   0.605286  0.494000    1.130339   1.442236\n",
      "160   0.601714  0.490000    1.129585   1.444656\n",
      "161   0.591714  0.485000    1.135572   1.454330\n",
      "162   0.608714  0.490333    1.122973   1.452745\n",
      "163   0.599143  0.485000    1.120225   1.450449\n",
      "164   0.601857  0.487333    1.129752   1.457204\n",
      "165   0.600857  0.494667    1.128494   1.448909\n",
      "166   0.604000  0.493667    1.125632   1.432095\n",
      "167   0.601714  0.493667    1.122630   1.446306\n",
      "168   0.599429  0.496333    1.123666   1.436203\n",
      "169   0.603714  0.488667    1.118035   1.447895\n",
      "170   0.604143  0.491000    1.124985   1.439638\n",
      "171   0.606000  0.485333    1.106922   1.449678\n",
      "172   0.611714  0.494333    1.100416   1.439299\n",
      "173   0.616714  0.489667    1.099287   1.452794\n",
      "174   0.605571  0.495000    1.109841   1.444524\n",
      "175   0.608143  0.494667    1.113849   1.438828\n",
      "176   0.608286  0.494333    1.119872   1.447699\n",
      "177   0.610429  0.492000    1.110016   1.459179\n",
      "178   0.607857  0.489667    1.104158   1.448854\n",
      "179   0.605286  0.496000    1.112211   1.440204\n",
      "180   0.615857  0.496333    1.098255   1.440370\n",
      "181   0.607000  0.491333    1.112892   1.436105\n",
      "182   0.608857  0.495333    1.103676   1.450935\n",
      "183   0.612429  0.501000    1.099310   1.437448\n",
      "184   0.607571  0.497000    1.106199   1.441276\n",
      "185   0.611286  0.493333    1.108919   1.436021\n",
      "186   0.618143  0.501000    1.093519   1.442864\n",
      "187   0.618000  0.493333    1.087358   1.450405\n",
      "188   0.616429  0.501333    1.091056   1.442696\n",
      "189   0.609714  0.500333    1.089398   1.448729\n",
      "190   0.615857  0.498000    1.089115   1.441959\n",
      "191   0.614429  0.492667    1.099822   1.447319\n",
      "192   0.615143  0.491667    1.094209   1.442205\n",
      "193   0.612143  0.493667    1.100086   1.442731\n",
      "194   0.605857  0.485333    1.095467   1.452026\n",
      "195   0.605857  0.502667    1.107706   1.437871\n",
      "196   0.611714  0.495333    1.100088   1.440309\n",
      "197   0.614000  0.499000    1.092442   1.435946\n",
      "198   0.617714  0.489000    1.088679   1.445493\n",
      "199   0.613714  0.489667    1.094443   1.437575\n",
      "200   0.616286  0.499000    1.087624   1.440363\n",
      "201   0.610429  0.497333    1.093109   1.447279\n",
      "202   0.618857  0.488333    1.078921   1.439707\n",
      "203   0.618714  0.494667    1.085856   1.436239\n",
      "204   0.617429  0.496333    1.078634   1.434688\n",
      "205   0.612286  0.494667    1.096556   1.448918\n",
      "206   0.614000  0.492667    1.092291   1.443302\n",
      "207   0.610429  0.500667    1.092239   1.443713\n",
      "208   0.614429  0.497667    1.089347   1.441975\n",
      "209   0.616143  0.493000    1.092469   1.447247\n",
      "210   0.626571  0.494667    1.075047   1.440544\n",
      "211   0.615571  0.499333    1.087702   1.440487\n",
      "212   0.615571  0.496000    1.082982   1.450847\n",
      "213   0.614429  0.499000    1.092900   1.435613\n",
      "214   0.618429  0.491667    1.079622   1.447937\n",
      "215   0.618000  0.492333    1.086426   1.444693\n",
      "216   0.617286  0.499667    1.086024   1.444493\n",
      "217   0.615714  0.490333    1.074320   1.459392\n",
      "218   0.615143  0.506000    1.082239   1.438642\n",
      "219   0.610429  0.494000    1.093813   1.440812\n",
      "220   0.614571  0.498000    1.081006   1.446217\n",
      "221   0.620857  0.490000    1.093013   1.458298\n",
      "222   0.622714  0.496333    1.080248   1.427261\n",
      "223   0.624429  0.497000    1.070108   1.438587\n",
      "224   0.626000  0.493667    1.074114   1.446343\n",
      "225   0.616857  0.496333    1.082341   1.450187\n",
      "226   0.609714  0.500333    1.088705   1.432796\n",
      "227   0.617571  0.496333    1.086152   1.438039\n",
      "228   0.620714  0.492667    1.081549   1.450899\n",
      "229   0.622286  0.493667    1.060833   1.448384\n",
      "230   0.613857  0.493667    1.087097   1.434573\n",
      "231   0.615429  0.495333    1.082137   1.445767\n",
      "232   0.619571  0.494333    1.081551   1.446884\n",
      "233   0.616000  0.497667    1.087245   1.450554\n",
      "234   0.615143  0.496667    1.086816   1.439709\n",
      "235   0.615714  0.501333    1.080944   1.432445\n",
      "236   0.621714  0.498000    1.075697   1.441026\n",
      "237   0.620714  0.491000    1.075459   1.445546\n",
      "238   0.617429  0.494333    1.077065   1.445828\n",
      "239   0.624286  0.501667    1.072787   1.432988\n",
      "240   0.616143  0.493667    1.089157   1.451908\n",
      "241   0.616714  0.497000    1.086416   1.430521\n",
      "242   0.611429  0.496000    1.089347   1.438019\n",
      "243   0.621286  0.490667    1.072765   1.447137\n",
      "244   0.625857  0.511667    1.078733   1.438401\n",
      "245   0.615571  0.500333    1.068695   1.439846\n",
      "246   0.625857  0.502667    1.068709   1.435606\n",
      "247   0.618714  0.497667    1.075616   1.442999\n",
      "248   0.620714  0.498000    1.074784   1.428883\n",
      "249   0.618000  0.496333    1.079752   1.440760\n",
      "250   0.620429  0.499667    1.086625   1.434651\n",
      "251   0.618429  0.493000    1.074157   1.438288\n",
      "252   0.628000  0.495333    1.076431   1.449421\n",
      "253   0.621571  0.502333    1.068785   1.443221\n",
      "254   0.614000  0.497000    1.082902   1.437586\n",
      "255   0.617429  0.492000    1.074232   1.446982\n",
      "256   0.621857  0.496667    1.089314   1.438933\n",
      "257   0.620857  0.498667    1.066624   1.434602\n",
      "258   0.620286  0.497667    1.076046   1.443509\n",
      "259   0.613143  0.499000    1.085386   1.439229\n",
      "260   0.622571  0.493000    1.070986   1.432862\n",
      "261   0.613286  0.494667    1.088469   1.432231\n",
      "262   0.616000  0.492333    1.097767   1.433225\n",
      "263   0.622000  0.497333    1.076927   1.437848\n",
      "264   0.622714  0.500333    1.077427   1.441077\n",
      "265   0.621857  0.492333    1.079155   1.427249\n",
      "266   0.614429  0.499000    1.081899   1.434857\n",
      "267   0.625286  0.499333    1.069805   1.432988\n",
      "268   0.624286  0.495000    1.070462   1.436823\n",
      "269   0.616857  0.494333    1.077203   1.448210\n",
      "270   0.622857  0.492333    1.059495   1.451296\n",
      "271   0.618571  0.498000    1.082341   1.437280\n",
      "272   0.625143  0.502000    1.069905   1.436916\n",
      "273   0.615286  0.494000    1.083921   1.433479\n",
      "274   0.627571  0.495667    1.066976   1.436908\n",
      "275   0.624714  0.496000    1.074374   1.429645\n",
      "276   0.610000  0.495000    1.085876   1.431836\n",
      "277   0.619571  0.500000    1.070868   1.436496\n",
      "278   0.619143  0.500333    1.080755   1.445691\n",
      "279   0.618571  0.497000    1.084555   1.446411\n",
      "280   0.616143  0.502333    1.085605   1.426410\n",
      "281   0.623857  0.498000    1.069905   1.428815\n",
      "282   0.623571  0.497000    1.071505   1.444400\n",
      "283   0.614286  0.494667    1.084276   1.448937\n",
      "284   0.623286  0.500667    1.074683   1.442772\n",
      "285   0.617714  0.498000    1.081995   1.434538\n",
      "286   0.615143  0.494667    1.085556   1.437711\n",
      "287   0.620714  0.494333    1.075988   1.437293\n",
      "288   0.614000  0.494667    1.082561   1.437312\n",
      "289   0.622429  0.496667    1.068611   1.441699\n",
      "290   0.618429  0.495000    1.083019   1.441024\n",
      "291   0.620143  0.494000    1.071608   1.441068\n",
      "292   0.629000  0.493667    1.066230   1.442423\n",
      "293   0.619429  0.500333    1.073540   1.438482\n",
      "294   0.624286  0.496667    1.073811   1.449049\n",
      "295   0.619429  0.503000    1.083986   1.436670\n",
      "296   0.623000  0.500000    1.077638   1.429420\n",
      "297   0.621857  0.497333    1.079117   1.433201\n",
      "298   0.616000  0.491667    1.086181   1.436010\n",
      "299   0.611429  0.493000    1.080590   1.442653\n"
     ]
    }
   ],
   "source": [
    "print(df.to_string())"
   ]
  }
 ],
 "metadata": {
  "kernelspec": {
   "display_name": "Python 3",
   "language": "python",
   "name": "python3"
  },
  "language_info": {
   "codemirror_mode": {
    "name": "ipython",
    "version": 3
   },
   "file_extension": ".py",
   "mimetype": "text/x-python",
   "name": "python",
   "nbconvert_exporter": "python",
   "pygments_lexer": "ipython3",
   "version": "3.9.13"
  }
 },
 "nbformat": 4,
 "nbformat_minor": 2
}
