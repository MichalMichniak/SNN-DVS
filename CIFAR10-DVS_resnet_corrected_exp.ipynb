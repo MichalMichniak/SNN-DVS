{
 "cells": [
  {
   "cell_type": "code",
   "execution_count": 1,
   "metadata": {},
   "outputs": [
    {
     "name": "stderr",
     "output_type": "stream",
     "text": [
      "c:\\Users\\nikos\\AppData\\Local\\Programs\\Python\\Python39\\lib\\site-packages\\torchvision\\datapoints\\__init__.py:12: UserWarning: The torchvision.datapoints and torchvision.transforms.v2 namespaces are still Beta. While we do not expect major breaking changes, some APIs may still change according to user feedback. Please submit any feedback you may have in this issue: https://github.com/pytorch/vision/issues/6753, and you can also check out https://github.com/pytorch/vision/issues/7319 to learn more about the APIs that we suspect might involve future changes. You can silence this warning by calling torchvision.disable_beta_transforms_warning().\n",
      "  warnings.warn(_BETA_TRANSFORMS_WARNING)\n",
      "c:\\Users\\nikos\\AppData\\Local\\Programs\\Python\\Python39\\lib\\site-packages\\torchvision\\transforms\\v2\\__init__.py:54: UserWarning: The torchvision.datapoints and torchvision.transforms.v2 namespaces are still Beta. While we do not expect major breaking changes, some APIs may still change according to user feedback. Please submit any feedback you may have in this issue: https://github.com/pytorch/vision/issues/6753, and you can also check out https://github.com/pytorch/vision/issues/7319 to learn more about the APIs that we suspect might involve future changes. You can silence this warning by calling torchvision.disable_beta_transforms_warning().\n",
      "  warnings.warn(_BETA_TRANSFORMS_WARNING)\n"
     ]
    },
    {
     "data": {
      "text/plain": [
       "<torch._C.Generator at 0x22a6dbb8fb0>"
      ]
     },
     "execution_count": 1,
     "metadata": {},
     "output_type": "execute_result"
    }
   ],
   "source": [
    "import numpy as np\n",
    "import cv2\n",
    "import matplotlib.pyplot as plt\n",
    "import os\n",
    "import argparse\n",
    "import pickle as pkl\n",
    "import time\n",
    "from copy import deepcopy\n",
    "\n",
    "from tqdm import tqdm\n",
    "import torch.optim.lr_scheduler as lr_scheduler\n",
    "import os\n",
    "import pandas as pd\n",
    "from torchvision.io import read_image\n",
    "import torch\n",
    "from torch.utils.data import Dataset\n",
    "from torchvision import datasets\n",
    "from torchvision.transforms import ToTensor\n",
    "import matplotlib.pyplot as plt\n",
    "from random import shuffle\n",
    "from torch import nn\n",
    "from torchvision.models import resnet50, ResNet50_Weights\n",
    "import torch.nn.functional as F\n",
    "from torchvision.transforms import v2\n",
    "torch.manual_seed(19)"
   ]
  },
  {
   "cell_type": "code",
   "execution_count": 2,
   "metadata": {},
   "outputs": [],
   "source": [
    "transforms = v2.Compose([\n",
    "    # v2.RandomResizedCrop(size=(224, 224), antialias=True),\n",
    "    v2.RandomHorizontalFlip(p=0.5),\n",
    "    v2.RandomPerspective(0.4),\n",
    "    v2.ToDtype(torch.float32)\n",
    "])\n",
    "\n",
    "class NCarsImageDataset(Dataset):\n",
    "    def __init__(self, img_dir_file, transform=None, target_transform=None):\n",
    "        self.images = np.load(img_dir_file + '_x.npy')\n",
    "        self.labels = np.load(img_dir_file + '_y.npy')\n",
    "        self.transform = transform\n",
    "        self.target_transform = target_transform\n",
    "\n",
    "    def __len__(self):\n",
    "        return len(self.labels)\n",
    "\n",
    "    def __getitem__(self, idx):\n",
    "        image = self.images[idx]\n",
    "        label = self.labels[idx]\n",
    "        # if self.transform:\n",
    "        #     image = self.transform(image)\n",
    "        # if self.target_transform:\n",
    "        #     label = self.target_transform(label)\n",
    "        label_temp = np.zeros((10,))\n",
    "        label_temp[label] = 1\n",
    "        if self.stage == 0:\n",
    "            return self.transform(torch.tensor(image)), torch.tensor(label_temp)\n",
    "        else:\n",
    "            return torch.tensor(image), torch.tensor(label_temp)\n",
    "    \n",
    "    def set_stage(self, stage):\n",
    "        self.stage = stage"
   ]
  },
  {
   "cell_type": "code",
   "execution_count": 3,
   "metadata": {},
   "outputs": [],
   "source": [
    "from torch.utils.data import DataLoader\n",
    "data = NCarsImageDataset(\"./Datasety/CIFAR10-DVS_128_exp\", transform=transforms)\n",
    "\n",
    "generator1 = torch.Generator().manual_seed(42)\n",
    "test_data, training_data = torch.utils.data.random_split(data, [0.3, 0.7], generator=generator1)\n",
    "\n",
    "del data"
   ]
  },
  {
   "cell_type": "code",
   "execution_count": 4,
   "metadata": {},
   "outputs": [],
   "source": [
    "train_dataloader = DataLoader(training_data, batch_size=32, shuffle=True)\n",
    "test_dataloader = DataLoader(test_data, batch_size=32, shuffle=True)"
   ]
  },
  {
   "cell_type": "code",
   "execution_count": 5,
   "metadata": {},
   "outputs": [],
   "source": [
    "class ResidualBlock(nn.Module):\n",
    "    def __init__(self, in_channels, out_channels, stride=1, downsample=None, end_maxpool = False):\n",
    "        super(ResidualBlock, self).__init__()\n",
    "        if(downsample is not None):\n",
    "            self.conv1 = nn.Sequential(\n",
    "                            nn.Conv2d(in_channels, out_channels, kernel_size=3, padding='same'),\n",
    "                            nn.BatchNorm2d(out_channels),\n",
    "                            nn.ReLU(inplace=False),\n",
    "                            nn.MaxPool2d(kernel_size=2, stride=2)\n",
    "                            )  # Changed inplace to False\n",
    "        else:\n",
    "            self.conv1 = nn.Sequential(\n",
    "                            nn.Conv2d(in_channels, out_channels, kernel_size=3, padding='same'),\n",
    "                            nn.BatchNorm2d(out_channels),\n",
    "                            nn.Hardtanh(min_val=-1.0, max_val=1.0, inplace=False)\n",
    "                            )\n",
    "        self.conv2 = nn.Sequential(\n",
    "                        nn.Conv2d(out_channels, out_channels, kernel_size=3, stride=1, padding=1),\n",
    "                        nn.BatchNorm2d(out_channels),\n",
    "                        nn.Hardtanh(min_val=-1.0, max_val=1.0, inplace=False))  # Changed inplace to False\n",
    "        self.downsample = downsample\n",
    "        self.relu = nn.Hardtanh(min_val=-1.0, max_val=1.0, inplace=False)  # Changed inplace to False\n",
    "        self.out_channels = out_channels\n",
    "        self.end_maxpool = end_maxpool\n",
    "\n",
    "    def forward(self, x):\n",
    "        residual = x\n",
    "        out = self.conv1(x)\n",
    "        out = self.conv2(out)\n",
    "        if self.downsample:\n",
    "            residual = self.downsample(x)\n",
    "        out = out + residual\n",
    "        if self.end_maxpool:\n",
    "            out = F.relu(out, inplace=False)\n",
    "        else:\n",
    "            out = F.hardtanh(out, inplace=False, min_val=-1.0, max_val=1.0)   # Use non-in-place ReLU\n",
    "        return out\n",
    "\n",
    "class ResNet(nn.Module):\n",
    "    def __init__(self, block, layers, num_classes = 2, in_channels = 5):\n",
    "        super(ResNet, self).__init__()\n",
    "        self.inplanes = 64\n",
    "        self.conv1 = nn.Sequential(\n",
    "                        nn.Conv2d(in_channels, 64, kernel_size = 7, stride = 1, padding = 3),\n",
    "                        nn.BatchNorm2d(64),\n",
    "                        nn.ReLU(inplace=False))\n",
    "        self.maxpool = nn.MaxPool2d(kernel_size = 3, stride = 2, padding = 1)\n",
    "        self.layer0 = self._make_layer(block, 64, layers[0], stride = 1)\n",
    "        self.layer1 = self._make_layer(block, 128, layers[1], stride = 2)\n",
    "        self.layer2 = self._make_layer(block, 256, layers[2], stride = 2)\n",
    "        self.layer3 = self._make_layer(block, 512, layers[3], stride = 2, end_maxpool = True)\n",
    "        self.avgpool = nn.MaxPool2d(7, stride=1)\n",
    "        self.fc = nn.Linear(2048, 512)\n",
    "        self.fc2 = nn.Linear(512, num_classes)\n",
    "\n",
    "    def _make_layer(self, block, planes, blocks, stride=1, end_maxpool = False):\n",
    "        downsample = None\n",
    "        if stride != 1 or self.inplanes != planes:\n",
    "\n",
    "            downsample = nn.Sequential(\n",
    "                nn.Conv2d(self.inplanes, planes, kernel_size=1, stride=1, padding='same'),\n",
    "                nn.BatchNorm2d(planes),\n",
    "                nn.ReLU(inplace=False),\n",
    "                nn.MaxPool2d(kernel_size=2, stride=2)\n",
    "            )\n",
    "        layers = []\n",
    "        layers.append(block(self.inplanes, planes, stride, downsample))\n",
    "        self.inplanes = planes\n",
    "        for i in range(1, blocks):\n",
    "            if i == blocks-1 and end_maxpool:\n",
    "                layers.append(block(self.inplanes, planes, end_maxpool = True))\n",
    "            else:\n",
    "                layers.append(block(self.inplanes, planes))\n",
    "\n",
    "        return nn.Sequential(*layers)\n",
    "    \n",
    "    def forward(self, x):\n",
    "        x = self.conv1(x)\n",
    "        x = self.maxpool(x)\n",
    "        x = self.layer0(x)\n",
    "        x = self.layer1(x)\n",
    "        x = self.layer2(x)\n",
    "        x = self.layer3(x)\n",
    "        x = self.avgpool(x)\n",
    "        x = x.view(x.size(0), -1)\n",
    "        x = self.fc(x)\n",
    "        x = F.hardtanh(x)\n",
    "        x = self.fc2(x)\n",
    "        return x\n",
    "    \n",
    "    def train_model(self, train_loader, valid_loader, num_epochs = 5, learning_rate=0.001, save_best = False, save_thr = 0.94):\n",
    "        best_accuracy = 0.0\n",
    "        total_step = len(train_loader)\n",
    "        train_accuracy_h = []\n",
    "        test_accuracy_h = []\n",
    "        train_loss_h = []\n",
    "        test_loss_h = []\n",
    "        # Loss and optimizer\n",
    "        criterion = nn.CrossEntropyLoss()\n",
    "        optimizer = torch.optim.RMSprop(self.parameters(), lr=learning_rate, weight_decay = 0.005, momentum = 0.9)  \n",
    "        scheduler = lr_scheduler.ExponentialLR(optimizer, gamma=0.97)#LinearLR(optimizer,  start_factor=start_factor, end_factor=end_factor, total_iters=total_iters)\n",
    "        for epoch in range(num_epochs):\n",
    "            # self.train()\n",
    "            correct = 0\n",
    "            total = 0\n",
    "            running_loss = 0.0\n",
    "            train_loader.dataset.dataset.set_stage(0)\n",
    "            for i, (images, labels) in enumerate(tqdm(train_loader)):\n",
    "                # Move tensors to the configured device\n",
    "                images = images.float().to(\"cuda\")\n",
    "                labels = labels.type(torch.FloatTensor)\n",
    "                labels = labels.to(\"cuda\")\n",
    "\n",
    "\n",
    "                optimizer.zero_grad()\n",
    "\n",
    "                # Forward pass\n",
    "                outputs = self.forward(images)\n",
    "                loss = criterion(outputs, labels)\n",
    "                # Backward and optimize\n",
    "                loss.backward()\n",
    "                \n",
    "                optimizer.step()\n",
    "\n",
    "                # accuracy\n",
    "                _, predicted = torch.max(outputs.data, 1)\n",
    "                correct += (torch.eq(predicted, torch.max(labels,1)[1])).sum().item()\n",
    "                total += labels.size(0)\n",
    "                running_loss += loss.item()\n",
    "                del images, labels, outputs\n",
    "            train_accuracy_h.append((float(correct))/total)\n",
    "            train_loss_h.append(running_loss/len(train_loader))\n",
    "            print ('Epoch [{}/{}], Step [{}/{}], Loss: {:.4f}, Accuracy: {:.4f}'\n",
    "                            .format(epoch+1, num_epochs, i+1, total_step, running_loss/len(train_loader), (float(correct))/total))\n",
    "\n",
    "            scheduler.step()\n",
    "            if torch.cuda.is_available():\n",
    "                torch.cuda.empty_cache()\n",
    "\n",
    "            # Validation\n",
    "            with torch.no_grad():\n",
    "                correct = 0\n",
    "                total = 0\n",
    "                val_loss = 0.0\n",
    "                valid_loader.dataset.dataset.set_stage(1)\n",
    "                for images, labels in valid_loader:\n",
    "                    images = images.float().to(\"cuda\")\n",
    "                    labels = labels.type(torch.FloatTensor)\n",
    "                    labels = labels.to(\"cuda\")\n",
    "                    outputs = self.forward(images)\n",
    "                    _, predicted = torch.max(outputs.data, 1)\n",
    "                    total += labels.size(0)\n",
    "                    correct += (torch.eq(predicted, torch.max(labels,1)[1])).sum().item()\n",
    "                    loss = criterion(outputs, labels)\n",
    "                    val_loss += loss.item()\n",
    "                    del images, labels, outputs\n",
    "                if(((100 * correct / total) > best_accuracy) and save_best and ((100 * correct / total) > save_thr)):\n",
    "                    torch.save(self.state_dict(), \"best_resnet50_CIFAR10-DVS_Hardtanh_ReLUmaxpool__128x128_FC2_128x128_pretrained_aug_corrected_exp1.pt\")\n",
    "                test_accuracy_h.append((float(correct))/total)\n",
    "                test_loss_h.append(val_loss/len(valid_loader))\n",
    "                print('Accuracy of the network: {} Loss: {}'.format( correct / total, val_loss/len(valid_loader)))\n",
    "        return train_accuracy_h, test_accuracy_h, train_loss_h, test_loss_h"
   ]
  },
  {
   "cell_type": "code",
   "execution_count": 6,
   "metadata": {},
   "outputs": [
    {
     "name": "stdout",
     "output_type": "stream",
     "text": [
      "ResNet(\n",
      "  (conv1): Sequential(\n",
      "    (0): Conv2d(6, 64, kernel_size=(7, 7), stride=(1, 1), padding=(3, 3))\n",
      "    (1): BatchNorm2d(64, eps=1e-05, momentum=0.1, affine=True, track_running_stats=True)\n",
      "    (2): ReLU()\n",
      "  )\n",
      "  (maxpool): MaxPool2d(kernel_size=3, stride=2, padding=1, dilation=1, ceil_mode=False)\n",
      "  (layer0): Sequential(\n",
      "    (0): ResidualBlock(\n",
      "      (conv1): Sequential(\n",
      "        (0): Conv2d(64, 64, kernel_size=(3, 3), stride=(1, 1), padding=same)\n",
      "        (1): BatchNorm2d(64, eps=1e-05, momentum=0.1, affine=True, track_running_stats=True)\n",
      "        (2): Hardtanh(min_val=-1.0, max_val=1.0)\n",
      "      )\n",
      "      (conv2): Sequential(\n",
      "        (0): Conv2d(64, 64, kernel_size=(3, 3), stride=(1, 1), padding=(1, 1))\n",
      "        (1): BatchNorm2d(64, eps=1e-05, momentum=0.1, affine=True, track_running_stats=True)\n",
      "        (2): Hardtanh(min_val=-1.0, max_val=1.0)\n",
      "      )\n",
      "      (relu): Hardtanh(min_val=-1.0, max_val=1.0)\n",
      "    )\n",
      "    (1): ResidualBlock(\n",
      "      (conv1): Sequential(\n",
      "        (0): Conv2d(64, 64, kernel_size=(3, 3), stride=(1, 1), padding=same)\n",
      "        (1): BatchNorm2d(64, eps=1e-05, momentum=0.1, affine=True, track_running_stats=True)\n",
      "        (2): Hardtanh(min_val=-1.0, max_val=1.0)\n",
      "      )\n",
      "      (conv2): Sequential(\n",
      "        (0): Conv2d(64, 64, kernel_size=(3, 3), stride=(1, 1), padding=(1, 1))\n",
      "        (1): BatchNorm2d(64, eps=1e-05, momentum=0.1, affine=True, track_running_stats=True)\n",
      "        (2): Hardtanh(min_val=-1.0, max_val=1.0)\n",
      "      )\n",
      "      (relu): Hardtanh(min_val=-1.0, max_val=1.0)\n",
      "    )\n",
      "    (2): ResidualBlock(\n",
      "      (conv1): Sequential(\n",
      "        (0): Conv2d(64, 64, kernel_size=(3, 3), stride=(1, 1), padding=same)\n",
      "        (1): BatchNorm2d(64, eps=1e-05, momentum=0.1, affine=True, track_running_stats=True)\n",
      "        (2): Hardtanh(min_val=-1.0, max_val=1.0)\n",
      "      )\n",
      "      (conv2): Sequential(\n",
      "        (0): Conv2d(64, 64, kernel_size=(3, 3), stride=(1, 1), padding=(1, 1))\n",
      "        (1): BatchNorm2d(64, eps=1e-05, momentum=0.1, affine=True, track_running_stats=True)\n",
      "        (2): Hardtanh(min_val=-1.0, max_val=1.0)\n",
      "      )\n",
      "      (relu): Hardtanh(min_val=-1.0, max_val=1.0)\n",
      "    )\n",
      "  )\n",
      "  (layer1): Sequential(\n",
      "    (0): ResidualBlock(\n",
      "      (conv1): Sequential(\n",
      "        (0): Conv2d(64, 128, kernel_size=(3, 3), stride=(1, 1), padding=same)\n",
      "        (1): BatchNorm2d(128, eps=1e-05, momentum=0.1, affine=True, track_running_stats=True)\n",
      "        (2): ReLU()\n",
      "        (3): MaxPool2d(kernel_size=2, stride=2, padding=0, dilation=1, ceil_mode=False)\n",
      "      )\n",
      "      (conv2): Sequential(\n",
      "        (0): Conv2d(128, 128, kernel_size=(3, 3), stride=(1, 1), padding=(1, 1))\n",
      "        (1): BatchNorm2d(128, eps=1e-05, momentum=0.1, affine=True, track_running_stats=True)\n",
      "        (2): Hardtanh(min_val=-1.0, max_val=1.0)\n",
      "      )\n",
      "      (downsample): Sequential(\n",
      "        (0): Conv2d(64, 128, kernel_size=(1, 1), stride=(1, 1), padding=same)\n",
      "        (1): BatchNorm2d(128, eps=1e-05, momentum=0.1, affine=True, track_running_stats=True)\n",
      "        (2): ReLU()\n",
      "        (3): MaxPool2d(kernel_size=2, stride=2, padding=0, dilation=1, ceil_mode=False)\n",
      "      )\n",
      "      (relu): Hardtanh(min_val=-1.0, max_val=1.0)\n",
      "    )\n",
      "    (1): ResidualBlock(\n",
      "      (conv1): Sequential(\n",
      "        (0): Conv2d(128, 128, kernel_size=(3, 3), stride=(1, 1), padding=same)\n",
      "        (1): BatchNorm2d(128, eps=1e-05, momentum=0.1, affine=True, track_running_stats=True)\n",
      "        (2): Hardtanh(min_val=-1.0, max_val=1.0)\n",
      "      )\n",
      "      (conv2): Sequential(\n",
      "        (0): Conv2d(128, 128, kernel_size=(3, 3), stride=(1, 1), padding=(1, 1))\n",
      "        (1): BatchNorm2d(128, eps=1e-05, momentum=0.1, affine=True, track_running_stats=True)\n",
      "        (2): Hardtanh(min_val=-1.0, max_val=1.0)\n",
      "      )\n",
      "      (relu): Hardtanh(min_val=-1.0, max_val=1.0)\n",
      "    )\n",
      "    (2): ResidualBlock(\n",
      "      (conv1): Sequential(\n",
      "        (0): Conv2d(128, 128, kernel_size=(3, 3), stride=(1, 1), padding=same)\n",
      "        (1): BatchNorm2d(128, eps=1e-05, momentum=0.1, affine=True, track_running_stats=True)\n",
      "        (2): Hardtanh(min_val=-1.0, max_val=1.0)\n",
      "      )\n",
      "      (conv2): Sequential(\n",
      "        (0): Conv2d(128, 128, kernel_size=(3, 3), stride=(1, 1), padding=(1, 1))\n",
      "        (1): BatchNorm2d(128, eps=1e-05, momentum=0.1, affine=True, track_running_stats=True)\n",
      "        (2): Hardtanh(min_val=-1.0, max_val=1.0)\n",
      "      )\n",
      "      (relu): Hardtanh(min_val=-1.0, max_val=1.0)\n",
      "    )\n",
      "    (3): ResidualBlock(\n",
      "      (conv1): Sequential(\n",
      "        (0): Conv2d(128, 128, kernel_size=(3, 3), stride=(1, 1), padding=same)\n",
      "        (1): BatchNorm2d(128, eps=1e-05, momentum=0.1, affine=True, track_running_stats=True)\n",
      "        (2): Hardtanh(min_val=-1.0, max_val=1.0)\n",
      "      )\n",
      "      (conv2): Sequential(\n",
      "        (0): Conv2d(128, 128, kernel_size=(3, 3), stride=(1, 1), padding=(1, 1))\n",
      "        (1): BatchNorm2d(128, eps=1e-05, momentum=0.1, affine=True, track_running_stats=True)\n",
      "        (2): Hardtanh(min_val=-1.0, max_val=1.0)\n",
      "      )\n",
      "      (relu): Hardtanh(min_val=-1.0, max_val=1.0)\n",
      "    )\n",
      "  )\n",
      "  (layer2): Sequential(\n",
      "    (0): ResidualBlock(\n",
      "      (conv1): Sequential(\n",
      "        (0): Conv2d(128, 256, kernel_size=(3, 3), stride=(1, 1), padding=same)\n",
      "        (1): BatchNorm2d(256, eps=1e-05, momentum=0.1, affine=True, track_running_stats=True)\n",
      "        (2): ReLU()\n",
      "        (3): MaxPool2d(kernel_size=2, stride=2, padding=0, dilation=1, ceil_mode=False)\n",
      "      )\n",
      "      (conv2): Sequential(\n",
      "        (0): Conv2d(256, 256, kernel_size=(3, 3), stride=(1, 1), padding=(1, 1))\n",
      "        (1): BatchNorm2d(256, eps=1e-05, momentum=0.1, affine=True, track_running_stats=True)\n",
      "        (2): Hardtanh(min_val=-1.0, max_val=1.0)\n",
      "      )\n",
      "      (downsample): Sequential(\n",
      "        (0): Conv2d(128, 256, kernel_size=(1, 1), stride=(1, 1), padding=same)\n",
      "        (1): BatchNorm2d(256, eps=1e-05, momentum=0.1, affine=True, track_running_stats=True)\n",
      "        (2): ReLU()\n",
      "        (3): MaxPool2d(kernel_size=2, stride=2, padding=0, dilation=1, ceil_mode=False)\n",
      "      )\n",
      "      (relu): Hardtanh(min_val=-1.0, max_val=1.0)\n",
      "    )\n",
      "    (1): ResidualBlock(\n",
      "      (conv1): Sequential(\n",
      "        (0): Conv2d(256, 256, kernel_size=(3, 3), stride=(1, 1), padding=same)\n",
      "        (1): BatchNorm2d(256, eps=1e-05, momentum=0.1, affine=True, track_running_stats=True)\n",
      "        (2): Hardtanh(min_val=-1.0, max_val=1.0)\n",
      "      )\n",
      "      (conv2): Sequential(\n",
      "        (0): Conv2d(256, 256, kernel_size=(3, 3), stride=(1, 1), padding=(1, 1))\n",
      "        (1): BatchNorm2d(256, eps=1e-05, momentum=0.1, affine=True, track_running_stats=True)\n",
      "        (2): Hardtanh(min_val=-1.0, max_val=1.0)\n",
      "      )\n",
      "      (relu): Hardtanh(min_val=-1.0, max_val=1.0)\n",
      "    )\n",
      "    (2): ResidualBlock(\n",
      "      (conv1): Sequential(\n",
      "        (0): Conv2d(256, 256, kernel_size=(3, 3), stride=(1, 1), padding=same)\n",
      "        (1): BatchNorm2d(256, eps=1e-05, momentum=0.1, affine=True, track_running_stats=True)\n",
      "        (2): Hardtanh(min_val=-1.0, max_val=1.0)\n",
      "      )\n",
      "      (conv2): Sequential(\n",
      "        (0): Conv2d(256, 256, kernel_size=(3, 3), stride=(1, 1), padding=(1, 1))\n",
      "        (1): BatchNorm2d(256, eps=1e-05, momentum=0.1, affine=True, track_running_stats=True)\n",
      "        (2): Hardtanh(min_val=-1.0, max_val=1.0)\n",
      "      )\n",
      "      (relu): Hardtanh(min_val=-1.0, max_val=1.0)\n",
      "    )\n",
      "    (3): ResidualBlock(\n",
      "      (conv1): Sequential(\n",
      "        (0): Conv2d(256, 256, kernel_size=(3, 3), stride=(1, 1), padding=same)\n",
      "        (1): BatchNorm2d(256, eps=1e-05, momentum=0.1, affine=True, track_running_stats=True)\n",
      "        (2): Hardtanh(min_val=-1.0, max_val=1.0)\n",
      "      )\n",
      "      (conv2): Sequential(\n",
      "        (0): Conv2d(256, 256, kernel_size=(3, 3), stride=(1, 1), padding=(1, 1))\n",
      "        (1): BatchNorm2d(256, eps=1e-05, momentum=0.1, affine=True, track_running_stats=True)\n",
      "        (2): Hardtanh(min_val=-1.0, max_val=1.0)\n",
      "      )\n",
      "      (relu): Hardtanh(min_val=-1.0, max_val=1.0)\n",
      "    )\n",
      "    (4): ResidualBlock(\n",
      "      (conv1): Sequential(\n",
      "        (0): Conv2d(256, 256, kernel_size=(3, 3), stride=(1, 1), padding=same)\n",
      "        (1): BatchNorm2d(256, eps=1e-05, momentum=0.1, affine=True, track_running_stats=True)\n",
      "        (2): Hardtanh(min_val=-1.0, max_val=1.0)\n",
      "      )\n",
      "      (conv2): Sequential(\n",
      "        (0): Conv2d(256, 256, kernel_size=(3, 3), stride=(1, 1), padding=(1, 1))\n",
      "        (1): BatchNorm2d(256, eps=1e-05, momentum=0.1, affine=True, track_running_stats=True)\n",
      "        (2): Hardtanh(min_val=-1.0, max_val=1.0)\n",
      "      )\n",
      "      (relu): Hardtanh(min_val=-1.0, max_val=1.0)\n",
      "    )\n",
      "    (5): ResidualBlock(\n",
      "      (conv1): Sequential(\n",
      "        (0): Conv2d(256, 256, kernel_size=(3, 3), stride=(1, 1), padding=same)\n",
      "        (1): BatchNorm2d(256, eps=1e-05, momentum=0.1, affine=True, track_running_stats=True)\n",
      "        (2): Hardtanh(min_val=-1.0, max_val=1.0)\n",
      "      )\n",
      "      (conv2): Sequential(\n",
      "        (0): Conv2d(256, 256, kernel_size=(3, 3), stride=(1, 1), padding=(1, 1))\n",
      "        (1): BatchNorm2d(256, eps=1e-05, momentum=0.1, affine=True, track_running_stats=True)\n",
      "        (2): Hardtanh(min_val=-1.0, max_val=1.0)\n",
      "      )\n",
      "      (relu): Hardtanh(min_val=-1.0, max_val=1.0)\n",
      "    )\n",
      "  )\n",
      "  (layer3): Sequential(\n",
      "    (0): ResidualBlock(\n",
      "      (conv1): Sequential(\n",
      "        (0): Conv2d(256, 512, kernel_size=(3, 3), stride=(1, 1), padding=same)\n",
      "        (1): BatchNorm2d(512, eps=1e-05, momentum=0.1, affine=True, track_running_stats=True)\n",
      "        (2): ReLU()\n",
      "        (3): MaxPool2d(kernel_size=2, stride=2, padding=0, dilation=1, ceil_mode=False)\n",
      "      )\n",
      "      (conv2): Sequential(\n",
      "        (0): Conv2d(512, 512, kernel_size=(3, 3), stride=(1, 1), padding=(1, 1))\n",
      "        (1): BatchNorm2d(512, eps=1e-05, momentum=0.1, affine=True, track_running_stats=True)\n",
      "        (2): Hardtanh(min_val=-1.0, max_val=1.0)\n",
      "      )\n",
      "      (downsample): Sequential(\n",
      "        (0): Conv2d(256, 512, kernel_size=(1, 1), stride=(1, 1), padding=same)\n",
      "        (1): BatchNorm2d(512, eps=1e-05, momentum=0.1, affine=True, track_running_stats=True)\n",
      "        (2): ReLU()\n",
      "        (3): MaxPool2d(kernel_size=2, stride=2, padding=0, dilation=1, ceil_mode=False)\n",
      "      )\n",
      "      (relu): Hardtanh(min_val=-1.0, max_val=1.0)\n",
      "    )\n",
      "    (1): ResidualBlock(\n",
      "      (conv1): Sequential(\n",
      "        (0): Conv2d(512, 512, kernel_size=(3, 3), stride=(1, 1), padding=same)\n",
      "        (1): BatchNorm2d(512, eps=1e-05, momentum=0.1, affine=True, track_running_stats=True)\n",
      "        (2): Hardtanh(min_val=-1.0, max_val=1.0)\n",
      "      )\n",
      "      (conv2): Sequential(\n",
      "        (0): Conv2d(512, 512, kernel_size=(3, 3), stride=(1, 1), padding=(1, 1))\n",
      "        (1): BatchNorm2d(512, eps=1e-05, momentum=0.1, affine=True, track_running_stats=True)\n",
      "        (2): Hardtanh(min_val=-1.0, max_val=1.0)\n",
      "      )\n",
      "      (relu): Hardtanh(min_val=-1.0, max_val=1.0)\n",
      "    )\n",
      "    (2): ResidualBlock(\n",
      "      (conv1): Sequential(\n",
      "        (0): Conv2d(512, 512, kernel_size=(3, 3), stride=(1, 1), padding=same)\n",
      "        (1): BatchNorm2d(512, eps=1e-05, momentum=0.1, affine=True, track_running_stats=True)\n",
      "        (2): Hardtanh(min_val=-1.0, max_val=1.0)\n",
      "      )\n",
      "      (conv2): Sequential(\n",
      "        (0): Conv2d(512, 512, kernel_size=(3, 3), stride=(1, 1), padding=(1, 1))\n",
      "        (1): BatchNorm2d(512, eps=1e-05, momentum=0.1, affine=True, track_running_stats=True)\n",
      "        (2): Hardtanh(min_val=-1.0, max_val=1.0)\n",
      "      )\n",
      "      (relu): Hardtanh(min_val=-1.0, max_val=1.0)\n",
      "    )\n",
      "  )\n",
      "  (avgpool): MaxPool2d(kernel_size=7, stride=1, padding=0, dilation=1, ceil_mode=False)\n",
      "  (fc): Linear(in_features=2048, out_features=512, bias=True)\n",
      "  (fc2): Linear(in_features=512, out_features=10, bias=True)\n",
      ")\n"
     ]
    }
   ],
   "source": [
    "if torch.cuda.is_available():\n",
    "    torch.cuda.empty_cache()\n",
    "model_resnet = ResNet(ResidualBlock, [3, 4, 6, 3], num_classes = 10, in_channels=6).to(\"cuda\")\n",
    "print(model_resnet)"
   ]
  },
  {
   "cell_type": "code",
   "execution_count": 7,
   "metadata": {},
   "outputs": [
    {
     "name": "stderr",
     "output_type": "stream",
     "text": [
      "Using cache found in C:\\Users\\nikos/.cache\\torch\\hub\\pytorch_vision_v0.10.0\n",
      "c:\\Users\\nikos\\AppData\\Local\\Programs\\Python\\Python39\\lib\\site-packages\\torchvision\\models\\_utils.py:208: UserWarning: The parameter 'pretrained' is deprecated since 0.13 and may be removed in the future, please use 'weights' instead.\n",
      "  warnings.warn(\n",
      "c:\\Users\\nikos\\AppData\\Local\\Programs\\Python\\Python39\\lib\\site-packages\\torchvision\\models\\_utils.py:223: UserWarning: Arguments other than a weight enum or `None` for 'weights' are deprecated since 0.13 and may be removed in the future. The current behavior is equivalent to passing `weights=ResNet34_Weights.IMAGENET1K_V1`. You can also use `weights=ResNet34_Weights.DEFAULT` to get the most up-to-date weights.\n",
      "  warnings.warn(msg)\n"
     ]
    }
   ],
   "source": [
    "model = torch.hub.load('pytorch/vision:v0.10.0', 'resnet34', pretrained=True)"
   ]
  },
  {
   "cell_type": "code",
   "execution_count": 8,
   "metadata": {},
   "outputs": [
    {
     "data": {
      "text/plain": [
       "ResNet(\n",
       "  (conv1): Sequential(\n",
       "    (0): Conv2d(6, 64, kernel_size=(7, 7), stride=(1, 1), padding=(3, 3))\n",
       "    (1): BatchNorm2d(64, eps=1e-05, momentum=0.1, affine=True, track_running_stats=True)\n",
       "    (2): ReLU()\n",
       "  )\n",
       "  (maxpool): MaxPool2d(kernel_size=3, stride=2, padding=1, dilation=1, ceil_mode=False)\n",
       "  (layer0): Sequential(\n",
       "    (0): ResidualBlock(\n",
       "      (conv1): Sequential(\n",
       "        (0): Conv2d(64, 64, kernel_size=(3, 3), stride=1, padding=(1, 1), bias=False)\n",
       "        (1): BatchNorm2d(64, eps=1e-05, momentum=0.1, affine=True, track_running_stats=True)\n",
       "        (2): Hardtanh(min_val=-1.0, max_val=1.0)\n",
       "      )\n",
       "      (conv2): Sequential(\n",
       "        (0): Conv2d(64, 64, kernel_size=(3, 3), stride=1, padding=(1, 1), bias=False)\n",
       "        (1): BatchNorm2d(64, eps=1e-05, momentum=0.1, affine=True, track_running_stats=True)\n",
       "        (2): Hardtanh(min_val=-1.0, max_val=1.0)\n",
       "      )\n",
       "      (relu): Hardtanh(min_val=-1.0, max_val=1.0)\n",
       "    )\n",
       "    (1): ResidualBlock(\n",
       "      (conv1): Sequential(\n",
       "        (0): Conv2d(64, 64, kernel_size=(3, 3), stride=1, padding=(1, 1), bias=False)\n",
       "        (1): BatchNorm2d(64, eps=1e-05, momentum=0.1, affine=True, track_running_stats=True)\n",
       "        (2): Hardtanh(min_val=-1.0, max_val=1.0)\n",
       "      )\n",
       "      (conv2): Sequential(\n",
       "        (0): Conv2d(64, 64, kernel_size=(3, 3), stride=1, padding=(1, 1), bias=False)\n",
       "        (1): BatchNorm2d(64, eps=1e-05, momentum=0.1, affine=True, track_running_stats=True)\n",
       "        (2): Hardtanh(min_val=-1.0, max_val=1.0)\n",
       "      )\n",
       "      (relu): Hardtanh(min_val=-1.0, max_val=1.0)\n",
       "    )\n",
       "    (2): ResidualBlock(\n",
       "      (conv1): Sequential(\n",
       "        (0): Conv2d(64, 64, kernel_size=(3, 3), stride=1, padding=(1, 1), bias=False)\n",
       "        (1): BatchNorm2d(64, eps=1e-05, momentum=0.1, affine=True, track_running_stats=True)\n",
       "        (2): Hardtanh(min_val=-1.0, max_val=1.0)\n",
       "      )\n",
       "      (conv2): Sequential(\n",
       "        (0): Conv2d(64, 64, kernel_size=(3, 3), stride=1, padding=(1, 1), bias=False)\n",
       "        (1): BatchNorm2d(64, eps=1e-05, momentum=0.1, affine=True, track_running_stats=True)\n",
       "        (2): Hardtanh(min_val=-1.0, max_val=1.0)\n",
       "      )\n",
       "      (relu): Hardtanh(min_val=-1.0, max_val=1.0)\n",
       "    )\n",
       "  )\n",
       "  (layer1): Sequential(\n",
       "    (0): ResidualBlock(\n",
       "      (conv1): Sequential(\n",
       "        (0): Conv2d(64, 128, kernel_size=(3, 3), stride=1, padding=(1, 1), bias=False)\n",
       "        (1): BatchNorm2d(128, eps=1e-05, momentum=0.1, affine=True, track_running_stats=True)\n",
       "        (2): ReLU()\n",
       "        (3): MaxPool2d(kernel_size=2, stride=2, padding=0, dilation=1, ceil_mode=False)\n",
       "      )\n",
       "      (conv2): Sequential(\n",
       "        (0): Conv2d(128, 128, kernel_size=(3, 3), stride=1, padding=(1, 1), bias=False)\n",
       "        (1): BatchNorm2d(128, eps=1e-05, momentum=0.1, affine=True, track_running_stats=True)\n",
       "        (2): Hardtanh(min_val=-1.0, max_val=1.0)\n",
       "      )\n",
       "      (downsample): Sequential(\n",
       "        (0): Conv2d(64, 128, kernel_size=(1, 1), stride=1, bias=False)\n",
       "        (1): BatchNorm2d(128, eps=1e-05, momentum=0.1, affine=True, track_running_stats=True)\n",
       "        (2): ReLU()\n",
       "        (3): MaxPool2d(kernel_size=2, stride=2, padding=0, dilation=1, ceil_mode=False)\n",
       "      )\n",
       "      (relu): Hardtanh(min_val=-1.0, max_val=1.0)\n",
       "    )\n",
       "    (1): ResidualBlock(\n",
       "      (conv1): Sequential(\n",
       "        (0): Conv2d(128, 128, kernel_size=(3, 3), stride=1, padding=(1, 1), bias=False)\n",
       "        (1): BatchNorm2d(128, eps=1e-05, momentum=0.1, affine=True, track_running_stats=True)\n",
       "        (2): Hardtanh(min_val=-1.0, max_val=1.0)\n",
       "      )\n",
       "      (conv2): Sequential(\n",
       "        (0): Conv2d(128, 128, kernel_size=(3, 3), stride=1, padding=(1, 1), bias=False)\n",
       "        (1): BatchNorm2d(128, eps=1e-05, momentum=0.1, affine=True, track_running_stats=True)\n",
       "        (2): Hardtanh(min_val=-1.0, max_val=1.0)\n",
       "      )\n",
       "      (relu): Hardtanh(min_val=-1.0, max_val=1.0)\n",
       "    )\n",
       "    (2): ResidualBlock(\n",
       "      (conv1): Sequential(\n",
       "        (0): Conv2d(128, 128, kernel_size=(3, 3), stride=1, padding=(1, 1), bias=False)\n",
       "        (1): BatchNorm2d(128, eps=1e-05, momentum=0.1, affine=True, track_running_stats=True)\n",
       "        (2): Hardtanh(min_val=-1.0, max_val=1.0)\n",
       "      )\n",
       "      (conv2): Sequential(\n",
       "        (0): Conv2d(128, 128, kernel_size=(3, 3), stride=1, padding=(1, 1), bias=False)\n",
       "        (1): BatchNorm2d(128, eps=1e-05, momentum=0.1, affine=True, track_running_stats=True)\n",
       "        (2): Hardtanh(min_val=-1.0, max_val=1.0)\n",
       "      )\n",
       "      (relu): Hardtanh(min_val=-1.0, max_val=1.0)\n",
       "    )\n",
       "    (3): ResidualBlock(\n",
       "      (conv1): Sequential(\n",
       "        (0): Conv2d(128, 128, kernel_size=(3, 3), stride=1, padding=(1, 1), bias=False)\n",
       "        (1): BatchNorm2d(128, eps=1e-05, momentum=0.1, affine=True, track_running_stats=True)\n",
       "        (2): Hardtanh(min_val=-1.0, max_val=1.0)\n",
       "      )\n",
       "      (conv2): Sequential(\n",
       "        (0): Conv2d(128, 128, kernel_size=(3, 3), stride=1, padding=(1, 1), bias=False)\n",
       "        (1): BatchNorm2d(128, eps=1e-05, momentum=0.1, affine=True, track_running_stats=True)\n",
       "        (2): Hardtanh(min_val=-1.0, max_val=1.0)\n",
       "      )\n",
       "      (relu): Hardtanh(min_val=-1.0, max_val=1.0)\n",
       "    )\n",
       "  )\n",
       "  (layer2): Sequential(\n",
       "    (0): ResidualBlock(\n",
       "      (conv1): Sequential(\n",
       "        (0): Conv2d(128, 256, kernel_size=(3, 3), stride=1, padding=(1, 1), bias=False)\n",
       "        (1): BatchNorm2d(256, eps=1e-05, momentum=0.1, affine=True, track_running_stats=True)\n",
       "        (2): ReLU()\n",
       "        (3): MaxPool2d(kernel_size=2, stride=2, padding=0, dilation=1, ceil_mode=False)\n",
       "      )\n",
       "      (conv2): Sequential(\n",
       "        (0): Conv2d(256, 256, kernel_size=(3, 3), stride=1, padding=(1, 1), bias=False)\n",
       "        (1): BatchNorm2d(256, eps=1e-05, momentum=0.1, affine=True, track_running_stats=True)\n",
       "        (2): Hardtanh(min_val=-1.0, max_val=1.0)\n",
       "      )\n",
       "      (downsample): Sequential(\n",
       "        (0): Conv2d(128, 256, kernel_size=(1, 1), stride=1, bias=False)\n",
       "        (1): BatchNorm2d(256, eps=1e-05, momentum=0.1, affine=True, track_running_stats=True)\n",
       "        (2): ReLU()\n",
       "        (3): MaxPool2d(kernel_size=2, stride=2, padding=0, dilation=1, ceil_mode=False)\n",
       "      )\n",
       "      (relu): Hardtanh(min_val=-1.0, max_val=1.0)\n",
       "    )\n",
       "    (1): ResidualBlock(\n",
       "      (conv1): Sequential(\n",
       "        (0): Conv2d(256, 256, kernel_size=(3, 3), stride=1, padding=(1, 1), bias=False)\n",
       "        (1): BatchNorm2d(256, eps=1e-05, momentum=0.1, affine=True, track_running_stats=True)\n",
       "        (2): Hardtanh(min_val=-1.0, max_val=1.0)\n",
       "      )\n",
       "      (conv2): Sequential(\n",
       "        (0): Conv2d(256, 256, kernel_size=(3, 3), stride=1, padding=(1, 1), bias=False)\n",
       "        (1): BatchNorm2d(256, eps=1e-05, momentum=0.1, affine=True, track_running_stats=True)\n",
       "        (2): Hardtanh(min_val=-1.0, max_val=1.0)\n",
       "      )\n",
       "      (relu): Hardtanh(min_val=-1.0, max_val=1.0)\n",
       "    )\n",
       "    (2): ResidualBlock(\n",
       "      (conv1): Sequential(\n",
       "        (0): Conv2d(256, 256, kernel_size=(3, 3), stride=1, padding=(1, 1), bias=False)\n",
       "        (1): BatchNorm2d(256, eps=1e-05, momentum=0.1, affine=True, track_running_stats=True)\n",
       "        (2): Hardtanh(min_val=-1.0, max_val=1.0)\n",
       "      )\n",
       "      (conv2): Sequential(\n",
       "        (0): Conv2d(256, 256, kernel_size=(3, 3), stride=1, padding=(1, 1), bias=False)\n",
       "        (1): BatchNorm2d(256, eps=1e-05, momentum=0.1, affine=True, track_running_stats=True)\n",
       "        (2): Hardtanh(min_val=-1.0, max_val=1.0)\n",
       "      )\n",
       "      (relu): Hardtanh(min_val=-1.0, max_val=1.0)\n",
       "    )\n",
       "    (3): ResidualBlock(\n",
       "      (conv1): Sequential(\n",
       "        (0): Conv2d(256, 256, kernel_size=(3, 3), stride=1, padding=(1, 1), bias=False)\n",
       "        (1): BatchNorm2d(256, eps=1e-05, momentum=0.1, affine=True, track_running_stats=True)\n",
       "        (2): Hardtanh(min_val=-1.0, max_val=1.0)\n",
       "      )\n",
       "      (conv2): Sequential(\n",
       "        (0): Conv2d(256, 256, kernel_size=(3, 3), stride=1, padding=(1, 1), bias=False)\n",
       "        (1): BatchNorm2d(256, eps=1e-05, momentum=0.1, affine=True, track_running_stats=True)\n",
       "        (2): Hardtanh(min_val=-1.0, max_val=1.0)\n",
       "      )\n",
       "      (relu): Hardtanh(min_val=-1.0, max_val=1.0)\n",
       "    )\n",
       "    (4): ResidualBlock(\n",
       "      (conv1): Sequential(\n",
       "        (0): Conv2d(256, 256, kernel_size=(3, 3), stride=1, padding=(1, 1), bias=False)\n",
       "        (1): BatchNorm2d(256, eps=1e-05, momentum=0.1, affine=True, track_running_stats=True)\n",
       "        (2): Hardtanh(min_val=-1.0, max_val=1.0)\n",
       "      )\n",
       "      (conv2): Sequential(\n",
       "        (0): Conv2d(256, 256, kernel_size=(3, 3), stride=1, padding=(1, 1), bias=False)\n",
       "        (1): BatchNorm2d(256, eps=1e-05, momentum=0.1, affine=True, track_running_stats=True)\n",
       "        (2): Hardtanh(min_val=-1.0, max_val=1.0)\n",
       "      )\n",
       "      (relu): Hardtanh(min_val=-1.0, max_val=1.0)\n",
       "    )\n",
       "    (5): ResidualBlock(\n",
       "      (conv1): Sequential(\n",
       "        (0): Conv2d(256, 256, kernel_size=(3, 3), stride=1, padding=(1, 1), bias=False)\n",
       "        (1): BatchNorm2d(256, eps=1e-05, momentum=0.1, affine=True, track_running_stats=True)\n",
       "        (2): Hardtanh(min_val=-1.0, max_val=1.0)\n",
       "      )\n",
       "      (conv2): Sequential(\n",
       "        (0): Conv2d(256, 256, kernel_size=(3, 3), stride=1, padding=(1, 1), bias=False)\n",
       "        (1): BatchNorm2d(256, eps=1e-05, momentum=0.1, affine=True, track_running_stats=True)\n",
       "        (2): Hardtanh(min_val=-1.0, max_val=1.0)\n",
       "      )\n",
       "      (relu): Hardtanh(min_val=-1.0, max_val=1.0)\n",
       "    )\n",
       "  )\n",
       "  (layer3): Sequential(\n",
       "    (0): ResidualBlock(\n",
       "      (conv1): Sequential(\n",
       "        (0): Conv2d(256, 512, kernel_size=(3, 3), stride=1, padding=(1, 1), bias=False)\n",
       "        (1): BatchNorm2d(512, eps=1e-05, momentum=0.1, affine=True, track_running_stats=True)\n",
       "        (2): ReLU()\n",
       "        (3): MaxPool2d(kernel_size=2, stride=2, padding=0, dilation=1, ceil_mode=False)\n",
       "      )\n",
       "      (conv2): Sequential(\n",
       "        (0): Conv2d(512, 512, kernel_size=(3, 3), stride=1, padding=(1, 1), bias=False)\n",
       "        (1): BatchNorm2d(512, eps=1e-05, momentum=0.1, affine=True, track_running_stats=True)\n",
       "        (2): Hardtanh(min_val=-1.0, max_val=1.0)\n",
       "      )\n",
       "      (downsample): Sequential(\n",
       "        (0): Conv2d(256, 512, kernel_size=(1, 1), stride=1, bias=False)\n",
       "        (1): BatchNorm2d(512, eps=1e-05, momentum=0.1, affine=True, track_running_stats=True)\n",
       "        (2): ReLU()\n",
       "        (3): MaxPool2d(kernel_size=2, stride=2, padding=0, dilation=1, ceil_mode=False)\n",
       "      )\n",
       "      (relu): Hardtanh(min_val=-1.0, max_val=1.0)\n",
       "    )\n",
       "    (1): ResidualBlock(\n",
       "      (conv1): Sequential(\n",
       "        (0): Conv2d(512, 512, kernel_size=(3, 3), stride=1, padding=(1, 1), bias=False)\n",
       "        (1): BatchNorm2d(512, eps=1e-05, momentum=0.1, affine=True, track_running_stats=True)\n",
       "        (2): Hardtanh(min_val=-1.0, max_val=1.0)\n",
       "      )\n",
       "      (conv2): Sequential(\n",
       "        (0): Conv2d(512, 512, kernel_size=(3, 3), stride=1, padding=(1, 1), bias=False)\n",
       "        (1): BatchNorm2d(512, eps=1e-05, momentum=0.1, affine=True, track_running_stats=True)\n",
       "        (2): Hardtanh(min_val=-1.0, max_val=1.0)\n",
       "      )\n",
       "      (relu): Hardtanh(min_val=-1.0, max_val=1.0)\n",
       "    )\n",
       "    (2): ResidualBlock(\n",
       "      (conv1): Sequential(\n",
       "        (0): Conv2d(512, 512, kernel_size=(3, 3), stride=1, padding=(1, 1), bias=False)\n",
       "        (1): BatchNorm2d(512, eps=1e-05, momentum=0.1, affine=True, track_running_stats=True)\n",
       "        (2): Hardtanh(min_val=-1.0, max_val=1.0)\n",
       "      )\n",
       "      (conv2): Sequential(\n",
       "        (0): Conv2d(512, 512, kernel_size=(3, 3), stride=1, padding=(1, 1), bias=False)\n",
       "        (1): BatchNorm2d(512, eps=1e-05, momentum=0.1, affine=True, track_running_stats=True)\n",
       "        (2): Hardtanh(min_val=-1.0, max_val=1.0)\n",
       "      )\n",
       "      (relu): Hardtanh(min_val=-1.0, max_val=1.0)\n",
       "    )\n",
       "  )\n",
       "  (avgpool): MaxPool2d(kernel_size=7, stride=1, padding=0, dilation=1, ceil_mode=False)\n",
       "  (fc): Linear(in_features=2048, out_features=512, bias=True)\n",
       "  (fc2): Linear(in_features=512, out_features=10, bias=True)\n",
       ")"
      ]
     },
     "execution_count": 8,
     "metadata": {},
     "output_type": "execute_result"
    }
   ],
   "source": [
    "size_layer = [3, 4, 6, 3]\n",
    "layers = [(model_resnet.layer0, model.layer1), (model_resnet.layer1, model.layer2), (model_resnet.layer2, model.layer3), (model_resnet.layer3, model.layer4)]\n",
    "for n in range(len(layers)):\n",
    "    for i in range(size_layer[n]):\n",
    "        layers[n][0][i].conv1[0] = layers[n][1][i].conv1\n",
    "        layers[n][0][i].conv1[0].stride = 1\n",
    "        layers[n][0][i].conv2[0] = layers[n][1][i].conv2\n",
    "        layers[n][0][i].conv2[0].stride = 1\n",
    "        \n",
    "        layers[n][0][i].conv1[1] = layers[n][1][i].bn1\n",
    "        layers[n][0][i].conv2[1] = layers[n][1][i].bn2\n",
    "\n",
    "model_resnet.layer1[0].downsample[0] = model.layer2[0].downsample[0]\n",
    "model_resnet.layer1[0].downsample[0].stride = 1\n",
    "model_resnet.layer1[0].downsample[1] = model.layer2[0].downsample[1]\n",
    "\n",
    "model_resnet.layer2[0].downsample[0] = model.layer3[0].downsample[0]\n",
    "model_resnet.layer2[0].downsample[0].stride = 1\n",
    "model_resnet.layer2[0].downsample[1] = model.layer3[0].downsample[1]\n",
    "\n",
    "model_resnet.layer3[0].downsample[0] = model.layer4[0].downsample[0]\n",
    "model_resnet.layer3[0].downsample[0].stride = 1\n",
    "model_resnet.layer3[0].downsample[1] = model.layer4[0].downsample[1]\n",
    "\n",
    "model_resnet.to(\"cuda\")"
   ]
  },
  {
   "cell_type": "code",
   "execution_count": 9,
   "metadata": {},
   "outputs": [
    {
     "name": "stderr",
     "output_type": "stream",
     "text": [
      "100%|██████████| 219/219 [00:54<00:00,  4.01it/s]\n"
     ]
    },
    {
     "name": "stdout",
     "output_type": "stream",
     "text": [
      "Epoch [1/300], Step [219/219], Loss: 3.1738, Accuracy: 0.1029\n",
      "Accuracy of the network: 0.1 Loss: 2.8195718983386424\n"
     ]
    },
    {
     "name": "stderr",
     "output_type": "stream",
     "text": [
      "100%|██████████| 219/219 [00:52<00:00,  4.19it/s]\n"
     ]
    },
    {
     "name": "stdout",
     "output_type": "stream",
     "text": [
      "Epoch [2/300], Step [219/219], Loss: 2.7483, Accuracy: 0.1000\n",
      "Accuracy of the network: 0.09066666666666667 Loss: 2.483323221511029\n"
     ]
    },
    {
     "name": "stderr",
     "output_type": "stream",
     "text": [
      "100%|██████████| 219/219 [00:52<00:00,  4.19it/s]\n"
     ]
    },
    {
     "name": "stdout",
     "output_type": "stream",
     "text": [
      "Epoch [3/300], Step [219/219], Loss: 2.6822, Accuracy: 0.1040\n",
      "Accuracy of the network: 0.10533333333333333 Loss: 2.64460792693686\n"
     ]
    },
    {
     "name": "stderr",
     "output_type": "stream",
     "text": [
      "100%|██████████| 219/219 [00:52<00:00,  4.18it/s]\n"
     ]
    },
    {
     "name": "stdout",
     "output_type": "stream",
     "text": [
      "Epoch [4/300], Step [219/219], Loss: 2.6464, Accuracy: 0.0970\n",
      "Accuracy of the network: 0.095 Loss: 2.5589072019495864\n"
     ]
    },
    {
     "name": "stderr",
     "output_type": "stream",
     "text": [
      "100%|██████████| 219/219 [00:55<00:00,  3.98it/s]\n"
     ]
    },
    {
     "name": "stdout",
     "output_type": "stream",
     "text": [
      "Epoch [5/300], Step [219/219], Loss: 2.3481, Accuracy: 0.1386\n",
      "Accuracy of the network: 0.14966666666666667 Loss: 2.203694617494624\n"
     ]
    },
    {
     "name": "stderr",
     "output_type": "stream",
     "text": [
      "100%|██████████| 219/219 [00:53<00:00,  4.09it/s]\n"
     ]
    },
    {
     "name": "stdout",
     "output_type": "stream",
     "text": [
      "Epoch [6/300], Step [219/219], Loss: 2.2159, Accuracy: 0.1493\n",
      "Accuracy of the network: 0.15566666666666668 Loss: 2.1448558454817914\n"
     ]
    },
    {
     "name": "stderr",
     "output_type": "stream",
     "text": [
      "100%|██████████| 219/219 [00:53<00:00,  4.08it/s]\n"
     ]
    },
    {
     "name": "stdout",
     "output_type": "stream",
     "text": [
      "Epoch [7/300], Step [219/219], Loss: 2.1910, Accuracy: 0.1584\n",
      "Accuracy of the network: 0.14733333333333334 Loss: 2.2430866576255637\n"
     ]
    },
    {
     "name": "stderr",
     "output_type": "stream",
     "text": [
      "100%|██████████| 219/219 [00:51<00:00,  4.26it/s]\n"
     ]
    },
    {
     "name": "stdout",
     "output_type": "stream",
     "text": [
      "Epoch [8/300], Step [219/219], Loss: 2.1839, Accuracy: 0.1631\n",
      "Accuracy of the network: 0.17266666666666666 Loss: 2.1144957073191377\n"
     ]
    },
    {
     "name": "stderr",
     "output_type": "stream",
     "text": [
      "100%|██████████| 219/219 [00:52<00:00,  4.14it/s]\n"
     ]
    },
    {
     "name": "stdout",
     "output_type": "stream",
     "text": [
      "Epoch [9/300], Step [219/219], Loss: 2.1882, Accuracy: 0.1620\n",
      "Accuracy of the network: 0.14633333333333334 Loss: 2.194477531504124\n"
     ]
    },
    {
     "name": "stderr",
     "output_type": "stream",
     "text": [
      "100%|██████████| 219/219 [00:54<00:00,  3.99it/s]\n"
     ]
    },
    {
     "name": "stdout",
     "output_type": "stream",
     "text": [
      "Epoch [10/300], Step [219/219], Loss: 2.1552, Accuracy: 0.1731\n",
      "Accuracy of the network: 0.16966666666666666 Loss: 2.1678301159371722\n"
     ]
    },
    {
     "name": "stderr",
     "output_type": "stream",
     "text": [
      "100%|██████████| 219/219 [00:53<00:00,  4.10it/s]\n"
     ]
    },
    {
     "name": "stdout",
     "output_type": "stream",
     "text": [
      "Epoch [11/300], Step [219/219], Loss: 2.1399, Accuracy: 0.1760\n",
      "Accuracy of the network: 0.17366666666666666 Loss: 2.132593421225852\n"
     ]
    },
    {
     "name": "stderr",
     "output_type": "stream",
     "text": [
      "100%|██████████| 219/219 [00:54<00:00,  4.05it/s]\n"
     ]
    },
    {
     "name": "stdout",
     "output_type": "stream",
     "text": [
      "Epoch [12/300], Step [219/219], Loss: 2.1546, Accuracy: 0.1714\n",
      "Accuracy of the network: 0.185 Loss: 2.130096638456304\n"
     ]
    },
    {
     "name": "stderr",
     "output_type": "stream",
     "text": [
      "100%|██████████| 219/219 [00:51<00:00,  4.26it/s]\n"
     ]
    },
    {
     "name": "stdout",
     "output_type": "stream",
     "text": [
      "Epoch [13/300], Step [219/219], Loss: 2.1303, Accuracy: 0.1737\n",
      "Accuracy of the network: 0.19866666666666666 Loss: 2.094496965408325\n"
     ]
    },
    {
     "name": "stderr",
     "output_type": "stream",
     "text": [
      "100%|██████████| 219/219 [00:53<00:00,  4.10it/s]\n"
     ]
    },
    {
     "name": "stdout",
     "output_type": "stream",
     "text": [
      "Epoch [14/300], Step [219/219], Loss: 2.1213, Accuracy: 0.1826\n",
      "Accuracy of the network: 0.19933333333333333 Loss: 2.101958396586966\n"
     ]
    },
    {
     "name": "stderr",
     "output_type": "stream",
     "text": [
      "100%|██████████| 219/219 [00:53<00:00,  4.07it/s]\n"
     ]
    },
    {
     "name": "stdout",
     "output_type": "stream",
     "text": [
      "Epoch [15/300], Step [219/219], Loss: 2.1365, Accuracy: 0.1800\n",
      "Accuracy of the network: 0.152 Loss: 2.1993671199108693\n"
     ]
    },
    {
     "name": "stderr",
     "output_type": "stream",
     "text": [
      "100%|██████████| 219/219 [00:52<00:00,  4.18it/s]\n"
     ]
    },
    {
     "name": "stdout",
     "output_type": "stream",
     "text": [
      "Epoch [16/300], Step [219/219], Loss: 2.1428, Accuracy: 0.1731\n",
      "Accuracy of the network: 0.16033333333333333 Loss: 2.180036118690004\n"
     ]
    },
    {
     "name": "stderr",
     "output_type": "stream",
     "text": [
      "100%|██████████| 219/219 [00:51<00:00,  4.28it/s]\n"
     ]
    },
    {
     "name": "stdout",
     "output_type": "stream",
     "text": [
      "Epoch [17/300], Step [219/219], Loss: 2.1264, Accuracy: 0.1816\n",
      "Accuracy of the network: 0.18666666666666668 Loss: 2.116359940234651\n"
     ]
    },
    {
     "name": "stderr",
     "output_type": "stream",
     "text": [
      "100%|██████████| 219/219 [00:51<00:00,  4.24it/s]\n"
     ]
    },
    {
     "name": "stdout",
     "output_type": "stream",
     "text": [
      "Epoch [18/300], Step [219/219], Loss: 2.1141, Accuracy: 0.1810\n",
      "Accuracy of the network: 0.18466666666666667 Loss: 2.1180584506785616\n"
     ]
    },
    {
     "name": "stderr",
     "output_type": "stream",
     "text": [
      "100%|██████████| 219/219 [00:51<00:00,  4.29it/s]\n"
     ]
    },
    {
     "name": "stdout",
     "output_type": "stream",
     "text": [
      "Epoch [19/300], Step [219/219], Loss: 2.1299, Accuracy: 0.1800\n",
      "Accuracy of the network: 0.17833333333333334 Loss: 2.101440191268921\n"
     ]
    },
    {
     "name": "stderr",
     "output_type": "stream",
     "text": [
      "100%|██████████| 219/219 [00:52<00:00,  4.19it/s]\n"
     ]
    },
    {
     "name": "stdout",
     "output_type": "stream",
     "text": [
      "Epoch [20/300], Step [219/219], Loss: 2.1281, Accuracy: 0.1741\n",
      "Accuracy of the network: 0.18766666666666668 Loss: 2.1272808605052056\n"
     ]
    },
    {
     "name": "stderr",
     "output_type": "stream",
     "text": [
      "100%|██████████| 219/219 [00:51<00:00,  4.26it/s]\n"
     ]
    },
    {
     "name": "stdout",
     "output_type": "stream",
     "text": [
      "Epoch [21/300], Step [219/219], Loss: 2.1097, Accuracy: 0.1889\n",
      "Accuracy of the network: 0.18766666666666668 Loss: 2.1246606593436383\n"
     ]
    },
    {
     "name": "stderr",
     "output_type": "stream",
     "text": [
      "100%|██████████| 219/219 [00:51<00:00,  4.22it/s]\n"
     ]
    },
    {
     "name": "stdout",
     "output_type": "stream",
     "text": [
      "Epoch [22/300], Step [219/219], Loss: 2.1173, Accuracy: 0.1821\n",
      "Accuracy of the network: 0.193 Loss: 2.185664818641987\n"
     ]
    },
    {
     "name": "stderr",
     "output_type": "stream",
     "text": [
      "100%|██████████| 219/219 [00:51<00:00,  4.22it/s]\n"
     ]
    },
    {
     "name": "stdout",
     "output_type": "stream",
     "text": [
      "Epoch [23/300], Step [219/219], Loss: 2.0999, Accuracy: 0.1884\n",
      "Accuracy of the network: 0.21 Loss: 2.1022653668484788\n"
     ]
    },
    {
     "name": "stderr",
     "output_type": "stream",
     "text": [
      "100%|██████████| 219/219 [00:51<00:00,  4.23it/s]\n"
     ]
    },
    {
     "name": "stdout",
     "output_type": "stream",
     "text": [
      "Epoch [24/300], Step [219/219], Loss: 2.1154, Accuracy: 0.1800\n",
      "Accuracy of the network: 0.15833333333333333 Loss: 2.1636693071811757\n"
     ]
    },
    {
     "name": "stderr",
     "output_type": "stream",
     "text": [
      "100%|██████████| 219/219 [00:51<00:00,  4.27it/s]\n"
     ]
    },
    {
     "name": "stdout",
     "output_type": "stream",
     "text": [
      "Epoch [25/300], Step [219/219], Loss: 2.0990, Accuracy: 0.1817\n",
      "Accuracy of the network: 0.19633333333333333 Loss: 2.106415496227589\n"
     ]
    },
    {
     "name": "stderr",
     "output_type": "stream",
     "text": [
      "100%|██████████| 219/219 [00:51<00:00,  4.26it/s]\n"
     ]
    },
    {
     "name": "stdout",
     "output_type": "stream",
     "text": [
      "Epoch [26/300], Step [219/219], Loss: 2.1111, Accuracy: 0.1817\n",
      "Accuracy of the network: 0.14933333333333335 Loss: 2.2561954602282097\n"
     ]
    },
    {
     "name": "stderr",
     "output_type": "stream",
     "text": [
      "100%|██████████| 219/219 [00:50<00:00,  4.30it/s]\n"
     ]
    },
    {
     "name": "stdout",
     "output_type": "stream",
     "text": [
      "Epoch [27/300], Step [219/219], Loss: 2.0960, Accuracy: 0.1874\n",
      "Accuracy of the network: 0.184 Loss: 2.1805200830419014\n"
     ]
    },
    {
     "name": "stderr",
     "output_type": "stream",
     "text": [
      "100%|██████████| 219/219 [00:51<00:00,  4.29it/s]\n"
     ]
    },
    {
     "name": "stdout",
     "output_type": "stream",
     "text": [
      "Epoch [28/300], Step [219/219], Loss: 2.0984, Accuracy: 0.1937\n",
      "Accuracy of the network: 0.21466666666666667 Loss: 2.0671217428877\n"
     ]
    },
    {
     "name": "stderr",
     "output_type": "stream",
     "text": [
      "100%|██████████| 219/219 [00:51<00:00,  4.29it/s]\n"
     ]
    },
    {
     "name": "stdout",
     "output_type": "stream",
     "text": [
      "Epoch [29/300], Step [219/219], Loss: 2.0945, Accuracy: 0.1853\n",
      "Accuracy of the network: 0.18766666666666668 Loss: 2.0748186821633197\n"
     ]
    },
    {
     "name": "stderr",
     "output_type": "stream",
     "text": [
      "100%|██████████| 219/219 [00:51<00:00,  4.28it/s]\n"
     ]
    },
    {
     "name": "stdout",
     "output_type": "stream",
     "text": [
      "Epoch [30/300], Step [219/219], Loss: 2.0783, Accuracy: 0.2059\n",
      "Accuracy of the network: 0.201 Loss: 2.0672911836745893\n"
     ]
    },
    {
     "name": "stderr",
     "output_type": "stream",
     "text": [
      "100%|██████████| 219/219 [00:51<00:00,  4.28it/s]\n"
     ]
    },
    {
     "name": "stdout",
     "output_type": "stream",
     "text": [
      "Epoch [31/300], Step [219/219], Loss: 2.0458, Accuracy: 0.2227\n",
      "Accuracy of the network: 0.22733333333333333 Loss: 2.0300408005714417\n"
     ]
    },
    {
     "name": "stderr",
     "output_type": "stream",
     "text": [
      "100%|██████████| 219/219 [00:51<00:00,  4.29it/s]\n"
     ]
    },
    {
     "name": "stdout",
     "output_type": "stream",
     "text": [
      "Epoch [32/300], Step [219/219], Loss: 2.0327, Accuracy: 0.2306\n",
      "Accuracy of the network: 0.25133333333333335 Loss: 2.0033156339158404\n"
     ]
    },
    {
     "name": "stderr",
     "output_type": "stream",
     "text": [
      "100%|██████████| 219/219 [00:51<00:00,  4.27it/s]\n"
     ]
    },
    {
     "name": "stdout",
     "output_type": "stream",
     "text": [
      "Epoch [33/300], Step [219/219], Loss: 2.0197, Accuracy: 0.2313\n",
      "Accuracy of the network: 0.209 Loss: 2.0457593291363816\n"
     ]
    },
    {
     "name": "stderr",
     "output_type": "stream",
     "text": [
      "100%|██████████| 219/219 [00:51<00:00,  4.28it/s]\n"
     ]
    },
    {
     "name": "stdout",
     "output_type": "stream",
     "text": [
      "Epoch [34/300], Step [219/219], Loss: 1.9999, Accuracy: 0.2337\n",
      "Accuracy of the network: 0.2693333333333333 Loss: 1.9553873272652322\n"
     ]
    },
    {
     "name": "stderr",
     "output_type": "stream",
     "text": [
      "100%|██████████| 219/219 [00:51<00:00,  4.27it/s]\n"
     ]
    },
    {
     "name": "stdout",
     "output_type": "stream",
     "text": [
      "Epoch [35/300], Step [219/219], Loss: 1.9773, Accuracy: 0.2519\n",
      "Accuracy of the network: 0.25833333333333336 Loss: 1.9471085134972916\n"
     ]
    },
    {
     "name": "stderr",
     "output_type": "stream",
     "text": [
      "100%|██████████| 219/219 [00:51<00:00,  4.24it/s]\n"
     ]
    },
    {
     "name": "stdout",
     "output_type": "stream",
     "text": [
      "Epoch [36/300], Step [219/219], Loss: 1.9492, Accuracy: 0.2594\n",
      "Accuracy of the network: 0.21766666666666667 Loss: 1.986285555869975\n"
     ]
    },
    {
     "name": "stderr",
     "output_type": "stream",
     "text": [
      "100%|██████████| 219/219 [00:51<00:00,  4.27it/s]\n"
     ]
    },
    {
     "name": "stdout",
     "output_type": "stream",
     "text": [
      "Epoch [37/300], Step [219/219], Loss: 1.9276, Accuracy: 0.2670\n",
      "Accuracy of the network: 0.2976666666666667 Loss: 1.8985839638304203\n"
     ]
    },
    {
     "name": "stderr",
     "output_type": "stream",
     "text": [
      "100%|██████████| 219/219 [00:51<00:00,  4.28it/s]\n"
     ]
    },
    {
     "name": "stdout",
     "output_type": "stream",
     "text": [
      "Epoch [38/300], Step [219/219], Loss: 1.9167, Accuracy: 0.2693\n",
      "Accuracy of the network: 0.273 Loss: 1.906057153610473\n"
     ]
    },
    {
     "name": "stderr",
     "output_type": "stream",
     "text": [
      "100%|██████████| 219/219 [00:51<00:00,  4.27it/s]\n"
     ]
    },
    {
     "name": "stdout",
     "output_type": "stream",
     "text": [
      "Epoch [39/300], Step [219/219], Loss: 1.9056, Accuracy: 0.2826\n",
      "Accuracy of the network: 0.2803333333333333 Loss: 1.9054955003109384\n"
     ]
    },
    {
     "name": "stderr",
     "output_type": "stream",
     "text": [
      "100%|██████████| 219/219 [00:51<00:00,  4.26it/s]\n"
     ]
    },
    {
     "name": "stdout",
     "output_type": "stream",
     "text": [
      "Epoch [40/300], Step [219/219], Loss: 1.8852, Accuracy: 0.2877\n",
      "Accuracy of the network: 0.27066666666666667 Loss: 1.9220070927701098\n"
     ]
    },
    {
     "name": "stderr",
     "output_type": "stream",
     "text": [
      "100%|██████████| 219/219 [00:51<00:00,  4.29it/s]\n"
     ]
    },
    {
     "name": "stdout",
     "output_type": "stream",
     "text": [
      "Epoch [41/300], Step [219/219], Loss: 1.8889, Accuracy: 0.2891\n",
      "Accuracy of the network: 0.284 Loss: 1.9306778007365288\n"
     ]
    },
    {
     "name": "stderr",
     "output_type": "stream",
     "text": [
      "100%|██████████| 219/219 [00:51<00:00,  4.27it/s]\n"
     ]
    },
    {
     "name": "stdout",
     "output_type": "stream",
     "text": [
      "Epoch [42/300], Step [219/219], Loss: 1.8669, Accuracy: 0.2979\n",
      "Accuracy of the network: 0.3016666666666667 Loss: 1.9052787245588099\n"
     ]
    },
    {
     "name": "stderr",
     "output_type": "stream",
     "text": [
      "100%|██████████| 219/219 [00:51<00:00,  4.28it/s]\n"
     ]
    },
    {
     "name": "stdout",
     "output_type": "stream",
     "text": [
      "Epoch [43/300], Step [219/219], Loss: 1.8718, Accuracy: 0.2973\n",
      "Accuracy of the network: 0.322 Loss: 1.8658476230945993\n"
     ]
    },
    {
     "name": "stderr",
     "output_type": "stream",
     "text": [
      "100%|██████████| 219/219 [00:51<00:00,  4.28it/s]\n"
     ]
    },
    {
     "name": "stdout",
     "output_type": "stream",
     "text": [
      "Epoch [44/300], Step [219/219], Loss: 1.8448, Accuracy: 0.3113\n",
      "Accuracy of the network: 0.31833333333333336 Loss: 1.8325454148840397\n"
     ]
    },
    {
     "name": "stderr",
     "output_type": "stream",
     "text": [
      "100%|██████████| 219/219 [00:51<00:00,  4.29it/s]\n"
     ]
    },
    {
     "name": "stdout",
     "output_type": "stream",
     "text": [
      "Epoch [45/300], Step [219/219], Loss: 1.8339, Accuracy: 0.3207\n",
      "Accuracy of the network: 0.311 Loss: 1.8586077005305188\n"
     ]
    },
    {
     "name": "stderr",
     "output_type": "stream",
     "text": [
      "100%|██████████| 219/219 [00:51<00:00,  4.27it/s]\n"
     ]
    },
    {
     "name": "stdout",
     "output_type": "stream",
     "text": [
      "Epoch [46/300], Step [219/219], Loss: 1.8357, Accuracy: 0.3190\n",
      "Accuracy of the network: 0.3303333333333333 Loss: 1.8281957367633253\n"
     ]
    },
    {
     "name": "stderr",
     "output_type": "stream",
     "text": [
      "100%|██████████| 219/219 [00:51<00:00,  4.28it/s]\n"
     ]
    },
    {
     "name": "stdout",
     "output_type": "stream",
     "text": [
      "Epoch [47/300], Step [219/219], Loss: 1.8180, Accuracy: 0.3260\n",
      "Accuracy of the network: 0.308 Loss: 1.9033617110962564\n"
     ]
    },
    {
     "name": "stderr",
     "output_type": "stream",
     "text": [
      "100%|██████████| 219/219 [00:51<00:00,  4.29it/s]\n"
     ]
    },
    {
     "name": "stdout",
     "output_type": "stream",
     "text": [
      "Epoch [48/300], Step [219/219], Loss: 1.8046, Accuracy: 0.3319\n",
      "Accuracy of the network: 0.31166666666666665 Loss: 1.837162582164115\n"
     ]
    },
    {
     "name": "stderr",
     "output_type": "stream",
     "text": [
      "100%|██████████| 219/219 [00:50<00:00,  4.30it/s]\n"
     ]
    },
    {
     "name": "stdout",
     "output_type": "stream",
     "text": [
      "Epoch [49/300], Step [219/219], Loss: 1.7941, Accuracy: 0.3329\n",
      "Accuracy of the network: 0.3526666666666667 Loss: 1.792513943733053\n"
     ]
    },
    {
     "name": "stderr",
     "output_type": "stream",
     "text": [
      "100%|██████████| 219/219 [00:50<00:00,  4.32it/s]\n"
     ]
    },
    {
     "name": "stdout",
     "output_type": "stream",
     "text": [
      "Epoch [50/300], Step [219/219], Loss: 1.7775, Accuracy: 0.3443\n",
      "Accuracy of the network: 0.341 Loss: 1.7751483080234933\n"
     ]
    },
    {
     "name": "stderr",
     "output_type": "stream",
     "text": [
      "100%|██████████| 219/219 [00:50<00:00,  4.30it/s]\n"
     ]
    },
    {
     "name": "stdout",
     "output_type": "stream",
     "text": [
      "Epoch [51/300], Step [219/219], Loss: 1.7739, Accuracy: 0.3377\n",
      "Accuracy of the network: 0.344 Loss: 1.7906876104943297\n"
     ]
    },
    {
     "name": "stderr",
     "output_type": "stream",
     "text": [
      "100%|██████████| 219/219 [00:50<00:00,  4.32it/s]\n"
     ]
    },
    {
     "name": "stdout",
     "output_type": "stream",
     "text": [
      "Epoch [52/300], Step [219/219], Loss: 1.7616, Accuracy: 0.3481\n",
      "Accuracy of the network: 0.325 Loss: 1.8214341503508547\n"
     ]
    },
    {
     "name": "stderr",
     "output_type": "stream",
     "text": [
      "100%|██████████| 219/219 [00:50<00:00,  4.29it/s]\n"
     ]
    },
    {
     "name": "stdout",
     "output_type": "stream",
     "text": [
      "Epoch [53/300], Step [219/219], Loss: 1.7454, Accuracy: 0.3554\n",
      "Accuracy of the network: 0.344 Loss: 1.7570497317517058\n"
     ]
    },
    {
     "name": "stderr",
     "output_type": "stream",
     "text": [
      "100%|██████████| 219/219 [00:51<00:00,  4.28it/s]\n"
     ]
    },
    {
     "name": "stdout",
     "output_type": "stream",
     "text": [
      "Epoch [54/300], Step [219/219], Loss: 1.7303, Accuracy: 0.3637\n",
      "Accuracy of the network: 0.36333333333333334 Loss: 1.7515832490109382\n"
     ]
    },
    {
     "name": "stderr",
     "output_type": "stream",
     "text": [
      "100%|██████████| 219/219 [00:51<00:00,  4.28it/s]\n"
     ]
    },
    {
     "name": "stdout",
     "output_type": "stream",
     "text": [
      "Epoch [55/300], Step [219/219], Loss: 1.7177, Accuracy: 0.3699\n",
      "Accuracy of the network: 0.367 Loss: 1.7349565992964076\n"
     ]
    },
    {
     "name": "stderr",
     "output_type": "stream",
     "text": [
      "100%|██████████| 219/219 [00:51<00:00,  4.26it/s]\n"
     ]
    },
    {
     "name": "stdout",
     "output_type": "stream",
     "text": [
      "Epoch [56/300], Step [219/219], Loss: 1.7179, Accuracy: 0.3663\n",
      "Accuracy of the network: 0.36133333333333334 Loss: 1.736960567058401\n"
     ]
    },
    {
     "name": "stderr",
     "output_type": "stream",
     "text": [
      "100%|██████████| 219/219 [00:50<00:00,  4.29it/s]\n"
     ]
    },
    {
     "name": "stdout",
     "output_type": "stream",
     "text": [
      "Epoch [57/300], Step [219/219], Loss: 1.6966, Accuracy: 0.3779\n",
      "Accuracy of the network: 0.374 Loss: 1.7022554329101076\n"
     ]
    },
    {
     "name": "stderr",
     "output_type": "stream",
     "text": [
      "100%|██████████| 219/219 [00:50<00:00,  4.29it/s]\n"
     ]
    },
    {
     "name": "stdout",
     "output_type": "stream",
     "text": [
      "Epoch [58/300], Step [219/219], Loss: 1.6897, Accuracy: 0.3834\n",
      "Accuracy of the network: 0.39566666666666667 Loss: 1.6868013904449788\n"
     ]
    },
    {
     "name": "stderr",
     "output_type": "stream",
     "text": [
      "100%|██████████| 219/219 [00:51<00:00,  4.28it/s]\n"
     ]
    },
    {
     "name": "stdout",
     "output_type": "stream",
     "text": [
      "Epoch [59/300], Step [219/219], Loss: 1.6912, Accuracy: 0.3807\n",
      "Accuracy of the network: 0.38166666666666665 Loss: 1.6992289449306244\n"
     ]
    },
    {
     "name": "stderr",
     "output_type": "stream",
     "text": [
      "100%|██████████| 219/219 [00:50<00:00,  4.31it/s]\n"
     ]
    },
    {
     "name": "stdout",
     "output_type": "stream",
     "text": [
      "Epoch [60/300], Step [219/219], Loss: 1.6762, Accuracy: 0.3836\n",
      "Accuracy of the network: 0.36966666666666664 Loss: 1.715321936505906\n"
     ]
    },
    {
     "name": "stderr",
     "output_type": "stream",
     "text": [
      "100%|██████████| 219/219 [00:51<00:00,  4.28it/s]\n"
     ]
    },
    {
     "name": "stdout",
     "output_type": "stream",
     "text": [
      "Epoch [61/300], Step [219/219], Loss: 1.6693, Accuracy: 0.3893\n",
      "Accuracy of the network: 0.39566666666666667 Loss: 1.674399623211394\n"
     ]
    },
    {
     "name": "stderr",
     "output_type": "stream",
     "text": [
      "100%|██████████| 219/219 [00:50<00:00,  4.30it/s]\n"
     ]
    },
    {
     "name": "stdout",
     "output_type": "stream",
     "text": [
      "Epoch [62/300], Step [219/219], Loss: 1.6662, Accuracy: 0.3896\n",
      "Accuracy of the network: 0.36633333333333334 Loss: 1.6967918581150947\n"
     ]
    },
    {
     "name": "stderr",
     "output_type": "stream",
     "text": [
      "100%|██████████| 219/219 [00:50<00:00,  4.31it/s]\n"
     ]
    },
    {
     "name": "stdout",
     "output_type": "stream",
     "text": [
      "Epoch [63/300], Step [219/219], Loss: 1.6677, Accuracy: 0.3874\n",
      "Accuracy of the network: 0.38266666666666665 Loss: 1.6777641227904787\n"
     ]
    },
    {
     "name": "stderr",
     "output_type": "stream",
     "text": [
      "100%|██████████| 219/219 [00:50<00:00,  4.30it/s]\n"
     ]
    },
    {
     "name": "stdout",
     "output_type": "stream",
     "text": [
      "Epoch [64/300], Step [219/219], Loss: 1.6580, Accuracy: 0.3900\n",
      "Accuracy of the network: 0.384 Loss: 1.6679207035835752\n"
     ]
    },
    {
     "name": "stderr",
     "output_type": "stream",
     "text": [
      "100%|██████████| 219/219 [00:50<00:00,  4.30it/s]\n"
     ]
    },
    {
     "name": "stdout",
     "output_type": "stream",
     "text": [
      "Epoch [65/300], Step [219/219], Loss: 1.6513, Accuracy: 0.3864\n",
      "Accuracy of the network: 0.388 Loss: 1.6559714205721592\n"
     ]
    },
    {
     "name": "stderr",
     "output_type": "stream",
     "text": [
      "100%|██████████| 219/219 [00:51<00:00,  4.24it/s]\n"
     ]
    },
    {
     "name": "stdout",
     "output_type": "stream",
     "text": [
      "Epoch [66/300], Step [219/219], Loss: 1.6377, Accuracy: 0.3989\n",
      "Accuracy of the network: 0.37966666666666665 Loss: 1.677418904101595\n"
     ]
    },
    {
     "name": "stderr",
     "output_type": "stream",
     "text": [
      "100%|██████████| 219/219 [00:50<00:00,  4.31it/s]\n"
     ]
    },
    {
     "name": "stdout",
     "output_type": "stream",
     "text": [
      "Epoch [67/300], Step [219/219], Loss: 1.6500, Accuracy: 0.3970\n",
      "Accuracy of the network: 0.3963333333333333 Loss: 1.6451989120625434\n"
     ]
    },
    {
     "name": "stderr",
     "output_type": "stream",
     "text": [
      "100%|██████████| 219/219 [00:50<00:00,  4.30it/s]\n"
     ]
    },
    {
     "name": "stdout",
     "output_type": "stream",
     "text": [
      "Epoch [68/300], Step [219/219], Loss: 1.6408, Accuracy: 0.4014\n",
      "Accuracy of the network: 0.3923333333333333 Loss: 1.660262587222647\n"
     ]
    },
    {
     "name": "stderr",
     "output_type": "stream",
     "text": [
      "100%|██████████| 219/219 [00:50<00:00,  4.31it/s]\n"
     ]
    },
    {
     "name": "stdout",
     "output_type": "stream",
     "text": [
      "Epoch [69/300], Step [219/219], Loss: 1.6234, Accuracy: 0.4044\n",
      "Accuracy of the network: 0.398 Loss: 1.6242493289582274\n"
     ]
    },
    {
     "name": "stderr",
     "output_type": "stream",
     "text": [
      "100%|██████████| 219/219 [00:50<00:00,  4.31it/s]\n"
     ]
    },
    {
     "name": "stdout",
     "output_type": "stream",
     "text": [
      "Epoch [70/300], Step [219/219], Loss: 1.6220, Accuracy: 0.4089\n",
      "Accuracy of the network: 0.4043333333333333 Loss: 1.617755375009902\n"
     ]
    },
    {
     "name": "stderr",
     "output_type": "stream",
     "text": [
      "100%|██████████| 219/219 [00:50<00:00,  4.32it/s]\n"
     ]
    },
    {
     "name": "stdout",
     "output_type": "stream",
     "text": [
      "Epoch [71/300], Step [219/219], Loss: 1.6099, Accuracy: 0.4129\n",
      "Accuracy of the network: 0.39166666666666666 Loss: 1.6673876490998776\n"
     ]
    },
    {
     "name": "stderr",
     "output_type": "stream",
     "text": [
      "100%|██████████| 219/219 [00:50<00:00,  4.30it/s]\n"
     ]
    },
    {
     "name": "stdout",
     "output_type": "stream",
     "text": [
      "Epoch [72/300], Step [219/219], Loss: 1.6036, Accuracy: 0.4133\n",
      "Accuracy of the network: 0.4033333333333333 Loss: 1.6373962316107242\n"
     ]
    },
    {
     "name": "stderr",
     "output_type": "stream",
     "text": [
      "100%|██████████| 219/219 [00:50<00:00,  4.30it/s]\n"
     ]
    },
    {
     "name": "stdout",
     "output_type": "stream",
     "text": [
      "Epoch [73/300], Step [219/219], Loss: 1.5820, Accuracy: 0.4170\n",
      "Accuracy of the network: 0.4013333333333333 Loss: 1.627193696955417\n"
     ]
    },
    {
     "name": "stderr",
     "output_type": "stream",
     "text": [
      "100%|██████████| 219/219 [00:51<00:00,  4.29it/s]\n"
     ]
    },
    {
     "name": "stdout",
     "output_type": "stream",
     "text": [
      "Epoch [74/300], Step [219/219], Loss: 1.5994, Accuracy: 0.4131\n",
      "Accuracy of the network: 0.404 Loss: 1.5983231131066666\n"
     ]
    },
    {
     "name": "stderr",
     "output_type": "stream",
     "text": [
      "100%|██████████| 219/219 [00:51<00:00,  4.29it/s]\n"
     ]
    },
    {
     "name": "stdout",
     "output_type": "stream",
     "text": [
      "Epoch [75/300], Step [219/219], Loss: 1.5897, Accuracy: 0.4216\n",
      "Accuracy of the network: 0.4103333333333333 Loss: 1.6172131249245176\n"
     ]
    },
    {
     "name": "stderr",
     "output_type": "stream",
     "text": [
      "100%|██████████| 219/219 [00:51<00:00,  4.28it/s]\n"
     ]
    },
    {
     "name": "stdout",
     "output_type": "stream",
     "text": [
      "Epoch [76/300], Step [219/219], Loss: 1.5823, Accuracy: 0.4240\n",
      "Accuracy of the network: 0.408 Loss: 1.5988551454341158\n"
     ]
    },
    {
     "name": "stderr",
     "output_type": "stream",
     "text": [
      "100%|██████████| 219/219 [00:51<00:00,  4.29it/s]\n"
     ]
    },
    {
     "name": "stdout",
     "output_type": "stream",
     "text": [
      "Epoch [77/300], Step [219/219], Loss: 1.5748, Accuracy: 0.4241\n",
      "Accuracy of the network: 0.4026666666666667 Loss: 1.6236339148054733\n"
     ]
    },
    {
     "name": "stderr",
     "output_type": "stream",
     "text": [
      "100%|██████████| 219/219 [00:50<00:00,  4.31it/s]\n"
     ]
    },
    {
     "name": "stdout",
     "output_type": "stream",
     "text": [
      "Epoch [78/300], Step [219/219], Loss: 1.5765, Accuracy: 0.4303\n",
      "Accuracy of the network: 0.39766666666666667 Loss: 1.619517670032826\n"
     ]
    },
    {
     "name": "stderr",
     "output_type": "stream",
     "text": [
      "100%|██████████| 219/219 [00:51<00:00,  4.29it/s]\n"
     ]
    },
    {
     "name": "stdout",
     "output_type": "stream",
     "text": [
      "Epoch [79/300], Step [219/219], Loss: 1.5440, Accuracy: 0.4349\n",
      "Accuracy of the network: 0.411 Loss: 1.6189667481057188\n"
     ]
    },
    {
     "name": "stderr",
     "output_type": "stream",
     "text": [
      "100%|██████████| 219/219 [00:51<00:00,  4.29it/s]\n"
     ]
    },
    {
     "name": "stdout",
     "output_type": "stream",
     "text": [
      "Epoch [80/300], Step [219/219], Loss: 1.5545, Accuracy: 0.4313\n",
      "Accuracy of the network: 0.4206666666666667 Loss: 1.590367632977506\n"
     ]
    },
    {
     "name": "stderr",
     "output_type": "stream",
     "text": [
      "100%|██████████| 219/219 [00:50<00:00,  4.30it/s]\n"
     ]
    },
    {
     "name": "stdout",
     "output_type": "stream",
     "text": [
      "Epoch [81/300], Step [219/219], Loss: 1.5521, Accuracy: 0.4349\n",
      "Accuracy of the network: 0.4176666666666667 Loss: 1.5924547048325235\n"
     ]
    },
    {
     "name": "stderr",
     "output_type": "stream",
     "text": [
      "100%|██████████| 219/219 [00:50<00:00,  4.33it/s]\n"
     ]
    },
    {
     "name": "stdout",
     "output_type": "stream",
     "text": [
      "Epoch [82/300], Step [219/219], Loss: 1.5416, Accuracy: 0.4429\n",
      "Accuracy of the network: 0.4156666666666667 Loss: 1.5951535587615155\n"
     ]
    },
    {
     "name": "stderr",
     "output_type": "stream",
     "text": [
      "100%|██████████| 219/219 [00:50<00:00,  4.37it/s]\n"
     ]
    },
    {
     "name": "stdout",
     "output_type": "stream",
     "text": [
      "Epoch [83/300], Step [219/219], Loss: 1.5348, Accuracy: 0.4437\n",
      "Accuracy of the network: 0.4036666666666667 Loss: 1.6083695698291698\n"
     ]
    },
    {
     "name": "stderr",
     "output_type": "stream",
     "text": [
      "100%|██████████| 219/219 [00:52<00:00,  4.19it/s]\n"
     ]
    },
    {
     "name": "stdout",
     "output_type": "stream",
     "text": [
      "Epoch [84/300], Step [219/219], Loss: 1.5291, Accuracy: 0.4424\n",
      "Accuracy of the network: 0.41433333333333333 Loss: 1.587874285718228\n"
     ]
    },
    {
     "name": "stderr",
     "output_type": "stream",
     "text": [
      "100%|██████████| 219/219 [00:52<00:00,  4.20it/s]\n"
     ]
    },
    {
     "name": "stdout",
     "output_type": "stream",
     "text": [
      "Epoch [85/300], Step [219/219], Loss: 1.5192, Accuracy: 0.4434\n",
      "Accuracy of the network: 0.422 Loss: 1.5821905897018758\n"
     ]
    },
    {
     "name": "stderr",
     "output_type": "stream",
     "text": [
      "100%|██████████| 219/219 [00:52<00:00,  4.17it/s]\n"
     ]
    },
    {
     "name": "stdout",
     "output_type": "stream",
     "text": [
      "Epoch [86/300], Step [219/219], Loss: 1.5216, Accuracy: 0.4436\n",
      "Accuracy of the network: 0.42133333333333334 Loss: 1.5884443914636652\n"
     ]
    },
    {
     "name": "stderr",
     "output_type": "stream",
     "text": [
      "100%|██████████| 219/219 [00:53<00:00,  4.13it/s]\n"
     ]
    },
    {
     "name": "stdout",
     "output_type": "stream",
     "text": [
      "Epoch [87/300], Step [219/219], Loss: 1.5177, Accuracy: 0.4489\n",
      "Accuracy of the network: 0.416 Loss: 1.5926462957199583\n"
     ]
    },
    {
     "name": "stderr",
     "output_type": "stream",
     "text": [
      "100%|██████████| 219/219 [00:53<00:00,  4.07it/s]\n"
     ]
    },
    {
     "name": "stdout",
     "output_type": "stream",
     "text": [
      "Epoch [88/300], Step [219/219], Loss: 1.5053, Accuracy: 0.4489\n",
      "Accuracy of the network: 0.42933333333333334 Loss: 1.5845496692556016\n"
     ]
    },
    {
     "name": "stderr",
     "output_type": "stream",
     "text": [
      "100%|██████████| 219/219 [00:52<00:00,  4.16it/s]\n"
     ]
    },
    {
     "name": "stdout",
     "output_type": "stream",
     "text": [
      "Epoch [89/300], Step [219/219], Loss: 1.4929, Accuracy: 0.4604\n",
      "Accuracy of the network: 0.423 Loss: 1.5734306383640209\n"
     ]
    },
    {
     "name": "stderr",
     "output_type": "stream",
     "text": [
      "100%|██████████| 219/219 [00:53<00:00,  4.12it/s]\n"
     ]
    },
    {
     "name": "stdout",
     "output_type": "stream",
     "text": [
      "Epoch [90/300], Step [219/219], Loss: 1.4765, Accuracy: 0.4589\n",
      "Accuracy of the network: 0.43433333333333335 Loss: 1.5520918432702409\n"
     ]
    },
    {
     "name": "stderr",
     "output_type": "stream",
     "text": [
      "100%|██████████| 219/219 [00:52<00:00,  4.21it/s]\n"
     ]
    },
    {
     "name": "stdout",
     "output_type": "stream",
     "text": [
      "Epoch [91/300], Step [219/219], Loss: 1.4901, Accuracy: 0.4643\n",
      "Accuracy of the network: 0.42966666666666664 Loss: 1.5691663039491532\n"
     ]
    },
    {
     "name": "stderr",
     "output_type": "stream",
     "text": [
      "100%|██████████| 219/219 [00:51<00:00,  4.23it/s]\n"
     ]
    },
    {
     "name": "stdout",
     "output_type": "stream",
     "text": [
      "Epoch [92/300], Step [219/219], Loss: 1.4849, Accuracy: 0.4591\n",
      "Accuracy of the network: 0.447 Loss: 1.5647595296514796\n"
     ]
    },
    {
     "name": "stderr",
     "output_type": "stream",
     "text": [
      "100%|██████████| 219/219 [00:52<00:00,  4.17it/s]\n"
     ]
    },
    {
     "name": "stdout",
     "output_type": "stream",
     "text": [
      "Epoch [93/300], Step [219/219], Loss: 1.4638, Accuracy: 0.4626\n",
      "Accuracy of the network: 0.43533333333333335 Loss: 1.5570621515842193\n"
     ]
    },
    {
     "name": "stderr",
     "output_type": "stream",
     "text": [
      "100%|██████████| 219/219 [00:52<00:00,  4.18it/s]\n"
     ]
    },
    {
     "name": "stdout",
     "output_type": "stream",
     "text": [
      "Epoch [94/300], Step [219/219], Loss: 1.4520, Accuracy: 0.4751\n",
      "Accuracy of the network: 0.4493333333333333 Loss: 1.5148546036253585\n"
     ]
    },
    {
     "name": "stderr",
     "output_type": "stream",
     "text": [
      "100%|██████████| 219/219 [00:52<00:00,  4.18it/s]\n"
     ]
    },
    {
     "name": "stdout",
     "output_type": "stream",
     "text": [
      "Epoch [95/300], Step [219/219], Loss: 1.4602, Accuracy: 0.4734\n",
      "Accuracy of the network: 0.438 Loss: 1.54537085649815\n"
     ]
    },
    {
     "name": "stderr",
     "output_type": "stream",
     "text": [
      "100%|██████████| 219/219 [00:52<00:00,  4.19it/s]\n"
     ]
    },
    {
     "name": "stdout",
     "output_type": "stream",
     "text": [
      "Epoch [96/300], Step [219/219], Loss: 1.4460, Accuracy: 0.4800\n",
      "Accuracy of the network: 0.44433333333333336 Loss: 1.5239325723749526\n"
     ]
    },
    {
     "name": "stderr",
     "output_type": "stream",
     "text": [
      "100%|██████████| 219/219 [00:51<00:00,  4.22it/s]\n"
     ]
    },
    {
     "name": "stdout",
     "output_type": "stream",
     "text": [
      "Epoch [97/300], Step [219/219], Loss: 1.4328, Accuracy: 0.4780\n",
      "Accuracy of the network: 0.44366666666666665 Loss: 1.5336720043040337\n"
     ]
    },
    {
     "name": "stderr",
     "output_type": "stream",
     "text": [
      "100%|██████████| 219/219 [00:51<00:00,  4.27it/s]\n"
     ]
    },
    {
     "name": "stdout",
     "output_type": "stream",
     "text": [
      "Epoch [98/300], Step [219/219], Loss: 1.4385, Accuracy: 0.4741\n",
      "Accuracy of the network: 0.46266666666666667 Loss: 1.5010220700121941\n"
     ]
    },
    {
     "name": "stderr",
     "output_type": "stream",
     "text": [
      "100%|██████████| 219/219 [00:51<00:00,  4.25it/s]\n"
     ]
    },
    {
     "name": "stdout",
     "output_type": "stream",
     "text": [
      "Epoch [99/300], Step [219/219], Loss: 1.4270, Accuracy: 0.4866\n",
      "Accuracy of the network: 0.46366666666666667 Loss: 1.4954625241299893\n"
     ]
    },
    {
     "name": "stderr",
     "output_type": "stream",
     "text": [
      "100%|██████████| 219/219 [00:52<00:00,  4.15it/s]\n"
     ]
    },
    {
     "name": "stdout",
     "output_type": "stream",
     "text": [
      "Epoch [100/300], Step [219/219], Loss: 1.4206, Accuracy: 0.4893\n",
      "Accuracy of the network: 0.45 Loss: 1.5167937925521364\n"
     ]
    },
    {
     "name": "stderr",
     "output_type": "stream",
     "text": [
      "100%|██████████| 219/219 [00:52<00:00,  4.19it/s]\n"
     ]
    },
    {
     "name": "stdout",
     "output_type": "stream",
     "text": [
      "Epoch [101/300], Step [219/219], Loss: 1.4195, Accuracy: 0.4850\n",
      "Accuracy of the network: 0.4613333333333333 Loss: 1.4864200949668884\n"
     ]
    },
    {
     "name": "stderr",
     "output_type": "stream",
     "text": [
      "100%|██████████| 219/219 [00:52<00:00,  4.13it/s]\n"
     ]
    },
    {
     "name": "stdout",
     "output_type": "stream",
     "text": [
      "Epoch [102/300], Step [219/219], Loss: 1.4081, Accuracy: 0.4961\n",
      "Accuracy of the network: 0.46066666666666667 Loss: 1.4965940802655322\n"
     ]
    },
    {
     "name": "stderr",
     "output_type": "stream",
     "text": [
      "100%|██████████| 219/219 [00:51<00:00,  4.26it/s]\n"
     ]
    },
    {
     "name": "stdout",
     "output_type": "stream",
     "text": [
      "Epoch [103/300], Step [219/219], Loss: 1.4194, Accuracy: 0.4883\n",
      "Accuracy of the network: 0.469 Loss: 1.464521678204232\n"
     ]
    },
    {
     "name": "stderr",
     "output_type": "stream",
     "text": [
      "100%|██████████| 219/219 [00:51<00:00,  4.26it/s]\n"
     ]
    },
    {
     "name": "stdout",
     "output_type": "stream",
     "text": [
      "Epoch [104/300], Step [219/219], Loss: 1.4014, Accuracy: 0.4989\n",
      "Accuracy of the network: 0.456 Loss: 1.5013758121652807\n"
     ]
    },
    {
     "name": "stderr",
     "output_type": "stream",
     "text": [
      "100%|██████████| 219/219 [00:51<00:00,  4.25it/s]\n"
     ]
    },
    {
     "name": "stdout",
     "output_type": "stream",
     "text": [
      "Epoch [105/300], Step [219/219], Loss: 1.3915, Accuracy: 0.5023\n",
      "Accuracy of the network: 0.4676666666666667 Loss: 1.4806200227838882\n"
     ]
    },
    {
     "name": "stderr",
     "output_type": "stream",
     "text": [
      "100%|██████████| 219/219 [00:52<00:00,  4.18it/s]\n"
     ]
    },
    {
     "name": "stdout",
     "output_type": "stream",
     "text": [
      "Epoch [106/300], Step [219/219], Loss: 1.3942, Accuracy: 0.5000\n",
      "Accuracy of the network: 0.4623333333333333 Loss: 1.4753519968783602\n"
     ]
    },
    {
     "name": "stderr",
     "output_type": "stream",
     "text": [
      "100%|██████████| 219/219 [00:51<00:00,  4.29it/s]\n"
     ]
    },
    {
     "name": "stdout",
     "output_type": "stream",
     "text": [
      "Epoch [107/300], Step [219/219], Loss: 1.3946, Accuracy: 0.4944\n",
      "Accuracy of the network: 0.4713333333333333 Loss: 1.4669819271310847\n"
     ]
    },
    {
     "name": "stderr",
     "output_type": "stream",
     "text": [
      "100%|██████████| 219/219 [00:51<00:00,  4.25it/s]\n"
     ]
    },
    {
     "name": "stdout",
     "output_type": "stream",
     "text": [
      "Epoch [108/300], Step [219/219], Loss: 1.3848, Accuracy: 0.4999\n",
      "Accuracy of the network: 0.467 Loss: 1.4691467310519928\n"
     ]
    },
    {
     "name": "stderr",
     "output_type": "stream",
     "text": [
      "100%|██████████| 219/219 [00:51<00:00,  4.23it/s]\n"
     ]
    },
    {
     "name": "stdout",
     "output_type": "stream",
     "text": [
      "Epoch [109/300], Step [219/219], Loss: 1.3784, Accuracy: 0.5040\n",
      "Accuracy of the network: 0.462 Loss: 1.474740408836527\n"
     ]
    },
    {
     "name": "stderr",
     "output_type": "stream",
     "text": [
      "100%|██████████| 219/219 [00:51<00:00,  4.25it/s]\n"
     ]
    },
    {
     "name": "stdout",
     "output_type": "stream",
     "text": [
      "Epoch [110/300], Step [219/219], Loss: 1.3717, Accuracy: 0.5130\n",
      "Accuracy of the network: 0.4706666666666667 Loss: 1.4647985715815361\n"
     ]
    },
    {
     "name": "stderr",
     "output_type": "stream",
     "text": [
      "100%|██████████| 219/219 [00:51<00:00,  4.25it/s]\n"
     ]
    },
    {
     "name": "stdout",
     "output_type": "stream",
     "text": [
      "Epoch [111/300], Step [219/219], Loss: 1.3710, Accuracy: 0.5099\n",
      "Accuracy of the network: 0.4703333333333333 Loss: 1.4676138822068558\n"
     ]
    },
    {
     "name": "stderr",
     "output_type": "stream",
     "text": [
      "100%|██████████| 219/219 [00:51<00:00,  4.28it/s]\n"
     ]
    },
    {
     "name": "stdout",
     "output_type": "stream",
     "text": [
      "Epoch [112/300], Step [219/219], Loss: 1.3585, Accuracy: 0.5114\n",
      "Accuracy of the network: 0.4756666666666667 Loss: 1.4759029023190762\n"
     ]
    },
    {
     "name": "stderr",
     "output_type": "stream",
     "text": [
      "100%|██████████| 219/219 [00:52<00:00,  4.18it/s]\n"
     ]
    },
    {
     "name": "stdout",
     "output_type": "stream",
     "text": [
      "Epoch [113/300], Step [219/219], Loss: 1.3509, Accuracy: 0.5139\n",
      "Accuracy of the network: 0.4643333333333333 Loss: 1.4595034807286364\n"
     ]
    },
    {
     "name": "stderr",
     "output_type": "stream",
     "text": [
      "100%|██████████| 219/219 [00:51<00:00,  4.28it/s]\n"
     ]
    },
    {
     "name": "stdout",
     "output_type": "stream",
     "text": [
      "Epoch [114/300], Step [219/219], Loss: 1.3478, Accuracy: 0.5139\n",
      "Accuracy of the network: 0.473 Loss: 1.452043500352413\n"
     ]
    },
    {
     "name": "stderr",
     "output_type": "stream",
     "text": [
      "100%|██████████| 219/219 [00:51<00:00,  4.27it/s]\n"
     ]
    },
    {
     "name": "stdout",
     "output_type": "stream",
     "text": [
      "Epoch [115/300], Step [219/219], Loss: 1.3488, Accuracy: 0.5209\n",
      "Accuracy of the network: 0.48 Loss: 1.451934299570449\n"
     ]
    },
    {
     "name": "stderr",
     "output_type": "stream",
     "text": [
      "100%|██████████| 219/219 [00:51<00:00,  4.26it/s]\n"
     ]
    },
    {
     "name": "stdout",
     "output_type": "stream",
     "text": [
      "Epoch [116/300], Step [219/219], Loss: 1.3452, Accuracy: 0.5186\n",
      "Accuracy of the network: 0.47433333333333333 Loss: 1.445486716133483\n"
     ]
    },
    {
     "name": "stderr",
     "output_type": "stream",
     "text": [
      "100%|██████████| 219/219 [00:51<00:00,  4.26it/s]\n"
     ]
    },
    {
     "name": "stdout",
     "output_type": "stream",
     "text": [
      "Epoch [117/300], Step [219/219], Loss: 1.3403, Accuracy: 0.5181\n",
      "Accuracy of the network: 0.4756666666666667 Loss: 1.4369688313058082\n"
     ]
    },
    {
     "name": "stderr",
     "output_type": "stream",
     "text": [
      "100%|██████████| 219/219 [00:51<00:00,  4.27it/s]\n"
     ]
    },
    {
     "name": "stdout",
     "output_type": "stream",
     "text": [
      "Epoch [118/300], Step [219/219], Loss: 1.3341, Accuracy: 0.5273\n",
      "Accuracy of the network: 0.485 Loss: 1.4453035954465256\n"
     ]
    },
    {
     "name": "stderr",
     "output_type": "stream",
     "text": [
      "100%|██████████| 219/219 [00:51<00:00,  4.26it/s]\n"
     ]
    },
    {
     "name": "stdout",
     "output_type": "stream",
     "text": [
      "Epoch [119/300], Step [219/219], Loss: 1.3506, Accuracy: 0.5124\n",
      "Accuracy of the network: 0.48833333333333334 Loss: 1.4379062918906516\n"
     ]
    },
    {
     "name": "stderr",
     "output_type": "stream",
     "text": [
      "100%|██████████| 219/219 [00:51<00:00,  4.23it/s]\n"
     ]
    },
    {
     "name": "stdout",
     "output_type": "stream",
     "text": [
      "Epoch [120/300], Step [219/219], Loss: 1.3295, Accuracy: 0.5304\n",
      "Accuracy of the network: 0.4866666666666667 Loss: 1.4204354387648561\n"
     ]
    },
    {
     "name": "stderr",
     "output_type": "stream",
     "text": [
      "100%|██████████| 219/219 [00:51<00:00,  4.25it/s]\n"
     ]
    },
    {
     "name": "stdout",
     "output_type": "stream",
     "text": [
      "Epoch [121/300], Step [219/219], Loss: 1.3329, Accuracy: 0.5217\n",
      "Accuracy of the network: 0.49 Loss: 1.4151530088262354\n"
     ]
    },
    {
     "name": "stderr",
     "output_type": "stream",
     "text": [
      "100%|██████████| 219/219 [00:51<00:00,  4.23it/s]\n"
     ]
    },
    {
     "name": "stdout",
     "output_type": "stream",
     "text": [
      "Epoch [122/300], Step [219/219], Loss: 1.3152, Accuracy: 0.5260\n",
      "Accuracy of the network: 0.4836666666666667 Loss: 1.4194873926487375\n"
     ]
    },
    {
     "name": "stderr",
     "output_type": "stream",
     "text": [
      "100%|██████████| 219/219 [00:52<00:00,  4.16it/s]\n"
     ]
    },
    {
     "name": "stdout",
     "output_type": "stream",
     "text": [
      "Epoch [123/300], Step [219/219], Loss: 1.3107, Accuracy: 0.5347\n",
      "Accuracy of the network: 0.491 Loss: 1.4317179170060665\n"
     ]
    },
    {
     "name": "stderr",
     "output_type": "stream",
     "text": [
      "100%|██████████| 219/219 [00:51<00:00,  4.22it/s]\n"
     ]
    },
    {
     "name": "stdout",
     "output_type": "stream",
     "text": [
      "Epoch [124/300], Step [219/219], Loss: 1.3131, Accuracy: 0.5293\n",
      "Accuracy of the network: 0.48533333333333334 Loss: 1.4363182237807741\n"
     ]
    },
    {
     "name": "stderr",
     "output_type": "stream",
     "text": [
      "100%|██████████| 219/219 [00:51<00:00,  4.21it/s]\n"
     ]
    },
    {
     "name": "stdout",
     "output_type": "stream",
     "text": [
      "Epoch [125/300], Step [219/219], Loss: 1.3050, Accuracy: 0.5369\n",
      "Accuracy of the network: 0.49166666666666664 Loss: 1.4265207153685548\n"
     ]
    },
    {
     "name": "stderr",
     "output_type": "stream",
     "text": [
      "100%|██████████| 219/219 [00:52<00:00,  4.18it/s]\n"
     ]
    },
    {
     "name": "stdout",
     "output_type": "stream",
     "text": [
      "Epoch [126/300], Step [219/219], Loss: 1.3024, Accuracy: 0.5347\n",
      "Accuracy of the network: 0.48966666666666664 Loss: 1.4224192855205942\n"
     ]
    },
    {
     "name": "stderr",
     "output_type": "stream",
     "text": [
      "100%|██████████| 219/219 [00:51<00:00,  4.23it/s]\n"
     ]
    },
    {
     "name": "stdout",
     "output_type": "stream",
     "text": [
      "Epoch [127/300], Step [219/219], Loss: 1.3013, Accuracy: 0.5334\n",
      "Accuracy of the network: 0.4886666666666667 Loss: 1.4227518464656586\n"
     ]
    },
    {
     "name": "stderr",
     "output_type": "stream",
     "text": [
      "100%|██████████| 219/219 [00:52<00:00,  4.19it/s]\n"
     ]
    },
    {
     "name": "stdout",
     "output_type": "stream",
     "text": [
      "Epoch [128/300], Step [219/219], Loss: 1.2950, Accuracy: 0.5426\n",
      "Accuracy of the network: 0.4876666666666667 Loss: 1.434691051219372\n"
     ]
    },
    {
     "name": "stderr",
     "output_type": "stream",
     "text": [
      "100%|██████████| 219/219 [00:52<00:00,  4.19it/s]\n"
     ]
    },
    {
     "name": "stdout",
     "output_type": "stream",
     "text": [
      "Epoch [129/300], Step [219/219], Loss: 1.2880, Accuracy: 0.5420\n",
      "Accuracy of the network: 0.4886666666666667 Loss: 1.40555931659455\n"
     ]
    },
    {
     "name": "stderr",
     "output_type": "stream",
     "text": [
      "100%|██████████| 219/219 [00:51<00:00,  4.23it/s]\n"
     ]
    },
    {
     "name": "stdout",
     "output_type": "stream",
     "text": [
      "Epoch [130/300], Step [219/219], Loss: 1.2900, Accuracy: 0.5379\n",
      "Accuracy of the network: 0.498 Loss: 1.4178819187144016\n"
     ]
    },
    {
     "name": "stderr",
     "output_type": "stream",
     "text": [
      "100%|██████████| 219/219 [00:52<00:00,  4.21it/s]\n"
     ]
    },
    {
     "name": "stdout",
     "output_type": "stream",
     "text": [
      "Epoch [131/300], Step [219/219], Loss: 1.2833, Accuracy: 0.5427\n",
      "Accuracy of the network: 0.49266666666666664 Loss: 1.4220140424180538\n"
     ]
    },
    {
     "name": "stderr",
     "output_type": "stream",
     "text": [
      "100%|██████████| 219/219 [00:51<00:00,  4.22it/s]\n"
     ]
    },
    {
     "name": "stdout",
     "output_type": "stream",
     "text": [
      "Epoch [132/300], Step [219/219], Loss: 1.2799, Accuracy: 0.5426\n",
      "Accuracy of the network: 0.4876666666666667 Loss: 1.421476090842105\n"
     ]
    },
    {
     "name": "stderr",
     "output_type": "stream",
     "text": [
      "100%|██████████| 219/219 [00:52<00:00,  4.19it/s]\n"
     ]
    },
    {
     "name": "stdout",
     "output_type": "stream",
     "text": [
      "Epoch [133/300], Step [219/219], Loss: 1.2730, Accuracy: 0.5519\n",
      "Accuracy of the network: 0.4866666666666667 Loss: 1.4266714922925259\n"
     ]
    },
    {
     "name": "stderr",
     "output_type": "stream",
     "text": [
      "100%|██████████| 219/219 [00:51<00:00,  4.24it/s]\n"
     ]
    },
    {
     "name": "stdout",
     "output_type": "stream",
     "text": [
      "Epoch [134/300], Step [219/219], Loss: 1.2712, Accuracy: 0.5461\n",
      "Accuracy of the network: 0.49366666666666664 Loss: 1.4034285088802905\n"
     ]
    },
    {
     "name": "stderr",
     "output_type": "stream",
     "text": [
      "100%|██████████| 219/219 [00:51<00:00,  4.28it/s]\n"
     ]
    },
    {
     "name": "stdout",
     "output_type": "stream",
     "text": [
      "Epoch [135/300], Step [219/219], Loss: 1.2580, Accuracy: 0.5569\n",
      "Accuracy of the network: 0.5023333333333333 Loss: 1.3913268802013803\n"
     ]
    },
    {
     "name": "stderr",
     "output_type": "stream",
     "text": [
      "100%|██████████| 219/219 [00:51<00:00,  4.27it/s]\n"
     ]
    },
    {
     "name": "stdout",
     "output_type": "stream",
     "text": [
      "Epoch [136/300], Step [219/219], Loss: 1.2612, Accuracy: 0.5509\n",
      "Accuracy of the network: 0.498 Loss: 1.4065430893542918\n"
     ]
    },
    {
     "name": "stderr",
     "output_type": "stream",
     "text": [
      "100%|██████████| 219/219 [00:51<00:00,  4.27it/s]\n"
     ]
    },
    {
     "name": "stdout",
     "output_type": "stream",
     "text": [
      "Epoch [137/300], Step [219/219], Loss: 1.2603, Accuracy: 0.5523\n",
      "Accuracy of the network: 0.5033333333333333 Loss: 1.3965525950523132\n"
     ]
    },
    {
     "name": "stderr",
     "output_type": "stream",
     "text": [
      "100%|██████████| 219/219 [00:51<00:00,  4.27it/s]\n"
     ]
    },
    {
     "name": "stdout",
     "output_type": "stream",
     "text": [
      "Epoch [138/300], Step [219/219], Loss: 1.2430, Accuracy: 0.5606\n",
      "Accuracy of the network: 0.49433333333333335 Loss: 1.3910663013762616\n"
     ]
    },
    {
     "name": "stderr",
     "output_type": "stream",
     "text": [
      "100%|██████████| 219/219 [00:51<00:00,  4.29it/s]\n"
     ]
    },
    {
     "name": "stdout",
     "output_type": "stream",
     "text": [
      "Epoch [139/300], Step [219/219], Loss: 1.2454, Accuracy: 0.5514\n",
      "Accuracy of the network: 0.497 Loss: 1.3916039149811927\n"
     ]
    },
    {
     "name": "stderr",
     "output_type": "stream",
     "text": [
      "100%|██████████| 219/219 [00:51<00:00,  4.27it/s]\n"
     ]
    },
    {
     "name": "stdout",
     "output_type": "stream",
     "text": [
      "Epoch [140/300], Step [219/219], Loss: 1.2559, Accuracy: 0.5533\n",
      "Accuracy of the network: 0.5066666666666667 Loss: 1.3766374397785106\n"
     ]
    },
    {
     "name": "stderr",
     "output_type": "stream",
     "text": [
      "100%|██████████| 219/219 [00:51<00:00,  4.28it/s]\n"
     ]
    },
    {
     "name": "stdout",
     "output_type": "stream",
     "text": [
      "Epoch [141/300], Step [219/219], Loss: 1.2363, Accuracy: 0.5629\n",
      "Accuracy of the network: 0.49866666666666665 Loss: 1.3908082830145003\n"
     ]
    },
    {
     "name": "stderr",
     "output_type": "stream",
     "text": [
      "100%|██████████| 219/219 [00:51<00:00,  4.26it/s]\n"
     ]
    },
    {
     "name": "stdout",
     "output_type": "stream",
     "text": [
      "Epoch [142/300], Step [219/219], Loss: 1.2473, Accuracy: 0.5596\n",
      "Accuracy of the network: 0.49533333333333335 Loss: 1.3862241899713557\n"
     ]
    },
    {
     "name": "stderr",
     "output_type": "stream",
     "text": [
      "100%|██████████| 219/219 [00:51<00:00,  4.28it/s]\n"
     ]
    },
    {
     "name": "stdout",
     "output_type": "stream",
     "text": [
      "Epoch [143/300], Step [219/219], Loss: 1.2411, Accuracy: 0.5646\n",
      "Accuracy of the network: 0.49733333333333335 Loss: 1.384982519961418\n"
     ]
    },
    {
     "name": "stderr",
     "output_type": "stream",
     "text": [
      "100%|██████████| 219/219 [00:51<00:00,  4.27it/s]\n"
     ]
    },
    {
     "name": "stdout",
     "output_type": "stream",
     "text": [
      "Epoch [144/300], Step [219/219], Loss: 1.2303, Accuracy: 0.5590\n",
      "Accuracy of the network: 0.49433333333333335 Loss: 1.412349612154859\n"
     ]
    },
    {
     "name": "stderr",
     "output_type": "stream",
     "text": [
      "100%|██████████| 219/219 [00:51<00:00,  4.28it/s]\n"
     ]
    },
    {
     "name": "stdout",
     "output_type": "stream",
     "text": [
      "Epoch [145/300], Step [219/219], Loss: 1.2276, Accuracy: 0.5626\n",
      "Accuracy of the network: 0.49766666666666665 Loss: 1.3871277678520122\n"
     ]
    },
    {
     "name": "stderr",
     "output_type": "stream",
     "text": [
      "100%|██████████| 219/219 [00:50<00:00,  4.30it/s]\n"
     ]
    },
    {
     "name": "stdout",
     "output_type": "stream",
     "text": [
      "Epoch [146/300], Step [219/219], Loss: 1.2228, Accuracy: 0.5709\n",
      "Accuracy of the network: 0.5043333333333333 Loss: 1.3911888612077592\n"
     ]
    },
    {
     "name": "stderr",
     "output_type": "stream",
     "text": [
      "100%|██████████| 219/219 [00:52<00:00,  4.21it/s]\n"
     ]
    },
    {
     "name": "stdout",
     "output_type": "stream",
     "text": [
      "Epoch [147/300], Step [219/219], Loss: 1.2230, Accuracy: 0.5629\n",
      "Accuracy of the network: 0.494 Loss: 1.3942287278936265\n"
     ]
    },
    {
     "name": "stderr",
     "output_type": "stream",
     "text": [
      "100%|██████████| 219/219 [00:51<00:00,  4.22it/s]\n"
     ]
    },
    {
     "name": "stdout",
     "output_type": "stream",
     "text": [
      "Epoch [148/300], Step [219/219], Loss: 1.2199, Accuracy: 0.5686\n",
      "Accuracy of the network: 0.49833333333333335 Loss: 1.383787528631535\n"
     ]
    },
    {
     "name": "stderr",
     "output_type": "stream",
     "text": [
      "100%|██████████| 219/219 [00:52<00:00,  4.19it/s]\n"
     ]
    },
    {
     "name": "stdout",
     "output_type": "stream",
     "text": [
      "Epoch [149/300], Step [219/219], Loss: 1.2140, Accuracy: 0.5721\n",
      "Accuracy of the network: 0.49933333333333335 Loss: 1.387050116949893\n"
     ]
    },
    {
     "name": "stderr",
     "output_type": "stream",
     "text": [
      "100%|██████████| 219/219 [00:52<00:00,  4.20it/s]\n"
     ]
    },
    {
     "name": "stdout",
     "output_type": "stream",
     "text": [
      "Epoch [150/300], Step [219/219], Loss: 1.2135, Accuracy: 0.5673\n",
      "Accuracy of the network: 0.49733333333333335 Loss: 1.3818303714407252\n"
     ]
    },
    {
     "name": "stderr",
     "output_type": "stream",
     "text": [
      "100%|██████████| 219/219 [00:51<00:00,  4.23it/s]\n"
     ]
    },
    {
     "name": "stdout",
     "output_type": "stream",
     "text": [
      "Epoch [151/300], Step [219/219], Loss: 1.2069, Accuracy: 0.5664\n",
      "Accuracy of the network: 0.5026666666666667 Loss: 1.3784883529581922\n"
     ]
    },
    {
     "name": "stderr",
     "output_type": "stream",
     "text": [
      "100%|██████████| 219/219 [00:51<00:00,  4.24it/s]\n"
     ]
    },
    {
     "name": "stdout",
     "output_type": "stream",
     "text": [
      "Epoch [152/300], Step [219/219], Loss: 1.2132, Accuracy: 0.5664\n",
      "Accuracy of the network: 0.5076666666666667 Loss: 1.3752204737764724\n"
     ]
    },
    {
     "name": "stderr",
     "output_type": "stream",
     "text": [
      "100%|██████████| 219/219 [00:51<00:00,  4.25it/s]\n"
     ]
    },
    {
     "name": "stdout",
     "output_type": "stream",
     "text": [
      "Epoch [153/300], Step [219/219], Loss: 1.2082, Accuracy: 0.5659\n",
      "Accuracy of the network: 0.508 Loss: 1.3747064579040447\n"
     ]
    },
    {
     "name": "stderr",
     "output_type": "stream",
     "text": [
      "100%|██████████| 219/219 [00:52<00:00,  4.21it/s]\n"
     ]
    },
    {
     "name": "stdout",
     "output_type": "stream",
     "text": [
      "Epoch [154/300], Step [219/219], Loss: 1.2036, Accuracy: 0.5736\n",
      "Accuracy of the network: 0.5146666666666667 Loss: 1.3527987409145275\n"
     ]
    },
    {
     "name": "stderr",
     "output_type": "stream",
     "text": [
      "100%|██████████| 219/219 [00:51<00:00,  4.22it/s]\n"
     ]
    },
    {
     "name": "stdout",
     "output_type": "stream",
     "text": [
      "Epoch [155/300], Step [219/219], Loss: 1.2055, Accuracy: 0.5749\n",
      "Accuracy of the network: 0.5083333333333333 Loss: 1.3777837385522558\n"
     ]
    },
    {
     "name": "stderr",
     "output_type": "stream",
     "text": [
      "100%|██████████| 219/219 [00:52<00:00,  4.19it/s]\n"
     ]
    },
    {
     "name": "stdout",
     "output_type": "stream",
     "text": [
      "Epoch [156/300], Step [219/219], Loss: 1.1907, Accuracy: 0.5783\n",
      "Accuracy of the network: 0.5116666666666667 Loss: 1.3519194785584794\n"
     ]
    },
    {
     "name": "stderr",
     "output_type": "stream",
     "text": [
      "100%|██████████| 219/219 [00:51<00:00,  4.23it/s]\n"
     ]
    },
    {
     "name": "stdout",
     "output_type": "stream",
     "text": [
      "Epoch [157/300], Step [219/219], Loss: 1.1901, Accuracy: 0.5756\n",
      "Accuracy of the network: 0.5163333333333333 Loss: 1.3641701118743166\n"
     ]
    },
    {
     "name": "stderr",
     "output_type": "stream",
     "text": [
      "100%|██████████| 219/219 [00:52<00:00,  4.21it/s]\n"
     ]
    },
    {
     "name": "stdout",
     "output_type": "stream",
     "text": [
      "Epoch [158/300], Step [219/219], Loss: 1.1873, Accuracy: 0.5804\n",
      "Accuracy of the network: 0.5136666666666667 Loss: 1.363165409006971\n"
     ]
    },
    {
     "name": "stderr",
     "output_type": "stream",
     "text": [
      "100%|██████████| 219/219 [00:52<00:00,  4.20it/s]\n"
     ]
    },
    {
     "name": "stdout",
     "output_type": "stream",
     "text": [
      "Epoch [159/300], Step [219/219], Loss: 1.1839, Accuracy: 0.5793\n",
      "Accuracy of the network: 0.515 Loss: 1.3602954776997263\n"
     ]
    },
    {
     "name": "stderr",
     "output_type": "stream",
     "text": [
      "100%|██████████| 219/219 [00:51<00:00,  4.22it/s]\n"
     ]
    },
    {
     "name": "stdout",
     "output_type": "stream",
     "text": [
      "Epoch [160/300], Step [219/219], Loss: 1.1814, Accuracy: 0.5806\n",
      "Accuracy of the network: 0.5153333333333333 Loss: 1.3484209332060306\n"
     ]
    },
    {
     "name": "stderr",
     "output_type": "stream",
     "text": [
      "100%|██████████| 219/219 [00:52<00:00,  4.21it/s]\n"
     ]
    },
    {
     "name": "stdout",
     "output_type": "stream",
     "text": [
      "Epoch [161/300], Step [219/219], Loss: 1.1844, Accuracy: 0.5794\n",
      "Accuracy of the network: 0.5116666666666667 Loss: 1.35224087377812\n"
     ]
    },
    {
     "name": "stderr",
     "output_type": "stream",
     "text": [
      "100%|██████████| 219/219 [00:53<00:00,  4.12it/s]\n"
     ]
    },
    {
     "name": "stdout",
     "output_type": "stream",
     "text": [
      "Epoch [162/300], Step [219/219], Loss: 1.1876, Accuracy: 0.5837\n",
      "Accuracy of the network: 0.5136666666666667 Loss: 1.3621469526848895\n"
     ]
    },
    {
     "name": "stderr",
     "output_type": "stream",
     "text": [
      "100%|██████████| 219/219 [00:52<00:00,  4.19it/s]\n"
     ]
    },
    {
     "name": "stdout",
     "output_type": "stream",
     "text": [
      "Epoch [163/300], Step [219/219], Loss: 1.1761, Accuracy: 0.5837\n",
      "Accuracy of the network: 0.5166666666666667 Loss: 1.3510860344196887\n"
     ]
    },
    {
     "name": "stderr",
     "output_type": "stream",
     "text": [
      "100%|██████████| 219/219 [00:52<00:00,  4.13it/s]\n"
     ]
    },
    {
     "name": "stdout",
     "output_type": "stream",
     "text": [
      "Epoch [164/300], Step [219/219], Loss: 1.1690, Accuracy: 0.5926\n",
      "Accuracy of the network: 0.515 Loss: 1.3615301815753287\n"
     ]
    },
    {
     "name": "stderr",
     "output_type": "stream",
     "text": [
      "100%|██████████| 219/219 [00:50<00:00,  4.33it/s]\n"
     ]
    },
    {
     "name": "stdout",
     "output_type": "stream",
     "text": [
      "Epoch [165/300], Step [219/219], Loss: 1.1783, Accuracy: 0.5826\n",
      "Accuracy of the network: 0.519 Loss: 1.351832594009156\n"
     ]
    },
    {
     "name": "stderr",
     "output_type": "stream",
     "text": [
      "100%|██████████| 219/219 [00:50<00:00,  4.34it/s]\n"
     ]
    },
    {
     "name": "stdout",
     "output_type": "stream",
     "text": [
      "Epoch [166/300], Step [219/219], Loss: 1.1714, Accuracy: 0.5831\n",
      "Accuracy of the network: 0.5153333333333333 Loss: 1.3571808522051954\n"
     ]
    },
    {
     "name": "stderr",
     "output_type": "stream",
     "text": [
      "100%|██████████| 219/219 [00:50<00:00,  4.34it/s]\n"
     ]
    },
    {
     "name": "stdout",
     "output_type": "stream",
     "text": [
      "Epoch [167/300], Step [219/219], Loss: 1.1637, Accuracy: 0.5906\n",
      "Accuracy of the network: 0.5233333333333333 Loss: 1.3438098291133314\n"
     ]
    },
    {
     "name": "stderr",
     "output_type": "stream",
     "text": [
      "100%|██████████| 219/219 [00:50<00:00,  4.33it/s]\n"
     ]
    },
    {
     "name": "stdout",
     "output_type": "stream",
     "text": [
      "Epoch [168/300], Step [219/219], Loss: 1.1653, Accuracy: 0.5860\n",
      "Accuracy of the network: 0.5236666666666666 Loss: 1.3417173211878919\n"
     ]
    },
    {
     "name": "stderr",
     "output_type": "stream",
     "text": [
      "100%|██████████| 219/219 [00:50<00:00,  4.34it/s]\n"
     ]
    },
    {
     "name": "stdout",
     "output_type": "stream",
     "text": [
      "Epoch [169/300], Step [219/219], Loss: 1.1693, Accuracy: 0.5883\n",
      "Accuracy of the network: 0.526 Loss: 1.3442867930899276\n"
     ]
    },
    {
     "name": "stderr",
     "output_type": "stream",
     "text": [
      "100%|██████████| 219/219 [00:50<00:00,  4.34it/s]\n"
     ]
    },
    {
     "name": "stdout",
     "output_type": "stream",
     "text": [
      "Epoch [170/300], Step [219/219], Loss: 1.1516, Accuracy: 0.5979\n",
      "Accuracy of the network: 0.524 Loss: 1.345888761763877\n"
     ]
    },
    {
     "name": "stderr",
     "output_type": "stream",
     "text": [
      "100%|██████████| 219/219 [00:50<00:00,  4.35it/s]\n"
     ]
    },
    {
     "name": "stdout",
     "output_type": "stream",
     "text": [
      "Epoch [171/300], Step [219/219], Loss: 1.1594, Accuracy: 0.5907\n",
      "Accuracy of the network: 0.52 Loss: 1.3443260053370862\n"
     ]
    },
    {
     "name": "stderr",
     "output_type": "stream",
     "text": [
      "100%|██████████| 219/219 [00:50<00:00,  4.36it/s]\n"
     ]
    },
    {
     "name": "stdout",
     "output_type": "stream",
     "text": [
      "Epoch [172/300], Step [219/219], Loss: 1.1552, Accuracy: 0.5917\n",
      "Accuracy of the network: 0.52 Loss: 1.3487633726698287\n"
     ]
    },
    {
     "name": "stderr",
     "output_type": "stream",
     "text": [
      "100%|██████████| 219/219 [00:50<00:00,  4.32it/s]\n"
     ]
    },
    {
     "name": "stdout",
     "output_type": "stream",
     "text": [
      "Epoch [173/300], Step [219/219], Loss: 1.1561, Accuracy: 0.5837\n",
      "Accuracy of the network: 0.524 Loss: 1.3429415219641747\n"
     ]
    },
    {
     "name": "stderr",
     "output_type": "stream",
     "text": [
      "100%|██████████| 219/219 [00:50<00:00,  4.32it/s]\n"
     ]
    },
    {
     "name": "stdout",
     "output_type": "stream",
     "text": [
      "Epoch [174/300], Step [219/219], Loss: 1.1454, Accuracy: 0.5951\n",
      "Accuracy of the network: 0.5243333333333333 Loss: 1.3367024013336668\n"
     ]
    },
    {
     "name": "stderr",
     "output_type": "stream",
     "text": [
      "100%|██████████| 219/219 [00:50<00:00,  4.33it/s]\n"
     ]
    },
    {
     "name": "stdout",
     "output_type": "stream",
     "text": [
      "Epoch [175/300], Step [219/219], Loss: 1.1441, Accuracy: 0.5966\n",
      "Accuracy of the network: 0.5266666666666666 Loss: 1.3403977903913944\n"
     ]
    },
    {
     "name": "stderr",
     "output_type": "stream",
     "text": [
      "100%|██████████| 219/219 [00:50<00:00,  4.34it/s]\n"
     ]
    },
    {
     "name": "stdout",
     "output_type": "stream",
     "text": [
      "Epoch [176/300], Step [219/219], Loss: 1.1469, Accuracy: 0.5949\n",
      "Accuracy of the network: 0.5243333333333333 Loss: 1.3311896666567375\n"
     ]
    },
    {
     "name": "stderr",
     "output_type": "stream",
     "text": [
      "100%|██████████| 219/219 [00:50<00:00,  4.30it/s]\n"
     ]
    },
    {
     "name": "stdout",
     "output_type": "stream",
     "text": [
      "Epoch [177/300], Step [219/219], Loss: 1.1522, Accuracy: 0.5937\n",
      "Accuracy of the network: 0.5213333333333333 Loss: 1.3429828863194648\n"
     ]
    },
    {
     "name": "stderr",
     "output_type": "stream",
     "text": [
      "100%|██████████| 219/219 [00:51<00:00,  4.28it/s]\n"
     ]
    },
    {
     "name": "stdout",
     "output_type": "stream",
     "text": [
      "Epoch [178/300], Step [219/219], Loss: 1.1368, Accuracy: 0.5969\n",
      "Accuracy of the network: 0.5236666666666666 Loss: 1.3389875806392508\n"
     ]
    },
    {
     "name": "stderr",
     "output_type": "stream",
     "text": [
      "100%|██████████| 219/219 [00:50<00:00,  4.32it/s]\n"
     ]
    },
    {
     "name": "stdout",
     "output_type": "stream",
     "text": [
      "Epoch [179/300], Step [219/219], Loss: 1.1366, Accuracy: 0.6033\n",
      "Accuracy of the network: 0.524 Loss: 1.3459928644464372\n"
     ]
    },
    {
     "name": "stderr",
     "output_type": "stream",
     "text": [
      "100%|██████████| 219/219 [00:52<00:00,  4.17it/s]\n"
     ]
    },
    {
     "name": "stdout",
     "output_type": "stream",
     "text": [
      "Epoch [180/300], Step [219/219], Loss: 1.1409, Accuracy: 0.5984\n",
      "Accuracy of the network: 0.5246666666666666 Loss: 1.352625661073847\n"
     ]
    },
    {
     "name": "stderr",
     "output_type": "stream",
     "text": [
      "100%|██████████| 219/219 [00:52<00:00,  4.17it/s]\n"
     ]
    },
    {
     "name": "stdout",
     "output_type": "stream",
     "text": [
      "Epoch [181/300], Step [219/219], Loss: 1.1309, Accuracy: 0.6001\n",
      "Accuracy of the network: 0.529 Loss: 1.3354706491561645\n"
     ]
    },
    {
     "name": "stderr",
     "output_type": "stream",
     "text": [
      "100%|██████████| 219/219 [00:51<00:00,  4.21it/s]\n"
     ]
    },
    {
     "name": "stdout",
     "output_type": "stream",
     "text": [
      "Epoch [182/300], Step [219/219], Loss: 1.1329, Accuracy: 0.6030\n",
      "Accuracy of the network: 0.522 Loss: 1.3354487159150712\n"
     ]
    },
    {
     "name": "stderr",
     "output_type": "stream",
     "text": [
      "100%|██████████| 219/219 [00:52<00:00,  4.20it/s]\n"
     ]
    },
    {
     "name": "stdout",
     "output_type": "stream",
     "text": [
      "Epoch [183/300], Step [219/219], Loss: 1.1377, Accuracy: 0.5996\n",
      "Accuracy of the network: 0.526 Loss: 1.3336394473593285\n"
     ]
    },
    {
     "name": "stderr",
     "output_type": "stream",
     "text": [
      "100%|██████████| 219/219 [00:51<00:00,  4.24it/s]\n"
     ]
    },
    {
     "name": "stdout",
     "output_type": "stream",
     "text": [
      "Epoch [184/300], Step [219/219], Loss: 1.1207, Accuracy: 0.6010\n",
      "Accuracy of the network: 0.5256666666666666 Loss: 1.33607975726432\n"
     ]
    },
    {
     "name": "stderr",
     "output_type": "stream",
     "text": [
      "100%|██████████| 219/219 [00:52<00:00,  4.18it/s]\n"
     ]
    },
    {
     "name": "stdout",
     "output_type": "stream",
     "text": [
      "Epoch [185/300], Step [219/219], Loss: 1.1348, Accuracy: 0.5999\n",
      "Accuracy of the network: 0.5333333333333333 Loss: 1.3259747161510143\n"
     ]
    },
    {
     "name": "stderr",
     "output_type": "stream",
     "text": [
      "100%|██████████| 219/219 [00:52<00:00,  4.20it/s]\n"
     ]
    },
    {
     "name": "stdout",
     "output_type": "stream",
     "text": [
      "Epoch [186/300], Step [219/219], Loss: 1.1207, Accuracy: 0.6071\n",
      "Accuracy of the network: 0.518 Loss: 1.3399650917408314\n"
     ]
    },
    {
     "name": "stderr",
     "output_type": "stream",
     "text": [
      "100%|██████████| 219/219 [00:52<00:00,  4.19it/s]\n"
     ]
    },
    {
     "name": "stdout",
     "output_type": "stream",
     "text": [
      "Epoch [187/300], Step [219/219], Loss: 1.1116, Accuracy: 0.6131\n",
      "Accuracy of the network: 0.53 Loss: 1.3300148565718468\n"
     ]
    },
    {
     "name": "stderr",
     "output_type": "stream",
     "text": [
      "100%|██████████| 219/219 [00:51<00:00,  4.22it/s]\n"
     ]
    },
    {
     "name": "stdout",
     "output_type": "stream",
     "text": [
      "Epoch [188/300], Step [219/219], Loss: 1.1122, Accuracy: 0.6086\n",
      "Accuracy of the network: 0.5306666666666666 Loss: 1.3356344915450888\n"
     ]
    },
    {
     "name": "stderr",
     "output_type": "stream",
     "text": [
      "100%|██████████| 219/219 [00:51<00:00,  4.22it/s]\n"
     ]
    },
    {
     "name": "stdout",
     "output_type": "stream",
     "text": [
      "Epoch [189/300], Step [219/219], Loss: 1.1249, Accuracy: 0.6087\n",
      "Accuracy of the network: 0.5306666666666666 Loss: 1.3206881715896281\n"
     ]
    },
    {
     "name": "stderr",
     "output_type": "stream",
     "text": [
      "100%|██████████| 219/219 [00:52<00:00,  4.20it/s]\n"
     ]
    },
    {
     "name": "stdout",
     "output_type": "stream",
     "text": [
      "Epoch [190/300], Step [219/219], Loss: 1.1225, Accuracy: 0.6059\n",
      "Accuracy of the network: 0.5263333333333333 Loss: 1.32597486960127\n"
     ]
    },
    {
     "name": "stderr",
     "output_type": "stream",
     "text": [
      "100%|██████████| 219/219 [00:52<00:00,  4.17it/s]\n"
     ]
    },
    {
     "name": "stdout",
     "output_type": "stream",
     "text": [
      "Epoch [191/300], Step [219/219], Loss: 1.1138, Accuracy: 0.6057\n",
      "Accuracy of the network: 0.5326666666666666 Loss: 1.3173510660516454\n"
     ]
    },
    {
     "name": "stderr",
     "output_type": "stream",
     "text": [
      "100%|██████████| 219/219 [00:52<00:00,  4.21it/s]\n"
     ]
    },
    {
     "name": "stdout",
     "output_type": "stream",
     "text": [
      "Epoch [192/300], Step [219/219], Loss: 1.1161, Accuracy: 0.6073\n",
      "Accuracy of the network: 0.527 Loss: 1.3347325046011742\n"
     ]
    },
    {
     "name": "stderr",
     "output_type": "stream",
     "text": [
      "100%|██████████| 219/219 [00:51<00:00,  4.22it/s]\n"
     ]
    },
    {
     "name": "stdout",
     "output_type": "stream",
     "text": [
      "Epoch [193/300], Step [219/219], Loss: 1.1172, Accuracy: 0.6091\n",
      "Accuracy of the network: 0.529 Loss: 1.323442263172028\n"
     ]
    },
    {
     "name": "stderr",
     "output_type": "stream",
     "text": [
      "100%|██████████| 219/219 [00:52<00:00,  4.20it/s]\n"
     ]
    },
    {
     "name": "stdout",
     "output_type": "stream",
     "text": [
      "Epoch [194/300], Step [219/219], Loss: 1.1162, Accuracy: 0.6123\n",
      "Accuracy of the network: 0.535 Loss: 1.3280978557911325\n"
     ]
    },
    {
     "name": "stderr",
     "output_type": "stream",
     "text": [
      "100%|██████████| 219/219 [00:51<00:00,  4.23it/s]\n"
     ]
    },
    {
     "name": "stdout",
     "output_type": "stream",
     "text": [
      "Epoch [195/300], Step [219/219], Loss: 1.1094, Accuracy: 0.6104\n",
      "Accuracy of the network: 0.5276666666666666 Loss: 1.3252925441620198\n"
     ]
    },
    {
     "name": "stderr",
     "output_type": "stream",
     "text": [
      "100%|██████████| 219/219 [00:51<00:00,  4.21it/s]\n"
     ]
    },
    {
     "name": "stdout",
     "output_type": "stream",
     "text": [
      "Epoch [196/300], Step [219/219], Loss: 1.1168, Accuracy: 0.6077\n",
      "Accuracy of the network: 0.5333333333333333 Loss: 1.3250045687594312\n"
     ]
    },
    {
     "name": "stderr",
     "output_type": "stream",
     "text": [
      "100%|██████████| 219/219 [00:52<00:00,  4.20it/s]\n"
     ]
    },
    {
     "name": "stdout",
     "output_type": "stream",
     "text": [
      "Epoch [197/300], Step [219/219], Loss: 1.1244, Accuracy: 0.5996\n",
      "Accuracy of the network: 0.527 Loss: 1.3320798588559983\n"
     ]
    },
    {
     "name": "stderr",
     "output_type": "stream",
     "text": [
      "100%|██████████| 219/219 [00:52<00:00,  4.20it/s]\n"
     ]
    },
    {
     "name": "stdout",
     "output_type": "stream",
     "text": [
      "Epoch [198/300], Step [219/219], Loss: 1.1103, Accuracy: 0.6059\n",
      "Accuracy of the network: 0.5253333333333333 Loss: 1.3281049924962065\n"
     ]
    },
    {
     "name": "stderr",
     "output_type": "stream",
     "text": [
      "100%|██████████| 219/219 [00:53<00:00,  4.08it/s]\n"
     ]
    },
    {
     "name": "stdout",
     "output_type": "stream",
     "text": [
      "Epoch [199/300], Step [219/219], Loss: 1.1011, Accuracy: 0.6110\n",
      "Accuracy of the network: 0.5296666666666666 Loss: 1.325869638869103\n"
     ]
    },
    {
     "name": "stderr",
     "output_type": "stream",
     "text": [
      "100%|██████████| 219/219 [00:51<00:00,  4.26it/s]\n"
     ]
    },
    {
     "name": "stdout",
     "output_type": "stream",
     "text": [
      "Epoch [200/300], Step [219/219], Loss: 1.1110, Accuracy: 0.6091\n",
      "Accuracy of the network: 0.526 Loss: 1.3270815553817343\n"
     ]
    },
    {
     "name": "stderr",
     "output_type": "stream",
     "text": [
      "100%|██████████| 219/219 [00:51<00:00,  4.23it/s]\n"
     ]
    },
    {
     "name": "stdout",
     "output_type": "stream",
     "text": [
      "Epoch [201/300], Step [219/219], Loss: 1.1114, Accuracy: 0.6097\n",
      "Accuracy of the network: 0.5253333333333333 Loss: 1.3243489106918902\n"
     ]
    },
    {
     "name": "stderr",
     "output_type": "stream",
     "text": [
      "100%|██████████| 219/219 [00:50<00:00,  4.30it/s]\n"
     ]
    },
    {
     "name": "stdout",
     "output_type": "stream",
     "text": [
      "Epoch [202/300], Step [219/219], Loss: 1.1124, Accuracy: 0.6060\n",
      "Accuracy of the network: 0.528 Loss: 1.3324938124798713\n"
     ]
    },
    {
     "name": "stderr",
     "output_type": "stream",
     "text": [
      "100%|██████████| 219/219 [00:51<00:00,  4.29it/s]\n"
     ]
    },
    {
     "name": "stdout",
     "output_type": "stream",
     "text": [
      "Epoch [203/300], Step [219/219], Loss: 1.0990, Accuracy: 0.6186\n",
      "Accuracy of the network: 0.5313333333333333 Loss: 1.3210840288628922\n"
     ]
    },
    {
     "name": "stderr",
     "output_type": "stream",
     "text": [
      "100%|██████████| 219/219 [00:51<00:00,  4.24it/s]\n"
     ]
    },
    {
     "name": "stdout",
     "output_type": "stream",
     "text": [
      "Epoch [204/300], Step [219/219], Loss: 1.1117, Accuracy: 0.6060\n",
      "Accuracy of the network: 0.534 Loss: 1.3224655770240945\n"
     ]
    },
    {
     "name": "stderr",
     "output_type": "stream",
     "text": [
      "100%|██████████| 219/219 [00:51<00:00,  4.26it/s]\n"
     ]
    },
    {
     "name": "stdout",
     "output_type": "stream",
     "text": [
      "Epoch [205/300], Step [219/219], Loss: 1.0995, Accuracy: 0.6124\n",
      "Accuracy of the network: 0.5346666666666666 Loss: 1.323165348235597\n"
     ]
    },
    {
     "name": "stderr",
     "output_type": "stream",
     "text": [
      "100%|██████████| 219/219 [00:50<00:00,  4.32it/s]\n"
     ]
    },
    {
     "name": "stdout",
     "output_type": "stream",
     "text": [
      "Epoch [206/300], Step [219/219], Loss: 1.0985, Accuracy: 0.6214\n",
      "Accuracy of the network: 0.528 Loss: 1.3251543970818216\n"
     ]
    },
    {
     "name": "stderr",
     "output_type": "stream",
     "text": [
      "100%|██████████| 219/219 [00:51<00:00,  4.29it/s]\n"
     ]
    },
    {
     "name": "stdout",
     "output_type": "stream",
     "text": [
      "Epoch [207/300], Step [219/219], Loss: 1.1019, Accuracy: 0.6119\n",
      "Accuracy of the network: 0.5393333333333333 Loss: 1.3198893355562331\n"
     ]
    },
    {
     "name": "stderr",
     "output_type": "stream",
     "text": [
      "100%|██████████| 219/219 [00:50<00:00,  4.31it/s]\n"
     ]
    },
    {
     "name": "stdout",
     "output_type": "stream",
     "text": [
      "Epoch [208/300], Step [219/219], Loss: 1.0967, Accuracy: 0.6134\n",
      "Accuracy of the network: 0.528 Loss: 1.3279167331279593\n"
     ]
    },
    {
     "name": "stderr",
     "output_type": "stream",
     "text": [
      "100%|██████████| 219/219 [00:50<00:00,  4.31it/s]\n"
     ]
    },
    {
     "name": "stdout",
     "output_type": "stream",
     "text": [
      "Epoch [209/300], Step [219/219], Loss: 1.0976, Accuracy: 0.6154\n",
      "Accuracy of the network: 0.531 Loss: 1.3187911066603153\n"
     ]
    },
    {
     "name": "stderr",
     "output_type": "stream",
     "text": [
      "100%|██████████| 219/219 [00:50<00:00,  4.29it/s]\n"
     ]
    },
    {
     "name": "stdout",
     "output_type": "stream",
     "text": [
      "Epoch [210/300], Step [219/219], Loss: 1.0941, Accuracy: 0.6123\n",
      "Accuracy of the network: 0.5246666666666666 Loss: 1.329725275648401\n"
     ]
    },
    {
     "name": "stderr",
     "output_type": "stream",
     "text": [
      "100%|██████████| 219/219 [00:51<00:00,  4.29it/s]\n"
     ]
    },
    {
     "name": "stdout",
     "output_type": "stream",
     "text": [
      "Epoch [211/300], Step [219/219], Loss: 1.0919, Accuracy: 0.6153\n",
      "Accuracy of the network: 0.538 Loss: 1.3135693060590865\n"
     ]
    },
    {
     "name": "stderr",
     "output_type": "stream",
     "text": [
      "100%|██████████| 219/219 [00:50<00:00,  4.30it/s]\n"
     ]
    },
    {
     "name": "stdout",
     "output_type": "stream",
     "text": [
      "Epoch [212/300], Step [219/219], Loss: 1.0816, Accuracy: 0.6234\n",
      "Accuracy of the network: 0.5306666666666666 Loss: 1.3146253919347803\n"
     ]
    },
    {
     "name": "stderr",
     "output_type": "stream",
     "text": [
      "100%|██████████| 219/219 [00:50<00:00,  4.32it/s]\n"
     ]
    },
    {
     "name": "stdout",
     "output_type": "stream",
     "text": [
      "Epoch [213/300], Step [219/219], Loss: 1.0890, Accuracy: 0.6187\n",
      "Accuracy of the network: 0.533 Loss: 1.3205604965382434\n"
     ]
    },
    {
     "name": "stderr",
     "output_type": "stream",
     "text": [
      "100%|██████████| 219/219 [00:50<00:00,  4.30it/s]\n"
     ]
    },
    {
     "name": "stdout",
     "output_type": "stream",
     "text": [
      "Epoch [214/300], Step [219/219], Loss: 1.0958, Accuracy: 0.6103\n",
      "Accuracy of the network: 0.543 Loss: 1.306216335042994\n"
     ]
    },
    {
     "name": "stderr",
     "output_type": "stream",
     "text": [
      "100%|██████████| 219/219 [00:50<00:00,  4.31it/s]\n"
     ]
    },
    {
     "name": "stdout",
     "output_type": "stream",
     "text": [
      "Epoch [215/300], Step [219/219], Loss: 1.0925, Accuracy: 0.6163\n",
      "Accuracy of the network: 0.5323333333333333 Loss: 1.3138185517585024\n"
     ]
    },
    {
     "name": "stderr",
     "output_type": "stream",
     "text": [
      "100%|██████████| 219/219 [00:50<00:00,  4.30it/s]\n"
     ]
    },
    {
     "name": "stdout",
     "output_type": "stream",
     "text": [
      "Epoch [216/300], Step [219/219], Loss: 1.0914, Accuracy: 0.6170\n",
      "Accuracy of the network: 0.5356666666666666 Loss: 1.3215408845150725\n"
     ]
    },
    {
     "name": "stderr",
     "output_type": "stream",
     "text": [
      "100%|██████████| 219/219 [00:50<00:00,  4.32it/s]\n"
     ]
    },
    {
     "name": "stdout",
     "output_type": "stream",
     "text": [
      "Epoch [217/300], Step [219/219], Loss: 1.0931, Accuracy: 0.6197\n",
      "Accuracy of the network: 0.5296666666666666 Loss: 1.3248036896928828\n"
     ]
    },
    {
     "name": "stderr",
     "output_type": "stream",
     "text": [
      "100%|██████████| 219/219 [00:50<00:00,  4.32it/s]\n"
     ]
    },
    {
     "name": "stdout",
     "output_type": "stream",
     "text": [
      "Epoch [218/300], Step [219/219], Loss: 1.0913, Accuracy: 0.6166\n",
      "Accuracy of the network: 0.5433333333333333 Loss: 1.3173372808923112\n"
     ]
    },
    {
     "name": "stderr",
     "output_type": "stream",
     "text": [
      "100%|██████████| 219/219 [00:50<00:00,  4.30it/s]\n"
     ]
    },
    {
     "name": "stdout",
     "output_type": "stream",
     "text": [
      "Epoch [219/300], Step [219/219], Loss: 1.0920, Accuracy: 0.6170\n",
      "Accuracy of the network: 0.541 Loss: 1.3144031522121835\n"
     ]
    },
    {
     "name": "stderr",
     "output_type": "stream",
     "text": [
      "100%|██████████| 219/219 [00:50<00:00,  4.30it/s]\n"
     ]
    },
    {
     "name": "stdout",
     "output_type": "stream",
     "text": [
      "Epoch [220/300], Step [219/219], Loss: 1.0890, Accuracy: 0.6173\n",
      "Accuracy of the network: 0.5343333333333333 Loss: 1.3094959043441934\n"
     ]
    },
    {
     "name": "stderr",
     "output_type": "stream",
     "text": [
      "100%|██████████| 219/219 [00:50<00:00,  4.31it/s]\n"
     ]
    },
    {
     "name": "stdout",
     "output_type": "stream",
     "text": [
      "Epoch [221/300], Step [219/219], Loss: 1.0913, Accuracy: 0.6173\n",
      "Accuracy of the network: 0.5326666666666666 Loss: 1.3174651461712859\n"
     ]
    },
    {
     "name": "stderr",
     "output_type": "stream",
     "text": [
      "100%|██████████| 219/219 [00:50<00:00,  4.32it/s]\n"
     ]
    },
    {
     "name": "stdout",
     "output_type": "stream",
     "text": [
      "Epoch [222/300], Step [219/219], Loss: 1.0965, Accuracy: 0.6159\n",
      "Accuracy of the network: 0.5366666666666666 Loss: 1.316198762426985\n"
     ]
    },
    {
     "name": "stderr",
     "output_type": "stream",
     "text": [
      "100%|██████████| 219/219 [00:50<00:00,  4.30it/s]\n"
     ]
    },
    {
     "name": "stdout",
     "output_type": "stream",
     "text": [
      "Epoch [223/300], Step [219/219], Loss: 1.0833, Accuracy: 0.6143\n",
      "Accuracy of the network: 0.5296666666666666 Loss: 1.3128423380090835\n"
     ]
    },
    {
     "name": "stderr",
     "output_type": "stream",
     "text": [
      "100%|██████████| 219/219 [00:50<00:00,  4.30it/s]\n"
     ]
    },
    {
     "name": "stdout",
     "output_type": "stream",
     "text": [
      "Epoch [224/300], Step [219/219], Loss: 1.0675, Accuracy: 0.6219\n",
      "Accuracy of the network: 0.5296666666666666 Loss: 1.3170915417214657\n"
     ]
    },
    {
     "name": "stderr",
     "output_type": "stream",
     "text": [
      "100%|██████████| 219/219 [00:50<00:00,  4.32it/s]\n"
     ]
    },
    {
     "name": "stdout",
     "output_type": "stream",
     "text": [
      "Epoch [225/300], Step [219/219], Loss: 1.0835, Accuracy: 0.6146\n",
      "Accuracy of the network: 0.5386666666666666 Loss: 1.316003199587477\n"
     ]
    },
    {
     "name": "stderr",
     "output_type": "stream",
     "text": [
      "100%|██████████| 219/219 [00:50<00:00,  4.33it/s]\n"
     ]
    },
    {
     "name": "stdout",
     "output_type": "stream",
     "text": [
      "Epoch [226/300], Step [219/219], Loss: 1.0737, Accuracy: 0.6191\n",
      "Accuracy of the network: 0.5316666666666666 Loss: 1.3208287060260773\n"
     ]
    },
    {
     "name": "stderr",
     "output_type": "stream",
     "text": [
      "100%|██████████| 219/219 [00:50<00:00,  4.32it/s]\n"
     ]
    },
    {
     "name": "stdout",
     "output_type": "stream",
     "text": [
      "Epoch [227/300], Step [219/219], Loss: 1.0947, Accuracy: 0.6141\n",
      "Accuracy of the network: 0.5356666666666666 Loss: 1.310347080230713\n"
     ]
    },
    {
     "name": "stderr",
     "output_type": "stream",
     "text": [
      "100%|██████████| 219/219 [00:50<00:00,  4.31it/s]\n"
     ]
    },
    {
     "name": "stdout",
     "output_type": "stream",
     "text": [
      "Epoch [228/300], Step [219/219], Loss: 1.0768, Accuracy: 0.6271\n",
      "Accuracy of the network: 0.535 Loss: 1.309525598870947\n"
     ]
    },
    {
     "name": "stderr",
     "output_type": "stream",
     "text": [
      "100%|██████████| 219/219 [00:50<00:00,  4.30it/s]\n"
     ]
    },
    {
     "name": "stdout",
     "output_type": "stream",
     "text": [
      "Epoch [229/300], Step [219/219], Loss: 1.0884, Accuracy: 0.6199\n",
      "Accuracy of the network: 0.5303333333333333 Loss: 1.3156870108969667\n"
     ]
    },
    {
     "name": "stderr",
     "output_type": "stream",
     "text": [
      "100%|██████████| 219/219 [00:50<00:00,  4.32it/s]\n"
     ]
    },
    {
     "name": "stdout",
     "output_type": "stream",
     "text": [
      "Epoch [230/300], Step [219/219], Loss: 1.0708, Accuracy: 0.6230\n",
      "Accuracy of the network: 0.5316666666666666 Loss: 1.3188950977426894\n"
     ]
    },
    {
     "name": "stderr",
     "output_type": "stream",
     "text": [
      "100%|██████████| 219/219 [00:50<00:00,  4.31it/s]\n"
     ]
    },
    {
     "name": "stdout",
     "output_type": "stream",
     "text": [
      "Epoch [231/300], Step [219/219], Loss: 1.0855, Accuracy: 0.6224\n",
      "Accuracy of the network: 0.5436666666666666 Loss: 1.3049051818695474\n"
     ]
    },
    {
     "name": "stderr",
     "output_type": "stream",
     "text": [
      "100%|██████████| 219/219 [00:50<00:00,  4.31it/s]\n"
     ]
    },
    {
     "name": "stdout",
     "output_type": "stream",
     "text": [
      "Epoch [232/300], Step [219/219], Loss: 1.0767, Accuracy: 0.6227\n",
      "Accuracy of the network: 0.534 Loss: 1.3106565906646404\n"
     ]
    },
    {
     "name": "stderr",
     "output_type": "stream",
     "text": [
      "100%|██████████| 219/219 [00:50<00:00,  4.31it/s]\n"
     ]
    },
    {
     "name": "stdout",
     "output_type": "stream",
     "text": [
      "Epoch [233/300], Step [219/219], Loss: 1.0798, Accuracy: 0.6199\n",
      "Accuracy of the network: 0.536 Loss: 1.3099999586318403\n"
     ]
    },
    {
     "name": "stderr",
     "output_type": "stream",
     "text": [
      "100%|██████████| 219/219 [00:51<00:00,  4.28it/s]\n"
     ]
    },
    {
     "name": "stdout",
     "output_type": "stream",
     "text": [
      "Epoch [234/300], Step [219/219], Loss: 1.0846, Accuracy: 0.6213\n",
      "Accuracy of the network: 0.5376666666666666 Loss: 1.3050223696739116\n"
     ]
    },
    {
     "name": "stderr",
     "output_type": "stream",
     "text": [
      "100%|██████████| 219/219 [00:50<00:00,  4.31it/s]\n"
     ]
    },
    {
     "name": "stdout",
     "output_type": "stream",
     "text": [
      "Epoch [235/300], Step [219/219], Loss: 1.0796, Accuracy: 0.6171\n",
      "Accuracy of the network: 0.5413333333333333 Loss: 1.3064715386705195\n"
     ]
    },
    {
     "name": "stderr",
     "output_type": "stream",
     "text": [
      "100%|██████████| 219/219 [00:50<00:00,  4.32it/s]\n"
     ]
    },
    {
     "name": "stdout",
     "output_type": "stream",
     "text": [
      "Epoch [236/300], Step [219/219], Loss: 1.0807, Accuracy: 0.6170\n",
      "Accuracy of the network: 0.537 Loss: 1.3057149414052354\n"
     ]
    },
    {
     "name": "stderr",
     "output_type": "stream",
     "text": [
      "100%|██████████| 219/219 [00:51<00:00,  4.28it/s]\n"
     ]
    },
    {
     "name": "stdout",
     "output_type": "stream",
     "text": [
      "Epoch [237/300], Step [219/219], Loss: 1.0720, Accuracy: 0.6221\n",
      "Accuracy of the network: 0.5433333333333333 Loss: 1.3016142325198397\n"
     ]
    },
    {
     "name": "stderr",
     "output_type": "stream",
     "text": [
      "100%|██████████| 219/219 [00:50<00:00,  4.32it/s]\n"
     ]
    },
    {
     "name": "stdout",
     "output_type": "stream",
     "text": [
      "Epoch [238/300], Step [219/219], Loss: 1.0786, Accuracy: 0.6246\n",
      "Accuracy of the network: 0.54 Loss: 1.3078208584734734\n"
     ]
    },
    {
     "name": "stderr",
     "output_type": "stream",
     "text": [
      "100%|██████████| 219/219 [00:50<00:00,  4.31it/s]\n"
     ]
    },
    {
     "name": "stdout",
     "output_type": "stream",
     "text": [
      "Epoch [239/300], Step [219/219], Loss: 1.0748, Accuracy: 0.6190\n",
      "Accuracy of the network: 0.5353333333333333 Loss: 1.3136999905109406\n"
     ]
    },
    {
     "name": "stderr",
     "output_type": "stream",
     "text": [
      "100%|██████████| 219/219 [00:50<00:00,  4.31it/s]\n"
     ]
    },
    {
     "name": "stdout",
     "output_type": "stream",
     "text": [
      "Epoch [240/300], Step [219/219], Loss: 1.0776, Accuracy: 0.6206\n",
      "Accuracy of the network: 0.5426666666666666 Loss: 1.3065822035708325\n"
     ]
    },
    {
     "name": "stderr",
     "output_type": "stream",
     "text": [
      "100%|██████████| 219/219 [00:51<00:00,  4.29it/s]\n"
     ]
    },
    {
     "name": "stdout",
     "output_type": "stream",
     "text": [
      "Epoch [241/300], Step [219/219], Loss: 1.0699, Accuracy: 0.6289\n",
      "Accuracy of the network: 0.5303333333333333 Loss: 1.3180284924963688\n"
     ]
    },
    {
     "name": "stderr",
     "output_type": "stream",
     "text": [
      "100%|██████████| 219/219 [00:50<00:00,  4.30it/s]\n"
     ]
    },
    {
     "name": "stdout",
     "output_type": "stream",
     "text": [
      "Epoch [242/300], Step [219/219], Loss: 1.0752, Accuracy: 0.6246\n",
      "Accuracy of the network: 0.5376666666666666 Loss: 1.3044107461229284\n"
     ]
    },
    {
     "name": "stderr",
     "output_type": "stream",
     "text": [
      "100%|██████████| 219/219 [00:50<00:00,  4.31it/s]\n"
     ]
    },
    {
     "name": "stdout",
     "output_type": "stream",
     "text": [
      "Epoch [243/300], Step [219/219], Loss: 1.0792, Accuracy: 0.6219\n",
      "Accuracy of the network: 0.5376666666666666 Loss: 1.3116990448312555\n"
     ]
    },
    {
     "name": "stderr",
     "output_type": "stream",
     "text": [
      "100%|██████████| 219/219 [00:50<00:00,  4.31it/s]\n"
     ]
    },
    {
     "name": "stdout",
     "output_type": "stream",
     "text": [
      "Epoch [244/300], Step [219/219], Loss: 1.0711, Accuracy: 0.6210\n",
      "Accuracy of the network: 0.5356666666666666 Loss: 1.3086319996955547\n"
     ]
    },
    {
     "name": "stderr",
     "output_type": "stream",
     "text": [
      "100%|██████████| 219/219 [00:51<00:00,  4.28it/s]\n"
     ]
    },
    {
     "name": "stdout",
     "output_type": "stream",
     "text": [
      "Epoch [245/300], Step [219/219], Loss: 1.0819, Accuracy: 0.6241\n",
      "Accuracy of the network: 0.5373333333333333 Loss: 1.3062245890181114\n"
     ]
    },
    {
     "name": "stderr",
     "output_type": "stream",
     "text": [
      "100%|██████████| 219/219 [00:51<00:00,  4.23it/s]\n"
     ]
    },
    {
     "name": "stdout",
     "output_type": "stream",
     "text": [
      "Epoch [246/300], Step [219/219], Loss: 1.0618, Accuracy: 0.6303\n",
      "Accuracy of the network: 0.5326666666666666 Loss: 1.304090565823494\n"
     ]
    },
    {
     "name": "stderr",
     "output_type": "stream",
     "text": [
      "100%|██████████| 219/219 [00:51<00:00,  4.28it/s]\n"
     ]
    },
    {
     "name": "stdout",
     "output_type": "stream",
     "text": [
      "Epoch [247/300], Step [219/219], Loss: 1.0659, Accuracy: 0.6277\n",
      "Accuracy of the network: 0.5403333333333333 Loss: 1.3035851970632026\n"
     ]
    },
    {
     "name": "stderr",
     "output_type": "stream",
     "text": [
      "100%|██████████| 219/219 [00:51<00:00,  4.29it/s]\n"
     ]
    },
    {
     "name": "stdout",
     "output_type": "stream",
     "text": [
      "Epoch [248/300], Step [219/219], Loss: 1.0654, Accuracy: 0.6243\n",
      "Accuracy of the network: 0.5426666666666666 Loss: 1.3103651334630682\n"
     ]
    },
    {
     "name": "stderr",
     "output_type": "stream",
     "text": [
      "100%|██████████| 219/219 [00:50<00:00,  4.31it/s]\n"
     ]
    },
    {
     "name": "stdout",
     "output_type": "stream",
     "text": [
      "Epoch [249/300], Step [219/219], Loss: 1.0726, Accuracy: 0.6281\n",
      "Accuracy of the network: 0.5386666666666666 Loss: 1.2982585924736998\n"
     ]
    },
    {
     "name": "stderr",
     "output_type": "stream",
     "text": [
      "100%|██████████| 219/219 [00:50<00:00,  4.31it/s]\n"
     ]
    },
    {
     "name": "stdout",
     "output_type": "stream",
     "text": [
      "Epoch [250/300], Step [219/219], Loss: 1.0642, Accuracy: 0.6273\n",
      "Accuracy of the network: 0.536 Loss: 1.302922324297276\n"
     ]
    },
    {
     "name": "stderr",
     "output_type": "stream",
     "text": [
      "100%|██████████| 219/219 [00:51<00:00,  4.26it/s]\n"
     ]
    },
    {
     "name": "stdout",
     "output_type": "stream",
     "text": [
      "Epoch [251/300], Step [219/219], Loss: 1.0723, Accuracy: 0.6237\n",
      "Accuracy of the network: 0.5346666666666666 Loss: 1.3080088825936014\n"
     ]
    },
    {
     "name": "stderr",
     "output_type": "stream",
     "text": [
      "100%|██████████| 219/219 [00:50<00:00,  4.32it/s]\n"
     ]
    },
    {
     "name": "stdout",
     "output_type": "stream",
     "text": [
      "Epoch [252/300], Step [219/219], Loss: 1.0643, Accuracy: 0.6244\n",
      "Accuracy of the network: 0.5406666666666666 Loss: 1.305237037704346\n"
     ]
    },
    {
     "name": "stderr",
     "output_type": "stream",
     "text": [
      "100%|██████████| 219/219 [00:50<00:00,  4.30it/s]\n"
     ]
    },
    {
     "name": "stdout",
     "output_type": "stream",
     "text": [
      "Epoch [253/300], Step [219/219], Loss: 1.0599, Accuracy: 0.6281\n",
      "Accuracy of the network: 0.539 Loss: 1.3088901683371117\n"
     ]
    },
    {
     "name": "stderr",
     "output_type": "stream",
     "text": [
      "100%|██████████| 219/219 [00:50<00:00,  4.30it/s]\n"
     ]
    },
    {
     "name": "stdout",
     "output_type": "stream",
     "text": [
      "Epoch [254/300], Step [219/219], Loss: 1.0681, Accuracy: 0.6250\n",
      "Accuracy of the network: 0.5403333333333333 Loss: 1.3059902381389699\n"
     ]
    },
    {
     "name": "stderr",
     "output_type": "stream",
     "text": [
      "100%|██████████| 219/219 [00:50<00:00,  4.30it/s]\n"
     ]
    },
    {
     "name": "stdout",
     "output_type": "stream",
     "text": [
      "Epoch [255/300], Step [219/219], Loss: 1.0668, Accuracy: 0.6284\n",
      "Accuracy of the network: 0.5383333333333333 Loss: 1.3000909426110856\n"
     ]
    },
    {
     "name": "stderr",
     "output_type": "stream",
     "text": [
      "100%|██████████| 219/219 [00:51<00:00,  4.29it/s]\n"
     ]
    },
    {
     "name": "stdout",
     "output_type": "stream",
     "text": [
      "Epoch [256/300], Step [219/219], Loss: 1.0667, Accuracy: 0.6266\n",
      "Accuracy of the network: 0.5383333333333333 Loss: 1.3119207347961181\n"
     ]
    },
    {
     "name": "stderr",
     "output_type": "stream",
     "text": [
      "100%|██████████| 219/219 [00:50<00:00,  4.30it/s]\n"
     ]
    },
    {
     "name": "stdout",
     "output_type": "stream",
     "text": [
      "Epoch [257/300], Step [219/219], Loss: 1.0557, Accuracy: 0.6324\n",
      "Accuracy of the network: 0.5456666666666666 Loss: 1.3016947146425857\n"
     ]
    },
    {
     "name": "stderr",
     "output_type": "stream",
     "text": [
      "100%|██████████| 219/219 [00:50<00:00,  4.33it/s]\n"
     ]
    },
    {
     "name": "stdout",
     "output_type": "stream",
     "text": [
      "Epoch [258/300], Step [219/219], Loss: 1.0617, Accuracy: 0.6286\n",
      "Accuracy of the network: 0.539 Loss: 1.295951339792698\n"
     ]
    },
    {
     "name": "stderr",
     "output_type": "stream",
     "text": [
      "100%|██████████| 219/219 [00:50<00:00,  4.32it/s]\n"
     ]
    },
    {
     "name": "stdout",
     "output_type": "stream",
     "text": [
      "Epoch [259/300], Step [219/219], Loss: 1.0683, Accuracy: 0.6227\n",
      "Accuracy of the network: 0.544 Loss: 1.3078260364684653\n"
     ]
    },
    {
     "name": "stderr",
     "output_type": "stream",
     "text": [
      "100%|██████████| 219/219 [00:50<00:00,  4.31it/s]\n"
     ]
    },
    {
     "name": "stdout",
     "output_type": "stream",
     "text": [
      "Epoch [260/300], Step [219/219], Loss: 1.0670, Accuracy: 0.6247\n",
      "Accuracy of the network: 0.5393333333333333 Loss: 1.3050311676999355\n"
     ]
    },
    {
     "name": "stderr",
     "output_type": "stream",
     "text": [
      "100%|██████████| 219/219 [00:50<00:00,  4.32it/s]\n"
     ]
    },
    {
     "name": "stdout",
     "output_type": "stream",
     "text": [
      "Epoch [261/300], Step [219/219], Loss: 1.0692, Accuracy: 0.6234\n",
      "Accuracy of the network: 0.5386666666666666 Loss: 1.2977292182597708\n"
     ]
    },
    {
     "name": "stderr",
     "output_type": "stream",
     "text": [
      "100%|██████████| 219/219 [00:50<00:00,  4.30it/s]\n"
     ]
    },
    {
     "name": "stdout",
     "output_type": "stream",
     "text": [
      "Epoch [262/300], Step [219/219], Loss: 1.0750, Accuracy: 0.6223\n",
      "Accuracy of the network: 0.54 Loss: 1.2997788362046505\n"
     ]
    },
    {
     "name": "stderr",
     "output_type": "stream",
     "text": [
      "100%|██████████| 219/219 [00:51<00:00,  4.22it/s]\n"
     ]
    },
    {
     "name": "stdout",
     "output_type": "stream",
     "text": [
      "Epoch [263/300], Step [219/219], Loss: 1.0751, Accuracy: 0.6209\n",
      "Accuracy of the network: 0.5323333333333333 Loss: 1.3007156607952524\n"
     ]
    },
    {
     "name": "stderr",
     "output_type": "stream",
     "text": [
      "100%|██████████| 219/219 [00:50<00:00,  4.34it/s]\n"
     ]
    },
    {
     "name": "stdout",
     "output_type": "stream",
     "text": [
      "Epoch [264/300], Step [219/219], Loss: 1.0578, Accuracy: 0.6313\n",
      "Accuracy of the network: 0.544 Loss: 1.2952706059242816\n"
     ]
    },
    {
     "name": "stderr",
     "output_type": "stream",
     "text": [
      "100%|██████████| 219/219 [00:50<00:00,  4.33it/s]\n"
     ]
    },
    {
     "name": "stdout",
     "output_type": "stream",
     "text": [
      "Epoch [265/300], Step [219/219], Loss: 1.0671, Accuracy: 0.6334\n",
      "Accuracy of the network: 0.542 Loss: 1.2943267283287454\n"
     ]
    },
    {
     "name": "stderr",
     "output_type": "stream",
     "text": [
      "100%|██████████| 219/219 [00:50<00:00,  4.33it/s]\n"
     ]
    },
    {
     "name": "stdout",
     "output_type": "stream",
     "text": [
      "Epoch [266/300], Step [219/219], Loss: 1.0589, Accuracy: 0.6309\n",
      "Accuracy of the network: 0.536 Loss: 1.2924503982067108\n"
     ]
    },
    {
     "name": "stderr",
     "output_type": "stream",
     "text": [
      "100%|██████████| 219/219 [00:50<00:00,  4.34it/s]\n"
     ]
    },
    {
     "name": "stdout",
     "output_type": "stream",
     "text": [
      "Epoch [267/300], Step [219/219], Loss: 1.0711, Accuracy: 0.6267\n",
      "Accuracy of the network: 0.534 Loss: 1.2969913844098435\n"
     ]
    },
    {
     "name": "stderr",
     "output_type": "stream",
     "text": [
      "100%|██████████| 219/219 [00:50<00:00,  4.35it/s]\n"
     ]
    },
    {
     "name": "stdout",
     "output_type": "stream",
     "text": [
      "Epoch [268/300], Step [219/219], Loss: 1.0719, Accuracy: 0.6249\n",
      "Accuracy of the network: 0.5346666666666666 Loss: 1.2996757645556267\n"
     ]
    },
    {
     "name": "stderr",
     "output_type": "stream",
     "text": [
      "100%|██████████| 219/219 [00:50<00:00,  4.34it/s]\n"
     ]
    },
    {
     "name": "stdout",
     "output_type": "stream",
     "text": [
      "Epoch [269/300], Step [219/219], Loss: 1.0606, Accuracy: 0.6270\n",
      "Accuracy of the network: 0.5446666666666666 Loss: 1.2969508164740624\n"
     ]
    },
    {
     "name": "stderr",
     "output_type": "stream",
     "text": [
      "100%|██████████| 219/219 [00:50<00:00,  4.34it/s]\n"
     ]
    },
    {
     "name": "stdout",
     "output_type": "stream",
     "text": [
      "Epoch [270/300], Step [219/219], Loss: 1.0686, Accuracy: 0.6330\n",
      "Accuracy of the network: 0.536 Loss: 1.3081768231188997\n"
     ]
    },
    {
     "name": "stderr",
     "output_type": "stream",
     "text": [
      "100%|██████████| 219/219 [00:50<00:00,  4.34it/s]\n"
     ]
    },
    {
     "name": "stdout",
     "output_type": "stream",
     "text": [
      "Epoch [271/300], Step [219/219], Loss: 1.0608, Accuracy: 0.6277\n",
      "Accuracy of the network: 0.5396666666666666 Loss: 1.3108601202356054\n"
     ]
    },
    {
     "name": "stderr",
     "output_type": "stream",
     "text": [
      "100%|██████████| 219/219 [00:50<00:00,  4.34it/s]\n"
     ]
    },
    {
     "name": "stdout",
     "output_type": "stream",
     "text": [
      "Epoch [272/300], Step [219/219], Loss: 1.0685, Accuracy: 0.6230\n",
      "Accuracy of the network: 0.543 Loss: 1.2943945508053962\n"
     ]
    },
    {
     "name": "stderr",
     "output_type": "stream",
     "text": [
      "100%|██████████| 219/219 [00:50<00:00,  4.34it/s]\n"
     ]
    },
    {
     "name": "stdout",
     "output_type": "stream",
     "text": [
      "Epoch [273/300], Step [219/219], Loss: 1.0483, Accuracy: 0.6339\n",
      "Accuracy of the network: 0.539 Loss: 1.3055873963427036\n"
     ]
    },
    {
     "name": "stderr",
     "output_type": "stream",
     "text": [
      "100%|██████████| 219/219 [00:50<00:00,  4.34it/s]\n"
     ]
    },
    {
     "name": "stdout",
     "output_type": "stream",
     "text": [
      "Epoch [274/300], Step [219/219], Loss: 1.0619, Accuracy: 0.6283\n",
      "Accuracy of the network: 0.538 Loss: 1.299739217504542\n"
     ]
    },
    {
     "name": "stderr",
     "output_type": "stream",
     "text": [
      "100%|██████████| 219/219 [00:50<00:00,  4.34it/s]\n"
     ]
    },
    {
     "name": "stdout",
     "output_type": "stream",
     "text": [
      "Epoch [275/300], Step [219/219], Loss: 1.0577, Accuracy: 0.6317\n",
      "Accuracy of the network: 0.545 Loss: 1.2977213517148445\n"
     ]
    },
    {
     "name": "stderr",
     "output_type": "stream",
     "text": [
      "100%|██████████| 219/219 [00:50<00:00,  4.35it/s]\n"
     ]
    },
    {
     "name": "stdout",
     "output_type": "stream",
     "text": [
      "Epoch [276/300], Step [219/219], Loss: 1.0687, Accuracy: 0.6196\n",
      "Accuracy of the network: 0.5426666666666666 Loss: 1.2945788382215704\n"
     ]
    },
    {
     "name": "stderr",
     "output_type": "stream",
     "text": [
      "100%|██████████| 219/219 [00:50<00:00,  4.35it/s]\n"
     ]
    },
    {
     "name": "stdout",
     "output_type": "stream",
     "text": [
      "Epoch [277/300], Step [219/219], Loss: 1.0643, Accuracy: 0.6304\n",
      "Accuracy of the network: 0.5443333333333333 Loss: 1.289762923692135\n"
     ]
    },
    {
     "name": "stderr",
     "output_type": "stream",
     "text": [
      "100%|██████████| 219/219 [00:50<00:00,  4.34it/s]\n"
     ]
    },
    {
     "name": "stdout",
     "output_type": "stream",
     "text": [
      "Epoch [278/300], Step [219/219], Loss: 1.0631, Accuracy: 0.6236\n",
      "Accuracy of the network: 0.5416666666666666 Loss: 1.2970145839325926\n"
     ]
    },
    {
     "name": "stderr",
     "output_type": "stream",
     "text": [
      "100%|██████████| 219/219 [00:50<00:00,  4.34it/s]\n"
     ]
    },
    {
     "name": "stdout",
     "output_type": "stream",
     "text": [
      "Epoch [279/300], Step [219/219], Loss: 1.0585, Accuracy: 0.6314\n",
      "Accuracy of the network: 0.542 Loss: 1.3019634605722223\n"
     ]
    },
    {
     "name": "stderr",
     "output_type": "stream",
     "text": [
      "100%|██████████| 219/219 [00:50<00:00,  4.35it/s]\n"
     ]
    },
    {
     "name": "stdout",
     "output_type": "stream",
     "text": [
      "Epoch [280/300], Step [219/219], Loss: 1.0614, Accuracy: 0.6314\n",
      "Accuracy of the network: 0.536 Loss: 1.3051131824229627\n"
     ]
    },
    {
     "name": "stderr",
     "output_type": "stream",
     "text": [
      "100%|██████████| 219/219 [00:50<00:00,  4.34it/s]\n"
     ]
    },
    {
     "name": "stdout",
     "output_type": "stream",
     "text": [
      "Epoch [281/300], Step [219/219], Loss: 1.0716, Accuracy: 0.6221\n",
      "Accuracy of the network: 0.5376666666666666 Loss: 1.2990215579245954\n"
     ]
    },
    {
     "name": "stderr",
     "output_type": "stream",
     "text": [
      "100%|██████████| 219/219 [00:50<00:00,  4.32it/s]\n"
     ]
    },
    {
     "name": "stdout",
     "output_type": "stream",
     "text": [
      "Epoch [282/300], Step [219/219], Loss: 1.0612, Accuracy: 0.6253\n",
      "Accuracy of the network: 0.5373333333333333 Loss: 1.2954172473004524\n"
     ]
    },
    {
     "name": "stderr",
     "output_type": "stream",
     "text": [
      "100%|██████████| 219/219 [00:50<00:00,  4.34it/s]\n"
     ]
    },
    {
     "name": "stdout",
     "output_type": "stream",
     "text": [
      "Epoch [283/300], Step [219/219], Loss: 1.0615, Accuracy: 0.6281\n",
      "Accuracy of the network: 0.5413333333333333 Loss: 1.29536431457134\n"
     ]
    },
    {
     "name": "stderr",
     "output_type": "stream",
     "text": [
      "100%|██████████| 219/219 [00:50<00:00,  4.35it/s]\n"
     ]
    },
    {
     "name": "stdout",
     "output_type": "stream",
     "text": [
      "Epoch [284/300], Step [219/219], Loss: 1.0622, Accuracy: 0.6284\n",
      "Accuracy of the network: 0.5356666666666666 Loss: 1.3157487486271149\n"
     ]
    },
    {
     "name": "stderr",
     "output_type": "stream",
     "text": [
      "100%|██████████| 219/219 [00:50<00:00,  4.34it/s]\n"
     ]
    },
    {
     "name": "stdout",
     "output_type": "stream",
     "text": [
      "Epoch [285/300], Step [219/219], Loss: 1.0664, Accuracy: 0.6213\n",
      "Accuracy of the network: 0.538 Loss: 1.3023355172035542\n"
     ]
    },
    {
     "name": "stderr",
     "output_type": "stream",
     "text": [
      "100%|██████████| 219/219 [00:50<00:00,  4.33it/s]\n"
     ]
    },
    {
     "name": "stdout",
     "output_type": "stream",
     "text": [
      "Epoch [286/300], Step [219/219], Loss: 1.0650, Accuracy: 0.6314\n",
      "Accuracy of the network: 0.54 Loss: 1.2916972491335361\n"
     ]
    },
    {
     "name": "stderr",
     "output_type": "stream",
     "text": [
      "100%|██████████| 219/219 [00:50<00:00,  4.33it/s]\n"
     ]
    },
    {
     "name": "stdout",
     "output_type": "stream",
     "text": [
      "Epoch [287/300], Step [219/219], Loss: 1.0608, Accuracy: 0.6253\n",
      "Accuracy of the network: 0.5413333333333333 Loss: 1.2996539124783049\n"
     ]
    },
    {
     "name": "stderr",
     "output_type": "stream",
     "text": [
      "100%|██████████| 219/219 [00:50<00:00,  4.33it/s]\n"
     ]
    },
    {
     "name": "stdout",
     "output_type": "stream",
     "text": [
      "Epoch [288/300], Step [219/219], Loss: 1.0612, Accuracy: 0.6263\n",
      "Accuracy of the network: 0.5423333333333333 Loss: 1.3005473791284765\n"
     ]
    },
    {
     "name": "stderr",
     "output_type": "stream",
     "text": [
      "100%|██████████| 219/219 [00:50<00:00,  4.33it/s]\n"
     ]
    },
    {
     "name": "stdout",
     "output_type": "stream",
     "text": [
      "Epoch [289/300], Step [219/219], Loss: 1.0686, Accuracy: 0.6261\n",
      "Accuracy of the network: 0.5476666666666666 Loss: 1.3028714136874422\n"
     ]
    },
    {
     "name": "stderr",
     "output_type": "stream",
     "text": [
      "100%|██████████| 219/219 [00:50<00:00,  4.33it/s]\n"
     ]
    },
    {
     "name": "stdout",
     "output_type": "stream",
     "text": [
      "Epoch [290/300], Step [219/219], Loss: 1.0644, Accuracy: 0.6229\n",
      "Accuracy of the network: 0.5353333333333333 Loss: 1.298908029464965\n"
     ]
    },
    {
     "name": "stderr",
     "output_type": "stream",
     "text": [
      "100%|██████████| 219/219 [00:50<00:00,  4.33it/s]\n"
     ]
    },
    {
     "name": "stdout",
     "output_type": "stream",
     "text": [
      "Epoch [291/300], Step [219/219], Loss: 1.0590, Accuracy: 0.6326\n",
      "Accuracy of the network: 0.5383333333333333 Loss: 1.3029180448105995\n"
     ]
    },
    {
     "name": "stderr",
     "output_type": "stream",
     "text": [
      "100%|██████████| 219/219 [00:50<00:00,  4.34it/s]\n"
     ]
    },
    {
     "name": "stdout",
     "output_type": "stream",
     "text": [
      "Epoch [292/300], Step [219/219], Loss: 1.0530, Accuracy: 0.6320\n",
      "Accuracy of the network: 0.5353333333333333 Loss: 1.3023296619983429\n"
     ]
    },
    {
     "name": "stderr",
     "output_type": "stream",
     "text": [
      "100%|██████████| 219/219 [00:50<00:00,  4.34it/s]\n"
     ]
    },
    {
     "name": "stdout",
     "output_type": "stream",
     "text": [
      "Epoch [293/300], Step [219/219], Loss: 1.0573, Accuracy: 0.6320\n",
      "Accuracy of the network: 0.539 Loss: 1.3041195102194523\n"
     ]
    },
    {
     "name": "stderr",
     "output_type": "stream",
     "text": [
      "100%|██████████| 219/219 [00:50<00:00,  4.35it/s]\n"
     ]
    },
    {
     "name": "stdout",
     "output_type": "stream",
     "text": [
      "Epoch [294/300], Step [219/219], Loss: 1.0620, Accuracy: 0.6274\n",
      "Accuracy of the network: 0.531 Loss: 1.300425890278309\n"
     ]
    },
    {
     "name": "stderr",
     "output_type": "stream",
     "text": [
      "100%|██████████| 219/219 [00:50<00:00,  4.33it/s]\n"
     ]
    },
    {
     "name": "stdout",
     "output_type": "stream",
     "text": [
      "Epoch [295/300], Step [219/219], Loss: 1.0633, Accuracy: 0.6281\n",
      "Accuracy of the network: 0.5323333333333333 Loss: 1.305456352360705\n"
     ]
    },
    {
     "name": "stderr",
     "output_type": "stream",
     "text": [
      "100%|██████████| 219/219 [00:50<00:00,  4.34it/s]\n"
     ]
    },
    {
     "name": "stdout",
     "output_type": "stream",
     "text": [
      "Epoch [296/300], Step [219/219], Loss: 1.0508, Accuracy: 0.6293\n",
      "Accuracy of the network: 0.535 Loss: 1.3038327712961968\n"
     ]
    },
    {
     "name": "stderr",
     "output_type": "stream",
     "text": [
      "100%|██████████| 219/219 [00:50<00:00,  4.34it/s]\n"
     ]
    },
    {
     "name": "stdout",
     "output_type": "stream",
     "text": [
      "Epoch [297/300], Step [219/219], Loss: 1.0531, Accuracy: 0.6393\n",
      "Accuracy of the network: 0.5396666666666666 Loss: 1.29749999338008\n"
     ]
    },
    {
     "name": "stderr",
     "output_type": "stream",
     "text": [
      "100%|██████████| 219/219 [00:50<00:00,  4.33it/s]\n"
     ]
    },
    {
     "name": "stdout",
     "output_type": "stream",
     "text": [
      "Epoch [298/300], Step [219/219], Loss: 1.0605, Accuracy: 0.6273\n",
      "Accuracy of the network: 0.5463333333333333 Loss: 1.2957247850742746\n"
     ]
    },
    {
     "name": "stderr",
     "output_type": "stream",
     "text": [
      "100%|██████████| 219/219 [00:50<00:00,  4.35it/s]\n"
     ]
    },
    {
     "name": "stdout",
     "output_type": "stream",
     "text": [
      "Epoch [299/300], Step [219/219], Loss: 1.0590, Accuracy: 0.6259\n",
      "Accuracy of the network: 0.5383333333333333 Loss: 1.2990216841088964\n"
     ]
    },
    {
     "name": "stderr",
     "output_type": "stream",
     "text": [
      "100%|██████████| 219/219 [00:50<00:00,  4.33it/s]\n"
     ]
    },
    {
     "name": "stdout",
     "output_type": "stream",
     "text": [
      "Epoch [300/300], Step [219/219], Loss: 1.0583, Accuracy: 0.6243\n",
      "Accuracy of the network: 0.537 Loss: 1.3073437004647357\n"
     ]
    }
   ],
   "source": [
    "torch.autograd.set_detect_anomaly(True)\n",
    "train_accuracy_h, test_accuracy_h, train_loss_h, test_loss_h = model_resnet.train_model(train_dataloader, test_dataloader,num_epochs=300,save_best=True, save_thr=48)"
   ]
  },
  {
   "cell_type": "code",
   "execution_count": 10,
   "metadata": {},
   "outputs": [],
   "source": [
    "torch.save(model, \"best_resnet50_CIFAR10-DVS_Hardtanh_ReLUmaxpool_128x128_FC2_128x128_pretrained_aug_corrected_exp1.pt\")"
   ]
  },
  {
   "cell_type": "code",
   "execution_count": 11,
   "metadata": {},
   "outputs": [
    {
     "data": {
      "image/png": "[encoded data removed]",
      "text/plain": [
       "<Figure size 640x480 with 1 Axes>"
      ]
     },
     "metadata": {},
     "output_type": "display_data"
    },
    {
     "data": {
      "image/png": "[encoded data removed]",
      "text/plain": [
       "<Figure size 640x480 with 1 Axes>"
      ]
     },
     "metadata": {},
     "output_type": "display_data"
    }
   ],
   "source": [
    "plt.plot(train_accuracy_h, label='train')\n",
    "plt.plot(test_accuracy_h, label='test')\n",
    "plt.ylabel(\"accuracy\")\n",
    "plt.xlabel(\"epoch\")\n",
    "plt.legend()\n",
    "plt.show()\n",
    "\n",
    "plt.plot(train_loss_h, label='train')\n",
    "plt.plot(test_loss_h, label='test')\n",
    "plt.ylabel(\"loss\")\n",
    "plt.xlabel(\"epoch\")\n",
    "plt.legend()\n",
    "plt.show()"
   ]
  },
  {
   "cell_type": "code",
   "execution_count": 12,
   "metadata": {},
   "outputs": [],
   "source": [
    "import pandas as pd\n",
    "dict = {'train_acc': train_accuracy_h, 'test_acc': test_accuracy_h, 'train_loss': train_loss_h, 'test_loss' : test_loss_h}\n",
    "df = pd.DataFrame(dict)\n",
    "df.to_csv('logs/best_resnet_CIFAR10-DVS_Hardtanh_ReLUmaxpool_128x128_FC2_128x128_pretrained_aug_corrected_exp1.csv')"
   ]
  },
  {
   "cell_type": "code",
   "execution_count": 13,
   "metadata": {},
   "outputs": [
    {
     "data": {
      "text/html": [
       "<div>\n",
       "<style scoped>\n",
       "    .dataframe tbody tr th:only-of-type {\n",
       "        vertical-align: middle;\n",
       "    }\n",
       "\n",
       "    .dataframe tbody tr th {\n",
       "        vertical-align: top;\n",
       "    }\n",
       "\n",
       "    .dataframe thead th {\n",
       "        text-align: right;\n",
       "    }\n",
       "</style>\n",
       "<table border=\"1\" class=\"dataframe\">\n",
       "  <thead>\n",
       "    <tr style=\"text-align: right;\">\n",
       "      <th></th>\n",
       "      <th>train_acc</th>\n",
       "      <th>test_acc</th>\n",
       "      <th>train_loss</th>\n",
       "      <th>test_loss</th>\n",
       "    </tr>\n",
       "  </thead>\n",
       "  <tbody>\n",
       "    <tr>\n",
       "      <th>0</th>\n",
       "      <td>0.102857</td>\n",
       "      <td>0.100000</td>\n",
       "      <td>3.173801</td>\n",
       "      <td>2.819572</td>\n",
       "    </tr>\n",
       "    <tr>\n",
       "      <th>1</th>\n",
       "      <td>0.100000</td>\n",
       "      <td>0.090667</td>\n",
       "      <td>2.748322</td>\n",
       "      <td>2.483323</td>\n",
       "    </tr>\n",
       "    <tr>\n",
       "      <th>2</th>\n",
       "      <td>0.104000</td>\n",
       "      <td>0.105333</td>\n",
       "      <td>2.682159</td>\n",
       "      <td>2.644608</td>\n",
       "    </tr>\n",
       "    <tr>\n",
       "      <th>3</th>\n",
       "      <td>0.097000</td>\n",
       "      <td>0.095000</td>\n",
       "      <td>2.646392</td>\n",
       "      <td>2.558907</td>\n",
       "    </tr>\n",
       "    <tr>\n",
       "      <th>4</th>\n",
       "      <td>0.138571</td>\n",
       "      <td>0.149667</td>\n",
       "      <td>2.348080</td>\n",
       "      <td>2.203695</td>\n",
       "    </tr>\n",
       "  </tbody>\n",
       "</table>\n",
       "</div>"
      ],
      "text/plain": [
       "   train_acc  test_acc  train_loss  test_loss\n",
       "0   0.102857  0.100000    3.173801   2.819572\n",
       "1   0.100000  0.090667    2.748322   2.483323\n",
       "2   0.104000  0.105333    2.682159   2.644608\n",
       "3   0.097000  0.095000    2.646392   2.558907\n",
       "4   0.138571  0.149667    2.348080   2.203695"
      ]
     },
     "execution_count": 13,
     "metadata": {},
     "output_type": "execute_result"
    }
   ],
   "source": [
    "df.head()"
   ]
  },
  {
   "cell_type": "code",
   "execution_count": 14,
   "metadata": {},
   "outputs": [
    {
     "name": "stdout",
     "output_type": "stream",
     "text": [
      "     train_acc  test_acc  train_loss  test_loss\n",
      "0     0.102857  0.100000    3.173801   2.819572\n",
      "1     0.100000  0.090667    2.748322   2.483323\n",
      "2     0.104000  0.105333    2.682159   2.644608\n",
      "3     0.097000  0.095000    2.646392   2.558907\n",
      "4     0.138571  0.149667    2.348080   2.203695\n",
      "5     0.149286  0.155667    2.215876   2.144856\n",
      "6     0.158429  0.147333    2.191009   2.243087\n",
      "7     0.163143  0.172667    2.183918   2.114496\n",
      "8     0.162000  0.146333    2.188218   2.194478\n",
      "9     0.173143  0.169667    2.155212   2.167830\n",
      "10    0.176000  0.173667    2.139897   2.132593\n",
      "11    0.171429  0.185000    2.154579   2.130097\n",
      "12    0.173714  0.198667    2.130276   2.094497\n",
      "13    0.182571  0.199333    2.121313   2.101958\n",
      "14    0.180000  0.152000    2.136457   2.199367\n",
      "15    0.173143  0.160333    2.142773   2.180036\n",
      "16    0.181571  0.186667    2.126443   2.116360\n",
      "17    0.181000  0.184667    2.114107   2.118058\n",
      "18    0.180000  0.178333    2.129856   2.101440\n",
      "19    0.174143  0.187667    2.128067   2.127281\n",
      "20    0.188857  0.187667    2.109712   2.124661\n",
      "21    0.182143  0.193000    2.117287   2.185665\n",
      "22    0.188429  0.210000    2.099881   2.102265\n",
      "23    0.180000  0.158333    2.115365   2.163669\n",
      "24    0.181714  0.196333    2.099018   2.106415\n",
      "25    0.181714  0.149333    2.111104   2.256195\n",
      "26    0.187429  0.184000    2.095975   2.180520\n",
      "27    0.193714  0.214667    2.098387   2.067122\n",
      "28    0.185286  0.187667    2.094502   2.074819\n",
      "29    0.205857  0.201000    2.078277   2.067291\n",
      "30    0.222714  0.227333    2.045783   2.030041\n",
      "31    0.230571  0.251333    2.032660   2.003316\n",
      "32    0.231286  0.209000    2.019662   2.045759\n",
      "33    0.233714  0.269333    1.999921   1.955387\n",
      "34    0.251857  0.258333    1.977256   1.947109\n",
      "35    0.259429  0.217667    1.949235   1.986286\n",
      "36    0.267000  0.297667    1.927590   1.898584\n",
      "37    0.269286  0.273000    1.916721   1.906057\n",
      "38    0.282571  0.280333    1.905583   1.905496\n",
      "39    0.287714  0.270667    1.885217   1.922007\n",
      "40    0.289143  0.284000    1.888904   1.930678\n",
      "41    0.297857  0.301667    1.866885   1.905279\n",
      "42    0.297286  0.322000    1.871771   1.865848\n",
      "43    0.311286  0.318333    1.844787   1.832545\n",
      "44    0.320714  0.311000    1.833916   1.858608\n",
      "45    0.319000  0.330333    1.835691   1.828196\n",
      "46    0.326000  0.308000    1.817972   1.903362\n",
      "47    0.331857  0.311667    1.804606   1.837163\n",
      "48    0.332857  0.352667    1.794140   1.792514\n",
      "49    0.344286  0.341000    1.777483   1.775148\n",
      "50    0.337714  0.344000    1.773911   1.790688\n",
      "51    0.348143  0.325000    1.761614   1.821434\n",
      "52    0.355429  0.344000    1.745359   1.757050\n",
      "53    0.363714  0.363333    1.730335   1.751583\n",
      "54    0.369857  0.367000    1.717685   1.734957\n",
      "55    0.366286  0.361333    1.717916   1.736961\n",
      "56    0.377857  0.374000    1.696568   1.702255\n",
      "57    0.383429  0.395667    1.689722   1.686801\n",
      "58    0.380714  0.381667    1.691192   1.699229\n",
      "59    0.383571  0.369667    1.676197   1.715322\n",
      "60    0.389286  0.395667    1.669257   1.674400\n",
      "61    0.389571  0.366333    1.666159   1.696792\n",
      "62    0.387429  0.382667    1.667709   1.677764\n",
      "63    0.390000  0.384000    1.658047   1.667921\n",
      "64    0.386429  0.388000    1.651250   1.655971\n",
      "65    0.398857  0.379667    1.637723   1.677419\n",
      "66    0.397000  0.396333    1.649996   1.645199\n",
      "67    0.401429  0.392333    1.640816   1.660263\n",
      "68    0.404429  0.398000    1.623354   1.624249\n",
      "69    0.408857  0.404333    1.621994   1.617755\n",
      "70    0.412857  0.391667    1.609895   1.667388\n",
      "71    0.413286  0.403333    1.603639   1.637396\n",
      "72    0.417000  0.401333    1.582020   1.627194\n",
      "73    0.413143  0.404000    1.599428   1.598323\n",
      "74    0.421571  0.410333    1.589734   1.617213\n",
      "75    0.424000  0.408000    1.582334   1.598855\n",
      "76    0.424143  0.402667    1.574791   1.623634\n",
      "77    0.430286  0.397667    1.576506   1.619518\n",
      "78    0.434857  0.411000    1.543966   1.618967\n",
      "79    0.431286  0.420667    1.554457   1.590368\n",
      "80    0.434857  0.417667    1.552123   1.592455\n",
      "81    0.442857  0.415667    1.541610   1.595154\n",
      "82    0.443714  0.403667    1.534785   1.608370\n",
      "83    0.442429  0.414333    1.529144   1.587874\n",
      "84    0.443429  0.422000    1.519237   1.582191\n",
      "85    0.443571  0.421333    1.521611   1.588444\n",
      "86    0.448857  0.416000    1.517657   1.592646\n",
      "87    0.448857  0.429333    1.505340   1.584550\n",
      "88    0.460429  0.423000    1.492931   1.573431\n",
      "89    0.458857  0.434333    1.476492   1.552092\n",
      "90    0.464286  0.429667    1.490083   1.569166\n",
      "91    0.459143  0.447000    1.484876   1.564760\n",
      "92    0.462571  0.435333    1.463846   1.557062\n",
      "93    0.475143  0.449333    1.452009   1.514855\n",
      "94    0.473429  0.438000    1.460249   1.545371\n",
      "95    0.480000  0.444333    1.446042   1.523933\n",
      "96    0.478000  0.443667    1.432751   1.533672\n",
      "97    0.474143  0.462667    1.438481   1.501022\n",
      "98    0.486571  0.463667    1.426995   1.495463\n",
      "99    0.489286  0.450000    1.420631   1.516794\n",
      "100   0.485000  0.461333    1.419461   1.486420\n",
      "101   0.496143  0.460667    1.408054   1.496594\n",
      "102   0.488286  0.469000    1.419394   1.464522\n",
      "103   0.498857  0.456000    1.401404   1.501376\n",
      "104   0.502286  0.467667    1.391510   1.480620\n",
      "105   0.500000  0.462333    1.394207   1.475352\n",
      "106   0.494429  0.471333    1.394567   1.466982\n",
      "107   0.499857  0.467000    1.384838   1.469147\n",
      "108   0.504000  0.462000    1.378388   1.474740\n",
      "109   0.513000  0.470667    1.371699   1.464799\n",
      "110   0.509857  0.470333    1.370996   1.467614\n",
      "111   0.511429  0.475667    1.358548   1.475903\n",
      "112   0.513857  0.464333    1.350861   1.459503\n",
      "113   0.513857  0.473000    1.347845   1.452044\n",
      "114   0.520857  0.480000    1.348803   1.451934\n",
      "115   0.518571  0.474333    1.345194   1.445487\n",
      "116   0.518143  0.475667    1.340278   1.436969\n",
      "117   0.527286  0.485000    1.334144   1.445304\n",
      "118   0.512429  0.488333    1.350604   1.437906\n",
      "119   0.530429  0.486667    1.329489   1.420435\n",
      "120   0.521714  0.490000    1.332940   1.415153\n",
      "121   0.526000  0.483667    1.315189   1.419487\n",
      "122   0.534714  0.491000    1.310665   1.431718\n",
      "123   0.529286  0.485333    1.313071   1.436318\n",
      "124   0.536857  0.491667    1.304966   1.426521\n",
      "125   0.534714  0.489667    1.302382   1.422419\n",
      "126   0.533429  0.488667    1.301265   1.422752\n",
      "127   0.542571  0.487667    1.294977   1.434691\n",
      "128   0.542000  0.488667    1.288047   1.405559\n",
      "129   0.537857  0.498000    1.289984   1.417882\n",
      "130   0.542714  0.492667    1.283325   1.422014\n",
      "131   0.542571  0.487667    1.279885   1.421476\n",
      "132   0.551857  0.486667    1.272998   1.426671\n",
      "133   0.546143  0.493667    1.271223   1.403429\n",
      "134   0.556857  0.502333    1.258018   1.391327\n",
      "135   0.550857  0.498000    1.261204   1.406543\n",
      "136   0.552286  0.503333    1.260266   1.396553\n",
      "137   0.560571  0.494333    1.242984   1.391066\n",
      "138   0.551429  0.497000    1.245369   1.391604\n",
      "139   0.553286  0.506667    1.255944   1.376637\n",
      "140   0.562857  0.498667    1.236267   1.390808\n",
      "141   0.559571  0.495333    1.247335   1.386224\n",
      "142   0.564571  0.497333    1.241084   1.384983\n",
      "143   0.559000  0.494333    1.230335   1.412350\n",
      "144   0.562571  0.497667    1.227606   1.387128\n",
      "145   0.570857  0.504333    1.222761   1.391189\n",
      "146   0.562857  0.494000    1.222999   1.394229\n",
      "147   0.568571  0.498333    1.219924   1.383788\n",
      "148   0.572143  0.499333    1.213970   1.387050\n",
      "149   0.567286  0.497333    1.213501   1.381830\n",
      "150   0.566429  0.502667    1.206931   1.378488\n",
      "151   0.566429  0.507667    1.213174   1.375220\n",
      "152   0.565857  0.508000    1.208217   1.374706\n",
      "153   0.573571  0.514667    1.203643   1.352799\n",
      "154   0.574857  0.508333    1.205476   1.377784\n",
      "155   0.578286  0.511667    1.190702   1.351919\n",
      "156   0.575571  0.516333    1.190066   1.364170\n",
      "157   0.580429  0.513667    1.187336   1.363165\n",
      "158   0.579286  0.515000    1.183912   1.360295\n",
      "159   0.580571  0.515333    1.181419   1.348421\n",
      "160   0.579429  0.511667    1.184367   1.352241\n",
      "161   0.583714  0.513667    1.187597   1.362147\n",
      "162   0.583714  0.516667    1.176140   1.351086\n",
      "163   0.592571  0.515000    1.169026   1.361530\n",
      "164   0.582571  0.519000    1.178282   1.351833\n",
      "165   0.583143  0.515333    1.171442   1.357181\n",
      "166   0.590571  0.523333    1.163666   1.343810\n",
      "167   0.586000  0.523667    1.165290   1.341717\n",
      "168   0.588286  0.526000    1.169335   1.344287\n",
      "169   0.597857  0.524000    1.151593   1.345889\n",
      "170   0.590714  0.520000    1.159385   1.344326\n",
      "171   0.591714  0.520000    1.155228   1.348763\n",
      "172   0.583714  0.524000    1.156093   1.342942\n",
      "173   0.595143  0.524333    1.145385   1.336702\n",
      "174   0.596571  0.526667    1.144137   1.340398\n",
      "175   0.594857  0.524333    1.146883   1.331190\n",
      "176   0.593714  0.521333    1.152247   1.342983\n",
      "177   0.596857  0.523667    1.136794   1.338988\n",
      "178   0.603286  0.524000    1.136590   1.345993\n",
      "179   0.598429  0.524667    1.140870   1.352626\n",
      "180   0.600143  0.529000    1.130898   1.335471\n",
      "181   0.603000  0.522000    1.132893   1.335449\n",
      "182   0.599571  0.526000    1.137737   1.333639\n",
      "183   0.601000  0.525667    1.120725   1.336080\n",
      "184   0.599857  0.533333    1.134824   1.325975\n",
      "185   0.607143  0.518000    1.120666   1.339965\n",
      "186   0.613143  0.530000    1.111621   1.330015\n",
      "187   0.608571  0.530667    1.112220   1.335634\n",
      "188   0.608714  0.530667    1.124856   1.320688\n",
      "189   0.605857  0.526333    1.122470   1.325975\n",
      "190   0.605714  0.532667    1.113779   1.317351\n",
      "191   0.607286  0.527000    1.116091   1.334733\n",
      "192   0.609143  0.529000    1.117192   1.323442\n",
      "193   0.612286  0.535000    1.116158   1.328098\n",
      "194   0.610429  0.527667    1.109419   1.325293\n",
      "195   0.607714  0.533333    1.116812   1.325005\n",
      "196   0.599571  0.527000    1.124439   1.332080\n",
      "197   0.605857  0.525333    1.110276   1.328105\n",
      "198   0.611000  0.529667    1.101147   1.325870\n",
      "199   0.609143  0.526000    1.110954   1.327082\n",
      "200   0.609714  0.525333    1.111414   1.324349\n",
      "201   0.606000  0.528000    1.112399   1.332494\n",
      "202   0.618571  0.531333    1.099045   1.321084\n",
      "203   0.606000  0.534000    1.111685   1.322466\n",
      "204   0.612429  0.534667    1.099545   1.323165\n",
      "205   0.621429  0.528000    1.098463   1.325154\n",
      "206   0.611857  0.539333    1.101891   1.319889\n",
      "207   0.613429  0.528000    1.096741   1.327917\n",
      "208   0.615429  0.531000    1.097634   1.318791\n",
      "209   0.612286  0.524667    1.094104   1.329725\n",
      "210   0.615286  0.538000    1.091917   1.313569\n",
      "211   0.623429  0.530667    1.081555   1.314625\n",
      "212   0.618714  0.533000    1.089011   1.320560\n",
      "213   0.610286  0.543000    1.095780   1.306216\n",
      "214   0.616286  0.532333    1.092541   1.313819\n",
      "215   0.617000  0.535667    1.091363   1.321541\n",
      "216   0.619714  0.529667    1.093107   1.324804\n",
      "217   0.616571  0.543333    1.091268   1.317337\n",
      "218   0.617000  0.541000    1.092022   1.314403\n",
      "219   0.617286  0.534333    1.089039   1.309496\n",
      "220   0.617286  0.532667    1.091324   1.317465\n",
      "221   0.615857  0.536667    1.096512   1.316199\n",
      "222   0.614286  0.529667    1.083251   1.312842\n",
      "223   0.621857  0.529667    1.067520   1.317092\n",
      "224   0.614571  0.538667    1.083484   1.316003\n",
      "225   0.619143  0.531667    1.073671   1.320829\n",
      "226   0.614143  0.535667    1.094727   1.310347\n",
      "227   0.627143  0.535000    1.076776   1.309526\n",
      "228   0.619857  0.530333    1.088429   1.315687\n",
      "229   0.623000  0.531667    1.070829   1.318895\n",
      "230   0.622429  0.543667    1.085528   1.304905\n",
      "231   0.622714  0.534000    1.076733   1.310657\n",
      "232   0.619857  0.536000    1.079829   1.310000\n",
      "233   0.621286  0.537667    1.084568   1.305022\n",
      "234   0.617143  0.541333    1.079584   1.306472\n",
      "235   0.617000  0.537000    1.080687   1.305715\n",
      "236   0.622143  0.543333    1.072016   1.301614\n",
      "237   0.624571  0.540000    1.078555   1.307821\n",
      "238   0.619000  0.535333    1.074782   1.313700\n",
      "239   0.620571  0.542667    1.077614   1.306582\n",
      "240   0.628857  0.530333    1.069920   1.318028\n",
      "241   0.624571  0.537667    1.075230   1.304411\n",
      "242   0.621857  0.537667    1.079156   1.311699\n",
      "243   0.621000  0.535667    1.071076   1.308632\n",
      "244   0.624143  0.537333    1.081901   1.306225\n",
      "245   0.630286  0.532667    1.061795   1.304091\n",
      "246   0.627714  0.540333    1.065930   1.303585\n",
      "247   0.624286  0.542667    1.065437   1.310365\n",
      "248   0.628143  0.538667    1.072568   1.298259\n",
      "249   0.627286  0.536000    1.064200   1.302922\n",
      "250   0.623714  0.534667    1.072328   1.308009\n",
      "251   0.624429  0.540667    1.064334   1.305237\n",
      "252   0.628143  0.539000    1.059949   1.308890\n",
      "253   0.625000  0.540333    1.068129   1.305990\n",
      "254   0.628429  0.538333    1.066850   1.300091\n",
      "255   0.626571  0.538333    1.066688   1.311921\n",
      "256   0.632429  0.545667    1.055713   1.301695\n",
      "257   0.628571  0.539000    1.061702   1.295951\n",
      "258   0.622714  0.544000    1.068251   1.307826\n",
      "259   0.624714  0.539333    1.067020   1.305031\n",
      "260   0.623429  0.538667    1.069163   1.297729\n",
      "261   0.622286  0.540000    1.075034   1.299779\n",
      "262   0.620857  0.532333    1.075083   1.300716\n",
      "263   0.631286  0.544000    1.057806   1.295271\n",
      "264   0.633429  0.542000    1.067053   1.294327\n",
      "265   0.630857  0.536000    1.058871   1.292450\n",
      "266   0.626714  0.534000    1.071137   1.296991\n",
      "267   0.624857  0.534667    1.071898   1.299676\n",
      "268   0.627000  0.544667    1.060589   1.296951\n",
      "269   0.633000  0.536000    1.068646   1.308177\n",
      "270   0.627714  0.539667    1.060757   1.310860\n",
      "271   0.623000  0.543000    1.068515   1.294395\n",
      "272   0.633857  0.539000    1.048270   1.305587\n",
      "273   0.628286  0.538000    1.061924   1.299739\n",
      "274   0.631714  0.545000    1.057670   1.297721\n",
      "275   0.619571  0.542667    1.068746   1.294579\n",
      "276   0.630429  0.544333    1.064326   1.289763\n",
      "277   0.623571  0.541667    1.063098   1.297015\n",
      "278   0.631429  0.542000    1.058537   1.301963\n",
      "279   0.631429  0.536000    1.061418   1.305113\n",
      "280   0.622143  0.537667    1.071611   1.299022\n",
      "281   0.625286  0.537333    1.061152   1.295417\n",
      "282   0.628143  0.541333    1.061473   1.295364\n",
      "283   0.628429  0.535667    1.062167   1.315749\n",
      "284   0.621286  0.538000    1.066370   1.302336\n",
      "285   0.631429  0.540000    1.064969   1.291697\n",
      "286   0.625286  0.541333    1.060786   1.299654\n",
      "287   0.626286  0.542333    1.061217   1.300547\n",
      "288   0.626143  0.547667    1.068616   1.302871\n",
      "289   0.622857  0.535333    1.064385   1.298908\n",
      "290   0.632571  0.538333    1.059043   1.302918\n",
      "291   0.632000  0.535333    1.052998   1.302330\n",
      "292   0.632000  0.539000    1.057279   1.304120\n",
      "293   0.627429  0.531000    1.062003   1.300426\n",
      "294   0.628143  0.532333    1.063268   1.305456\n",
      "295   0.629286  0.535000    1.050837   1.303833\n",
      "296   0.639286  0.539667    1.053055   1.297500\n",
      "297   0.627286  0.546333    1.060525   1.295725\n",
      "298   0.625857  0.538333    1.058980   1.299022\n",
      "299   0.624286  0.537000    1.058259   1.307344\n"
     ]
    }
   ],
   "source": [
    "print(df.to_string())"
   ]
  }
 ],
 "metadata": {
  "kernelspec": {
   "display_name": "Python 3",
   "language": "python",
   "name": "python3"
  },
  "language_info": {
   "codemirror_mode": {
    "name": "ipython",
    "version": 3
   },
   "file_extension": ".py",
   "mimetype": "text/x-python",
   "name": "python",
   "nbconvert_exporter": "python",
   "pygments_lexer": "ipython3",
   "version": "3.9.13"
  }
 },
 "nbformat": 4,
 "nbformat_minor": 2
}
